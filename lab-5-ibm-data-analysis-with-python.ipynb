{
 "cells": [
  {
   "cell_type": "markdown",
   "id": "0b9b2360",
   "metadata": {
    "papermill": {
     "duration": 0.010777,
     "end_time": "2025-08-01T18:40:56.982821",
     "exception": false,
     "start_time": "2025-08-01T18:40:56.972044",
     "status": "completed"
    },
    "tags": []
   },
   "source": [
    "# 📊 Model Evaluation and Refinement\n",
    "\n",
    "In this section, we focus on evaluating and improving our regression models to enhance their predictive performance. We'll use techniques to detect overfitting/underfitting, apply regularization, and optimize model hyperparameters.\n",
    "\n",
    "## 🔍 Objectives\n",
    "\n",
    "- ✅ Evaluate model performance using **Mean Squared Error (MSE)** and **R² score**\n",
    "- ✅ Identify and address **overfitting** and **underfitting**\n",
    "- ✅ Apply **Ridge Regression** to control model complexity\n",
    "- ✅ Use **Grid Search** to find the optimal hyperparameters\n",
    "\n",
    "By the end of this section, we'll have a more **robust**, **generalizable**, and **optimized** model ready for evaluation and deployment.\n"
   ]
  },
  {
   "cell_type": "code",
   "execution_count": 1,
   "id": "34f47fed",
   "metadata": {
    "execution": {
     "iopub.execute_input": "2025-08-01T18:40:57.005340Z",
     "iopub.status.busy": "2025-08-01T18:40:57.004913Z",
     "iopub.status.idle": "2025-08-01T18:41:00.699941Z",
     "shell.execute_reply": "2025-08-01T18:41:00.698513Z"
    },
    "papermill": {
     "duration": 3.709258,
     "end_time": "2025-08-01T18:41:00.701779",
     "exception": false,
     "start_time": "2025-08-01T18:40:56.992521",
     "status": "completed"
    },
    "tags": []
   },
   "outputs": [],
   "source": [
    "import numpy as np\n",
    "import pandas as pd\n",
    "import matplotlib.pyplot as plt\n",
    "import seaborn as sns\n",
    "import warnings"
   ]
  },
  {
   "cell_type": "code",
   "execution_count": 2,
   "id": "2e4ece40",
   "metadata": {
    "execution": {
     "iopub.execute_input": "2025-08-01T18:41:00.723919Z",
     "iopub.status.busy": "2025-08-01T18:41:00.723456Z",
     "iopub.status.idle": "2025-08-01T18:41:00.733457Z",
     "shell.execute_reply": "2025-08-01T18:41:00.732296Z"
    },
    "papermill": {
     "duration": 0.023286,
     "end_time": "2025-08-01T18:41:00.734915",
     "exception": false,
     "start_time": "2025-08-01T18:41:00.711629",
     "status": "completed"
    },
    "tags": []
   },
   "outputs": [
    {
     "name": "stdout",
     "output_type": "stream",
     "text": [
      "/kaggle/input/cleaned-used-car-datasett/cleaned_used_car_dataset.csv\n"
     ]
    }
   ],
   "source": [
    "import os\n",
    "\n",
    "for dirname, _, filenames in os.walk('/kaggle/input/cleaned-used-car-datasett'):\n",
    "    for filename in filenames:\n",
    "        print(os.path.join(dirname, filename))"
   ]
  },
  {
   "cell_type": "code",
   "execution_count": 3,
   "id": "9135a169",
   "metadata": {
    "execution": {
     "iopub.execute_input": "2025-08-01T18:41:00.757853Z",
     "iopub.status.busy": "2025-08-01T18:41:00.756738Z",
     "iopub.status.idle": "2025-08-01T18:41:00.776365Z",
     "shell.execute_reply": "2025-08-01T18:41:00.775386Z"
    },
    "papermill": {
     "duration": 0.032832,
     "end_time": "2025-08-01T18:41:00.778219",
     "exception": false,
     "start_time": "2025-08-01T18:41:00.745387",
     "status": "completed"
    },
    "tags": []
   },
   "outputs": [],
   "source": [
    "# import and load dataset.\n",
    "df = pd.read_csv('/kaggle/input/cleaned-used-car-datasett/cleaned_used_car_dataset.csv')"
   ]
  },
  {
   "cell_type": "code",
   "execution_count": 4,
   "id": "5521f50a",
   "metadata": {
    "execution": {
     "iopub.execute_input": "2025-08-01T18:41:00.802455Z",
     "iopub.status.busy": "2025-08-01T18:41:00.802139Z",
     "iopub.status.idle": "2025-08-01T18:41:00.841339Z",
     "shell.execute_reply": "2025-08-01T18:41:00.840319Z"
    },
    "papermill": {
     "duration": 0.054015,
     "end_time": "2025-08-01T18:41:00.842940",
     "exception": false,
     "start_time": "2025-08-01T18:41:00.788925",
     "status": "completed"
    },
    "tags": []
   },
   "outputs": [
    {
     "data": {
      "text/html": [
       "<div>\n",
       "<style scoped>\n",
       "    .dataframe tbody tr th:only-of-type {\n",
       "        vertical-align: middle;\n",
       "    }\n",
       "\n",
       "    .dataframe tbody tr th {\n",
       "        vertical-align: top;\n",
       "    }\n",
       "\n",
       "    .dataframe thead th {\n",
       "        text-align: right;\n",
       "    }\n",
       "</style>\n",
       "<table border=\"1\" class=\"dataframe\">\n",
       "  <thead>\n",
       "    <tr style=\"text-align: right;\">\n",
       "      <th></th>\n",
       "      <th>Unnamed: 0</th>\n",
       "      <th>symboling</th>\n",
       "      <th>normalized-losses</th>\n",
       "      <th>make</th>\n",
       "      <th>num-of-doors</th>\n",
       "      <th>body-style</th>\n",
       "      <th>drive-wheels</th>\n",
       "      <th>engine-location</th>\n",
       "      <th>wheel-base</th>\n",
       "      <th>length</th>\n",
       "      <th>...</th>\n",
       "      <th>city-mpg</th>\n",
       "      <th>highway-L/100km</th>\n",
       "      <th>price</th>\n",
       "      <th>city-L/100km</th>\n",
       "      <th>highway-L/100km.1</th>\n",
       "      <th>horsepower-binned</th>\n",
       "      <th>diesel</th>\n",
       "      <th>gas</th>\n",
       "      <th>aspiration-std</th>\n",
       "      <th>aspiration-turbo</th>\n",
       "    </tr>\n",
       "  </thead>\n",
       "  <tbody>\n",
       "    <tr>\n",
       "      <th>0</th>\n",
       "      <td>0</td>\n",
       "      <td>3</td>\n",
       "      <td>122</td>\n",
       "      <td>alfa-romero</td>\n",
       "      <td>two</td>\n",
       "      <td>convertible</td>\n",
       "      <td>rwd</td>\n",
       "      <td>front</td>\n",
       "      <td>88.6</td>\n",
       "      <td>0.811148</td>\n",
       "      <td>...</td>\n",
       "      <td>21</td>\n",
       "      <td>27</td>\n",
       "      <td>16500.0</td>\n",
       "      <td>11.190476</td>\n",
       "      <td>8.703704</td>\n",
       "      <td>Low</td>\n",
       "      <td>0</td>\n",
       "      <td>1</td>\n",
       "      <td>1</td>\n",
       "      <td>0</td>\n",
       "    </tr>\n",
       "    <tr>\n",
       "      <th>1</th>\n",
       "      <td>1</td>\n",
       "      <td>1</td>\n",
       "      <td>122</td>\n",
       "      <td>alfa-romero</td>\n",
       "      <td>two</td>\n",
       "      <td>hatchback</td>\n",
       "      <td>rwd</td>\n",
       "      <td>front</td>\n",
       "      <td>94.5</td>\n",
       "      <td>0.822681</td>\n",
       "      <td>...</td>\n",
       "      <td>19</td>\n",
       "      <td>26</td>\n",
       "      <td>16500.0</td>\n",
       "      <td>12.368421</td>\n",
       "      <td>9.038462</td>\n",
       "      <td>Medium</td>\n",
       "      <td>0</td>\n",
       "      <td>1</td>\n",
       "      <td>1</td>\n",
       "      <td>0</td>\n",
       "    </tr>\n",
       "    <tr>\n",
       "      <th>2</th>\n",
       "      <td>2</td>\n",
       "      <td>2</td>\n",
       "      <td>164</td>\n",
       "      <td>audi</td>\n",
       "      <td>four</td>\n",
       "      <td>sedan</td>\n",
       "      <td>fwd</td>\n",
       "      <td>front</td>\n",
       "      <td>99.8</td>\n",
       "      <td>0.848630</td>\n",
       "      <td>...</td>\n",
       "      <td>24</td>\n",
       "      <td>30</td>\n",
       "      <td>13950.0</td>\n",
       "      <td>9.791667</td>\n",
       "      <td>7.833333</td>\n",
       "      <td>Low</td>\n",
       "      <td>0</td>\n",
       "      <td>1</td>\n",
       "      <td>1</td>\n",
       "      <td>0</td>\n",
       "    </tr>\n",
       "    <tr>\n",
       "      <th>3</th>\n",
       "      <td>3</td>\n",
       "      <td>2</td>\n",
       "      <td>164</td>\n",
       "      <td>audi</td>\n",
       "      <td>four</td>\n",
       "      <td>sedan</td>\n",
       "      <td>4wd</td>\n",
       "      <td>front</td>\n",
       "      <td>99.4</td>\n",
       "      <td>0.848630</td>\n",
       "      <td>...</td>\n",
       "      <td>18</td>\n",
       "      <td>22</td>\n",
       "      <td>17450.0</td>\n",
       "      <td>13.055556</td>\n",
       "      <td>10.681818</td>\n",
       "      <td>Low</td>\n",
       "      <td>0</td>\n",
       "      <td>1</td>\n",
       "      <td>1</td>\n",
       "      <td>0</td>\n",
       "    </tr>\n",
       "    <tr>\n",
       "      <th>4</th>\n",
       "      <td>4</td>\n",
       "      <td>2</td>\n",
       "      <td>122</td>\n",
       "      <td>audi</td>\n",
       "      <td>two</td>\n",
       "      <td>sedan</td>\n",
       "      <td>fwd</td>\n",
       "      <td>front</td>\n",
       "      <td>99.8</td>\n",
       "      <td>0.851994</td>\n",
       "      <td>...</td>\n",
       "      <td>19</td>\n",
       "      <td>25</td>\n",
       "      <td>15250.0</td>\n",
       "      <td>12.368421</td>\n",
       "      <td>9.400000</td>\n",
       "      <td>Low</td>\n",
       "      <td>0</td>\n",
       "      <td>1</td>\n",
       "      <td>1</td>\n",
       "      <td>0</td>\n",
       "    </tr>\n",
       "  </tbody>\n",
       "</table>\n",
       "<p>5 rows × 32 columns</p>\n",
       "</div>"
      ],
      "text/plain": [
       "   Unnamed: 0  symboling  normalized-losses         make num-of-doors  \\\n",
       "0           0          3                122  alfa-romero          two   \n",
       "1           1          1                122  alfa-romero          two   \n",
       "2           2          2                164         audi         four   \n",
       "3           3          2                164         audi         four   \n",
       "4           4          2                122         audi          two   \n",
       "\n",
       "    body-style drive-wheels engine-location  wheel-base    length  ...  \\\n",
       "0  convertible          rwd           front        88.6  0.811148  ...   \n",
       "1    hatchback          rwd           front        94.5  0.822681  ...   \n",
       "2        sedan          fwd           front        99.8  0.848630  ...   \n",
       "3        sedan          4wd           front        99.4  0.848630  ...   \n",
       "4        sedan          fwd           front        99.8  0.851994  ...   \n",
       "\n",
       "   city-mpg  highway-L/100km    price city-L/100km highway-L/100km.1  \\\n",
       "0        21               27  16500.0    11.190476          8.703704   \n",
       "1        19               26  16500.0    12.368421          9.038462   \n",
       "2        24               30  13950.0     9.791667          7.833333   \n",
       "3        18               22  17450.0    13.055556         10.681818   \n",
       "4        19               25  15250.0    12.368421          9.400000   \n",
       "\n",
       "   horsepower-binned diesel  gas  aspiration-std  aspiration-turbo  \n",
       "0                Low      0    1               1                 0  \n",
       "1             Medium      0    1               1                 0  \n",
       "2                Low      0    1               1                 0  \n",
       "3                Low      0    1               1                 0  \n",
       "4                Low      0    1               1                 0  \n",
       "\n",
       "[5 rows x 32 columns]"
      ]
     },
     "execution_count": 4,
     "metadata": {},
     "output_type": "execute_result"
    }
   ],
   "source": [
    "df.head()"
   ]
  },
  {
   "cell_type": "code",
   "execution_count": 5,
   "id": "5b37ce81",
   "metadata": {
    "execution": {
     "iopub.execute_input": "2025-08-01T18:41:00.865294Z",
     "iopub.status.busy": "2025-08-01T18:41:00.864615Z",
     "iopub.status.idle": "2025-08-01T18:41:00.887639Z",
     "shell.execute_reply": "2025-08-01T18:41:00.886156Z"
    },
    "papermill": {
     "duration": 0.036998,
     "end_time": "2025-08-01T18:41:00.890267",
     "exception": false,
     "start_time": "2025-08-01T18:41:00.853269",
     "status": "completed"
    },
    "tags": []
   },
   "outputs": [
    {
     "data": {
      "text/html": [
       "<div>\n",
       "<style scoped>\n",
       "    .dataframe tbody tr th:only-of-type {\n",
       "        vertical-align: middle;\n",
       "    }\n",
       "\n",
       "    .dataframe tbody tr th {\n",
       "        vertical-align: top;\n",
       "    }\n",
       "\n",
       "    .dataframe thead th {\n",
       "        text-align: right;\n",
       "    }\n",
       "</style>\n",
       "<table border=\"1\" class=\"dataframe\">\n",
       "  <thead>\n",
       "    <tr style=\"text-align: right;\">\n",
       "      <th></th>\n",
       "      <th>symboling</th>\n",
       "      <th>normalized-losses</th>\n",
       "      <th>make</th>\n",
       "      <th>num-of-doors</th>\n",
       "      <th>body-style</th>\n",
       "      <th>drive-wheels</th>\n",
       "      <th>engine-location</th>\n",
       "      <th>wheel-base</th>\n",
       "      <th>length</th>\n",
       "      <th>width</th>\n",
       "      <th>...</th>\n",
       "      <th>city-mpg</th>\n",
       "      <th>highway-L/100km</th>\n",
       "      <th>price</th>\n",
       "      <th>city-L/100km</th>\n",
       "      <th>highway-L/100km.1</th>\n",
       "      <th>horsepower-binned</th>\n",
       "      <th>diesel</th>\n",
       "      <th>gas</th>\n",
       "      <th>aspiration-std</th>\n",
       "      <th>aspiration-turbo</th>\n",
       "    </tr>\n",
       "  </thead>\n",
       "  <tbody>\n",
       "    <tr>\n",
       "      <th>0</th>\n",
       "      <td>3</td>\n",
       "      <td>122</td>\n",
       "      <td>alfa-romero</td>\n",
       "      <td>two</td>\n",
       "      <td>convertible</td>\n",
       "      <td>rwd</td>\n",
       "      <td>front</td>\n",
       "      <td>88.6</td>\n",
       "      <td>0.811148</td>\n",
       "      <td>0.890278</td>\n",
       "      <td>...</td>\n",
       "      <td>21</td>\n",
       "      <td>27</td>\n",
       "      <td>16500.0</td>\n",
       "      <td>11.190476</td>\n",
       "      <td>8.703704</td>\n",
       "      <td>Low</td>\n",
       "      <td>0</td>\n",
       "      <td>1</td>\n",
       "      <td>1</td>\n",
       "      <td>0</td>\n",
       "    </tr>\n",
       "    <tr>\n",
       "      <th>1</th>\n",
       "      <td>1</td>\n",
       "      <td>122</td>\n",
       "      <td>alfa-romero</td>\n",
       "      <td>two</td>\n",
       "      <td>hatchback</td>\n",
       "      <td>rwd</td>\n",
       "      <td>front</td>\n",
       "      <td>94.5</td>\n",
       "      <td>0.822681</td>\n",
       "      <td>0.909722</td>\n",
       "      <td>...</td>\n",
       "      <td>19</td>\n",
       "      <td>26</td>\n",
       "      <td>16500.0</td>\n",
       "      <td>12.368421</td>\n",
       "      <td>9.038462</td>\n",
       "      <td>Medium</td>\n",
       "      <td>0</td>\n",
       "      <td>1</td>\n",
       "      <td>1</td>\n",
       "      <td>0</td>\n",
       "    </tr>\n",
       "    <tr>\n",
       "      <th>2</th>\n",
       "      <td>2</td>\n",
       "      <td>164</td>\n",
       "      <td>audi</td>\n",
       "      <td>four</td>\n",
       "      <td>sedan</td>\n",
       "      <td>fwd</td>\n",
       "      <td>front</td>\n",
       "      <td>99.8</td>\n",
       "      <td>0.848630</td>\n",
       "      <td>0.919444</td>\n",
       "      <td>...</td>\n",
       "      <td>24</td>\n",
       "      <td>30</td>\n",
       "      <td>13950.0</td>\n",
       "      <td>9.791667</td>\n",
       "      <td>7.833333</td>\n",
       "      <td>Low</td>\n",
       "      <td>0</td>\n",
       "      <td>1</td>\n",
       "      <td>1</td>\n",
       "      <td>0</td>\n",
       "    </tr>\n",
       "    <tr>\n",
       "      <th>3</th>\n",
       "      <td>2</td>\n",
       "      <td>164</td>\n",
       "      <td>audi</td>\n",
       "      <td>four</td>\n",
       "      <td>sedan</td>\n",
       "      <td>4wd</td>\n",
       "      <td>front</td>\n",
       "      <td>99.4</td>\n",
       "      <td>0.848630</td>\n",
       "      <td>0.922222</td>\n",
       "      <td>...</td>\n",
       "      <td>18</td>\n",
       "      <td>22</td>\n",
       "      <td>17450.0</td>\n",
       "      <td>13.055556</td>\n",
       "      <td>10.681818</td>\n",
       "      <td>Low</td>\n",
       "      <td>0</td>\n",
       "      <td>1</td>\n",
       "      <td>1</td>\n",
       "      <td>0</td>\n",
       "    </tr>\n",
       "    <tr>\n",
       "      <th>4</th>\n",
       "      <td>2</td>\n",
       "      <td>122</td>\n",
       "      <td>audi</td>\n",
       "      <td>two</td>\n",
       "      <td>sedan</td>\n",
       "      <td>fwd</td>\n",
       "      <td>front</td>\n",
       "      <td>99.8</td>\n",
       "      <td>0.851994</td>\n",
       "      <td>0.920833</td>\n",
       "      <td>...</td>\n",
       "      <td>19</td>\n",
       "      <td>25</td>\n",
       "      <td>15250.0</td>\n",
       "      <td>12.368421</td>\n",
       "      <td>9.400000</td>\n",
       "      <td>Low</td>\n",
       "      <td>0</td>\n",
       "      <td>1</td>\n",
       "      <td>1</td>\n",
       "      <td>0</td>\n",
       "    </tr>\n",
       "  </tbody>\n",
       "</table>\n",
       "<p>5 rows × 31 columns</p>\n",
       "</div>"
      ],
      "text/plain": [
       "   symboling  normalized-losses         make num-of-doors   body-style  \\\n",
       "0          3                122  alfa-romero          two  convertible   \n",
       "1          1                122  alfa-romero          two    hatchback   \n",
       "2          2                164         audi         four        sedan   \n",
       "3          2                164         audi         four        sedan   \n",
       "4          2                122         audi          two        sedan   \n",
       "\n",
       "  drive-wheels engine-location  wheel-base    length     width  ...  city-mpg  \\\n",
       "0          rwd           front        88.6  0.811148  0.890278  ...        21   \n",
       "1          rwd           front        94.5  0.822681  0.909722  ...        19   \n",
       "2          fwd           front        99.8  0.848630  0.919444  ...        24   \n",
       "3          4wd           front        99.4  0.848630  0.922222  ...        18   \n",
       "4          fwd           front        99.8  0.851994  0.920833  ...        19   \n",
       "\n",
       "   highway-L/100km    price city-L/100km  highway-L/100km.1 horsepower-binned  \\\n",
       "0               27  16500.0    11.190476           8.703704               Low   \n",
       "1               26  16500.0    12.368421           9.038462            Medium   \n",
       "2               30  13950.0     9.791667           7.833333               Low   \n",
       "3               22  17450.0    13.055556          10.681818               Low   \n",
       "4               25  15250.0    12.368421           9.400000               Low   \n",
       "\n",
       "   diesel  gas  aspiration-std  aspiration-turbo  \n",
       "0       0    1               1                 0  \n",
       "1       0    1               1                 0  \n",
       "2       0    1               1                 0  \n",
       "3       0    1               1                 0  \n",
       "4       0    1               1                 0  \n",
       "\n",
       "[5 rows x 31 columns]"
      ]
     },
     "execution_count": 5,
     "metadata": {},
     "output_type": "execute_result"
    }
   ],
   "source": [
    "# drop an Unnamed: 0 column\n",
    "df.drop(['Unnamed: 0'], axis=1, inplace=True)\n",
    "df.head()"
   ]
  },
  {
   "cell_type": "code",
   "execution_count": 6,
   "id": "7b978f1b",
   "metadata": {
    "execution": {
     "iopub.execute_input": "2025-08-01T18:41:00.913143Z",
     "iopub.status.busy": "2025-08-01T18:41:00.912594Z",
     "iopub.status.idle": "2025-08-01T18:41:00.933018Z",
     "shell.execute_reply": "2025-08-01T18:41:00.932008Z"
    },
    "papermill": {
     "duration": 0.034102,
     "end_time": "2025-08-01T18:41:00.935198",
     "exception": false,
     "start_time": "2025-08-01T18:41:00.901096",
     "status": "completed"
    },
    "tags": []
   },
   "outputs": [
    {
     "data": {
      "text/html": [
       "<div>\n",
       "<style scoped>\n",
       "    .dataframe tbody tr th:only-of-type {\n",
       "        vertical-align: middle;\n",
       "    }\n",
       "\n",
       "    .dataframe tbody tr th {\n",
       "        vertical-align: top;\n",
       "    }\n",
       "\n",
       "    .dataframe thead th {\n",
       "        text-align: right;\n",
       "    }\n",
       "</style>\n",
       "<table border=\"1\" class=\"dataframe\">\n",
       "  <thead>\n",
       "    <tr style=\"text-align: right;\">\n",
       "      <th></th>\n",
       "      <th>symboling</th>\n",
       "      <th>normalized-losses</th>\n",
       "      <th>wheel-base</th>\n",
       "      <th>length</th>\n",
       "      <th>width</th>\n",
       "      <th>height</th>\n",
       "      <th>curb-weight</th>\n",
       "      <th>engine-size</th>\n",
       "      <th>bore</th>\n",
       "      <th>stroke</th>\n",
       "      <th>...</th>\n",
       "      <th>peak-rpm</th>\n",
       "      <th>city-mpg</th>\n",
       "      <th>highway-L/100km</th>\n",
       "      <th>price</th>\n",
       "      <th>city-L/100km</th>\n",
       "      <th>highway-L/100km.1</th>\n",
       "      <th>diesel</th>\n",
       "      <th>gas</th>\n",
       "      <th>aspiration-std</th>\n",
       "      <th>aspiration-turbo</th>\n",
       "    </tr>\n",
       "  </thead>\n",
       "  <tbody>\n",
       "    <tr>\n",
       "      <th>0</th>\n",
       "      <td>3</td>\n",
       "      <td>122</td>\n",
       "      <td>88.6</td>\n",
       "      <td>0.811148</td>\n",
       "      <td>0.890278</td>\n",
       "      <td>0.816054</td>\n",
       "      <td>2548</td>\n",
       "      <td>130</td>\n",
       "      <td>3.47</td>\n",
       "      <td>2.68</td>\n",
       "      <td>...</td>\n",
       "      <td>5000.0</td>\n",
       "      <td>21</td>\n",
       "      <td>27</td>\n",
       "      <td>16500.0</td>\n",
       "      <td>11.190476</td>\n",
       "      <td>8.703704</td>\n",
       "      <td>0</td>\n",
       "      <td>1</td>\n",
       "      <td>1</td>\n",
       "      <td>0</td>\n",
       "    </tr>\n",
       "    <tr>\n",
       "      <th>1</th>\n",
       "      <td>1</td>\n",
       "      <td>122</td>\n",
       "      <td>94.5</td>\n",
       "      <td>0.822681</td>\n",
       "      <td>0.909722</td>\n",
       "      <td>0.876254</td>\n",
       "      <td>2823</td>\n",
       "      <td>152</td>\n",
       "      <td>2.68</td>\n",
       "      <td>3.47</td>\n",
       "      <td>...</td>\n",
       "      <td>5000.0</td>\n",
       "      <td>19</td>\n",
       "      <td>26</td>\n",
       "      <td>16500.0</td>\n",
       "      <td>12.368421</td>\n",
       "      <td>9.038462</td>\n",
       "      <td>0</td>\n",
       "      <td>1</td>\n",
       "      <td>1</td>\n",
       "      <td>0</td>\n",
       "    </tr>\n",
       "    <tr>\n",
       "      <th>2</th>\n",
       "      <td>2</td>\n",
       "      <td>164</td>\n",
       "      <td>99.8</td>\n",
       "      <td>0.848630</td>\n",
       "      <td>0.919444</td>\n",
       "      <td>0.908027</td>\n",
       "      <td>2337</td>\n",
       "      <td>109</td>\n",
       "      <td>3.19</td>\n",
       "      <td>3.40</td>\n",
       "      <td>...</td>\n",
       "      <td>5500.0</td>\n",
       "      <td>24</td>\n",
       "      <td>30</td>\n",
       "      <td>13950.0</td>\n",
       "      <td>9.791667</td>\n",
       "      <td>7.833333</td>\n",
       "      <td>0</td>\n",
       "      <td>1</td>\n",
       "      <td>1</td>\n",
       "      <td>0</td>\n",
       "    </tr>\n",
       "    <tr>\n",
       "      <th>3</th>\n",
       "      <td>2</td>\n",
       "      <td>164</td>\n",
       "      <td>99.4</td>\n",
       "      <td>0.848630</td>\n",
       "      <td>0.922222</td>\n",
       "      <td>0.908027</td>\n",
       "      <td>2824</td>\n",
       "      <td>136</td>\n",
       "      <td>3.19</td>\n",
       "      <td>3.40</td>\n",
       "      <td>...</td>\n",
       "      <td>5500.0</td>\n",
       "      <td>18</td>\n",
       "      <td>22</td>\n",
       "      <td>17450.0</td>\n",
       "      <td>13.055556</td>\n",
       "      <td>10.681818</td>\n",
       "      <td>0</td>\n",
       "      <td>1</td>\n",
       "      <td>1</td>\n",
       "      <td>0</td>\n",
       "    </tr>\n",
       "    <tr>\n",
       "      <th>4</th>\n",
       "      <td>2</td>\n",
       "      <td>122</td>\n",
       "      <td>99.8</td>\n",
       "      <td>0.851994</td>\n",
       "      <td>0.920833</td>\n",
       "      <td>0.887960</td>\n",
       "      <td>2507</td>\n",
       "      <td>136</td>\n",
       "      <td>3.19</td>\n",
       "      <td>3.40</td>\n",
       "      <td>...</td>\n",
       "      <td>5500.0</td>\n",
       "      <td>19</td>\n",
       "      <td>25</td>\n",
       "      <td>15250.0</td>\n",
       "      <td>12.368421</td>\n",
       "      <td>9.400000</td>\n",
       "      <td>0</td>\n",
       "      <td>1</td>\n",
       "      <td>1</td>\n",
       "      <td>0</td>\n",
       "    </tr>\n",
       "  </tbody>\n",
       "</table>\n",
       "<p>5 rows × 22 columns</p>\n",
       "</div>"
      ],
      "text/plain": [
       "   symboling  normalized-losses  wheel-base    length     width    height  \\\n",
       "0          3                122        88.6  0.811148  0.890278  0.816054   \n",
       "1          1                122        94.5  0.822681  0.909722  0.876254   \n",
       "2          2                164        99.8  0.848630  0.919444  0.908027   \n",
       "3          2                164        99.4  0.848630  0.922222  0.908027   \n",
       "4          2                122        99.8  0.851994  0.920833  0.887960   \n",
       "\n",
       "   curb-weight  engine-size  bore  stroke  ...  peak-rpm  city-mpg  \\\n",
       "0         2548          130  3.47    2.68  ...    5000.0        21   \n",
       "1         2823          152  2.68    3.47  ...    5000.0        19   \n",
       "2         2337          109  3.19    3.40  ...    5500.0        24   \n",
       "3         2824          136  3.19    3.40  ...    5500.0        18   \n",
       "4         2507          136  3.19    3.40  ...    5500.0        19   \n",
       "\n",
       "   highway-L/100km    price  city-L/100km  highway-L/100km.1  diesel  gas  \\\n",
       "0               27  16500.0     11.190476           8.703704       0    1   \n",
       "1               26  16500.0     12.368421           9.038462       0    1   \n",
       "2               30  13950.0      9.791667           7.833333       0    1   \n",
       "3               22  17450.0     13.055556          10.681818       0    1   \n",
       "4               25  15250.0     12.368421           9.400000       0    1   \n",
       "\n",
       "   aspiration-std  aspiration-turbo  \n",
       "0               1                 0  \n",
       "1               1                 0  \n",
       "2               1                 0  \n",
       "3               1                 0  \n",
       "4               1                 0  \n",
       "\n",
       "[5 rows x 22 columns]"
      ]
     },
     "execution_count": 6,
     "metadata": {},
     "output_type": "execute_result"
    }
   ],
   "source": [
    "df = df._get_numeric_data()\n",
    "df.head()"
   ]
  },
  {
   "cell_type": "code",
   "execution_count": 7,
   "id": "9149e837",
   "metadata": {
    "execution": {
     "iopub.execute_input": "2025-08-01T18:41:00.957827Z",
     "iopub.status.busy": "2025-08-01T18:41:00.957545Z",
     "iopub.status.idle": "2025-08-01T18:41:00.961158Z",
     "shell.execute_reply": "2025-08-01T18:41:00.960356Z"
    },
    "papermill": {
     "duration": 0.016248,
     "end_time": "2025-08-01T18:41:00.962689",
     "exception": false,
     "start_time": "2025-08-01T18:41:00.946441",
     "status": "completed"
    },
    "tags": []
   },
   "outputs": [],
   "source": [
    "# functions for plotting"
   ]
  },
  {
   "cell_type": "code",
   "execution_count": 8,
   "id": "6f956cea",
   "metadata": {
    "execution": {
     "iopub.execute_input": "2025-08-01T18:41:00.985574Z",
     "iopub.status.busy": "2025-08-01T18:41:00.985294Z",
     "iopub.status.idle": "2025-08-01T18:41:00.990900Z",
     "shell.execute_reply": "2025-08-01T18:41:00.989878Z"
    },
    "papermill": {
     "duration": 0.018405,
     "end_time": "2025-08-01T18:41:00.992358",
     "exception": false,
     "start_time": "2025-08-01T18:41:00.973953",
     "status": "completed"
    },
    "tags": []
   },
   "outputs": [],
   "source": [
    "def DistributionPlot(RedFunction, BlueFunction, RedName, BlueName, Title):\n",
    "    width = 12\n",
    "    height = 10\n",
    "    plt.figure(figsize=(width, height))\n",
    "\n",
    "    ax1 = sns.kdeplot(RedFunction, color='r', label=RedName)\n",
    "    ax2 = sns.kdeplot(BlueFunction, color='r', label=BlueName , ax = ax1)\n",
    "\n",
    "    plt.title(Title)\n",
    "    plt.xlabel('Price (in dollars)')\n",
    "    plt.ylabel('Proportion of Cars')\n",
    "    plt.show()\n",
    "    plt.close()\n",
    "    "
   ]
  },
  {
   "cell_type": "code",
   "execution_count": 9,
   "id": "e8614ec4",
   "metadata": {
    "execution": {
     "iopub.execute_input": "2025-08-01T18:41:01.015349Z",
     "iopub.status.busy": "2025-08-01T18:41:01.015055Z",
     "iopub.status.idle": "2025-08-01T18:41:01.021111Z",
     "shell.execute_reply": "2025-08-01T18:41:01.020184Z"
    },
    "papermill": {
     "duration": 0.019578,
     "end_time": "2025-08-01T18:41:01.022724",
     "exception": false,
     "start_time": "2025-08-01T18:41:01.003146",
     "status": "completed"
    },
    "tags": []
   },
   "outputs": [],
   "source": [
    "def PollyPlot(xtrain, xtest, y_train, y_test, lr,poly_transform):\n",
    "    width = 12\n",
    "    height = 10\n",
    "    plt.figure(figsize=(width, height))\n",
    "    \n",
    "    \n",
    "    #training data \n",
    "    #testing data \n",
    "    # lr:  linear regression object \n",
    "    #poly_transform:  polynomial transformation object \n",
    " \n",
    "    xmax=max([xtrain.values.max(), xtest.values.max()])\n",
    "\n",
    "    xmin=min([xtrain.values.min(), xtest.values.min()])\n",
    "\n",
    "    x=np.arange(xmin, xmax, 0.1)\n",
    "\n",
    "\n",
    "    plt.plot(xtrain, y_train, 'ro', label='Training Data')\n",
    "    plt.plot(xtest, y_test, 'go', label='Test Data')\n",
    "    plt.plot(x, lr.predict(poly_transform.fit_transform(x.reshape(-1, 1))), label='Predicted Function')\n",
    "    plt.ylim([-10000, 60000])\n",
    "    plt.ylabel('Price')\n",
    "    plt.legend()"
   ]
  },
  {
   "cell_type": "markdown",
   "id": "f73f3d64",
   "metadata": {
    "papermill": {
     "duration": 0.010221,
     "end_time": "2025-08-01T18:41:01.043611",
     "exception": false,
     "start_time": "2025-08-01T18:41:01.033390",
     "status": "completed"
    },
    "tags": []
   },
   "source": [
    "# Training and Testing"
   ]
  },
  {
   "cell_type": "code",
   "execution_count": 10,
   "id": "7903f2fe",
   "metadata": {
    "execution": {
     "iopub.execute_input": "2025-08-01T18:41:01.066720Z",
     "iopub.status.busy": "2025-08-01T18:41:01.066438Z",
     "iopub.status.idle": "2025-08-01T18:41:01.071965Z",
     "shell.execute_reply": "2025-08-01T18:41:01.071067Z"
    },
    "papermill": {
     "duration": 0.01833,
     "end_time": "2025-08-01T18:41:01.073273",
     "exception": false,
     "start_time": "2025-08-01T18:41:01.054943",
     "status": "completed"
    },
    "tags": []
   },
   "outputs": [],
   "source": [
    "x = df.drop(['price'], axis=1)\n",
    "y = df['price']"
   ]
  },
  {
   "cell_type": "code",
   "execution_count": 11,
   "id": "3d68ba0a",
   "metadata": {
    "execution": {
     "iopub.execute_input": "2025-08-01T18:41:01.150933Z",
     "iopub.status.busy": "2025-08-01T18:41:01.149920Z",
     "iopub.status.idle": "2025-08-01T18:41:01.538632Z",
     "shell.execute_reply": "2025-08-01T18:41:01.537521Z"
    },
    "papermill": {
     "duration": 0.402066,
     "end_time": "2025-08-01T18:41:01.540141",
     "exception": false,
     "start_time": "2025-08-01T18:41:01.138075",
     "status": "completed"
    },
    "tags": []
   },
   "outputs": [
    {
     "name": "stdout",
     "output_type": "stream",
     "text": [
      "number of test samples : 20\n",
      "number of training samples: 180\n"
     ]
    }
   ],
   "source": [
    "# split data into training and testing data\n",
    "from sklearn.model_selection import train_test_split\n",
    "\n",
    "x_train, x_test, y_train, y_test = train_test_split(x,y,test_size=0.1, random_state=1)\n",
    "\n",
    "print(\"number of test samples :\", x_test.shape[0])\n",
    "print(\"number of training samples:\",x_train.shape[0])\n"
   ]
  },
  {
   "cell_type": "code",
   "execution_count": 12,
   "id": "772ce914",
   "metadata": {
    "execution": {
     "iopub.execute_input": "2025-08-01T18:41:01.563198Z",
     "iopub.status.busy": "2025-08-01T18:41:01.562852Z",
     "iopub.status.idle": "2025-08-01T18:41:01.570895Z",
     "shell.execute_reply": "2025-08-01T18:41:01.569870Z"
    },
    "papermill": {
     "duration": 0.021439,
     "end_time": "2025-08-01T18:41:01.572613",
     "exception": false,
     "start_time": "2025-08-01T18:41:01.551174",
     "status": "completed"
    },
    "tags": []
   },
   "outputs": [
    {
     "name": "stdout",
     "output_type": "stream",
     "text": [
      "number of test samples : 80\n",
      "number of training samples: 120\n"
     ]
    }
   ],
   "source": [
    "# split data into training and testing data\n",
    "x_train1, x_test1, y_train1, y_test1 = train_test_split(x,y,test_size=0.4, random_state=0)\n",
    "print(\"number of test samples :\", x_test1.shape[0])\n",
    "print(\"number of training samples:\",x_train1.shape[0])"
   ]
  },
  {
   "cell_type": "code",
   "execution_count": 13,
   "id": "00568456",
   "metadata": {
    "execution": {
     "iopub.execute_input": "2025-08-01T18:41:01.595549Z",
     "iopub.status.busy": "2025-08-01T18:41:01.595274Z",
     "iopub.status.idle": "2025-08-01T18:41:01.705998Z",
     "shell.execute_reply": "2025-08-01T18:41:01.705208Z"
    },
    "papermill": {
     "duration": 0.123964,
     "end_time": "2025-08-01T18:41:01.707653",
     "exception": false,
     "start_time": "2025-08-01T18:41:01.583689",
     "status": "completed"
    },
    "tags": []
   },
   "outputs": [],
   "source": [
    "from sklearn.linear_model import LinearRegression\n"
   ]
  },
  {
   "cell_type": "code",
   "execution_count": 14,
   "id": "ffa45eb9",
   "metadata": {
    "execution": {
     "iopub.execute_input": "2025-08-01T18:41:01.731950Z",
     "iopub.status.busy": "2025-08-01T18:41:01.731265Z",
     "iopub.status.idle": "2025-08-01T18:41:01.735645Z",
     "shell.execute_reply": "2025-08-01T18:41:01.734585Z"
    },
    "papermill": {
     "duration": 0.018306,
     "end_time": "2025-08-01T18:41:01.737450",
     "exception": false,
     "start_time": "2025-08-01T18:41:01.719144",
     "status": "completed"
    },
    "tags": []
   },
   "outputs": [],
   "source": [
    "# create a Linear Regression object\n",
    "lre = LinearRegression()"
   ]
  },
  {
   "cell_type": "code",
   "execution_count": 15,
   "id": "86c8c10b",
   "metadata": {
    "execution": {
     "iopub.execute_input": "2025-08-01T18:41:01.760917Z",
     "iopub.status.busy": "2025-08-01T18:41:01.760511Z",
     "iopub.status.idle": "2025-08-01T18:41:01.789667Z",
     "shell.execute_reply": "2025-08-01T18:41:01.788944Z"
    },
    "papermill": {
     "duration": 0.042671,
     "end_time": "2025-08-01T18:41:01.791236",
     "exception": false,
     "start_time": "2025-08-01T18:41:01.748565",
     "status": "completed"
    },
    "tags": []
   },
   "outputs": [
    {
     "data": {
      "text/html": [
       "<style>#sk-container-id-1 {color: black;background-color: white;}#sk-container-id-1 pre{padding: 0;}#sk-container-id-1 div.sk-toggleable {background-color: white;}#sk-container-id-1 label.sk-toggleable__label {cursor: pointer;display: block;width: 100%;margin-bottom: 0;padding: 0.3em;box-sizing: border-box;text-align: center;}#sk-container-id-1 label.sk-toggleable__label-arrow:before {content: \"▸\";float: left;margin-right: 0.25em;color: #696969;}#sk-container-id-1 label.sk-toggleable__label-arrow:hover:before {color: black;}#sk-container-id-1 div.sk-estimator:hover label.sk-toggleable__label-arrow:before {color: black;}#sk-container-id-1 div.sk-toggleable__content {max-height: 0;max-width: 0;overflow: hidden;text-align: left;background-color: #f0f8ff;}#sk-container-id-1 div.sk-toggleable__content pre {margin: 0.2em;color: black;border-radius: 0.25em;background-color: #f0f8ff;}#sk-container-id-1 input.sk-toggleable__control:checked~div.sk-toggleable__content {max-height: 200px;max-width: 100%;overflow: auto;}#sk-container-id-1 input.sk-toggleable__control:checked~label.sk-toggleable__label-arrow:before {content: \"▾\";}#sk-container-id-1 div.sk-estimator input.sk-toggleable__control:checked~label.sk-toggleable__label {background-color: #d4ebff;}#sk-container-id-1 div.sk-label input.sk-toggleable__control:checked~label.sk-toggleable__label {background-color: #d4ebff;}#sk-container-id-1 input.sk-hidden--visually {border: 0;clip: rect(1px 1px 1px 1px);clip: rect(1px, 1px, 1px, 1px);height: 1px;margin: -1px;overflow: hidden;padding: 0;position: absolute;width: 1px;}#sk-container-id-1 div.sk-estimator {font-family: monospace;background-color: #f0f8ff;border: 1px dotted black;border-radius: 0.25em;box-sizing: border-box;margin-bottom: 0.5em;}#sk-container-id-1 div.sk-estimator:hover {background-color: #d4ebff;}#sk-container-id-1 div.sk-parallel-item::after {content: \"\";width: 100%;border-bottom: 1px solid gray;flex-grow: 1;}#sk-container-id-1 div.sk-label:hover label.sk-toggleable__label {background-color: #d4ebff;}#sk-container-id-1 div.sk-serial::before {content: \"\";position: absolute;border-left: 1px solid gray;box-sizing: border-box;top: 0;bottom: 0;left: 50%;z-index: 0;}#sk-container-id-1 div.sk-serial {display: flex;flex-direction: column;align-items: center;background-color: white;padding-right: 0.2em;padding-left: 0.2em;position: relative;}#sk-container-id-1 div.sk-item {position: relative;z-index: 1;}#sk-container-id-1 div.sk-parallel {display: flex;align-items: stretch;justify-content: center;background-color: white;position: relative;}#sk-container-id-1 div.sk-item::before, #sk-container-id-1 div.sk-parallel-item::before {content: \"\";position: absolute;border-left: 1px solid gray;box-sizing: border-box;top: 0;bottom: 0;left: 50%;z-index: -1;}#sk-container-id-1 div.sk-parallel-item {display: flex;flex-direction: column;z-index: 1;position: relative;background-color: white;}#sk-container-id-1 div.sk-parallel-item:first-child::after {align-self: flex-end;width: 50%;}#sk-container-id-1 div.sk-parallel-item:last-child::after {align-self: flex-start;width: 50%;}#sk-container-id-1 div.sk-parallel-item:only-child::after {width: 0;}#sk-container-id-1 div.sk-dashed-wrapped {border: 1px dashed gray;margin: 0 0.4em 0.5em 0.4em;box-sizing: border-box;padding-bottom: 0.4em;background-color: white;}#sk-container-id-1 div.sk-label label {font-family: monospace;font-weight: bold;display: inline-block;line-height: 1.2em;}#sk-container-id-1 div.sk-label-container {text-align: center;}#sk-container-id-1 div.sk-container {/* jupyter's `normalize.less` sets `[hidden] { display: none; }` but bootstrap.min.css set `[hidden] { display: none !important; }` so we also need the `!important` here to be able to override the default hidden behavior on the sphinx rendered scikit-learn.org. See: https://github.com/scikit-learn/scikit-learn/issues/21755 */display: inline-block !important;position: relative;}#sk-container-id-1 div.sk-text-repr-fallback {display: none;}</style><div id=\"sk-container-id-1\" class=\"sk-top-container\"><div class=\"sk-text-repr-fallback\"><pre>LinearRegression()</pre><b>In a Jupyter environment, please rerun this cell to show the HTML representation or trust the notebook. <br />On GitHub, the HTML representation is unable to render, please try loading this page with nbviewer.org.</b></div><div class=\"sk-container\" hidden><div class=\"sk-item\"><div class=\"sk-estimator sk-toggleable\"><input class=\"sk-toggleable__control sk-hidden--visually\" id=\"sk-estimator-id-1\" type=\"checkbox\" checked><label for=\"sk-estimator-id-1\" class=\"sk-toggleable__label sk-toggleable__label-arrow\">LinearRegression</label><div class=\"sk-toggleable__content\"><pre>LinearRegression()</pre></div></div></div></div></div>"
      ],
      "text/plain": [
       "LinearRegression()"
      ]
     },
     "execution_count": 15,
     "metadata": {},
     "output_type": "execute_result"
    }
   ],
   "source": [
    "# fit model\n",
    "lre.fit(x_train[['horsepower']], y_train)"
   ]
  },
  {
   "cell_type": "code",
   "execution_count": 16,
   "id": "6efc9ef6",
   "metadata": {
    "execution": {
     "iopub.execute_input": "2025-08-01T18:41:01.815316Z",
     "iopub.status.busy": "2025-08-01T18:41:01.814953Z",
     "iopub.status.idle": "2025-08-01T18:41:01.823114Z",
     "shell.execute_reply": "2025-08-01T18:41:01.822251Z"
    },
    "papermill": {
     "duration": 0.021623,
     "end_time": "2025-08-01T18:41:01.824655",
     "exception": false,
     "start_time": "2025-08-01T18:41:01.803032",
     "status": "completed"
    },
    "tags": []
   },
   "outputs": [
    {
     "data": {
      "text/plain": [
       "0.5454534032667759"
      ]
     },
     "execution_count": 16,
     "metadata": {},
     "output_type": "execute_result"
    }
   ],
   "source": [
    "# calculate the R^2 on the test data\n",
    "lre.score(x_test[['horsepower']], y_test)"
   ]
  },
  {
   "cell_type": "code",
   "execution_count": 17,
   "id": "a84d7518",
   "metadata": {
    "execution": {
     "iopub.execute_input": "2025-08-01T18:41:01.849664Z",
     "iopub.status.busy": "2025-08-01T18:41:01.849415Z",
     "iopub.status.idle": "2025-08-01T18:41:01.857535Z",
     "shell.execute_reply": "2025-08-01T18:41:01.856817Z"
    },
    "papermill": {
     "duration": 0.022379,
     "end_time": "2025-08-01T18:41:01.858687",
     "exception": false,
     "start_time": "2025-08-01T18:41:01.836308",
     "status": "completed"
    },
    "tags": []
   },
   "outputs": [
    {
     "data": {
      "text/plain": [
       "0.6572826747147018"
      ]
     },
     "execution_count": 17,
     "metadata": {},
     "output_type": "execute_result"
    }
   ],
   "source": [
    "lre.score(x_train[['horsepower']], y_train)"
   ]
  },
  {
   "cell_type": "code",
   "execution_count": 18,
   "id": "1fa39ae9",
   "metadata": {
    "execution": {
     "iopub.execute_input": "2025-08-01T18:41:01.882270Z",
     "iopub.status.busy": "2025-08-01T18:41:01.881991Z",
     "iopub.status.idle": "2025-08-01T18:41:01.893505Z",
     "shell.execute_reply": "2025-08-01T18:41:01.892544Z"
    },
    "papermill": {
     "duration": 0.02497,
     "end_time": "2025-08-01T18:41:01.894897",
     "exception": false,
     "start_time": "2025-08-01T18:41:01.869927",
     "status": "completed"
    },
    "tags": []
   },
   "outputs": [
    {
     "data": {
      "text/plain": [
       "0.7055887960619338"
      ]
     },
     "execution_count": 18,
     "metadata": {},
     "output_type": "execute_result"
    }
   ],
   "source": [
    "lre.fit(x_train1[['horsepower']], y_train1)\n",
    "lre.score(x_test1[['horsepower']],y_test1)"
   ]
  },
  {
   "cell_type": "markdown",
   "id": "145e3cc4",
   "metadata": {
    "execution": {
     "iopub.execute_input": "2025-08-01T18:32:06.519936Z",
     "iopub.status.busy": "2025-08-01T18:32:06.519544Z",
     "iopub.status.idle": "2025-08-01T18:32:06.524129Z",
     "shell.execute_reply": "2025-08-01T18:32:06.523208Z",
     "shell.execute_reply.started": "2025-08-01T18:32:06.519888Z"
    },
    "papermill": {
     "duration": 0.010612,
     "end_time": "2025-08-01T18:41:01.916526",
     "exception": false,
     "start_time": "2025-08-01T18:41:01.905914",
     "status": "completed"
    },
    "tags": []
   },
   "source": [
    "## Cross-Validation Score\n",
    "\n",
    "Cross-validation is a technique to evaluate model performance by splitting the data into several folds. The model is trained and validated multiple times, each on different subsets.\n",
    "\n",
    "**Cross-Validation Score** is the average performance (e.g., R², MSE) across all folds, giving a more reliable estimate of how the model generalizes to unseen data."
   ]
  },
  {
   "cell_type": "code",
   "execution_count": 19,
   "id": "34a9e459",
   "metadata": {
    "execution": {
     "iopub.execute_input": "2025-08-01T18:41:01.939697Z",
     "iopub.status.busy": "2025-08-01T18:41:01.939433Z",
     "iopub.status.idle": "2025-08-01T18:41:01.943905Z",
     "shell.execute_reply": "2025-08-01T18:41:01.943109Z"
    },
    "papermill": {
     "duration": 0.017706,
     "end_time": "2025-08-01T18:41:01.945336",
     "exception": false,
     "start_time": "2025-08-01T18:41:01.927630",
     "status": "completed"
    },
    "tags": []
   },
   "outputs": [],
   "source": [
    "from sklearn.model_selection import cross_val_score"
   ]
  },
  {
   "cell_type": "code",
   "execution_count": 20,
   "id": "6732a328",
   "metadata": {
    "execution": {
     "iopub.execute_input": "2025-08-01T18:41:01.969568Z",
     "iopub.status.busy": "2025-08-01T18:41:01.968760Z",
     "iopub.status.idle": "2025-08-01T18:41:01.988561Z",
     "shell.execute_reply": "2025-08-01T18:41:01.987651Z"
    },
    "papermill": {
     "duration": 0.03358,
     "end_time": "2025-08-01T18:41:01.990296",
     "exception": false,
     "start_time": "2025-08-01T18:41:01.956716",
     "status": "completed"
    },
    "tags": []
   },
   "outputs": [],
   "source": [
    "Rcross = cross_val_score(lre, x[['horsepower']], y, cv=4)"
   ]
  },
  {
   "cell_type": "code",
   "execution_count": 21,
   "id": "8418f96a",
   "metadata": {
    "execution": {
     "iopub.execute_input": "2025-08-01T18:41:02.015240Z",
     "iopub.status.busy": "2025-08-01T18:41:02.014416Z",
     "iopub.status.idle": "2025-08-01T18:41:02.020231Z",
     "shell.execute_reply": "2025-08-01T18:41:02.019355Z"
    },
    "papermill": {
     "duration": 0.019404,
     "end_time": "2025-08-01T18:41:02.021573",
     "exception": false,
     "start_time": "2025-08-01T18:41:02.002169",
     "status": "completed"
    },
    "tags": []
   },
   "outputs": [
    {
     "data": {
      "text/plain": [
       "array([0.77474062, 0.5172957 , 0.74777703, 0.04701847])"
      ]
     },
     "execution_count": 21,
     "metadata": {},
     "output_type": "execute_result"
    }
   ],
   "source": [
    "Rcross"
   ]
  },
  {
   "cell_type": "code",
   "execution_count": 22,
   "id": "8fc7b731",
   "metadata": {
    "execution": {
     "iopub.execute_input": "2025-08-01T18:41:02.046580Z",
     "iopub.status.busy": "2025-08-01T18:41:02.045833Z",
     "iopub.status.idle": "2025-08-01T18:41:02.051344Z",
     "shell.execute_reply": "2025-08-01T18:41:02.050184Z"
    },
    "papermill": {
     "duration": 0.019682,
     "end_time": "2025-08-01T18:41:02.052690",
     "exception": false,
     "start_time": "2025-08-01T18:41:02.033008",
     "status": "completed"
    },
    "tags": []
   },
   "outputs": [
    {
     "name": "stdout",
     "output_type": "stream",
     "text": [
      "The mean of the folds are 0.5217079546458682 and the standard deviation is 0.29175431773738775\n"
     ]
    }
   ],
   "source": [
    "print(\"The mean of the folds are\", Rcross.mean(), \"and the standard deviation is\" , Rcross.std())"
   ]
  },
  {
   "cell_type": "code",
   "execution_count": 23,
   "id": "4f920b2f",
   "metadata": {
    "execution": {
     "iopub.execute_input": "2025-08-01T18:41:02.077672Z",
     "iopub.status.busy": "2025-08-01T18:41:02.077191Z",
     "iopub.status.idle": "2025-08-01T18:41:02.100617Z",
     "shell.execute_reply": "2025-08-01T18:41:02.099858Z"
    },
    "papermill": {
     "duration": 0.03793,
     "end_time": "2025-08-01T18:41:02.102139",
     "exception": false,
     "start_time": "2025-08-01T18:41:02.064209",
     "status": "completed"
    },
    "tags": []
   },
   "outputs": [
    {
     "data": {
      "text/plain": [
       "array([20648006.60031451, 43733821.19046848, 12543435.01689939,\n",
       "       17587351.09090061])"
      ]
     },
     "execution_count": 23,
     "metadata": {},
     "output_type": "execute_result"
    }
   ],
   "source": [
    "# neg_mean_squared_error\n",
    "-1 * cross_val_score(lre,x[['horsepower']], y,cv=4,scoring='neg_mean_squared_error')"
   ]
  },
  {
   "cell_type": "code",
   "execution_count": 24,
   "id": "b223813a",
   "metadata": {
    "execution": {
     "iopub.execute_input": "2025-08-01T18:41:02.128253Z",
     "iopub.status.busy": "2025-08-01T18:41:02.126738Z",
     "iopub.status.idle": "2025-08-01T18:41:02.143849Z",
     "shell.execute_reply": "2025-08-01T18:41:02.142750Z"
    },
    "papermill": {
     "duration": 0.031751,
     "end_time": "2025-08-01T18:41:02.145706",
     "exception": false,
     "start_time": "2025-08-01T18:41:02.113955",
     "status": "completed"
    },
    "tags": []
   },
   "outputs": [
    {
     "name": "stdout",
     "output_type": "stream",
     "text": [
      "Rc=[0.59020004 0.44149202], mean of Rc = 0.5158460303046659\n"
     ]
    }
   ],
   "source": [
    "Rc = cross_val_score(lre, x[['horsepower']], y, cv=2)\n",
    "print(f'Rc={Rc}, mean of Rc = {Rc.mean()}')"
   ]
  },
  {
   "cell_type": "code",
   "execution_count": 25,
   "id": "b26979a8",
   "metadata": {
    "execution": {
     "iopub.execute_input": "2025-08-01T18:41:02.171033Z",
     "iopub.status.busy": "2025-08-01T18:41:02.170599Z",
     "iopub.status.idle": "2025-08-01T18:41:02.194596Z",
     "shell.execute_reply": "2025-08-01T18:41:02.193320Z"
    },
    "papermill": {
     "duration": 0.039041,
     "end_time": "2025-08-01T18:41:02.196395",
     "exception": false,
     "start_time": "2025-08-01T18:41:02.157354",
     "status": "completed"
    },
    "tags": []
   },
   "outputs": [
    {
     "data": {
      "text/plain": [
       "array([14142.23793549, 20815.3029844 , 12745.549902  , 14762.9881726 ,\n",
       "       13987.05037621])"
      ]
     },
     "execution_count": 25,
     "metadata": {},
     "output_type": "execute_result"
    }
   ],
   "source": [
    "from sklearn.model_selection import cross_val_predict\n",
    "yhat = cross_val_predict(lre,x[['horsepower']], y,cv=4)\n",
    "yhat[0:5]"
   ]
  },
  {
   "cell_type": "markdown",
   "id": "3cd0f750",
   "metadata": {
    "papermill": {
     "duration": 0.012679,
     "end_time": "2025-08-01T18:41:02.220730",
     "exception": false,
     "start_time": "2025-08-01T18:41:02.208051",
     "status": "completed"
    },
    "tags": []
   },
   "source": [
    "## 📉 Overfitting, Underfitting, and Model Selection\n",
    "\n",
    "### 🎯 Underfitting\n",
    "- The model is **too simple** to capture the underlying patterns.\n",
    "- Poor performance on both training and testing data.\n",
    "- Example: Using linear regression on non-linear data.\n",
    "\n",
    "### 🚨 Overfitting\n",
    "- The model is **too complex**, capturing noise along with patterns.\n",
    "- High training accuracy, but poor generalization on test data.\n",
    "- Example: Very high-degree polynomial regression.\n",
    "\n",
    "### ✅ Good Fit (Generalization)\n",
    "- Balanced model that performs well on both training and test sets.\n",
    "- Captures the true structure without memorizing noise."
   ]
  },
  {
   "cell_type": "code",
   "execution_count": 26,
   "id": "d91da3c6",
   "metadata": {
    "execution": {
     "iopub.execute_input": "2025-08-01T18:41:02.248035Z",
     "iopub.status.busy": "2025-08-01T18:41:02.247729Z",
     "iopub.status.idle": "2025-08-01T18:41:02.252334Z",
     "shell.execute_reply": "2025-08-01T18:41:02.251110Z"
    },
    "papermill": {
     "duration": 0.019676,
     "end_time": "2025-08-01T18:41:02.253906",
     "exception": false,
     "start_time": "2025-08-01T18:41:02.234230",
     "status": "completed"
    },
    "tags": []
   },
   "outputs": [],
   "source": [
    "lr = LinearRegression()"
   ]
  },
  {
   "cell_type": "code",
   "execution_count": 27,
   "id": "56825289",
   "metadata": {
    "execution": {
     "iopub.execute_input": "2025-08-01T18:41:02.278785Z",
     "iopub.status.busy": "2025-08-01T18:41:02.278502Z",
     "iopub.status.idle": "2025-08-01T18:41:02.283982Z",
     "shell.execute_reply": "2025-08-01T18:41:02.283341Z"
    },
    "papermill": {
     "duration": 0.019667,
     "end_time": "2025-08-01T18:41:02.285659",
     "exception": false,
     "start_time": "2025-08-01T18:41:02.265992",
     "status": "completed"
    },
    "tags": []
   },
   "outputs": [
    {
     "data": {
      "text/plain": [
       "Index(['symboling', 'normalized-losses', 'wheel-base', 'length', 'width',\n",
       "       'height', 'curb-weight', 'engine-size', 'bore', 'stroke',\n",
       "       'compression-ratio', 'horsepower', 'peak-rpm', 'city-mpg',\n",
       "       'highway-L/100km', 'price', 'city-L/100km', 'highway-L/100km.1',\n",
       "       'diesel', 'gas', 'aspiration-std', 'aspiration-turbo'],\n",
       "      dtype='object')"
      ]
     },
     "execution_count": 27,
     "metadata": {},
     "output_type": "execute_result"
    }
   ],
   "source": [
    "df.columns"
   ]
  },
  {
   "cell_type": "code",
   "execution_count": 28,
   "id": "556932fb",
   "metadata": {
    "execution": {
     "iopub.execute_input": "2025-08-01T18:41:02.318733Z",
     "iopub.status.busy": "2025-08-01T18:41:02.316646Z",
     "iopub.status.idle": "2025-08-01T18:41:02.350542Z",
     "shell.execute_reply": "2025-08-01T18:41:02.349700Z"
    },
    "papermill": {
     "duration": 0.054932,
     "end_time": "2025-08-01T18:41:02.352258",
     "exception": false,
     "start_time": "2025-08-01T18:41:02.297326",
     "status": "completed"
    },
    "tags": []
   },
   "outputs": [
    {
     "data": {
      "text/html": [
       "<style>#sk-container-id-2 {color: black;background-color: white;}#sk-container-id-2 pre{padding: 0;}#sk-container-id-2 div.sk-toggleable {background-color: white;}#sk-container-id-2 label.sk-toggleable__label {cursor: pointer;display: block;width: 100%;margin-bottom: 0;padding: 0.3em;box-sizing: border-box;text-align: center;}#sk-container-id-2 label.sk-toggleable__label-arrow:before {content: \"▸\";float: left;margin-right: 0.25em;color: #696969;}#sk-container-id-2 label.sk-toggleable__label-arrow:hover:before {color: black;}#sk-container-id-2 div.sk-estimator:hover label.sk-toggleable__label-arrow:before {color: black;}#sk-container-id-2 div.sk-toggleable__content {max-height: 0;max-width: 0;overflow: hidden;text-align: left;background-color: #f0f8ff;}#sk-container-id-2 div.sk-toggleable__content pre {margin: 0.2em;color: black;border-radius: 0.25em;background-color: #f0f8ff;}#sk-container-id-2 input.sk-toggleable__control:checked~div.sk-toggleable__content {max-height: 200px;max-width: 100%;overflow: auto;}#sk-container-id-2 input.sk-toggleable__control:checked~label.sk-toggleable__label-arrow:before {content: \"▾\";}#sk-container-id-2 div.sk-estimator input.sk-toggleable__control:checked~label.sk-toggleable__label {background-color: #d4ebff;}#sk-container-id-2 div.sk-label input.sk-toggleable__control:checked~label.sk-toggleable__label {background-color: #d4ebff;}#sk-container-id-2 input.sk-hidden--visually {border: 0;clip: rect(1px 1px 1px 1px);clip: rect(1px, 1px, 1px, 1px);height: 1px;margin: -1px;overflow: hidden;padding: 0;position: absolute;width: 1px;}#sk-container-id-2 div.sk-estimator {font-family: monospace;background-color: #f0f8ff;border: 1px dotted black;border-radius: 0.25em;box-sizing: border-box;margin-bottom: 0.5em;}#sk-container-id-2 div.sk-estimator:hover {background-color: #d4ebff;}#sk-container-id-2 div.sk-parallel-item::after {content: \"\";width: 100%;border-bottom: 1px solid gray;flex-grow: 1;}#sk-container-id-2 div.sk-label:hover label.sk-toggleable__label {background-color: #d4ebff;}#sk-container-id-2 div.sk-serial::before {content: \"\";position: absolute;border-left: 1px solid gray;box-sizing: border-box;top: 0;bottom: 0;left: 50%;z-index: 0;}#sk-container-id-2 div.sk-serial {display: flex;flex-direction: column;align-items: center;background-color: white;padding-right: 0.2em;padding-left: 0.2em;position: relative;}#sk-container-id-2 div.sk-item {position: relative;z-index: 1;}#sk-container-id-2 div.sk-parallel {display: flex;align-items: stretch;justify-content: center;background-color: white;position: relative;}#sk-container-id-2 div.sk-item::before, #sk-container-id-2 div.sk-parallel-item::before {content: \"\";position: absolute;border-left: 1px solid gray;box-sizing: border-box;top: 0;bottom: 0;left: 50%;z-index: -1;}#sk-container-id-2 div.sk-parallel-item {display: flex;flex-direction: column;z-index: 1;position: relative;background-color: white;}#sk-container-id-2 div.sk-parallel-item:first-child::after {align-self: flex-end;width: 50%;}#sk-container-id-2 div.sk-parallel-item:last-child::after {align-self: flex-start;width: 50%;}#sk-container-id-2 div.sk-parallel-item:only-child::after {width: 0;}#sk-container-id-2 div.sk-dashed-wrapped {border: 1px dashed gray;margin: 0 0.4em 0.5em 0.4em;box-sizing: border-box;padding-bottom: 0.4em;background-color: white;}#sk-container-id-2 div.sk-label label {font-family: monospace;font-weight: bold;display: inline-block;line-height: 1.2em;}#sk-container-id-2 div.sk-label-container {text-align: center;}#sk-container-id-2 div.sk-container {/* jupyter's `normalize.less` sets `[hidden] { display: none; }` but bootstrap.min.css set `[hidden] { display: none !important; }` so we also need the `!important` here to be able to override the default hidden behavior on the sphinx rendered scikit-learn.org. See: https://github.com/scikit-learn/scikit-learn/issues/21755 */display: inline-block !important;position: relative;}#sk-container-id-2 div.sk-text-repr-fallback {display: none;}</style><div id=\"sk-container-id-2\" class=\"sk-top-container\"><div class=\"sk-text-repr-fallback\"><pre>LinearRegression()</pre><b>In a Jupyter environment, please rerun this cell to show the HTML representation or trust the notebook. <br />On GitHub, the HTML representation is unable to render, please try loading this page with nbviewer.org.</b></div><div class=\"sk-container\" hidden><div class=\"sk-item\"><div class=\"sk-estimator sk-toggleable\"><input class=\"sk-toggleable__control sk-hidden--visually\" id=\"sk-estimator-id-2\" type=\"checkbox\" checked><label for=\"sk-estimator-id-2\" class=\"sk-toggleable__label sk-toggleable__label-arrow\">LinearRegression</label><div class=\"sk-toggleable__content\"><pre>LinearRegression()</pre></div></div></div></div></div>"
      ],
      "text/plain": [
       "LinearRegression()"
      ]
     },
     "execution_count": 28,
     "metadata": {},
     "output_type": "execute_result"
    }
   ],
   "source": [
    "lr.fit(x_train[['horsepower', 'curb-weight', 'engine-size', 'highway-L/100km']], y_train)"
   ]
  },
  {
   "cell_type": "code",
   "execution_count": 29,
   "id": "e032b6e2",
   "metadata": {
    "execution": {
     "iopub.execute_input": "2025-08-01T18:41:02.377564Z",
     "iopub.status.busy": "2025-08-01T18:41:02.377237Z",
     "iopub.status.idle": "2025-08-01T18:41:02.384650Z",
     "shell.execute_reply": "2025-08-01T18:41:02.383953Z"
    },
    "papermill": {
     "duration": 0.021832,
     "end_time": "2025-08-01T18:41:02.386200",
     "exception": false,
     "start_time": "2025-08-01T18:41:02.364368",
     "status": "completed"
    },
    "tags": []
   },
   "outputs": [],
   "source": [
    "yhat_train= lr.predict(x_train[['horsepower', 'curb-weight', 'engine-size', 'highway-L/100km']])"
   ]
  },
  {
   "cell_type": "code",
   "execution_count": 30,
   "id": "b6bd9f20",
   "metadata": {
    "execution": {
     "iopub.execute_input": "2025-08-01T18:41:02.410944Z",
     "iopub.status.busy": "2025-08-01T18:41:02.410622Z",
     "iopub.status.idle": "2025-08-01T18:41:02.417862Z",
     "shell.execute_reply": "2025-08-01T18:41:02.416777Z"
    },
    "papermill": {
     "duration": 0.021403,
     "end_time": "2025-08-01T18:41:02.419396",
     "exception": false,
     "start_time": "2025-08-01T18:41:02.397993",
     "status": "completed"
    },
    "tags": []
   },
   "outputs": [
    {
     "data": {
      "text/plain": [
       "array([ 7262.8602918 ,   765.64454918, 34524.77168752,  6561.23620348,\n",
       "        6079.9335172 , 15357.98438837, 10106.52740194,  4956.05673828,\n",
       "       18657.72772625, 18793.33430155,  5553.35396437, 16019.78198124,\n",
       "       19190.97470755,  7247.75075188, 21433.373049  , 22465.83141469,\n",
       "       21880.6345662 ,  5843.83083792, 38087.19117341, 11775.73132118,\n",
       "       18202.03906008, 14333.29509853, 16515.59118108, 27771.25836985,\n",
       "       11098.96538912,  5502.91298893,  5702.88060692, 11148.39155437,\n",
       "        9337.64067447, 25340.53266388, 23422.81930079, 25131.04277837,\n",
       "       11821.68071649,  7286.66596061,  6413.21288051,  7262.03415317,\n",
       "        9555.95257437, 18663.35227531, 17084.94802245, 10192.1575827 ,\n",
       "        5791.36293837, 29804.07557642, 18898.07924431, 12589.97217455,\n",
       "        5701.99074787, 15417.97016649, 13462.40768918, 15183.32870947,\n",
       "        5577.15963318, 24361.54467358, 10549.05014741, 11790.17749379,\n",
       "       10418.87285389,  7319.9814432 , 16186.4216629 , 18362.33541796,\n",
       "       19306.52338347,  5896.10788112,  6699.30908257, 18826.66223788,\n",
       "        8639.62429903,  6289.85157906, 11108.83012559, 25131.04277837,\n",
       "       16625.0972576 , 27057.0883056 , 11299.27547606, 17067.16676843,\n",
       "        9272.08571675, 44201.54195752, 22444.00495591,  9711.35329972,\n",
       "       10055.55002989, 14498.41161381,  8108.64248181, 14183.49061952,\n",
       "       16706.03653155, 20462.51158162,  7059.12707392, 21690.18921574,\n",
       "        8805.55598175,  8724.6167078 ,  6656.45887871,  7179.12664038,\n",
       "       10610.55053236, 36882.43347536,  5994.66128584, 10769.51272464,\n",
       "       15941.69488027, 18202.03906008, 13675.32373235,  7590.42037688,\n",
       "       10932.66817641, 23052.23288912, 10979.93704508, 17429.0775747 ,\n",
       "        6227.95684016, 13938.52106535,  5167.8451067 , 13117.08828921,\n",
       "        6129.49886362,  6385.0742543 ,  5845.69770137,  9888.91034823,\n",
       "        9755.88779351,  6132.73416493,  9256.00114739,  5751.13476281,\n",
       "       15410.35685975, 17808.74545857,  6156.11165738, 11790.17749379,\n",
       "        8227.27523589, 22944.60893879, 13785.77457964,  5896.10788112,\n",
       "       13219.199662  , 10701.40928928, 11566.24143567, 17940.17670318,\n",
       "        7045.81489505,  8491.16541455, 14445.35297641, 10950.43269167,\n",
       "       24266.32199835, 28269.85794147,  9379.55889964, 15338.93985332,\n",
       "       15333.13318848, 19340.86468414,  7262.8602918 , 11821.68071649,\n",
       "       11633.06007966, 34524.77168752,  5896.10788112, 15458.07896306,\n",
       "        9892.35364201,  5767.60498364,  6865.38304007, 16881.48255172,\n",
       "       17096.4495    ,  4026.41146665, 18264.03729225,  8724.6167078 ,\n",
       "       22148.02025411, 10701.40928928, 11170.38239554, 13638.56963836,\n",
       "       19127.32255358, 10979.93704508,  5791.36293837, 15570.31238205,\n",
       "       23147.45556436, 17604.7423933 , 19600.38447467,  9281.75362737,\n",
       "        6933.12715622, 11247.70732156, 29542.21321953,  5791.41065245,\n",
       "       10691.416891  ,  7181.90856411,  7096.2081564 ,  9396.16381467,\n",
       "        5964.72604541, 25412.9814435 ,  5358.09976605,  9241.7177461 ,\n",
       "        9024.56813478,  7919.82936315, 19649.76290354, 13695.7032435 ,\n",
       "       12186.16134212, 17134.5385701 , 19317.05901533,  6712.93274718,\n",
       "        8853.91132549,  5864.85458299, 11809.22906124,  9782.77030614])"
      ]
     },
     "execution_count": 30,
     "metadata": {},
     "output_type": "execute_result"
    }
   ],
   "source": [
    "yhat_train"
   ]
  },
  {
   "cell_type": "code",
   "execution_count": 31,
   "id": "bf726975",
   "metadata": {
    "execution": {
     "iopub.execute_input": "2025-08-01T18:41:02.444853Z",
     "iopub.status.busy": "2025-08-01T18:41:02.444548Z",
     "iopub.status.idle": "2025-08-01T18:41:02.450732Z",
     "shell.execute_reply": "2025-08-01T18:41:02.449764Z"
    },
    "papermill": {
     "duration": 0.02045,
     "end_time": "2025-08-01T18:41:02.452474",
     "exception": false,
     "start_time": "2025-08-01T18:41:02.432024",
     "status": "completed"
    },
    "tags": []
   },
   "outputs": [],
   "source": [
    "yhat_test = lr.predict(x_test[['horsepower', 'curb-weight', 'engine-size', 'highway-L/100km']])"
   ]
  },
  {
   "cell_type": "code",
   "execution_count": 32,
   "id": "6b901368",
   "metadata": {
    "execution": {
     "iopub.execute_input": "2025-08-01T18:41:02.477467Z",
     "iopub.status.busy": "2025-08-01T18:41:02.477185Z",
     "iopub.status.idle": "2025-08-01T18:41:02.877183Z",
     "shell.execute_reply": "2025-08-01T18:41:02.876106Z"
    },
    "papermill": {
     "duration": 0.414203,
     "end_time": "2025-08-01T18:41:02.878856",
     "exception": false,
     "start_time": "2025-08-01T18:41:02.464653",
     "status": "completed"
    },
    "tags": []
   },
   "outputs": [
    {
     "name": "stderr",
     "output_type": "stream",
     "text": [
      "/usr/local/lib/python3.11/dist-packages/seaborn/_oldcore.py:1119: FutureWarning: use_inf_as_na option is deprecated and will be removed in a future version. Convert inf values to NaN before operating instead.\n",
      "  with pd.option_context('mode.use_inf_as_na', True):\n",
      "/usr/local/lib/python3.11/dist-packages/seaborn/_oldcore.py:1119: FutureWarning: use_inf_as_na option is deprecated and will be removed in a future version. Convert inf values to NaN before operating instead.\n",
      "  with pd.option_context('mode.use_inf_as_na', True):\n"
     ]
    },
    {
     "data": {
      "image/png": "[encoded data removed]",
      "text/plain": [
       "<Figure size 1200x1000 with 1 Axes>"
      ]
     },
     "metadata": {},
     "output_type": "display_data"
    }
   ],
   "source": [
    "Title = 'Distribution  Plot of  Predicted Value Using Training Data vs Training Data Distribution'\n",
    "DistributionPlot(y_train, yhat_train, \"Actual Values (Train)\", \"Predicted Values (Train)\", Title)"
   ]
  },
  {
   "cell_type": "code",
   "execution_count": 33,
   "id": "448282f2",
   "metadata": {
    "execution": {
     "iopub.execute_input": "2025-08-01T18:41:02.909294Z",
     "iopub.status.busy": "2025-08-01T18:41:02.909018Z",
     "iopub.status.idle": "2025-08-01T18:41:03.194723Z",
     "shell.execute_reply": "2025-08-01T18:41:03.193596Z"
    },
    "papermill": {
     "duration": 0.302771,
     "end_time": "2025-08-01T18:41:03.196711",
     "exception": false,
     "start_time": "2025-08-01T18:41:02.893940",
     "status": "completed"
    },
    "tags": []
   },
   "outputs": [
    {
     "name": "stderr",
     "output_type": "stream",
     "text": [
      "/usr/local/lib/python3.11/dist-packages/seaborn/_oldcore.py:1119: FutureWarning: use_inf_as_na option is deprecated and will be removed in a future version. Convert inf values to NaN before operating instead.\n",
      "  with pd.option_context('mode.use_inf_as_na', True):\n",
      "/usr/local/lib/python3.11/dist-packages/seaborn/_oldcore.py:1119: FutureWarning: use_inf_as_na option is deprecated and will be removed in a future version. Convert inf values to NaN before operating instead.\n",
      "  with pd.option_context('mode.use_inf_as_na', True):\n"
     ]
    },
    {
     "data": {
      "image/png": "[encoded data removed]",
      "text/plain": [
       "<Figure size 1200x1000 with 1 Axes>"
      ]
     },
     "metadata": {},
     "output_type": "display_data"
    }
   ],
   "source": [
    "Title='Distribution  Plot of  Predicted Value Using Test Data vs Data Distribution of Test Data'\n",
    "DistributionPlot(y_test,yhat_test,\"Actual Values (Test)\",\"Predicted Values (Test)\",Title)"
   ]
  },
  {
   "cell_type": "markdown",
   "id": "d5f69754",
   "metadata": {
    "papermill": {
     "duration": 0.015084,
     "end_time": "2025-08-01T18:41:03.227284",
     "exception": false,
     "start_time": "2025-08-01T18:41:03.212200",
     "status": "completed"
    },
    "tags": []
   },
   "source": [
    "## Overfitting"
   ]
  },
  {
   "cell_type": "code",
   "execution_count": 34,
   "id": "0a134e1a",
   "metadata": {
    "execution": {
     "iopub.execute_input": "2025-08-01T18:41:03.258759Z",
     "iopub.status.busy": "2025-08-01T18:41:03.258485Z",
     "iopub.status.idle": "2025-08-01T18:41:03.262276Z",
     "shell.execute_reply": "2025-08-01T18:41:03.261511Z"
    },
    "papermill": {
     "duration": 0.020998,
     "end_time": "2025-08-01T18:41:03.263608",
     "exception": false,
     "start_time": "2025-08-01T18:41:03.242610",
     "status": "completed"
    },
    "tags": []
   },
   "outputs": [],
   "source": [
    "from sklearn.preprocessing import PolynomialFeatures"
   ]
  },
  {
   "cell_type": "code",
   "execution_count": 35,
   "id": "a5e98465",
   "metadata": {
    "execution": {
     "iopub.execute_input": "2025-08-01T18:41:03.295365Z",
     "iopub.status.busy": "2025-08-01T18:41:03.295084Z",
     "iopub.status.idle": "2025-08-01T18:41:03.301177Z",
     "shell.execute_reply": "2025-08-01T18:41:03.300283Z"
    },
    "papermill": {
     "duration": 0.023697,
     "end_time": "2025-08-01T18:41:03.302512",
     "exception": false,
     "start_time": "2025-08-01T18:41:03.278815",
     "status": "completed"
    },
    "tags": []
   },
   "outputs": [],
   "source": [
    "x_train, x_test, y_train, y_test = train_test_split(x, y, test_size=0.45, random_state=0)"
   ]
  },
  {
   "cell_type": "code",
   "execution_count": 36,
   "id": "ea8dab53",
   "metadata": {
    "execution": {
     "iopub.execute_input": "2025-08-01T18:41:03.336189Z",
     "iopub.status.busy": "2025-08-01T18:41:03.335913Z",
     "iopub.status.idle": "2025-08-01T18:41:03.347486Z",
     "shell.execute_reply": "2025-08-01T18:41:03.346549Z"
    },
    "papermill": {
     "duration": 0.029915,
     "end_time": "2025-08-01T18:41:03.349007",
     "exception": false,
     "start_time": "2025-08-01T18:41:03.319092",
     "status": "completed"
    },
    "tags": []
   },
   "outputs": [
    {
     "data": {
      "text/html": [
       "<style>#sk-container-id-3 {color: black;background-color: white;}#sk-container-id-3 pre{padding: 0;}#sk-container-id-3 div.sk-toggleable {background-color: white;}#sk-container-id-3 label.sk-toggleable__label {cursor: pointer;display: block;width: 100%;margin-bottom: 0;padding: 0.3em;box-sizing: border-box;text-align: center;}#sk-container-id-3 label.sk-toggleable__label-arrow:before {content: \"▸\";float: left;margin-right: 0.25em;color: #696969;}#sk-container-id-3 label.sk-toggleable__label-arrow:hover:before {color: black;}#sk-container-id-3 div.sk-estimator:hover label.sk-toggleable__label-arrow:before {color: black;}#sk-container-id-3 div.sk-toggleable__content {max-height: 0;max-width: 0;overflow: hidden;text-align: left;background-color: #f0f8ff;}#sk-container-id-3 div.sk-toggleable__content pre {margin: 0.2em;color: black;border-radius: 0.25em;background-color: #f0f8ff;}#sk-container-id-3 input.sk-toggleable__control:checked~div.sk-toggleable__content {max-height: 200px;max-width: 100%;overflow: auto;}#sk-container-id-3 input.sk-toggleable__control:checked~label.sk-toggleable__label-arrow:before {content: \"▾\";}#sk-container-id-3 div.sk-estimator input.sk-toggleable__control:checked~label.sk-toggleable__label {background-color: #d4ebff;}#sk-container-id-3 div.sk-label input.sk-toggleable__control:checked~label.sk-toggleable__label {background-color: #d4ebff;}#sk-container-id-3 input.sk-hidden--visually {border: 0;clip: rect(1px 1px 1px 1px);clip: rect(1px, 1px, 1px, 1px);height: 1px;margin: -1px;overflow: hidden;padding: 0;position: absolute;width: 1px;}#sk-container-id-3 div.sk-estimator {font-family: monospace;background-color: #f0f8ff;border: 1px dotted black;border-radius: 0.25em;box-sizing: border-box;margin-bottom: 0.5em;}#sk-container-id-3 div.sk-estimator:hover {background-color: #d4ebff;}#sk-container-id-3 div.sk-parallel-item::after {content: \"\";width: 100%;border-bottom: 1px solid gray;flex-grow: 1;}#sk-container-id-3 div.sk-label:hover label.sk-toggleable__label {background-color: #d4ebff;}#sk-container-id-3 div.sk-serial::before {content: \"\";position: absolute;border-left: 1px solid gray;box-sizing: border-box;top: 0;bottom: 0;left: 50%;z-index: 0;}#sk-container-id-3 div.sk-serial {display: flex;flex-direction: column;align-items: center;background-color: white;padding-right: 0.2em;padding-left: 0.2em;position: relative;}#sk-container-id-3 div.sk-item {position: relative;z-index: 1;}#sk-container-id-3 div.sk-parallel {display: flex;align-items: stretch;justify-content: center;background-color: white;position: relative;}#sk-container-id-3 div.sk-item::before, #sk-container-id-3 div.sk-parallel-item::before {content: \"\";position: absolute;border-left: 1px solid gray;box-sizing: border-box;top: 0;bottom: 0;left: 50%;z-index: -1;}#sk-container-id-3 div.sk-parallel-item {display: flex;flex-direction: column;z-index: 1;position: relative;background-color: white;}#sk-container-id-3 div.sk-parallel-item:first-child::after {align-self: flex-end;width: 50%;}#sk-container-id-3 div.sk-parallel-item:last-child::after {align-self: flex-start;width: 50%;}#sk-container-id-3 div.sk-parallel-item:only-child::after {width: 0;}#sk-container-id-3 div.sk-dashed-wrapped {border: 1px dashed gray;margin: 0 0.4em 0.5em 0.4em;box-sizing: border-box;padding-bottom: 0.4em;background-color: white;}#sk-container-id-3 div.sk-label label {font-family: monospace;font-weight: bold;display: inline-block;line-height: 1.2em;}#sk-container-id-3 div.sk-label-container {text-align: center;}#sk-container-id-3 div.sk-container {/* jupyter's `normalize.less` sets `[hidden] { display: none; }` but bootstrap.min.css set `[hidden] { display: none !important; }` so we also need the `!important` here to be able to override the default hidden behavior on the sphinx rendered scikit-learn.org. See: https://github.com/scikit-learn/scikit-learn/issues/21755 */display: inline-block !important;position: relative;}#sk-container-id-3 div.sk-text-repr-fallback {display: none;}</style><div id=\"sk-container-id-3\" class=\"sk-top-container\"><div class=\"sk-text-repr-fallback\"><pre>PolynomialFeatures(degree=5)</pre><b>In a Jupyter environment, please rerun this cell to show the HTML representation or trust the notebook. <br />On GitHub, the HTML representation is unable to render, please try loading this page with nbviewer.org.</b></div><div class=\"sk-container\" hidden><div class=\"sk-item\"><div class=\"sk-estimator sk-toggleable\"><input class=\"sk-toggleable__control sk-hidden--visually\" id=\"sk-estimator-id-3\" type=\"checkbox\" checked><label for=\"sk-estimator-id-3\" class=\"sk-toggleable__label sk-toggleable__label-arrow\">PolynomialFeatures</label><div class=\"sk-toggleable__content\"><pre>PolynomialFeatures(degree=5)</pre></div></div></div></div></div>"
      ],
      "text/plain": [
       "PolynomialFeatures(degree=5)"
      ]
     },
     "execution_count": 36,
     "metadata": {},
     "output_type": "execute_result"
    }
   ],
   "source": [
    "pr = PolynomialFeatures(degree=5)\n",
    "x_train_pr = pr.fit_transform(x_train[['horsepower']])\n",
    "x_test_pr = pr.fit_transform(x_test[['horsepower']])\n",
    "pr"
   ]
  },
  {
   "cell_type": "code",
   "execution_count": 37,
   "id": "612f1bae",
   "metadata": {
    "execution": {
     "iopub.execute_input": "2025-08-01T18:41:03.381775Z",
     "iopub.status.busy": "2025-08-01T18:41:03.381524Z",
     "iopub.status.idle": "2025-08-01T18:41:03.389679Z",
     "shell.execute_reply": "2025-08-01T18:41:03.388877Z"
    },
    "papermill": {
     "duration": 0.025859,
     "end_time": "2025-08-01T18:41:03.391031",
     "exception": false,
     "start_time": "2025-08-01T18:41:03.365172",
     "status": "completed"
    },
    "tags": []
   },
   "outputs": [
    {
     "data": {
      "text/html": [
       "<style>#sk-container-id-4 {color: black;background-color: white;}#sk-container-id-4 pre{padding: 0;}#sk-container-id-4 div.sk-toggleable {background-color: white;}#sk-container-id-4 label.sk-toggleable__label {cursor: pointer;display: block;width: 100%;margin-bottom: 0;padding: 0.3em;box-sizing: border-box;text-align: center;}#sk-container-id-4 label.sk-toggleable__label-arrow:before {content: \"▸\";float: left;margin-right: 0.25em;color: #696969;}#sk-container-id-4 label.sk-toggleable__label-arrow:hover:before {color: black;}#sk-container-id-4 div.sk-estimator:hover label.sk-toggleable__label-arrow:before {color: black;}#sk-container-id-4 div.sk-toggleable__content {max-height: 0;max-width: 0;overflow: hidden;text-align: left;background-color: #f0f8ff;}#sk-container-id-4 div.sk-toggleable__content pre {margin: 0.2em;color: black;border-radius: 0.25em;background-color: #f0f8ff;}#sk-container-id-4 input.sk-toggleable__control:checked~div.sk-toggleable__content {max-height: 200px;max-width: 100%;overflow: auto;}#sk-container-id-4 input.sk-toggleable__control:checked~label.sk-toggleable__label-arrow:before {content: \"▾\";}#sk-container-id-4 div.sk-estimator input.sk-toggleable__control:checked~label.sk-toggleable__label {background-color: #d4ebff;}#sk-container-id-4 div.sk-label input.sk-toggleable__control:checked~label.sk-toggleable__label {background-color: #d4ebff;}#sk-container-id-4 input.sk-hidden--visually {border: 0;clip: rect(1px 1px 1px 1px);clip: rect(1px, 1px, 1px, 1px);height: 1px;margin: -1px;overflow: hidden;padding: 0;position: absolute;width: 1px;}#sk-container-id-4 div.sk-estimator {font-family: monospace;background-color: #f0f8ff;border: 1px dotted black;border-radius: 0.25em;box-sizing: border-box;margin-bottom: 0.5em;}#sk-container-id-4 div.sk-estimator:hover {background-color: #d4ebff;}#sk-container-id-4 div.sk-parallel-item::after {content: \"\";width: 100%;border-bottom: 1px solid gray;flex-grow: 1;}#sk-container-id-4 div.sk-label:hover label.sk-toggleable__label {background-color: #d4ebff;}#sk-container-id-4 div.sk-serial::before {content: \"\";position: absolute;border-left: 1px solid gray;box-sizing: border-box;top: 0;bottom: 0;left: 50%;z-index: 0;}#sk-container-id-4 div.sk-serial {display: flex;flex-direction: column;align-items: center;background-color: white;padding-right: 0.2em;padding-left: 0.2em;position: relative;}#sk-container-id-4 div.sk-item {position: relative;z-index: 1;}#sk-container-id-4 div.sk-parallel {display: flex;align-items: stretch;justify-content: center;background-color: white;position: relative;}#sk-container-id-4 div.sk-item::before, #sk-container-id-4 div.sk-parallel-item::before {content: \"\";position: absolute;border-left: 1px solid gray;box-sizing: border-box;top: 0;bottom: 0;left: 50%;z-index: -1;}#sk-container-id-4 div.sk-parallel-item {display: flex;flex-direction: column;z-index: 1;position: relative;background-color: white;}#sk-container-id-4 div.sk-parallel-item:first-child::after {align-self: flex-end;width: 50%;}#sk-container-id-4 div.sk-parallel-item:last-child::after {align-self: flex-start;width: 50%;}#sk-container-id-4 div.sk-parallel-item:only-child::after {width: 0;}#sk-container-id-4 div.sk-dashed-wrapped {border: 1px dashed gray;margin: 0 0.4em 0.5em 0.4em;box-sizing: border-box;padding-bottom: 0.4em;background-color: white;}#sk-container-id-4 div.sk-label label {font-family: monospace;font-weight: bold;display: inline-block;line-height: 1.2em;}#sk-container-id-4 div.sk-label-container {text-align: center;}#sk-container-id-4 div.sk-container {/* jupyter's `normalize.less` sets `[hidden] { display: none; }` but bootstrap.min.css set `[hidden] { display: none !important; }` so we also need the `!important` here to be able to override the default hidden behavior on the sphinx rendered scikit-learn.org. See: https://github.com/scikit-learn/scikit-learn/issues/21755 */display: inline-block !important;position: relative;}#sk-container-id-4 div.sk-text-repr-fallback {display: none;}</style><div id=\"sk-container-id-4\" class=\"sk-top-container\"><div class=\"sk-text-repr-fallback\"><pre>LinearRegression()</pre><b>In a Jupyter environment, please rerun this cell to show the HTML representation or trust the notebook. <br />On GitHub, the HTML representation is unable to render, please try loading this page with nbviewer.org.</b></div><div class=\"sk-container\" hidden><div class=\"sk-item\"><div class=\"sk-estimator sk-toggleable\"><input class=\"sk-toggleable__control sk-hidden--visually\" id=\"sk-estimator-id-4\" type=\"checkbox\" checked><label for=\"sk-estimator-id-4\" class=\"sk-toggleable__label sk-toggleable__label-arrow\">LinearRegression</label><div class=\"sk-toggleable__content\"><pre>LinearRegression()</pre></div></div></div></div></div>"
      ],
      "text/plain": [
       "LinearRegression()"
      ]
     },
     "execution_count": 37,
     "metadata": {},
     "output_type": "execute_result"
    }
   ],
   "source": [
    "poly = LinearRegression()\n",
    "poly.fit(x_train_pr, y_train)"
   ]
  },
  {
   "cell_type": "code",
   "execution_count": 38,
   "id": "9b437be3",
   "metadata": {
    "execution": {
     "iopub.execute_input": "2025-08-01T18:41:03.422303Z",
     "iopub.status.busy": "2025-08-01T18:41:03.422010Z",
     "iopub.status.idle": "2025-08-01T18:41:03.427879Z",
     "shell.execute_reply": "2025-08-01T18:41:03.427023Z"
    },
    "papermill": {
     "duration": 0.022941,
     "end_time": "2025-08-01T18:41:03.429190",
     "exception": false,
     "start_time": "2025-08-01T18:41:03.406249",
     "status": "completed"
    },
    "tags": []
   },
   "outputs": [
    {
     "data": {
      "text/plain": [
       "array([ 7194.64532127, 10350.08573024, 10991.64698157, 18578.75567134,\n",
       "        3260.97794348])"
      ]
     },
     "execution_count": 38,
     "metadata": {},
     "output_type": "execute_result"
    }
   ],
   "source": [
    "yhat = poly.predict(x_test_pr)\n",
    "yhat[0:5]"
   ]
  },
  {
   "cell_type": "code",
   "execution_count": 39,
   "id": "b4bc2275",
   "metadata": {
    "execution": {
     "iopub.execute_input": "2025-08-01T18:41:03.461887Z",
     "iopub.status.busy": "2025-08-01T18:41:03.461562Z",
     "iopub.status.idle": "2025-08-01T18:41:03.466952Z",
     "shell.execute_reply": "2025-08-01T18:41:03.466005Z"
    },
    "papermill": {
     "duration": 0.023318,
     "end_time": "2025-08-01T18:41:03.468561",
     "exception": false,
     "start_time": "2025-08-01T18:41:03.445243",
     "status": "completed"
    },
    "tags": []
   },
   "outputs": [
    {
     "name": "stdout",
     "output_type": "stream",
     "text": [
      "Predicted values: [ 7194.64532127 10350.08573024 10991.64698157 18578.75567134]\n",
      "True values: [ 6575.  9988. 15580. 14399.]\n"
     ]
    }
   ],
   "source": [
    "print(\"Predicted values:\", yhat[0:4])\n",
    "print(\"True values:\", y_test[0:4].values)"
   ]
  },
  {
   "cell_type": "code",
   "execution_count": 40,
   "id": "5ecf851f",
   "metadata": {
    "execution": {
     "iopub.execute_input": "2025-08-01T18:41:03.501117Z",
     "iopub.status.busy": "2025-08-01T18:41:03.500858Z",
     "iopub.status.idle": "2025-08-01T18:41:03.713967Z",
     "shell.execute_reply": "2025-08-01T18:41:03.713038Z"
    },
    "papermill": {
     "duration": 0.231015,
     "end_time": "2025-08-01T18:41:03.715789",
     "exception": false,
     "start_time": "2025-08-01T18:41:03.484774",
     "status": "completed"
    },
    "tags": []
   },
   "outputs": [
    {
     "data": {
      "image/png": "[encoded data removed]",
      "text/plain": [
       "<Figure size 1200x1000 with 1 Axes>"
      ]
     },
     "metadata": {},
     "output_type": "display_data"
    }
   ],
   "source": [
    "PollyPlot(x_train['horsepower'], x_test['horsepower'], y_train, y_test, poly,pr)"
   ]
  },
  {
   "cell_type": "code",
   "execution_count": 41,
   "id": "dbbe46f2",
   "metadata": {
    "execution": {
     "iopub.execute_input": "2025-08-01T18:41:03.751961Z",
     "iopub.status.busy": "2025-08-01T18:41:03.751272Z",
     "iopub.status.idle": "2025-08-01T18:41:03.757669Z",
     "shell.execute_reply": "2025-08-01T18:41:03.756857Z"
    },
    "papermill": {
     "duration": 0.025494,
     "end_time": "2025-08-01T18:41:03.758991",
     "exception": false,
     "start_time": "2025-08-01T18:41:03.733497",
     "status": "completed"
    },
    "tags": []
   },
   "outputs": [
    {
     "data": {
      "text/plain": [
       "0.7507740781647028"
      ]
     },
     "execution_count": 41,
     "metadata": {},
     "output_type": "execute_result"
    }
   ],
   "source": [
    "poly.score(x_train_pr, y_train)"
   ]
  },
  {
   "cell_type": "code",
   "execution_count": 42,
   "id": "e398bac3",
   "metadata": {
    "execution": {
     "iopub.execute_input": "2025-08-01T18:41:03.794161Z",
     "iopub.status.busy": "2025-08-01T18:41:03.793868Z",
     "iopub.status.idle": "2025-08-01T18:41:03.800053Z",
     "shell.execute_reply": "2025-08-01T18:41:03.799285Z"
    },
    "papermill": {
     "duration": 0.025218,
     "end_time": "2025-08-01T18:41:03.801467",
     "exception": false,
     "start_time": "2025-08-01T18:41:03.776249",
     "status": "completed"
    },
    "tags": []
   },
   "outputs": [
    {
     "data": {
      "text/plain": [
       "-405.1893837413098"
      ]
     },
     "execution_count": 42,
     "metadata": {},
     "output_type": "execute_result"
    }
   ],
   "source": [
    "poly.score(x_test_pr, y_test)"
   ]
  },
  {
   "cell_type": "code",
   "execution_count": 43,
   "id": "9d0d9be0",
   "metadata": {
    "execution": {
     "iopub.execute_input": "2025-08-01T18:41:03.838323Z",
     "iopub.status.busy": "2025-08-01T18:41:03.838013Z",
     "iopub.status.idle": "2025-08-01T18:41:04.050964Z",
     "shell.execute_reply": "2025-08-01T18:41:04.050084Z"
    },
    "papermill": {
     "duration": 0.233271,
     "end_time": "2025-08-01T18:41:04.052461",
     "exception": false,
     "start_time": "2025-08-01T18:41:03.819190",
     "status": "completed"
    },
    "tags": []
   },
   "outputs": [
    {
     "data": {
      "text/plain": [
       "Text(3, 0.75, 'Maximum R^2 ')"
      ]
     },
     "execution_count": 43,
     "metadata": {},
     "output_type": "execute_result"
    },
    {
     "data": {
      "image/png": "[encoded data removed]",
      "text/plain": [
       "<Figure size 640x480 with 1 Axes>"
      ]
     },
     "metadata": {},
     "output_type": "display_data"
    }
   ],
   "source": [
    "Rsqu_test = []\n",
    "order = [1,2,3,4]\n",
    "for n in order:\n",
    "    pr = PolynomialFeatures(degree= n)\n",
    "\n",
    "    x_train_pr = pr.fit_transform(x_train[['horsepower']])\n",
    "\n",
    "    x_test_pr = pr.fit_transform(x_test[['horsepower']])\n",
    "\n",
    "    lr.fit(x_train_pr,y_train)\n",
    "\n",
    "    Rsqu_test.append(lr.score(x_test_pr, y_test))\n",
    "\n",
    "\n",
    "plt.plot(order, Rsqu_test)\n",
    "plt.xlabel('order')\n",
    "plt.ylabel('R^2')\n",
    "plt.title('R^2 Using Test Data')\n",
    "plt.text(3, 0.75, 'Maximum R^2 ')    \n"
   ]
  },
  {
   "cell_type": "code",
   "execution_count": 44,
   "id": "b099b4a5",
   "metadata": {
    "execution": {
     "iopub.execute_input": "2025-08-01T18:41:04.089614Z",
     "iopub.status.busy": "2025-08-01T18:41:04.089334Z",
     "iopub.status.idle": "2025-08-01T18:41:04.093701Z",
     "shell.execute_reply": "2025-08-01T18:41:04.092710Z"
    },
    "papermill": {
     "duration": 0.024672,
     "end_time": "2025-08-01T18:41:04.095390",
     "exception": false,
     "start_time": "2025-08-01T18:41:04.070718",
     "status": "completed"
    },
    "tags": []
   },
   "outputs": [],
   "source": [
    "pr1 = PolynomialFeatures(degree=2)"
   ]
  },
  {
   "cell_type": "code",
   "execution_count": 45,
   "id": "81e3e5fa",
   "metadata": {
    "execution": {
     "iopub.execute_input": "2025-08-01T18:41:04.134488Z",
     "iopub.status.busy": "2025-08-01T18:41:04.134171Z",
     "iopub.status.idle": "2025-08-01T18:41:04.139827Z",
     "shell.execute_reply": "2025-08-01T18:41:04.138919Z"
    },
    "papermill": {
     "duration": 0.027414,
     "end_time": "2025-08-01T18:41:04.141083",
     "exception": false,
     "start_time": "2025-08-01T18:41:04.113669",
     "status": "completed"
    },
    "tags": []
   },
   "outputs": [
    {
     "data": {
      "text/plain": [
       "Index(['symboling', 'normalized-losses', 'wheel-base', 'length', 'width',\n",
       "       'height', 'curb-weight', 'engine-size', 'bore', 'stroke',\n",
       "       'compression-ratio', 'horsepower', 'peak-rpm', 'city-mpg',\n",
       "       'highway-L/100km', 'price', 'city-L/100km', 'highway-L/100km.1',\n",
       "       'diesel', 'gas', 'aspiration-std', 'aspiration-turbo'],\n",
       "      dtype='object')"
      ]
     },
     "execution_count": 45,
     "metadata": {},
     "output_type": "execute_result"
    }
   ],
   "source": [
    "df.columns"
   ]
  },
  {
   "cell_type": "code",
   "execution_count": 46,
   "id": "174be134",
   "metadata": {
    "execution": {
     "iopub.execute_input": "2025-08-01T18:41:04.179259Z",
     "iopub.status.busy": "2025-08-01T18:41:04.178966Z",
     "iopub.status.idle": "2025-08-01T18:41:04.190405Z",
     "shell.execute_reply": "2025-08-01T18:41:04.189399Z"
    },
    "papermill": {
     "duration": 0.032178,
     "end_time": "2025-08-01T18:41:04.191631",
     "exception": false,
     "start_time": "2025-08-01T18:41:04.159453",
     "status": "completed"
    },
    "tags": []
   },
   "outputs": [],
   "source": [
    "x_train_pr1 = pr1.fit_transform(x_train[['horsepower', 'curb-weight','engine-size','highway-L/100km']])\n",
    "x_test_pr1 = pr1.fit_transform(x_test[['horsepower', 'curb-weight','engine-size','highway-L/100km']])"
   ]
  },
  {
   "cell_type": "code",
   "execution_count": 47,
   "id": "7c054e9f",
   "metadata": {
    "execution": {
     "iopub.execute_input": "2025-08-01T18:41:04.229739Z",
     "iopub.status.busy": "2025-08-01T18:41:04.229463Z",
     "iopub.status.idle": "2025-08-01T18:41:04.235167Z",
     "shell.execute_reply": "2025-08-01T18:41:04.234296Z"
    },
    "papermill": {
     "duration": 0.025865,
     "end_time": "2025-08-01T18:41:04.236893",
     "exception": false,
     "start_time": "2025-08-01T18:41:04.211028",
     "status": "completed"
    },
    "tags": []
   },
   "outputs": [
    {
     "data": {
      "text/plain": [
       "(110, 15)"
      ]
     },
     "execution_count": 47,
     "metadata": {},
     "output_type": "execute_result"
    }
   ],
   "source": [
    "x_train_pr1.shape"
   ]
  },
  {
   "cell_type": "code",
   "execution_count": 48,
   "id": "b8a5e036",
   "metadata": {
    "execution": {
     "iopub.execute_input": "2025-08-01T18:41:04.275151Z",
     "iopub.status.busy": "2025-08-01T18:41:04.274839Z",
     "iopub.status.idle": "2025-08-01T18:41:04.283766Z",
     "shell.execute_reply": "2025-08-01T18:41:04.282980Z"
    },
    "papermill": {
     "duration": 0.029099,
     "end_time": "2025-08-01T18:41:04.285215",
     "exception": false,
     "start_time": "2025-08-01T18:41:04.256116",
     "status": "completed"
    },
    "tags": []
   },
   "outputs": [
    {
     "data": {
      "text/html": [
       "<style>#sk-container-id-5 {color: black;background-color: white;}#sk-container-id-5 pre{padding: 0;}#sk-container-id-5 div.sk-toggleable {background-color: white;}#sk-container-id-5 label.sk-toggleable__label {cursor: pointer;display: block;width: 100%;margin-bottom: 0;padding: 0.3em;box-sizing: border-box;text-align: center;}#sk-container-id-5 label.sk-toggleable__label-arrow:before {content: \"▸\";float: left;margin-right: 0.25em;color: #696969;}#sk-container-id-5 label.sk-toggleable__label-arrow:hover:before {color: black;}#sk-container-id-5 div.sk-estimator:hover label.sk-toggleable__label-arrow:before {color: black;}#sk-container-id-5 div.sk-toggleable__content {max-height: 0;max-width: 0;overflow: hidden;text-align: left;background-color: #f0f8ff;}#sk-container-id-5 div.sk-toggleable__content pre {margin: 0.2em;color: black;border-radius: 0.25em;background-color: #f0f8ff;}#sk-container-id-5 input.sk-toggleable__control:checked~div.sk-toggleable__content {max-height: 200px;max-width: 100%;overflow: auto;}#sk-container-id-5 input.sk-toggleable__control:checked~label.sk-toggleable__label-arrow:before {content: \"▾\";}#sk-container-id-5 div.sk-estimator input.sk-toggleable__control:checked~label.sk-toggleable__label {background-color: #d4ebff;}#sk-container-id-5 div.sk-label input.sk-toggleable__control:checked~label.sk-toggleable__label {background-color: #d4ebff;}#sk-container-id-5 input.sk-hidden--visually {border: 0;clip: rect(1px 1px 1px 1px);clip: rect(1px, 1px, 1px, 1px);height: 1px;margin: -1px;overflow: hidden;padding: 0;position: absolute;width: 1px;}#sk-container-id-5 div.sk-estimator {font-family: monospace;background-color: #f0f8ff;border: 1px dotted black;border-radius: 0.25em;box-sizing: border-box;margin-bottom: 0.5em;}#sk-container-id-5 div.sk-estimator:hover {background-color: #d4ebff;}#sk-container-id-5 div.sk-parallel-item::after {content: \"\";width: 100%;border-bottom: 1px solid gray;flex-grow: 1;}#sk-container-id-5 div.sk-label:hover label.sk-toggleable__label {background-color: #d4ebff;}#sk-container-id-5 div.sk-serial::before {content: \"\";position: absolute;border-left: 1px solid gray;box-sizing: border-box;top: 0;bottom: 0;left: 50%;z-index: 0;}#sk-container-id-5 div.sk-serial {display: flex;flex-direction: column;align-items: center;background-color: white;padding-right: 0.2em;padding-left: 0.2em;position: relative;}#sk-container-id-5 div.sk-item {position: relative;z-index: 1;}#sk-container-id-5 div.sk-parallel {display: flex;align-items: stretch;justify-content: center;background-color: white;position: relative;}#sk-container-id-5 div.sk-item::before, #sk-container-id-5 div.sk-parallel-item::before {content: \"\";position: absolute;border-left: 1px solid gray;box-sizing: border-box;top: 0;bottom: 0;left: 50%;z-index: -1;}#sk-container-id-5 div.sk-parallel-item {display: flex;flex-direction: column;z-index: 1;position: relative;background-color: white;}#sk-container-id-5 div.sk-parallel-item:first-child::after {align-self: flex-end;width: 50%;}#sk-container-id-5 div.sk-parallel-item:last-child::after {align-self: flex-start;width: 50%;}#sk-container-id-5 div.sk-parallel-item:only-child::after {width: 0;}#sk-container-id-5 div.sk-dashed-wrapped {border: 1px dashed gray;margin: 0 0.4em 0.5em 0.4em;box-sizing: border-box;padding-bottom: 0.4em;background-color: white;}#sk-container-id-5 div.sk-label label {font-family: monospace;font-weight: bold;display: inline-block;line-height: 1.2em;}#sk-container-id-5 div.sk-label-container {text-align: center;}#sk-container-id-5 div.sk-container {/* jupyter's `normalize.less` sets `[hidden] { display: none; }` but bootstrap.min.css set `[hidden] { display: none !important; }` so we also need the `!important` here to be able to override the default hidden behavior on the sphinx rendered scikit-learn.org. See: https://github.com/scikit-learn/scikit-learn/issues/21755 */display: inline-block !important;position: relative;}#sk-container-id-5 div.sk-text-repr-fallback {display: none;}</style><div id=\"sk-container-id-5\" class=\"sk-top-container\"><div class=\"sk-text-repr-fallback\"><pre>LinearRegression()</pre><b>In a Jupyter environment, please rerun this cell to show the HTML representation or trust the notebook. <br />On GitHub, the HTML representation is unable to render, please try loading this page with nbviewer.org.</b></div><div class=\"sk-container\" hidden><div class=\"sk-item\"><div class=\"sk-estimator sk-toggleable\"><input class=\"sk-toggleable__control sk-hidden--visually\" id=\"sk-estimator-id-5\" type=\"checkbox\" checked><label for=\"sk-estimator-id-5\" class=\"sk-toggleable__label sk-toggleable__label-arrow\">LinearRegression</label><div class=\"sk-toggleable__content\"><pre>LinearRegression()</pre></div></div></div></div></div>"
      ],
      "text/plain": [
       "LinearRegression()"
      ]
     },
     "execution_count": 48,
     "metadata": {},
     "output_type": "execute_result"
    }
   ],
   "source": [
    "poly1 = LinearRegression()\n",
    "poly1.fit(x_train_pr1,y_train)"
   ]
  },
  {
   "cell_type": "code",
   "execution_count": 49,
   "id": "ad0d2c28",
   "metadata": {
    "execution": {
     "iopub.execute_input": "2025-08-01T18:41:04.324122Z",
     "iopub.status.busy": "2025-08-01T18:41:04.323733Z",
     "iopub.status.idle": "2025-08-01T18:41:04.328417Z",
     "shell.execute_reply": "2025-08-01T18:41:04.327619Z"
    },
    "papermill": {
     "duration": 0.025424,
     "end_time": "2025-08-01T18:41:04.329779",
     "exception": false,
     "start_time": "2025-08-01T18:41:04.304355",
     "status": "completed"
    },
    "tags": []
   },
   "outputs": [],
   "source": [
    "yhat_test = poly1.predict(x_test_pr1)"
   ]
  },
  {
   "cell_type": "code",
   "execution_count": 50,
   "id": "f3c97ce2",
   "metadata": {
    "execution": {
     "iopub.execute_input": "2025-08-01T18:41:04.368013Z",
     "iopub.status.busy": "2025-08-01T18:41:04.367518Z",
     "iopub.status.idle": "2025-08-01T18:41:04.640299Z",
     "shell.execute_reply": "2025-08-01T18:41:04.639261Z"
    },
    "papermill": {
     "duration": 0.293593,
     "end_time": "2025-08-01T18:41:04.641633",
     "exception": false,
     "start_time": "2025-08-01T18:41:04.348040",
     "status": "completed"
    },
    "tags": []
   },
   "outputs": [
    {
     "name": "stderr",
     "output_type": "stream",
     "text": [
      "/usr/local/lib/python3.11/dist-packages/seaborn/_oldcore.py:1119: FutureWarning: use_inf_as_na option is deprecated and will be removed in a future version. Convert inf values to NaN before operating instead.\n",
      "  with pd.option_context('mode.use_inf_as_na', True):\n",
      "/usr/local/lib/python3.11/dist-packages/seaborn/_oldcore.py:1119: FutureWarning: use_inf_as_na option is deprecated and will be removed in a future version. Convert inf values to NaN before operating instead.\n",
      "  with pd.option_context('mode.use_inf_as_na', True):\n"
     ]
    },
    {
     "data": {
      "image/png": "[encoded data removed]",
      "text/plain": [
       "<Figure size 1200x1000 with 1 Axes>"
      ]
     },
     "metadata": {},
     "output_type": "display_data"
    }
   ],
   "source": [
    "Title='Distribution  Plot of  Predicted Value Using Test Data vs Data Distribution of Test Data'\n",
    "\n",
    "DistributionPlot(y_test, yhat_test, \"Actual Values (Test)\", \"Predicted Values (Test)\", Title)"
   ]
  },
  {
   "cell_type": "code",
   "execution_count": 51,
   "id": "ba7bf35e",
   "metadata": {
    "execution": {
     "iopub.execute_input": "2025-08-01T18:41:04.681395Z",
     "iopub.status.busy": "2025-08-01T18:41:04.681132Z",
     "iopub.status.idle": "2025-08-01T18:41:04.691682Z",
     "shell.execute_reply": "2025-08-01T18:41:04.691082Z"
    },
    "papermill": {
     "duration": 0.031753,
     "end_time": "2025-08-01T18:41:04.693149",
     "exception": false,
     "start_time": "2025-08-01T18:41:04.661396",
     "status": "completed"
    },
    "tags": []
   },
   "outputs": [],
   "source": [
    "pr=PolynomialFeatures(degree=2)\n",
    "x_train_pr=pr.fit_transform(x_train[['horsepower', 'curb-weight', 'engine-size', 'highway-L/100km','normalized-losses','symboling']])\n",
    "x_test_pr=pr.fit_transform(x_test[['horsepower', 'curb-weight', 'engine-size', 'highway-L/100km','normalized-losses','symboling']])"
   ]
  },
  {
   "cell_type": "markdown",
   "id": "e2537ddb",
   "metadata": {
    "papermill": {
     "duration": 0.019709,
     "end_time": "2025-08-01T18:41:04.732110",
     "exception": false,
     "start_time": "2025-08-01T18:41:04.712401",
     "status": "completed"
    },
    "tags": []
   },
   "source": [
    "## 📘 Ridge Regression \n",
    "\n",
    "Ridge Regression is a regularized version of linear regression that adds a penalty term to reduce model complexity and prevent overfitting.\n",
    "\n",
    "- **Alpha (α)** controls the strength of regularization:\n",
    "  - Low α → less penalty → more flexible model\n",
    "  - High α → more penalty → simpler model\n",
    "\n",
    "In this notebook, we use the **test set as validation data** to observe how different alpha values affect performance.\n"
   ]
  },
  {
   "cell_type": "code",
   "execution_count": 52,
   "id": "947f0ef8",
   "metadata": {
    "execution": {
     "iopub.execute_input": "2025-08-01T18:41:04.771208Z",
     "iopub.status.busy": "2025-08-01T18:41:04.770904Z",
     "iopub.status.idle": "2025-08-01T18:41:04.774953Z",
     "shell.execute_reply": "2025-08-01T18:41:04.774178Z"
    },
    "papermill": {
     "duration": 0.025515,
     "end_time": "2025-08-01T18:41:04.776665",
     "exception": false,
     "start_time": "2025-08-01T18:41:04.751150",
     "status": "completed"
    },
    "tags": []
   },
   "outputs": [],
   "source": [
    "from sklearn.linear_model import Ridge"
   ]
  },
  {
   "cell_type": "code",
   "execution_count": 53,
   "id": "9316d19b",
   "metadata": {
    "execution": {
     "iopub.execute_input": "2025-08-01T18:41:04.817544Z",
     "iopub.status.busy": "2025-08-01T18:41:04.817256Z",
     "iopub.status.idle": "2025-08-01T18:41:04.821676Z",
     "shell.execute_reply": "2025-08-01T18:41:04.820696Z"
    },
    "papermill": {
     "duration": 0.026508,
     "end_time": "2025-08-01T18:41:04.823268",
     "exception": false,
     "start_time": "2025-08-01T18:41:04.796760",
     "status": "completed"
    },
    "tags": []
   },
   "outputs": [],
   "source": [
    "RigeModel=Ridge(alpha=1)"
   ]
  },
  {
   "cell_type": "code",
   "execution_count": 54,
   "id": "875ef195",
   "metadata": {
    "execution": {
     "iopub.execute_input": "2025-08-01T18:41:04.863950Z",
     "iopub.status.busy": "2025-08-01T18:41:04.863650Z",
     "iopub.status.idle": "2025-08-01T18:41:04.873901Z",
     "shell.execute_reply": "2025-08-01T18:41:04.873033Z"
    },
    "papermill": {
     "duration": 0.032089,
     "end_time": "2025-08-01T18:41:04.875231",
     "exception": false,
     "start_time": "2025-08-01T18:41:04.843142",
     "status": "completed"
    },
    "tags": []
   },
   "outputs": [
    {
     "data": {
      "text/html": [
       "<style>#sk-container-id-6 {color: black;background-color: white;}#sk-container-id-6 pre{padding: 0;}#sk-container-id-6 div.sk-toggleable {background-color: white;}#sk-container-id-6 label.sk-toggleable__label {cursor: pointer;display: block;width: 100%;margin-bottom: 0;padding: 0.3em;box-sizing: border-box;text-align: center;}#sk-container-id-6 label.sk-toggleable__label-arrow:before {content: \"▸\";float: left;margin-right: 0.25em;color: #696969;}#sk-container-id-6 label.sk-toggleable__label-arrow:hover:before {color: black;}#sk-container-id-6 div.sk-estimator:hover label.sk-toggleable__label-arrow:before {color: black;}#sk-container-id-6 div.sk-toggleable__content {max-height: 0;max-width: 0;overflow: hidden;text-align: left;background-color: #f0f8ff;}#sk-container-id-6 div.sk-toggleable__content pre {margin: 0.2em;color: black;border-radius: 0.25em;background-color: #f0f8ff;}#sk-container-id-6 input.sk-toggleable__control:checked~div.sk-toggleable__content {max-height: 200px;max-width: 100%;overflow: auto;}#sk-container-id-6 input.sk-toggleable__control:checked~label.sk-toggleable__label-arrow:before {content: \"▾\";}#sk-container-id-6 div.sk-estimator input.sk-toggleable__control:checked~label.sk-toggleable__label {background-color: #d4ebff;}#sk-container-id-6 div.sk-label input.sk-toggleable__control:checked~label.sk-toggleable__label {background-color: #d4ebff;}#sk-container-id-6 input.sk-hidden--visually {border: 0;clip: rect(1px 1px 1px 1px);clip: rect(1px, 1px, 1px, 1px);height: 1px;margin: -1px;overflow: hidden;padding: 0;position: absolute;width: 1px;}#sk-container-id-6 div.sk-estimator {font-family: monospace;background-color: #f0f8ff;border: 1px dotted black;border-radius: 0.25em;box-sizing: border-box;margin-bottom: 0.5em;}#sk-container-id-6 div.sk-estimator:hover {background-color: #d4ebff;}#sk-container-id-6 div.sk-parallel-item::after {content: \"\";width: 100%;border-bottom: 1px solid gray;flex-grow: 1;}#sk-container-id-6 div.sk-label:hover label.sk-toggleable__label {background-color: #d4ebff;}#sk-container-id-6 div.sk-serial::before {content: \"\";position: absolute;border-left: 1px solid gray;box-sizing: border-box;top: 0;bottom: 0;left: 50%;z-index: 0;}#sk-container-id-6 div.sk-serial {display: flex;flex-direction: column;align-items: center;background-color: white;padding-right: 0.2em;padding-left: 0.2em;position: relative;}#sk-container-id-6 div.sk-item {position: relative;z-index: 1;}#sk-container-id-6 div.sk-parallel {display: flex;align-items: stretch;justify-content: center;background-color: white;position: relative;}#sk-container-id-6 div.sk-item::before, #sk-container-id-6 div.sk-parallel-item::before {content: \"\";position: absolute;border-left: 1px solid gray;box-sizing: border-box;top: 0;bottom: 0;left: 50%;z-index: -1;}#sk-container-id-6 div.sk-parallel-item {display: flex;flex-direction: column;z-index: 1;position: relative;background-color: white;}#sk-container-id-6 div.sk-parallel-item:first-child::after {align-self: flex-end;width: 50%;}#sk-container-id-6 div.sk-parallel-item:last-child::after {align-self: flex-start;width: 50%;}#sk-container-id-6 div.sk-parallel-item:only-child::after {width: 0;}#sk-container-id-6 div.sk-dashed-wrapped {border: 1px dashed gray;margin: 0 0.4em 0.5em 0.4em;box-sizing: border-box;padding-bottom: 0.4em;background-color: white;}#sk-container-id-6 div.sk-label label {font-family: monospace;font-weight: bold;display: inline-block;line-height: 1.2em;}#sk-container-id-6 div.sk-label-container {text-align: center;}#sk-container-id-6 div.sk-container {/* jupyter's `normalize.less` sets `[hidden] { display: none; }` but bootstrap.min.css set `[hidden] { display: none !important; }` so we also need the `!important` here to be able to override the default hidden behavior on the sphinx rendered scikit-learn.org. See: https://github.com/scikit-learn/scikit-learn/issues/21755 */display: inline-block !important;position: relative;}#sk-container-id-6 div.sk-text-repr-fallback {display: none;}</style><div id=\"sk-container-id-6\" class=\"sk-top-container\"><div class=\"sk-text-repr-fallback\"><pre>Ridge(alpha=1)</pre><b>In a Jupyter environment, please rerun this cell to show the HTML representation or trust the notebook. <br />On GitHub, the HTML representation is unable to render, please try loading this page with nbviewer.org.</b></div><div class=\"sk-container\" hidden><div class=\"sk-item\"><div class=\"sk-estimator sk-toggleable\"><input class=\"sk-toggleable__control sk-hidden--visually\" id=\"sk-estimator-id-6\" type=\"checkbox\" checked><label for=\"sk-estimator-id-6\" class=\"sk-toggleable__label sk-toggleable__label-arrow\">Ridge</label><div class=\"sk-toggleable__content\"><pre>Ridge(alpha=1)</pre></div></div></div></div></div>"
      ],
      "text/plain": [
       "Ridge(alpha=1)"
      ]
     },
     "execution_count": 54,
     "metadata": {},
     "output_type": "execute_result"
    }
   ],
   "source": [
    "RigeModel.fit(x_train_pr, y_train)"
   ]
  },
  {
   "cell_type": "code",
   "execution_count": 55,
   "id": "c89c9d83",
   "metadata": {
    "execution": {
     "iopub.execute_input": "2025-08-01T18:41:04.915924Z",
     "iopub.status.busy": "2025-08-01T18:41:04.915621Z",
     "iopub.status.idle": "2025-08-01T18:41:04.920008Z",
     "shell.execute_reply": "2025-08-01T18:41:04.919062Z"
    },
    "papermill": {
     "duration": 0.026104,
     "end_time": "2025-08-01T18:41:04.921517",
     "exception": false,
     "start_time": "2025-08-01T18:41:04.895413",
     "status": "completed"
    },
    "tags": []
   },
   "outputs": [],
   "source": [
    "yhat = RigeModel.predict(x_test_pr)"
   ]
  },
  {
   "cell_type": "code",
   "execution_count": 56,
   "id": "38b7074c",
   "metadata": {
    "execution": {
     "iopub.execute_input": "2025-08-01T18:41:04.961957Z",
     "iopub.status.busy": "2025-08-01T18:41:04.961622Z",
     "iopub.status.idle": "2025-08-01T18:41:04.966992Z",
     "shell.execute_reply": "2025-08-01T18:41:04.966121Z"
    },
    "papermill": {
     "duration": 0.026767,
     "end_time": "2025-08-01T18:41:04.968350",
     "exception": false,
     "start_time": "2025-08-01T18:41:04.941583",
     "status": "completed"
    },
    "tags": []
   },
   "outputs": [
    {
     "name": "stdout",
     "output_type": "stream",
     "text": [
      "predicted: [ 6174.27054725  9828.91450275 11688.80308903 24124.46648394]\n",
      "test set : [ 6575.  9988. 15580. 14399.]\n"
     ]
    }
   ],
   "source": [
    "print('predicted:', yhat[0:4])\n",
    "print('test set :', y_test[0:4].values)"
   ]
  },
  {
   "cell_type": "code",
   "execution_count": 57,
   "id": "ee380ea1",
   "metadata": {
    "execution": {
     "iopub.execute_input": "2025-08-01T18:41:05.009609Z",
     "iopub.status.busy": "2025-08-01T18:41:05.009304Z",
     "iopub.status.idle": "2025-08-01T18:41:08.847479Z",
     "shell.execute_reply": "2025-08-01T18:41:08.846283Z"
    },
    "papermill": {
     "duration": 3.861047,
     "end_time": "2025-08-01T18:41:08.849507",
     "exception": false,
     "start_time": "2025-08-01T18:41:04.988460",
     "status": "completed"
    },
    "tags": []
   },
   "outputs": [
    {
     "name": "stderr",
     "output_type": "stream",
     "text": [
      "100%|██████████| 1000/1000 [00:03<00:00, 263.01it/s, Test Score=0.622, Train Score=0.9]\n"
     ]
    }
   ],
   "source": [
    "from tqdm import tqdm\n",
    "\n",
    "Rsqu_test = []\n",
    "Rsqu_train = []\n",
    "dummy1 = []\n",
    "Alpha = 10 * np.array(range(0,1000))\n",
    "pbar = tqdm(Alpha)\n",
    "\n",
    "for alpha in pbar:\n",
    "    RigeModel = Ridge(alpha=alpha) \n",
    "    RigeModel.fit(x_train_pr, y_train)\n",
    "    test_score, train_score = RigeModel.score(x_test_pr, y_test), RigeModel.score(x_train_pr, y_train)\n",
    "    \n",
    "    pbar.set_postfix({\"Test Score\": test_score, \"Train Score\": train_score})\n",
    "\n",
    "    Rsqu_test.append(test_score)\n",
    "    Rsqu_train.append(train_score)"
   ]
  },
  {
   "cell_type": "code",
   "execution_count": 58,
   "id": "5c2d011c",
   "metadata": {
    "execution": {
     "iopub.execute_input": "2025-08-01T18:41:08.983721Z",
     "iopub.status.busy": "2025-08-01T18:41:08.983438Z",
     "iopub.status.idle": "2025-08-01T18:41:09.202144Z",
     "shell.execute_reply": "2025-08-01T18:41:09.199957Z"
    },
    "papermill": {
     "duration": 0.286289,
     "end_time": "2025-08-01T18:41:09.204351",
     "exception": false,
     "start_time": "2025-08-01T18:41:08.918062",
     "status": "completed"
    },
    "tags": []
   },
   "outputs": [
    {
     "data": {
      "text/plain": [
       "<matplotlib.legend.Legend at 0x7ee30ea1b710>"
      ]
     },
     "execution_count": 58,
     "metadata": {},
     "output_type": "execute_result"
    },
    {
     "data": {
      "image/png": "[encoded data removed]",
      "text/plain": [
       "<Figure size 1200x1000 with 1 Axes>"
      ]
     },
     "metadata": {},
     "output_type": "display_data"
    }
   ],
   "source": [
    "width = 12\n",
    "height = 10\n",
    "plt.figure(figsize=(width, height))\n",
    "\n",
    "plt.plot(Alpha,Rsqu_test, label='validation data  ')\n",
    "plt.plot(Alpha,Rsqu_train, 'r', label='training Data ')\n",
    "plt.xlabel('alpha')\n",
    "plt.ylabel('R^2')\n",
    "plt.legend()"
   ]
  },
  {
   "cell_type": "code",
   "execution_count": 59,
   "id": "6cd11c27",
   "metadata": {
    "execution": {
     "iopub.execute_input": "2025-08-01T18:41:09.336426Z",
     "iopub.status.busy": "2025-08-01T18:41:09.335756Z",
     "iopub.status.idle": "2025-08-01T18:41:09.343534Z",
     "shell.execute_reply": "2025-08-01T18:41:09.342870Z"
    },
    "papermill": {
     "duration": 0.075859,
     "end_time": "2025-08-01T18:41:09.345175",
     "exception": false,
     "start_time": "2025-08-01T18:41:09.269316",
     "status": "completed"
    },
    "tags": []
   },
   "outputs": [
    {
     "data": {
      "text/plain": [
       "0.4910643162749998"
      ]
     },
     "execution_count": 59,
     "metadata": {},
     "output_type": "execute_result"
    }
   ],
   "source": [
    "RigeModel = Ridge(alpha = 10)\n",
    "RigeModel.fit(x_train_pr, y_train)\n",
    "RigeModel.score(x_test_pr, y_test)"
   ]
  },
  {
   "cell_type": "markdown",
   "id": "c8bde4f8",
   "metadata": {
    "papermill": {
     "duration": 0.065332,
     "end_time": "2025-08-01T18:41:09.476739",
     "exception": false,
     "start_time": "2025-08-01T18:41:09.411407",
     "status": "completed"
    },
    "tags": []
   },
   "source": [
    "## 🔍 Grid Search \n",
    "\n",
    "`GridSearchCV` helps find the best hyperparameter (like `alpha` in Ridge Regression) by testing multiple values with cross-validation. It automates model tuning for better performance.\n"
   ]
  },
  {
   "cell_type": "code",
   "execution_count": 60,
   "id": "7b81f891",
   "metadata": {
    "execution": {
     "iopub.execute_input": "2025-08-01T18:41:09.609503Z",
     "iopub.status.busy": "2025-08-01T18:41:09.608710Z",
     "iopub.status.idle": "2025-08-01T18:41:09.612905Z",
     "shell.execute_reply": "2025-08-01T18:41:09.611966Z"
    },
    "papermill": {
     "duration": 0.072434,
     "end_time": "2025-08-01T18:41:09.614311",
     "exception": false,
     "start_time": "2025-08-01T18:41:09.541877",
     "status": "completed"
    },
    "tags": []
   },
   "outputs": [],
   "source": [
    "from sklearn.model_selection import GridSearchCV"
   ]
  },
  {
   "cell_type": "code",
   "execution_count": 61,
   "id": "090da32a",
   "metadata": {
    "execution": {
     "iopub.execute_input": "2025-08-01T18:41:09.746748Z",
     "iopub.status.busy": "2025-08-01T18:41:09.746223Z",
     "iopub.status.idle": "2025-08-01T18:41:09.750322Z",
     "shell.execute_reply": "2025-08-01T18:41:09.749563Z"
    },
    "papermill": {
     "duration": 0.072422,
     "end_time": "2025-08-01T18:41:09.751728",
     "exception": false,
     "start_time": "2025-08-01T18:41:09.679306",
     "status": "completed"
    },
    "tags": []
   },
   "outputs": [],
   "source": [
    "parameters1 = [{'alpha':[0.001,0.1,1,10,100,1000,10000,100000,1000000]}]"
   ]
  },
  {
   "cell_type": "code",
   "execution_count": 62,
   "id": "cc106f24",
   "metadata": {
    "execution": {
     "iopub.execute_input": "2025-08-01T18:41:09.884076Z",
     "iopub.status.busy": "2025-08-01T18:41:09.883724Z",
     "iopub.status.idle": "2025-08-01T18:41:09.889951Z",
     "shell.execute_reply": "2025-08-01T18:41:09.889197Z"
    },
    "papermill": {
     "duration": 0.073681,
     "end_time": "2025-08-01T18:41:09.891232",
     "exception": false,
     "start_time": "2025-08-01T18:41:09.817551",
     "status": "completed"
    },
    "tags": []
   },
   "outputs": [
    {
     "data": {
      "text/html": [
       "<style>#sk-container-id-7 {color: black;background-color: white;}#sk-container-id-7 pre{padding: 0;}#sk-container-id-7 div.sk-toggleable {background-color: white;}#sk-container-id-7 label.sk-toggleable__label {cursor: pointer;display: block;width: 100%;margin-bottom: 0;padding: 0.3em;box-sizing: border-box;text-align: center;}#sk-container-id-7 label.sk-toggleable__label-arrow:before {content: \"▸\";float: left;margin-right: 0.25em;color: #696969;}#sk-container-id-7 label.sk-toggleable__label-arrow:hover:before {color: black;}#sk-container-id-7 div.sk-estimator:hover label.sk-toggleable__label-arrow:before {color: black;}#sk-container-id-7 div.sk-toggleable__content {max-height: 0;max-width: 0;overflow: hidden;text-align: left;background-color: #f0f8ff;}#sk-container-id-7 div.sk-toggleable__content pre {margin: 0.2em;color: black;border-radius: 0.25em;background-color: #f0f8ff;}#sk-container-id-7 input.sk-toggleable__control:checked~div.sk-toggleable__content {max-height: 200px;max-width: 100%;overflow: auto;}#sk-container-id-7 input.sk-toggleable__control:checked~label.sk-toggleable__label-arrow:before {content: \"▾\";}#sk-container-id-7 div.sk-estimator input.sk-toggleable__control:checked~label.sk-toggleable__label {background-color: #d4ebff;}#sk-container-id-7 div.sk-label input.sk-toggleable__control:checked~label.sk-toggleable__label {background-color: #d4ebff;}#sk-container-id-7 input.sk-hidden--visually {border: 0;clip: rect(1px 1px 1px 1px);clip: rect(1px, 1px, 1px, 1px);height: 1px;margin: -1px;overflow: hidden;padding: 0;position: absolute;width: 1px;}#sk-container-id-7 div.sk-estimator {font-family: monospace;background-color: #f0f8ff;border: 1px dotted black;border-radius: 0.25em;box-sizing: border-box;margin-bottom: 0.5em;}#sk-container-id-7 div.sk-estimator:hover {background-color: #d4ebff;}#sk-container-id-7 div.sk-parallel-item::after {content: \"\";width: 100%;border-bottom: 1px solid gray;flex-grow: 1;}#sk-container-id-7 div.sk-label:hover label.sk-toggleable__label {background-color: #d4ebff;}#sk-container-id-7 div.sk-serial::before {content: \"\";position: absolute;border-left: 1px solid gray;box-sizing: border-box;top: 0;bottom: 0;left: 50%;z-index: 0;}#sk-container-id-7 div.sk-serial {display: flex;flex-direction: column;align-items: center;background-color: white;padding-right: 0.2em;padding-left: 0.2em;position: relative;}#sk-container-id-7 div.sk-item {position: relative;z-index: 1;}#sk-container-id-7 div.sk-parallel {display: flex;align-items: stretch;justify-content: center;background-color: white;position: relative;}#sk-container-id-7 div.sk-item::before, #sk-container-id-7 div.sk-parallel-item::before {content: \"\";position: absolute;border-left: 1px solid gray;box-sizing: border-box;top: 0;bottom: 0;left: 50%;z-index: -1;}#sk-container-id-7 div.sk-parallel-item {display: flex;flex-direction: column;z-index: 1;position: relative;background-color: white;}#sk-container-id-7 div.sk-parallel-item:first-child::after {align-self: flex-end;width: 50%;}#sk-container-id-7 div.sk-parallel-item:last-child::after {align-self: flex-start;width: 50%;}#sk-container-id-7 div.sk-parallel-item:only-child::after {width: 0;}#sk-container-id-7 div.sk-dashed-wrapped {border: 1px dashed gray;margin: 0 0.4em 0.5em 0.4em;box-sizing: border-box;padding-bottom: 0.4em;background-color: white;}#sk-container-id-7 div.sk-label label {font-family: monospace;font-weight: bold;display: inline-block;line-height: 1.2em;}#sk-container-id-7 div.sk-label-container {text-align: center;}#sk-container-id-7 div.sk-container {/* jupyter's `normalize.less` sets `[hidden] { display: none; }` but bootstrap.min.css set `[hidden] { display: none !important; }` so we also need the `!important` here to be able to override the default hidden behavior on the sphinx rendered scikit-learn.org. See: https://github.com/scikit-learn/scikit-learn/issues/21755 */display: inline-block !important;position: relative;}#sk-container-id-7 div.sk-text-repr-fallback {display: none;}</style><div id=\"sk-container-id-7\" class=\"sk-top-container\"><div class=\"sk-text-repr-fallback\"><pre>Ridge()</pre><b>In a Jupyter environment, please rerun this cell to show the HTML representation or trust the notebook. <br />On GitHub, the HTML representation is unable to render, please try loading this page with nbviewer.org.</b></div><div class=\"sk-container\" hidden><div class=\"sk-item\"><div class=\"sk-estimator sk-toggleable\"><input class=\"sk-toggleable__control sk-hidden--visually\" id=\"sk-estimator-id-7\" type=\"checkbox\" checked><label for=\"sk-estimator-id-7\" class=\"sk-toggleable__label sk-toggleable__label-arrow\">Ridge</label><div class=\"sk-toggleable__content\"><pre>Ridge()</pre></div></div></div></div></div>"
      ],
      "text/plain": [
       "Ridge()"
      ]
     },
     "execution_count": 62,
     "metadata": {},
     "output_type": "execute_result"
    }
   ],
   "source": [
    "RR = Ridge()\n",
    "RR"
   ]
  },
  {
   "cell_type": "code",
   "execution_count": 63,
   "id": "1995781e",
   "metadata": {
    "execution": {
     "iopub.execute_input": "2025-08-01T18:41:10.023342Z",
     "iopub.status.busy": "2025-08-01T18:41:10.023030Z",
     "iopub.status.idle": "2025-08-01T18:41:10.027297Z",
     "shell.execute_reply": "2025-08-01T18:41:10.026174Z"
    },
    "papermill": {
     "duration": 0.072126,
     "end_time": "2025-08-01T18:41:10.028560",
     "exception": false,
     "start_time": "2025-08-01T18:41:09.956434",
     "status": "completed"
    },
    "tags": []
   },
   "outputs": [],
   "source": [
    "Grid1 = GridSearchCV(RR, parameters1, cv=4)"
   ]
  },
  {
   "cell_type": "code",
   "execution_count": 64,
   "id": "b46a0785",
   "metadata": {
    "execution": {
     "iopub.execute_input": "2025-08-01T18:41:10.172949Z",
     "iopub.status.busy": "2025-08-01T18:41:10.172651Z",
     "iopub.status.idle": "2025-08-01T18:41:10.179326Z",
     "shell.execute_reply": "2025-08-01T18:41:10.178281Z"
    },
    "papermill": {
     "duration": 0.084995,
     "end_time": "2025-08-01T18:41:10.181622",
     "exception": false,
     "start_time": "2025-08-01T18:41:10.096627",
     "status": "completed"
    },
    "tags": []
   },
   "outputs": [
    {
     "data": {
      "text/plain": [
       "Index(['symboling', 'normalized-losses', 'wheel-base', 'length', 'width',\n",
       "       'height', 'curb-weight', 'engine-size', 'bore', 'stroke',\n",
       "       'compression-ratio', 'horsepower', 'peak-rpm', 'city-mpg',\n",
       "       'highway-L/100km', 'price', 'city-L/100km', 'highway-L/100km.1',\n",
       "       'diesel', 'gas', 'aspiration-std', 'aspiration-turbo'],\n",
       "      dtype='object')"
      ]
     },
     "execution_count": 64,
     "metadata": {},
     "output_type": "execute_result"
    }
   ],
   "source": [
    "df.columns"
   ]
  },
  {
   "cell_type": "code",
   "execution_count": 65,
   "id": "d8ed44c5",
   "metadata": {
    "execution": {
     "iopub.execute_input": "2025-08-01T18:41:10.344297Z",
     "iopub.status.busy": "2025-08-01T18:41:10.342918Z",
     "iopub.status.idle": "2025-08-01T18:41:10.467933Z",
     "shell.execute_reply": "2025-08-01T18:41:10.467185Z"
    },
    "papermill": {
     "duration": 0.21857,
     "end_time": "2025-08-01T18:41:10.469282",
     "exception": false,
     "start_time": "2025-08-01T18:41:10.250712",
     "status": "completed"
    },
    "tags": []
   },
   "outputs": [
    {
     "data": {
      "text/html": [
       "<style>#sk-container-id-8 {color: black;background-color: white;}#sk-container-id-8 pre{padding: 0;}#sk-container-id-8 div.sk-toggleable {background-color: white;}#sk-container-id-8 label.sk-toggleable__label {cursor: pointer;display: block;width: 100%;margin-bottom: 0;padding: 0.3em;box-sizing: border-box;text-align: center;}#sk-container-id-8 label.sk-toggleable__label-arrow:before {content: \"▸\";float: left;margin-right: 0.25em;color: #696969;}#sk-container-id-8 label.sk-toggleable__label-arrow:hover:before {color: black;}#sk-container-id-8 div.sk-estimator:hover label.sk-toggleable__label-arrow:before {color: black;}#sk-container-id-8 div.sk-toggleable__content {max-height: 0;max-width: 0;overflow: hidden;text-align: left;background-color: #f0f8ff;}#sk-container-id-8 div.sk-toggleable__content pre {margin: 0.2em;color: black;border-radius: 0.25em;background-color: #f0f8ff;}#sk-container-id-8 input.sk-toggleable__control:checked~div.sk-toggleable__content {max-height: 200px;max-width: 100%;overflow: auto;}#sk-container-id-8 input.sk-toggleable__control:checked~label.sk-toggleable__label-arrow:before {content: \"▾\";}#sk-container-id-8 div.sk-estimator input.sk-toggleable__control:checked~label.sk-toggleable__label {background-color: #d4ebff;}#sk-container-id-8 div.sk-label input.sk-toggleable__control:checked~label.sk-toggleable__label {background-color: #d4ebff;}#sk-container-id-8 input.sk-hidden--visually {border: 0;clip: rect(1px 1px 1px 1px);clip: rect(1px, 1px, 1px, 1px);height: 1px;margin: -1px;overflow: hidden;padding: 0;position: absolute;width: 1px;}#sk-container-id-8 div.sk-estimator {font-family: monospace;background-color: #f0f8ff;border: 1px dotted black;border-radius: 0.25em;box-sizing: border-box;margin-bottom: 0.5em;}#sk-container-id-8 div.sk-estimator:hover {background-color: #d4ebff;}#sk-container-id-8 div.sk-parallel-item::after {content: \"\";width: 100%;border-bottom: 1px solid gray;flex-grow: 1;}#sk-container-id-8 div.sk-label:hover label.sk-toggleable__label {background-color: #d4ebff;}#sk-container-id-8 div.sk-serial::before {content: \"\";position: absolute;border-left: 1px solid gray;box-sizing: border-box;top: 0;bottom: 0;left: 50%;z-index: 0;}#sk-container-id-8 div.sk-serial {display: flex;flex-direction: column;align-items: center;background-color: white;padding-right: 0.2em;padding-left: 0.2em;position: relative;}#sk-container-id-8 div.sk-item {position: relative;z-index: 1;}#sk-container-id-8 div.sk-parallel {display: flex;align-items: stretch;justify-content: center;background-color: white;position: relative;}#sk-container-id-8 div.sk-item::before, #sk-container-id-8 div.sk-parallel-item::before {content: \"\";position: absolute;border-left: 1px solid gray;box-sizing: border-box;top: 0;bottom: 0;left: 50%;z-index: -1;}#sk-container-id-8 div.sk-parallel-item {display: flex;flex-direction: column;z-index: 1;position: relative;background-color: white;}#sk-container-id-8 div.sk-parallel-item:first-child::after {align-self: flex-end;width: 50%;}#sk-container-id-8 div.sk-parallel-item:last-child::after {align-self: flex-start;width: 50%;}#sk-container-id-8 div.sk-parallel-item:only-child::after {width: 0;}#sk-container-id-8 div.sk-dashed-wrapped {border: 1px dashed gray;margin: 0 0.4em 0.5em 0.4em;box-sizing: border-box;padding-bottom: 0.4em;background-color: white;}#sk-container-id-8 div.sk-label label {font-family: monospace;font-weight: bold;display: inline-block;line-height: 1.2em;}#sk-container-id-8 div.sk-label-container {text-align: center;}#sk-container-id-8 div.sk-container {/* jupyter's `normalize.less` sets `[hidden] { display: none; }` but bootstrap.min.css set `[hidden] { display: none !important; }` so we also need the `!important` here to be able to override the default hidden behavior on the sphinx rendered scikit-learn.org. See: https://github.com/scikit-learn/scikit-learn/issues/21755 */display: inline-block !important;position: relative;}#sk-container-id-8 div.sk-text-repr-fallback {display: none;}</style><div id=\"sk-container-id-8\" class=\"sk-top-container\"><div class=\"sk-text-repr-fallback\"><pre>GridSearchCV(cv=4, estimator=Ridge(),\n",
       "             param_grid=[{&#x27;alpha&#x27;: [0.001, 0.1, 1, 10, 100, 1000, 10000, 100000,\n",
       "                                    1000000]}])</pre><b>In a Jupyter environment, please rerun this cell to show the HTML representation or trust the notebook. <br />On GitHub, the HTML representation is unable to render, please try loading this page with nbviewer.org.</b></div><div class=\"sk-container\" hidden><div class=\"sk-item sk-dashed-wrapped\"><div class=\"sk-label-container\"><div class=\"sk-label sk-toggleable\"><input class=\"sk-toggleable__control sk-hidden--visually\" id=\"sk-estimator-id-8\" type=\"checkbox\" ><label for=\"sk-estimator-id-8\" class=\"sk-toggleable__label sk-toggleable__label-arrow\">GridSearchCV</label><div class=\"sk-toggleable__content\"><pre>GridSearchCV(cv=4, estimator=Ridge(),\n",
       "             param_grid=[{&#x27;alpha&#x27;: [0.001, 0.1, 1, 10, 100, 1000, 10000, 100000,\n",
       "                                    1000000]}])</pre></div></div></div><div class=\"sk-parallel\"><div class=\"sk-parallel-item\"><div class=\"sk-item\"><div class=\"sk-label-container\"><div class=\"sk-label sk-toggleable\"><input class=\"sk-toggleable__control sk-hidden--visually\" id=\"sk-estimator-id-9\" type=\"checkbox\" ><label for=\"sk-estimator-id-9\" class=\"sk-toggleable__label sk-toggleable__label-arrow\">estimator: Ridge</label><div class=\"sk-toggleable__content\"><pre>Ridge()</pre></div></div></div><div class=\"sk-serial\"><div class=\"sk-item\"><div class=\"sk-estimator sk-toggleable\"><input class=\"sk-toggleable__control sk-hidden--visually\" id=\"sk-estimator-id-10\" type=\"checkbox\" ><label for=\"sk-estimator-id-10\" class=\"sk-toggleable__label sk-toggleable__label-arrow\">Ridge</label><div class=\"sk-toggleable__content\"><pre>Ridge()</pre></div></div></div></div></div></div></div></div></div></div>"
      ],
      "text/plain": [
       "GridSearchCV(cv=4, estimator=Ridge(),\n",
       "             param_grid=[{'alpha': [0.001, 0.1, 1, 10, 100, 1000, 10000, 100000,\n",
       "                                    1000000]}])"
      ]
     },
     "execution_count": 65,
     "metadata": {},
     "output_type": "execute_result"
    }
   ],
   "source": [
    "Grid1.fit(x[['horsepower', 'curb-weight', 'engine-size', 'highway-L/100km']], y)"
   ]
  },
  {
   "cell_type": "code",
   "execution_count": 66,
   "id": "dec3c265",
   "metadata": {
    "execution": {
     "iopub.execute_input": "2025-08-01T18:41:10.601942Z",
     "iopub.status.busy": "2025-08-01T18:41:10.601595Z",
     "iopub.status.idle": "2025-08-01T18:41:10.608533Z",
     "shell.execute_reply": "2025-08-01T18:41:10.607547Z"
    },
    "papermill": {
     "duration": 0.074856,
     "end_time": "2025-08-01T18:41:10.609719",
     "exception": false,
     "start_time": "2025-08-01T18:41:10.534863",
     "status": "completed"
    },
    "tags": []
   },
   "outputs": [
    {
     "data": {
      "text/html": [
       "<style>#sk-container-id-9 {color: black;background-color: white;}#sk-container-id-9 pre{padding: 0;}#sk-container-id-9 div.sk-toggleable {background-color: white;}#sk-container-id-9 label.sk-toggleable__label {cursor: pointer;display: block;width: 100%;margin-bottom: 0;padding: 0.3em;box-sizing: border-box;text-align: center;}#sk-container-id-9 label.sk-toggleable__label-arrow:before {content: \"▸\";float: left;margin-right: 0.25em;color: #696969;}#sk-container-id-9 label.sk-toggleable__label-arrow:hover:before {color: black;}#sk-container-id-9 div.sk-estimator:hover label.sk-toggleable__label-arrow:before {color: black;}#sk-container-id-9 div.sk-toggleable__content {max-height: 0;max-width: 0;overflow: hidden;text-align: left;background-color: #f0f8ff;}#sk-container-id-9 div.sk-toggleable__content pre {margin: 0.2em;color: black;border-radius: 0.25em;background-color: #f0f8ff;}#sk-container-id-9 input.sk-toggleable__control:checked~div.sk-toggleable__content {max-height: 200px;max-width: 100%;overflow: auto;}#sk-container-id-9 input.sk-toggleable__control:checked~label.sk-toggleable__label-arrow:before {content: \"▾\";}#sk-container-id-9 div.sk-estimator input.sk-toggleable__control:checked~label.sk-toggleable__label {background-color: #d4ebff;}#sk-container-id-9 div.sk-label input.sk-toggleable__control:checked~label.sk-toggleable__label {background-color: #d4ebff;}#sk-container-id-9 input.sk-hidden--visually {border: 0;clip: rect(1px 1px 1px 1px);clip: rect(1px, 1px, 1px, 1px);height: 1px;margin: -1px;overflow: hidden;padding: 0;position: absolute;width: 1px;}#sk-container-id-9 div.sk-estimator {font-family: monospace;background-color: #f0f8ff;border: 1px dotted black;border-radius: 0.25em;box-sizing: border-box;margin-bottom: 0.5em;}#sk-container-id-9 div.sk-estimator:hover {background-color: #d4ebff;}#sk-container-id-9 div.sk-parallel-item::after {content: \"\";width: 100%;border-bottom: 1px solid gray;flex-grow: 1;}#sk-container-id-9 div.sk-label:hover label.sk-toggleable__label {background-color: #d4ebff;}#sk-container-id-9 div.sk-serial::before {content: \"\";position: absolute;border-left: 1px solid gray;box-sizing: border-box;top: 0;bottom: 0;left: 50%;z-index: 0;}#sk-container-id-9 div.sk-serial {display: flex;flex-direction: column;align-items: center;background-color: white;padding-right: 0.2em;padding-left: 0.2em;position: relative;}#sk-container-id-9 div.sk-item {position: relative;z-index: 1;}#sk-container-id-9 div.sk-parallel {display: flex;align-items: stretch;justify-content: center;background-color: white;position: relative;}#sk-container-id-9 div.sk-item::before, #sk-container-id-9 div.sk-parallel-item::before {content: \"\";position: absolute;border-left: 1px solid gray;box-sizing: border-box;top: 0;bottom: 0;left: 50%;z-index: -1;}#sk-container-id-9 div.sk-parallel-item {display: flex;flex-direction: column;z-index: 1;position: relative;background-color: white;}#sk-container-id-9 div.sk-parallel-item:first-child::after {align-self: flex-end;width: 50%;}#sk-container-id-9 div.sk-parallel-item:last-child::after {align-self: flex-start;width: 50%;}#sk-container-id-9 div.sk-parallel-item:only-child::after {width: 0;}#sk-container-id-9 div.sk-dashed-wrapped {border: 1px dashed gray;margin: 0 0.4em 0.5em 0.4em;box-sizing: border-box;padding-bottom: 0.4em;background-color: white;}#sk-container-id-9 div.sk-label label {font-family: monospace;font-weight: bold;display: inline-block;line-height: 1.2em;}#sk-container-id-9 div.sk-label-container {text-align: center;}#sk-container-id-9 div.sk-container {/* jupyter's `normalize.less` sets `[hidden] { display: none; }` but bootstrap.min.css set `[hidden] { display: none !important; }` so we also need the `!important` here to be able to override the default hidden behavior on the sphinx rendered scikit-learn.org. See: https://github.com/scikit-learn/scikit-learn/issues/21755 */display: inline-block !important;position: relative;}#sk-container-id-9 div.sk-text-repr-fallback {display: none;}</style><div id=\"sk-container-id-9\" class=\"sk-top-container\"><div class=\"sk-text-repr-fallback\"><pre>Ridge(alpha=10000)</pre><b>In a Jupyter environment, please rerun this cell to show the HTML representation or trust the notebook. <br />On GitHub, the HTML representation is unable to render, please try loading this page with nbviewer.org.</b></div><div class=\"sk-container\" hidden><div class=\"sk-item\"><div class=\"sk-estimator sk-toggleable\"><input class=\"sk-toggleable__control sk-hidden--visually\" id=\"sk-estimator-id-11\" type=\"checkbox\" checked><label for=\"sk-estimator-id-11\" class=\"sk-toggleable__label sk-toggleable__label-arrow\">Ridge</label><div class=\"sk-toggleable__content\"><pre>Ridge(alpha=10000)</pre></div></div></div></div></div>"
      ],
      "text/plain": [
       "Ridge(alpha=10000)"
      ]
     },
     "execution_count": 66,
     "metadata": {},
     "output_type": "execute_result"
    }
   ],
   "source": [
    "BestRR = Grid1.best_estimator_\n",
    "BestRR"
   ]
  },
  {
   "cell_type": "code",
   "execution_count": 67,
   "id": "6945e687",
   "metadata": {
    "execution": {
     "iopub.execute_input": "2025-08-01T18:41:10.745326Z",
     "iopub.status.busy": "2025-08-01T18:41:10.744987Z",
     "iopub.status.idle": "2025-08-01T18:41:10.753013Z",
     "shell.execute_reply": "2025-08-01T18:41:10.752345Z"
    },
    "papermill": {
     "duration": 0.076787,
     "end_time": "2025-08-01T18:41:10.754441",
     "exception": false,
     "start_time": "2025-08-01T18:41:10.677654",
     "status": "completed"
    },
    "tags": []
   },
   "outputs": [
    {
     "data": {
      "text/plain": [
       "0.8087430478736107"
      ]
     },
     "execution_count": 67,
     "metadata": {},
     "output_type": "execute_result"
    }
   ],
   "source": [
    "BestRR.score(x[['horsepower', 'curb-weight', 'engine-size', 'highway-L/100km']], y)"
   ]
  },
  {
   "cell_type": "code",
   "execution_count": 68,
   "id": "43e30c23",
   "metadata": {
    "execution": {
     "iopub.execute_input": "2025-08-01T18:41:10.889052Z",
     "iopub.status.busy": "2025-08-01T18:41:10.888673Z",
     "iopub.status.idle": "2025-08-01T18:41:11.019860Z",
     "shell.execute_reply": "2025-08-01T18:41:11.018920Z"
    },
    "papermill": {
     "duration": 0.201818,
     "end_time": "2025-08-01T18:41:11.021330",
     "exception": false,
     "start_time": "2025-08-01T18:41:10.819512",
     "status": "completed"
    },
    "tags": []
   },
   "outputs": [
    {
     "data": {
      "text/html": [
       "<style>#sk-container-id-10 {color: black;background-color: white;}#sk-container-id-10 pre{padding: 0;}#sk-container-id-10 div.sk-toggleable {background-color: white;}#sk-container-id-10 label.sk-toggleable__label {cursor: pointer;display: block;width: 100%;margin-bottom: 0;padding: 0.3em;box-sizing: border-box;text-align: center;}#sk-container-id-10 label.sk-toggleable__label-arrow:before {content: \"▸\";float: left;margin-right: 0.25em;color: #696969;}#sk-container-id-10 label.sk-toggleable__label-arrow:hover:before {color: black;}#sk-container-id-10 div.sk-estimator:hover label.sk-toggleable__label-arrow:before {color: black;}#sk-container-id-10 div.sk-toggleable__content {max-height: 0;max-width: 0;overflow: hidden;text-align: left;background-color: #f0f8ff;}#sk-container-id-10 div.sk-toggleable__content pre {margin: 0.2em;color: black;border-radius: 0.25em;background-color: #f0f8ff;}#sk-container-id-10 input.sk-toggleable__control:checked~div.sk-toggleable__content {max-height: 200px;max-width: 100%;overflow: auto;}#sk-container-id-10 input.sk-toggleable__control:checked~label.sk-toggleable__label-arrow:before {content: \"▾\";}#sk-container-id-10 div.sk-estimator input.sk-toggleable__control:checked~label.sk-toggleable__label {background-color: #d4ebff;}#sk-container-id-10 div.sk-label input.sk-toggleable__control:checked~label.sk-toggleable__label {background-color: #d4ebff;}#sk-container-id-10 input.sk-hidden--visually {border: 0;clip: rect(1px 1px 1px 1px);clip: rect(1px, 1px, 1px, 1px);height: 1px;margin: -1px;overflow: hidden;padding: 0;position: absolute;width: 1px;}#sk-container-id-10 div.sk-estimator {font-family: monospace;background-color: #f0f8ff;border: 1px dotted black;border-radius: 0.25em;box-sizing: border-box;margin-bottom: 0.5em;}#sk-container-id-10 div.sk-estimator:hover {background-color: #d4ebff;}#sk-container-id-10 div.sk-parallel-item::after {content: \"\";width: 100%;border-bottom: 1px solid gray;flex-grow: 1;}#sk-container-id-10 div.sk-label:hover label.sk-toggleable__label {background-color: #d4ebff;}#sk-container-id-10 div.sk-serial::before {content: \"\";position: absolute;border-left: 1px solid gray;box-sizing: border-box;top: 0;bottom: 0;left: 50%;z-index: 0;}#sk-container-id-10 div.sk-serial {display: flex;flex-direction: column;align-items: center;background-color: white;padding-right: 0.2em;padding-left: 0.2em;position: relative;}#sk-container-id-10 div.sk-item {position: relative;z-index: 1;}#sk-container-id-10 div.sk-parallel {display: flex;align-items: stretch;justify-content: center;background-color: white;position: relative;}#sk-container-id-10 div.sk-item::before, #sk-container-id-10 div.sk-parallel-item::before {content: \"\";position: absolute;border-left: 1px solid gray;box-sizing: border-box;top: 0;bottom: 0;left: 50%;z-index: -1;}#sk-container-id-10 div.sk-parallel-item {display: flex;flex-direction: column;z-index: 1;position: relative;background-color: white;}#sk-container-id-10 div.sk-parallel-item:first-child::after {align-self: flex-end;width: 50%;}#sk-container-id-10 div.sk-parallel-item:last-child::after {align-self: flex-start;width: 50%;}#sk-container-id-10 div.sk-parallel-item:only-child::after {width: 0;}#sk-container-id-10 div.sk-dashed-wrapped {border: 1px dashed gray;margin: 0 0.4em 0.5em 0.4em;box-sizing: border-box;padding-bottom: 0.4em;background-color: white;}#sk-container-id-10 div.sk-label label {font-family: monospace;font-weight: bold;display: inline-block;line-height: 1.2em;}#sk-container-id-10 div.sk-label-container {text-align: center;}#sk-container-id-10 div.sk-container {/* jupyter's `normalize.less` sets `[hidden] { display: none; }` but bootstrap.min.css set `[hidden] { display: none !important; }` so we also need the `!important` here to be able to override the default hidden behavior on the sphinx rendered scikit-learn.org. See: https://github.com/scikit-learn/scikit-learn/issues/21755 */display: inline-block !important;position: relative;}#sk-container-id-10 div.sk-text-repr-fallback {display: none;}</style><div id=\"sk-container-id-10\" class=\"sk-top-container\"><div class=\"sk-text-repr-fallback\"><pre>Ridge(alpha=10000)</pre><b>In a Jupyter environment, please rerun this cell to show the HTML representation or trust the notebook. <br />On GitHub, the HTML representation is unable to render, please try loading this page with nbviewer.org.</b></div><div class=\"sk-container\" hidden><div class=\"sk-item\"><div class=\"sk-estimator sk-toggleable\"><input class=\"sk-toggleable__control sk-hidden--visually\" id=\"sk-estimator-id-12\" type=\"checkbox\" checked><label for=\"sk-estimator-id-12\" class=\"sk-toggleable__label sk-toggleable__label-arrow\">Ridge</label><div class=\"sk-toggleable__content\"><pre>Ridge(alpha=10000)</pre></div></div></div></div></div>"
      ],
      "text/plain": [
       "Ridge(alpha=10000)"
      ]
     },
     "execution_count": 68,
     "metadata": {},
     "output_type": "execute_result"
    }
   ],
   "source": [
    "parameters2 = [{'alpha': [0.001, 0.1, 1, 10, 100, 1000, 10000, 100000, 100000]}]\n",
    "\n",
    "Grid2 = GridSearchCV(Ridge(), parameters2, cv=4)\n",
    "Grid2.fit(x[['horsepower', 'curb-weight', 'engine-size', 'highway-L/100km']], y)\n",
    "best_alpha = Grid2.best_params_['alpha']\n",
    "best_ridge_model = Ridge(alpha=best_alpha)\n",
    "best_ridge_model.fit(x[['horsepower', 'curb-weight', 'engine-size', 'highway-L/100km']], y)"
   ]
  },
  {
   "cell_type": "code",
   "execution_count": 69,
   "id": "81a1e372",
   "metadata": {
    "execution": {
     "iopub.execute_input": "2025-08-01T18:41:11.156901Z",
     "iopub.status.busy": "2025-08-01T18:41:11.156572Z",
     "iopub.status.idle": "2025-08-01T18:41:11.162997Z",
     "shell.execute_reply": "2025-08-01T18:41:11.162166Z"
    },
    "papermill": {
     "duration": 0.076961,
     "end_time": "2025-08-01T18:41:11.164476",
     "exception": false,
     "start_time": "2025-08-01T18:41:11.087515",
     "status": "completed"
    },
    "tags": []
   },
   "outputs": [
    {
     "data": {
      "text/html": [
       "<style>#sk-container-id-11 {color: black;background-color: white;}#sk-container-id-11 pre{padding: 0;}#sk-container-id-11 div.sk-toggleable {background-color: white;}#sk-container-id-11 label.sk-toggleable__label {cursor: pointer;display: block;width: 100%;margin-bottom: 0;padding: 0.3em;box-sizing: border-box;text-align: center;}#sk-container-id-11 label.sk-toggleable__label-arrow:before {content: \"▸\";float: left;margin-right: 0.25em;color: #696969;}#sk-container-id-11 label.sk-toggleable__label-arrow:hover:before {color: black;}#sk-container-id-11 div.sk-estimator:hover label.sk-toggleable__label-arrow:before {color: black;}#sk-container-id-11 div.sk-toggleable__content {max-height: 0;max-width: 0;overflow: hidden;text-align: left;background-color: #f0f8ff;}#sk-container-id-11 div.sk-toggleable__content pre {margin: 0.2em;color: black;border-radius: 0.25em;background-color: #f0f8ff;}#sk-container-id-11 input.sk-toggleable__control:checked~div.sk-toggleable__content {max-height: 200px;max-width: 100%;overflow: auto;}#sk-container-id-11 input.sk-toggleable__control:checked~label.sk-toggleable__label-arrow:before {content: \"▾\";}#sk-container-id-11 div.sk-estimator input.sk-toggleable__control:checked~label.sk-toggleable__label {background-color: #d4ebff;}#sk-container-id-11 div.sk-label input.sk-toggleable__control:checked~label.sk-toggleable__label {background-color: #d4ebff;}#sk-container-id-11 input.sk-hidden--visually {border: 0;clip: rect(1px 1px 1px 1px);clip: rect(1px, 1px, 1px, 1px);height: 1px;margin: -1px;overflow: hidden;padding: 0;position: absolute;width: 1px;}#sk-container-id-11 div.sk-estimator {font-family: monospace;background-color: #f0f8ff;border: 1px dotted black;border-radius: 0.25em;box-sizing: border-box;margin-bottom: 0.5em;}#sk-container-id-11 div.sk-estimator:hover {background-color: #d4ebff;}#sk-container-id-11 div.sk-parallel-item::after {content: \"\";width: 100%;border-bottom: 1px solid gray;flex-grow: 1;}#sk-container-id-11 div.sk-label:hover label.sk-toggleable__label {background-color: #d4ebff;}#sk-container-id-11 div.sk-serial::before {content: \"\";position: absolute;border-left: 1px solid gray;box-sizing: border-box;top: 0;bottom: 0;left: 50%;z-index: 0;}#sk-container-id-11 div.sk-serial {display: flex;flex-direction: column;align-items: center;background-color: white;padding-right: 0.2em;padding-left: 0.2em;position: relative;}#sk-container-id-11 div.sk-item {position: relative;z-index: 1;}#sk-container-id-11 div.sk-parallel {display: flex;align-items: stretch;justify-content: center;background-color: white;position: relative;}#sk-container-id-11 div.sk-item::before, #sk-container-id-11 div.sk-parallel-item::before {content: \"\";position: absolute;border-left: 1px solid gray;box-sizing: border-box;top: 0;bottom: 0;left: 50%;z-index: -1;}#sk-container-id-11 div.sk-parallel-item {display: flex;flex-direction: column;z-index: 1;position: relative;background-color: white;}#sk-container-id-11 div.sk-parallel-item:first-child::after {align-self: flex-end;width: 50%;}#sk-container-id-11 div.sk-parallel-item:last-child::after {align-self: flex-start;width: 50%;}#sk-container-id-11 div.sk-parallel-item:only-child::after {width: 0;}#sk-container-id-11 div.sk-dashed-wrapped {border: 1px dashed gray;margin: 0 0.4em 0.5em 0.4em;box-sizing: border-box;padding-bottom: 0.4em;background-color: white;}#sk-container-id-11 div.sk-label label {font-family: monospace;font-weight: bold;display: inline-block;line-height: 1.2em;}#sk-container-id-11 div.sk-label-container {text-align: center;}#sk-container-id-11 div.sk-container {/* jupyter's `normalize.less` sets `[hidden] { display: none; }` but bootstrap.min.css set `[hidden] { display: none !important; }` so we also need the `!important` here to be able to override the default hidden behavior on the sphinx rendered scikit-learn.org. See: https://github.com/scikit-learn/scikit-learn/issues/21755 */display: inline-block !important;position: relative;}#sk-container-id-11 div.sk-text-repr-fallback {display: none;}</style><div id=\"sk-container-id-11\" class=\"sk-top-container\"><div class=\"sk-text-repr-fallback\"><pre>Ridge(alpha=10000)</pre><b>In a Jupyter environment, please rerun this cell to show the HTML representation or trust the notebook. <br />On GitHub, the HTML representation is unable to render, please try loading this page with nbviewer.org.</b></div><div class=\"sk-container\" hidden><div class=\"sk-item\"><div class=\"sk-estimator sk-toggleable\"><input class=\"sk-toggleable__control sk-hidden--visually\" id=\"sk-estimator-id-13\" type=\"checkbox\" checked><label for=\"sk-estimator-id-13\" class=\"sk-toggleable__label sk-toggleable__label-arrow\">Ridge</label><div class=\"sk-toggleable__content\"><pre>Ridge(alpha=10000)</pre></div></div></div></div></div>"
      ],
      "text/plain": [
       "Ridge(alpha=10000)"
      ]
     },
     "execution_count": 69,
     "metadata": {},
     "output_type": "execute_result"
    }
   ],
   "source": [
    "best= Grid2.best_estimator_\n",
    "best"
   ]
  },
  {
   "cell_type": "code",
   "execution_count": 70,
   "id": "fe920230",
   "metadata": {
    "execution": {
     "iopub.execute_input": "2025-08-01T18:41:11.300757Z",
     "iopub.status.busy": "2025-08-01T18:41:11.300490Z",
     "iopub.status.idle": "2025-08-01T18:41:11.309468Z",
     "shell.execute_reply": "2025-08-01T18:41:11.308568Z"
    },
    "papermill": {
     "duration": 0.07647,
     "end_time": "2025-08-01T18:41:11.310921",
     "exception": false,
     "start_time": "2025-08-01T18:41:11.234451",
     "status": "completed"
    },
    "tags": []
   },
   "outputs": [
    {
     "data": {
      "text/plain": [
       "0.8087430478736107"
      ]
     },
     "execution_count": 70,
     "metadata": {},
     "output_type": "execute_result"
    }
   ],
   "source": [
    "best.score(x[['horsepower', 'curb-weight', 'engine-size', 'highway-L/100km']], y)"
   ]
  }
 ],
 "metadata": {
  "kaggle": {
   "accelerator": "none",
   "dataSources": [
    {
     "datasetId": 7863561,
     "sourceId": 12465000,
     "sourceType": "datasetVersion"
    }
   ],
   "dockerImageVersionId": 31089,
   "isGpuEnabled": false,
   "isInternetEnabled": true,
   "language": "python",
   "sourceType": "notebook"
  },
  "kernelspec": {
   "display_name": "Python 3",
   "language": "python",
   "name": "python3"
  },
  "language_info": {
   "codemirror_mode": {
    "name": "ipython",
    "version": 3
   },
   "file_extension": ".py",
   "mimetype": "text/x-python",
   "name": "python",
   "nbconvert_exporter": "python",
   "pygments_lexer": "ipython3",
   "version": "3.11.13"
  },
  "papermill": {
   "default_parameters": {},
   "duration": 19.741301,
   "end_time": "2025-08-01T18:41:11.999975",
   "environment_variables": {},
   "exception": null,
   "input_path": "__notebook__.ipynb",
   "output_path": "__notebook__.ipynb",
   "parameters": {},
   "start_time": "2025-08-01T18:40:52.258674",
   "version": "2.6.0"
  },
  "vscode": {
   "interpreter": {
    "hash": "739d4fe579500b287bc5fe30b870916d2465097194010f2f0ca630d7af6a2a94"
   }
  }
 },
 "nbformat": 4,
 "nbformat_minor": 5
}
