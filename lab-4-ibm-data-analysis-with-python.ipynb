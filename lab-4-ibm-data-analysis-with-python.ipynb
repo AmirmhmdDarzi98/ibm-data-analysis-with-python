{
 "cells": [
  {
   "cell_type": "markdown",
   "id": "d67a119b",
   "metadata": {
    "papermill": {
     "duration": 0.012285,
     "end_time": "2025-07-25T16:44:12.845750",
     "exception": false,
     "start_time": "2025-07-25T16:44:12.833465",
     "status": "completed"
    },
    "tags": []
   },
   "source": [
    "<h2>What is Model Development?</h2>\n",
    "<p>Model development is the process of designing, training, testing, and refining a machine learning or statistical model to solve a specific problem using data.</p>"
   ]
  },
  {
   "cell_type": "markdown",
   "id": "68132dae",
   "metadata": {
    "papermill": {
     "duration": 0.011658,
     "end_time": "2025-07-25T16:44:12.869051",
     "exception": false,
     "start_time": "2025-07-25T16:44:12.857393",
     "status": "completed"
    },
    "tags": []
   },
   "source": [
    "<p>In this section, we will develop several models that will predict the price of the car using the variables or features. This is just an estimate but should give us an objective idea of how much the car should cost.</p>"
   ]
  },
  {
   "cell_type": "markdown",
   "id": "e063863d",
   "metadata": {
    "papermill": {
     "duration": 0.010551,
     "end_time": "2025-07-25T16:44:12.890616",
     "exception": false,
     "start_time": "2025-07-25T16:44:12.880065",
     "status": "completed"
    },
    "tags": []
   },
   "source": [
    "Some questions we want to ask in this module\n",
    "<ul>\n",
    "    <li>Do I know if the dealer is offering fair value for my trade-in?</li>\n",
    "    <li>Do I know if I put a fair value on my car?</li>\n",
    "</ul>\n",
    "<p>In data analytics, we often use <b>Model Development</b> to help us predict future observations from the data we have.</p>\n",
    "\n",
    "<p>A model will help us understand the exact relationship between different variables and how these variables are used to predict the result.</p>"
   ]
  },
  {
   "cell_type": "code",
   "execution_count": 1,
   "id": "ed8e007e",
   "metadata": {
    "execution": {
     "iopub.execute_input": "2025-07-25T16:44:12.914005Z",
     "iopub.status.busy": "2025-07-25T16:44:12.913613Z",
     "iopub.status.idle": "2025-07-25T16:44:16.932379Z",
     "shell.execute_reply": "2025-07-25T16:44:16.931278Z"
    },
    "papermill": {
     "duration": 4.032484,
     "end_time": "2025-07-25T16:44:16.933957",
     "exception": false,
     "start_time": "2025-07-25T16:44:12.901473",
     "status": "completed"
    },
    "tags": []
   },
   "outputs": [
    {
     "name": "stdout",
     "output_type": "stream",
     "text": [
      "/kaggle/input/cleaned-used-car-datasett/cleaned_used_car_dataset.csv\n"
     ]
    }
   ],
   "source": [
    "import pandas as pd\n",
    "import numpy as np\n",
    "import matplotlib.pylab as plt\n",
    "import seaborn as sns\n",
    "%matplotlib inline\n",
    "\n",
    "import os\n",
    "\n",
    "for dirname, _, filenames in os.walk('/kaggle/input/cleaned-used-car-datasett'):\n",
    "    for filename in filenames:\n",
    "        print(os.path.join(dirname, filename))"
   ]
  },
  {
   "cell_type": "code",
   "execution_count": 2,
   "id": "7096d2a7",
   "metadata": {
    "execution": {
     "iopub.execute_input": "2025-07-25T16:44:16.958027Z",
     "iopub.status.busy": "2025-07-25T16:44:16.957560Z",
     "iopub.status.idle": "2025-07-25T16:44:17.021016Z",
     "shell.execute_reply": "2025-07-25T16:44:17.020073Z"
    },
    "papermill": {
     "duration": 0.077527,
     "end_time": "2025-07-25T16:44:17.022737",
     "exception": false,
     "start_time": "2025-07-25T16:44:16.945210",
     "status": "completed"
    },
    "tags": []
   },
   "outputs": [
    {
     "data": {
      "text/html": [
       "<div>\n",
       "<style scoped>\n",
       "    .dataframe tbody tr th:only-of-type {\n",
       "        vertical-align: middle;\n",
       "    }\n",
       "\n",
       "    .dataframe tbody tr th {\n",
       "        vertical-align: top;\n",
       "    }\n",
       "\n",
       "    .dataframe thead th {\n",
       "        text-align: right;\n",
       "    }\n",
       "</style>\n",
       "<table border=\"1\" class=\"dataframe\">\n",
       "  <thead>\n",
       "    <tr style=\"text-align: right;\">\n",
       "      <th></th>\n",
       "      <th>Unnamed: 0</th>\n",
       "      <th>symboling</th>\n",
       "      <th>normalized-losses</th>\n",
       "      <th>make</th>\n",
       "      <th>num-of-doors</th>\n",
       "      <th>body-style</th>\n",
       "      <th>drive-wheels</th>\n",
       "      <th>engine-location</th>\n",
       "      <th>wheel-base</th>\n",
       "      <th>length</th>\n",
       "      <th>...</th>\n",
       "      <th>city-mpg</th>\n",
       "      <th>highway-L/100km</th>\n",
       "      <th>price</th>\n",
       "      <th>city-L/100km</th>\n",
       "      <th>highway-L/100km.1</th>\n",
       "      <th>horsepower-binned</th>\n",
       "      <th>diesel</th>\n",
       "      <th>gas</th>\n",
       "      <th>aspiration-std</th>\n",
       "      <th>aspiration-turbo</th>\n",
       "    </tr>\n",
       "  </thead>\n",
       "  <tbody>\n",
       "    <tr>\n",
       "      <th>0</th>\n",
       "      <td>0</td>\n",
       "      <td>3</td>\n",
       "      <td>122</td>\n",
       "      <td>alfa-romero</td>\n",
       "      <td>two</td>\n",
       "      <td>convertible</td>\n",
       "      <td>rwd</td>\n",
       "      <td>front</td>\n",
       "      <td>88.6</td>\n",
       "      <td>0.811148</td>\n",
       "      <td>...</td>\n",
       "      <td>21</td>\n",
       "      <td>27</td>\n",
       "      <td>16500.0</td>\n",
       "      <td>11.190476</td>\n",
       "      <td>8.703704</td>\n",
       "      <td>Low</td>\n",
       "      <td>0</td>\n",
       "      <td>1</td>\n",
       "      <td>1</td>\n",
       "      <td>0</td>\n",
       "    </tr>\n",
       "    <tr>\n",
       "      <th>1</th>\n",
       "      <td>1</td>\n",
       "      <td>1</td>\n",
       "      <td>122</td>\n",
       "      <td>alfa-romero</td>\n",
       "      <td>two</td>\n",
       "      <td>hatchback</td>\n",
       "      <td>rwd</td>\n",
       "      <td>front</td>\n",
       "      <td>94.5</td>\n",
       "      <td>0.822681</td>\n",
       "      <td>...</td>\n",
       "      <td>19</td>\n",
       "      <td>26</td>\n",
       "      <td>16500.0</td>\n",
       "      <td>12.368421</td>\n",
       "      <td>9.038462</td>\n",
       "      <td>Medium</td>\n",
       "      <td>0</td>\n",
       "      <td>1</td>\n",
       "      <td>1</td>\n",
       "      <td>0</td>\n",
       "    </tr>\n",
       "    <tr>\n",
       "      <th>2</th>\n",
       "      <td>2</td>\n",
       "      <td>2</td>\n",
       "      <td>164</td>\n",
       "      <td>audi</td>\n",
       "      <td>four</td>\n",
       "      <td>sedan</td>\n",
       "      <td>fwd</td>\n",
       "      <td>front</td>\n",
       "      <td>99.8</td>\n",
       "      <td>0.848630</td>\n",
       "      <td>...</td>\n",
       "      <td>24</td>\n",
       "      <td>30</td>\n",
       "      <td>13950.0</td>\n",
       "      <td>9.791667</td>\n",
       "      <td>7.833333</td>\n",
       "      <td>Low</td>\n",
       "      <td>0</td>\n",
       "      <td>1</td>\n",
       "      <td>1</td>\n",
       "      <td>0</td>\n",
       "    </tr>\n",
       "    <tr>\n",
       "      <th>3</th>\n",
       "      <td>3</td>\n",
       "      <td>2</td>\n",
       "      <td>164</td>\n",
       "      <td>audi</td>\n",
       "      <td>four</td>\n",
       "      <td>sedan</td>\n",
       "      <td>4wd</td>\n",
       "      <td>front</td>\n",
       "      <td>99.4</td>\n",
       "      <td>0.848630</td>\n",
       "      <td>...</td>\n",
       "      <td>18</td>\n",
       "      <td>22</td>\n",
       "      <td>17450.0</td>\n",
       "      <td>13.055556</td>\n",
       "      <td>10.681818</td>\n",
       "      <td>Low</td>\n",
       "      <td>0</td>\n",
       "      <td>1</td>\n",
       "      <td>1</td>\n",
       "      <td>0</td>\n",
       "    </tr>\n",
       "    <tr>\n",
       "      <th>4</th>\n",
       "      <td>4</td>\n",
       "      <td>2</td>\n",
       "      <td>122</td>\n",
       "      <td>audi</td>\n",
       "      <td>two</td>\n",
       "      <td>sedan</td>\n",
       "      <td>fwd</td>\n",
       "      <td>front</td>\n",
       "      <td>99.8</td>\n",
       "      <td>0.851994</td>\n",
       "      <td>...</td>\n",
       "      <td>19</td>\n",
       "      <td>25</td>\n",
       "      <td>15250.0</td>\n",
       "      <td>12.368421</td>\n",
       "      <td>9.400000</td>\n",
       "      <td>Low</td>\n",
       "      <td>0</td>\n",
       "      <td>1</td>\n",
       "      <td>1</td>\n",
       "      <td>0</td>\n",
       "    </tr>\n",
       "    <tr>\n",
       "      <th>...</th>\n",
       "      <td>...</td>\n",
       "      <td>...</td>\n",
       "      <td>...</td>\n",
       "      <td>...</td>\n",
       "      <td>...</td>\n",
       "      <td>...</td>\n",
       "      <td>...</td>\n",
       "      <td>...</td>\n",
       "      <td>...</td>\n",
       "      <td>...</td>\n",
       "      <td>...</td>\n",
       "      <td>...</td>\n",
       "      <td>...</td>\n",
       "      <td>...</td>\n",
       "      <td>...</td>\n",
       "      <td>...</td>\n",
       "      <td>...</td>\n",
       "      <td>...</td>\n",
       "      <td>...</td>\n",
       "      <td>...</td>\n",
       "      <td>...</td>\n",
       "    </tr>\n",
       "    <tr>\n",
       "      <th>195</th>\n",
       "      <td>195</td>\n",
       "      <td>-1</td>\n",
       "      <td>95</td>\n",
       "      <td>volvo</td>\n",
       "      <td>four</td>\n",
       "      <td>sedan</td>\n",
       "      <td>rwd</td>\n",
       "      <td>front</td>\n",
       "      <td>109.1</td>\n",
       "      <td>0.907256</td>\n",
       "      <td>...</td>\n",
       "      <td>23</td>\n",
       "      <td>28</td>\n",
       "      <td>16845.0</td>\n",
       "      <td>10.217391</td>\n",
       "      <td>8.392857</td>\n",
       "      <td>Low</td>\n",
       "      <td>0</td>\n",
       "      <td>1</td>\n",
       "      <td>1</td>\n",
       "      <td>0</td>\n",
       "    </tr>\n",
       "    <tr>\n",
       "      <th>196</th>\n",
       "      <td>196</td>\n",
       "      <td>-1</td>\n",
       "      <td>95</td>\n",
       "      <td>volvo</td>\n",
       "      <td>four</td>\n",
       "      <td>sedan</td>\n",
       "      <td>rwd</td>\n",
       "      <td>front</td>\n",
       "      <td>109.1</td>\n",
       "      <td>0.907256</td>\n",
       "      <td>...</td>\n",
       "      <td>19</td>\n",
       "      <td>25</td>\n",
       "      <td>19045.0</td>\n",
       "      <td>12.368421</td>\n",
       "      <td>9.400000</td>\n",
       "      <td>Medium</td>\n",
       "      <td>0</td>\n",
       "      <td>1</td>\n",
       "      <td>0</td>\n",
       "      <td>1</td>\n",
       "    </tr>\n",
       "    <tr>\n",
       "      <th>197</th>\n",
       "      <td>197</td>\n",
       "      <td>-1</td>\n",
       "      <td>95</td>\n",
       "      <td>volvo</td>\n",
       "      <td>four</td>\n",
       "      <td>sedan</td>\n",
       "      <td>rwd</td>\n",
       "      <td>front</td>\n",
       "      <td>109.1</td>\n",
       "      <td>0.907256</td>\n",
       "      <td>...</td>\n",
       "      <td>18</td>\n",
       "      <td>23</td>\n",
       "      <td>21485.0</td>\n",
       "      <td>13.055556</td>\n",
       "      <td>10.217391</td>\n",
       "      <td>Medium</td>\n",
       "      <td>0</td>\n",
       "      <td>1</td>\n",
       "      <td>1</td>\n",
       "      <td>0</td>\n",
       "    </tr>\n",
       "    <tr>\n",
       "      <th>198</th>\n",
       "      <td>198</td>\n",
       "      <td>-1</td>\n",
       "      <td>95</td>\n",
       "      <td>volvo</td>\n",
       "      <td>four</td>\n",
       "      <td>sedan</td>\n",
       "      <td>rwd</td>\n",
       "      <td>front</td>\n",
       "      <td>109.1</td>\n",
       "      <td>0.907256</td>\n",
       "      <td>...</td>\n",
       "      <td>26</td>\n",
       "      <td>27</td>\n",
       "      <td>22470.0</td>\n",
       "      <td>9.038462</td>\n",
       "      <td>8.703704</td>\n",
       "      <td>Low</td>\n",
       "      <td>1</td>\n",
       "      <td>0</td>\n",
       "      <td>0</td>\n",
       "      <td>1</td>\n",
       "    </tr>\n",
       "    <tr>\n",
       "      <th>199</th>\n",
       "      <td>199</td>\n",
       "      <td>-1</td>\n",
       "      <td>95</td>\n",
       "      <td>volvo</td>\n",
       "      <td>four</td>\n",
       "      <td>sedan</td>\n",
       "      <td>rwd</td>\n",
       "      <td>front</td>\n",
       "      <td>109.1</td>\n",
       "      <td>0.907256</td>\n",
       "      <td>...</td>\n",
       "      <td>19</td>\n",
       "      <td>25</td>\n",
       "      <td>22625.0</td>\n",
       "      <td>12.368421</td>\n",
       "      <td>9.400000</td>\n",
       "      <td>Low</td>\n",
       "      <td>0</td>\n",
       "      <td>1</td>\n",
       "      <td>0</td>\n",
       "      <td>1</td>\n",
       "    </tr>\n",
       "  </tbody>\n",
       "</table>\n",
       "<p>200 rows × 32 columns</p>\n",
       "</div>"
      ],
      "text/plain": [
       "     Unnamed: 0  symboling  normalized-losses         make num-of-doors  \\\n",
       "0             0          3                122  alfa-romero          two   \n",
       "1             1          1                122  alfa-romero          two   \n",
       "2             2          2                164         audi         four   \n",
       "3             3          2                164         audi         four   \n",
       "4             4          2                122         audi          two   \n",
       "..          ...        ...                ...          ...          ...   \n",
       "195         195         -1                 95        volvo         four   \n",
       "196         196         -1                 95        volvo         four   \n",
       "197         197         -1                 95        volvo         four   \n",
       "198         198         -1                 95        volvo         four   \n",
       "199         199         -1                 95        volvo         four   \n",
       "\n",
       "      body-style drive-wheels engine-location  wheel-base    length  ...  \\\n",
       "0    convertible          rwd           front        88.6  0.811148  ...   \n",
       "1      hatchback          rwd           front        94.5  0.822681  ...   \n",
       "2          sedan          fwd           front        99.8  0.848630  ...   \n",
       "3          sedan          4wd           front        99.4  0.848630  ...   \n",
       "4          sedan          fwd           front        99.8  0.851994  ...   \n",
       "..           ...          ...             ...         ...       ...  ...   \n",
       "195        sedan          rwd           front       109.1  0.907256  ...   \n",
       "196        sedan          rwd           front       109.1  0.907256  ...   \n",
       "197        sedan          rwd           front       109.1  0.907256  ...   \n",
       "198        sedan          rwd           front       109.1  0.907256  ...   \n",
       "199        sedan          rwd           front       109.1  0.907256  ...   \n",
       "\n",
       "     city-mpg  highway-L/100km    price city-L/100km highway-L/100km.1  \\\n",
       "0          21               27  16500.0    11.190476          8.703704   \n",
       "1          19               26  16500.0    12.368421          9.038462   \n",
       "2          24               30  13950.0     9.791667          7.833333   \n",
       "3          18               22  17450.0    13.055556         10.681818   \n",
       "4          19               25  15250.0    12.368421          9.400000   \n",
       "..        ...              ...      ...          ...               ...   \n",
       "195        23               28  16845.0    10.217391          8.392857   \n",
       "196        19               25  19045.0    12.368421          9.400000   \n",
       "197        18               23  21485.0    13.055556         10.217391   \n",
       "198        26               27  22470.0     9.038462          8.703704   \n",
       "199        19               25  22625.0    12.368421          9.400000   \n",
       "\n",
       "     horsepower-binned diesel  gas  aspiration-std  aspiration-turbo  \n",
       "0                  Low      0    1               1                 0  \n",
       "1               Medium      0    1               1                 0  \n",
       "2                  Low      0    1               1                 0  \n",
       "3                  Low      0    1               1                 0  \n",
       "4                  Low      0    1               1                 0  \n",
       "..                 ...    ...  ...             ...               ...  \n",
       "195                Low      0    1               1                 0  \n",
       "196             Medium      0    1               0                 1  \n",
       "197             Medium      0    1               1                 0  \n",
       "198                Low      1    0               0                 1  \n",
       "199                Low      0    1               0                 1  \n",
       "\n",
       "[200 rows x 32 columns]"
      ]
     },
     "execution_count": 2,
     "metadata": {},
     "output_type": "execute_result"
    }
   ],
   "source": [
    "df = pd.read_csv('/kaggle/input/cleaned-used-car-datasett/cleaned_used_car_dataset.csv')\n",
    "df"
   ]
  },
  {
   "cell_type": "code",
   "execution_count": 3,
   "id": "24282163",
   "metadata": {
    "execution": {
     "iopub.execute_input": "2025-07-25T16:44:17.047859Z",
     "iopub.status.busy": "2025-07-25T16:44:17.047226Z",
     "iopub.status.idle": "2025-07-25T16:44:17.056868Z",
     "shell.execute_reply": "2025-07-25T16:44:17.055847Z"
    },
    "papermill": {
     "duration": 0.023918,
     "end_time": "2025-07-25T16:44:17.058487",
     "exception": false,
     "start_time": "2025-07-25T16:44:17.034569",
     "status": "completed"
    },
    "tags": []
   },
   "outputs": [],
   "source": [
    "df.drop('Unnamed: 0', axis =1, inplace= True)"
   ]
  },
  {
   "cell_type": "code",
   "execution_count": 4,
   "id": "10d02c11",
   "metadata": {
    "execution": {
     "iopub.execute_input": "2025-07-25T16:44:17.084245Z",
     "iopub.status.busy": "2025-07-25T16:44:17.083593Z",
     "iopub.status.idle": "2025-07-25T16:44:17.090668Z",
     "shell.execute_reply": "2025-07-25T16:44:17.089879Z"
    },
    "papermill": {
     "duration": 0.021336,
     "end_time": "2025-07-25T16:44:17.092133",
     "exception": false,
     "start_time": "2025-07-25T16:44:17.070797",
     "status": "completed"
    },
    "tags": []
   },
   "outputs": [
    {
     "data": {
      "text/plain": [
       "symboling              int64\n",
       "normalized-losses      int64\n",
       "make                  object\n",
       "num-of-doors          object\n",
       "body-style            object\n",
       "drive-wheels          object\n",
       "engine-location       object\n",
       "wheel-base           float64\n",
       "length               float64\n",
       "width                float64\n",
       "height               float64\n",
       "curb-weight            int64\n",
       "engine-type           object\n",
       "num-of-cylinders      object\n",
       "engine-size            int64\n",
       "fuel-system           object\n",
       "bore                 float64\n",
       "stroke               float64\n",
       "compression-ratio    float64\n",
       "horsepower             int64\n",
       "peak-rpm             float64\n",
       "city-mpg               int64\n",
       "highway-L/100km        int64\n",
       "price                float64\n",
       "city-L/100km         float64\n",
       "highway-L/100km.1    float64\n",
       "horsepower-binned     object\n",
       "diesel                 int64\n",
       "gas                    int64\n",
       "aspiration-std         int64\n",
       "aspiration-turbo       int64\n",
       "dtype: object"
      ]
     },
     "execution_count": 4,
     "metadata": {},
     "output_type": "execute_result"
    }
   ],
   "source": [
    "df.dtypes"
   ]
  },
  {
   "cell_type": "markdown",
   "id": "62fa8f15",
   "metadata": {
    "papermill": {
     "duration": 0.011311,
     "end_time": "2025-07-25T16:44:17.115265",
     "exception": false,
     "start_time": "2025-07-25T16:44:17.103954",
     "status": "completed"
    },
    "tags": []
   },
   "source": [
    "<h2>Linear Regression and Multiple Linear Regression</h2>"
   ]
  },
  {
   "cell_type": "markdown",
   "id": "cc5a4bc6",
   "metadata": {
    "papermill": {
     "duration": 0.011604,
     "end_time": "2025-07-25T16:44:17.139020",
     "exception": false,
     "start_time": "2025-07-25T16:44:17.127416",
     "status": "completed"
    },
    "tags": []
   },
   "source": [
    "<p>One example of a Data  Model that we will be using is:</p>\n",
    "<b>Simple Linear Regression</b>\n",
    "\n",
    "<br>\n",
    "<p>Simple Linear Regression is a method to help us understand the relationship between two variables:</p>\n",
    "<ul>\n",
    "    <li>The predictor/independent variable (X)</li>\n",
    "    <li>The response/dependent variable (that we want to predict)(Y)</li>\n",
    "</ul>\n",
    "\n",
    "<p>The result of Linear Regression is a <b>linear function</b> that predicts the response (dependent) variable as a function of the predictor (independent) variable.</p>"
   ]
  },
  {
   "cell_type": "markdown",
   "id": "05f6f8bd",
   "metadata": {
    "papermill": {
     "duration": 0.011421,
     "end_time": "2025-07-25T16:44:17.161932",
     "exception": false,
     "start_time": "2025-07-25T16:44:17.150511",
     "status": "completed"
    },
    "tags": []
   },
   "source": [
    " <b>Linear Function</b>\n",
    "$$\n",
    "Yhat = a + b  X\n",
    "$$\n"
   ]
  },
  {
   "cell_type": "markdown",
   "id": "8a8f2a2f",
   "metadata": {
    "papermill": {
     "duration": 0.012194,
     "end_time": "2025-07-25T16:44:17.185593",
     "exception": false,
     "start_time": "2025-07-25T16:44:17.173399",
     "status": "completed"
    },
    "tags": []
   },
   "source": [
    "<ul>\n",
    "    <li>a refers to the <b>intercept</b> of the regression line, in other words: the value of Y when X is 0</li>\n",
    "    <li>b refers to the <b>slope</b> of the regression line, in other words: the value with which Y changes when X increases by 1 unit</li>\n",
    "</ul>"
   ]
  },
  {
   "cell_type": "code",
   "execution_count": null,
   "id": "3fb80d3b",
   "metadata": {
    "papermill": {
     "duration": 0.011291,
     "end_time": "2025-07-25T16:44:17.208541",
     "exception": false,
     "start_time": "2025-07-25T16:44:17.197250",
     "status": "completed"
    },
    "tags": []
   },
   "outputs": [],
   "source": []
  },
  {
   "cell_type": "code",
   "execution_count": 5,
   "id": "3d5083ab",
   "metadata": {
    "execution": {
     "iopub.execute_input": "2025-07-25T16:44:17.296684Z",
     "iopub.status.busy": "2025-07-25T16:44:17.296337Z",
     "iopub.status.idle": "2025-07-25T16:44:17.812278Z",
     "shell.execute_reply": "2025-07-25T16:44:17.811233Z"
    },
    "papermill": {
     "duration": 0.530612,
     "end_time": "2025-07-25T16:44:17.814050",
     "exception": false,
     "start_time": "2025-07-25T16:44:17.283438",
     "status": "completed"
    },
    "tags": []
   },
   "outputs": [],
   "source": [
    "# load linear model from sklearn\n",
    "from sklearn.linear_model import LinearRegression"
   ]
  },
  {
   "cell_type": "code",
   "execution_count": 6,
   "id": "68afe69b",
   "metadata": {
    "execution": {
     "iopub.execute_input": "2025-07-25T16:44:17.839337Z",
     "iopub.status.busy": "2025-07-25T16:44:17.839053Z",
     "iopub.status.idle": "2025-07-25T16:44:17.843493Z",
     "shell.execute_reply": "2025-07-25T16:44:17.842750Z"
    },
    "papermill": {
     "duration": 0.018634,
     "end_time": "2025-07-25T16:44:17.844846",
     "exception": false,
     "start_time": "2025-07-25T16:44:17.826212",
     "status": "completed"
    },
    "tags": []
   },
   "outputs": [],
   "source": [
    "# create linear regression object\n",
    "lm = LinearRegression()"
   ]
  },
  {
   "cell_type": "markdown",
   "id": "b824fdae",
   "metadata": {
    "papermill": {
     "duration": 0.012715,
     "end_time": "2025-07-25T16:44:17.869811",
     "exception": false,
     "start_time": "2025-07-25T16:44:17.857096",
     "status": "completed"
    },
    "tags": []
   },
   "source": [
    "<h4>How could \"highway-mpg\" help us predict car price?</h4>"
   ]
  },
  {
   "cell_type": "markdown",
   "id": "c7c437b8",
   "metadata": {
    "papermill": {
     "duration": 0.011584,
     "end_time": "2025-07-25T16:44:17.893605",
     "exception": false,
     "start_time": "2025-07-25T16:44:17.882021",
     "status": "completed"
    },
    "tags": []
   },
   "source": [
    "we want to look at how highway-L/100km can help us predict car price.\n",
    "Using simple linear regression, we will create a linear function with \"highway-L/100km\" as the predictor variable and the \"price\" as the response variable.\n"
   ]
  },
  {
   "cell_type": "code",
   "execution_count": 7,
   "id": "137267b5",
   "metadata": {
    "execution": {
     "iopub.execute_input": "2025-07-25T16:44:17.919492Z",
     "iopub.status.busy": "2025-07-25T16:44:17.919180Z",
     "iopub.status.idle": "2025-07-25T16:44:17.924617Z",
     "shell.execute_reply": "2025-07-25T16:44:17.923778Z"
    },
    "papermill": {
     "duration": 0.019927,
     "end_time": "2025-07-25T16:44:17.926199",
     "exception": false,
     "start_time": "2025-07-25T16:44:17.906272",
     "status": "completed"
    },
    "tags": []
   },
   "outputs": [],
   "source": [
    "X = df[['highway-L/100km']]\n",
    "Y = df['price']"
   ]
  },
  {
   "cell_type": "code",
   "execution_count": 8,
   "id": "565790e4",
   "metadata": {
    "execution": {
     "iopub.execute_input": "2025-07-25T16:44:17.951167Z",
     "iopub.status.busy": "2025-07-25T16:44:17.950823Z",
     "iopub.status.idle": "2025-07-25T16:44:17.985642Z",
     "shell.execute_reply": "2025-07-25T16:44:17.984770Z"
    },
    "papermill": {
     "duration": 0.04924,
     "end_time": "2025-07-25T16:44:17.987350",
     "exception": false,
     "start_time": "2025-07-25T16:44:17.938110",
     "status": "completed"
    },
    "tags": []
   },
   "outputs": [
    {
     "data": {
      "text/html": [
       "<style>#sk-container-id-1 {color: black;background-color: white;}#sk-container-id-1 pre{padding: 0;}#sk-container-id-1 div.sk-toggleable {background-color: white;}#sk-container-id-1 label.sk-toggleable__label {cursor: pointer;display: block;width: 100%;margin-bottom: 0;padding: 0.3em;box-sizing: border-box;text-align: center;}#sk-container-id-1 label.sk-toggleable__label-arrow:before {content: \"▸\";float: left;margin-right: 0.25em;color: #696969;}#sk-container-id-1 label.sk-toggleable__label-arrow:hover:before {color: black;}#sk-container-id-1 div.sk-estimator:hover label.sk-toggleable__label-arrow:before {color: black;}#sk-container-id-1 div.sk-toggleable__content {max-height: 0;max-width: 0;overflow: hidden;text-align: left;background-color: #f0f8ff;}#sk-container-id-1 div.sk-toggleable__content pre {margin: 0.2em;color: black;border-radius: 0.25em;background-color: #f0f8ff;}#sk-container-id-1 input.sk-toggleable__control:checked~div.sk-toggleable__content {max-height: 200px;max-width: 100%;overflow: auto;}#sk-container-id-1 input.sk-toggleable__control:checked~label.sk-toggleable__label-arrow:before {content: \"▾\";}#sk-container-id-1 div.sk-estimator input.sk-toggleable__control:checked~label.sk-toggleable__label {background-color: #d4ebff;}#sk-container-id-1 div.sk-label input.sk-toggleable__control:checked~label.sk-toggleable__label {background-color: #d4ebff;}#sk-container-id-1 input.sk-hidden--visually {border: 0;clip: rect(1px 1px 1px 1px);clip: rect(1px, 1px, 1px, 1px);height: 1px;margin: -1px;overflow: hidden;padding: 0;position: absolute;width: 1px;}#sk-container-id-1 div.sk-estimator {font-family: monospace;background-color: #f0f8ff;border: 1px dotted black;border-radius: 0.25em;box-sizing: border-box;margin-bottom: 0.5em;}#sk-container-id-1 div.sk-estimator:hover {background-color: #d4ebff;}#sk-container-id-1 div.sk-parallel-item::after {content: \"\";width: 100%;border-bottom: 1px solid gray;flex-grow: 1;}#sk-container-id-1 div.sk-label:hover label.sk-toggleable__label {background-color: #d4ebff;}#sk-container-id-1 div.sk-serial::before {content: \"\";position: absolute;border-left: 1px solid gray;box-sizing: border-box;top: 0;bottom: 0;left: 50%;z-index: 0;}#sk-container-id-1 div.sk-serial {display: flex;flex-direction: column;align-items: center;background-color: white;padding-right: 0.2em;padding-left: 0.2em;position: relative;}#sk-container-id-1 div.sk-item {position: relative;z-index: 1;}#sk-container-id-1 div.sk-parallel {display: flex;align-items: stretch;justify-content: center;background-color: white;position: relative;}#sk-container-id-1 div.sk-item::before, #sk-container-id-1 div.sk-parallel-item::before {content: \"\";position: absolute;border-left: 1px solid gray;box-sizing: border-box;top: 0;bottom: 0;left: 50%;z-index: -1;}#sk-container-id-1 div.sk-parallel-item {display: flex;flex-direction: column;z-index: 1;position: relative;background-color: white;}#sk-container-id-1 div.sk-parallel-item:first-child::after {align-self: flex-end;width: 50%;}#sk-container-id-1 div.sk-parallel-item:last-child::after {align-self: flex-start;width: 50%;}#sk-container-id-1 div.sk-parallel-item:only-child::after {width: 0;}#sk-container-id-1 div.sk-dashed-wrapped {border: 1px dashed gray;margin: 0 0.4em 0.5em 0.4em;box-sizing: border-box;padding-bottom: 0.4em;background-color: white;}#sk-container-id-1 div.sk-label label {font-family: monospace;font-weight: bold;display: inline-block;line-height: 1.2em;}#sk-container-id-1 div.sk-label-container {text-align: center;}#sk-container-id-1 div.sk-container {/* jupyter's `normalize.less` sets `[hidden] { display: none; }` but bootstrap.min.css set `[hidden] { display: none !important; }` so we also need the `!important` here to be able to override the default hidden behavior on the sphinx rendered scikit-learn.org. See: https://github.com/scikit-learn/scikit-learn/issues/21755 */display: inline-block !important;position: relative;}#sk-container-id-1 div.sk-text-repr-fallback {display: none;}</style><div id=\"sk-container-id-1\" class=\"sk-top-container\"><div class=\"sk-text-repr-fallback\"><pre>LinearRegression()</pre><b>In a Jupyter environment, please rerun this cell to show the HTML representation or trust the notebook. <br />On GitHub, the HTML representation is unable to render, please try loading this page with nbviewer.org.</b></div><div class=\"sk-container\" hidden><div class=\"sk-item\"><div class=\"sk-estimator sk-toggleable\"><input class=\"sk-toggleable__control sk-hidden--visually\" id=\"sk-estimator-id-1\" type=\"checkbox\" checked><label for=\"sk-estimator-id-1\" class=\"sk-toggleable__label sk-toggleable__label-arrow\">LinearRegression</label><div class=\"sk-toggleable__content\"><pre>LinearRegression()</pre></div></div></div></div></div>"
      ],
      "text/plain": [
       "LinearRegression()"
      ]
     },
     "execution_count": 8,
     "metadata": {},
     "output_type": "execute_result"
    }
   ],
   "source": [
    "# fit model\n",
    "lm.fit(X,Y)"
   ]
  },
  {
   "cell_type": "code",
   "execution_count": 9,
   "id": "6cf158b6",
   "metadata": {
    "execution": {
     "iopub.execute_input": "2025-07-25T16:44:18.013931Z",
     "iopub.status.busy": "2025-07-25T16:44:18.013565Z",
     "iopub.status.idle": "2025-07-25T16:44:18.019447Z",
     "shell.execute_reply": "2025-07-25T16:44:18.018451Z"
    },
    "papermill": {
     "duration": 0.021316,
     "end_time": "2025-07-25T16:44:18.020906",
     "exception": false,
     "start_time": "2025-07-25T16:44:17.999590",
     "status": "completed"
    },
    "tags": []
   },
   "outputs": [],
   "source": [
    "# make prediction\n",
    "Yhat = lm.predict(X)"
   ]
  },
  {
   "cell_type": "code",
   "execution_count": 10,
   "id": "1c8eefb5",
   "metadata": {
    "execution": {
     "iopub.execute_input": "2025-07-25T16:44:18.046441Z",
     "iopub.status.busy": "2025-07-25T16:44:18.046147Z",
     "iopub.status.idle": "2025-07-25T16:44:18.051899Z",
     "shell.execute_reply": "2025-07-25T16:44:18.050956Z"
    },
    "papermill": {
     "duration": 0.019952,
     "end_time": "2025-07-25T16:44:18.053168",
     "exception": false,
     "start_time": "2025-07-25T16:44:18.033216",
     "status": "completed"
    },
    "tags": []
   },
   "outputs": [
    {
     "data": {
      "text/plain": [
       "array([16254.26934067, 17077.0977727 , 13785.78404458, 20368.41150083,\n",
       "       17899.92620473])"
      ]
     },
     "execution_count": 10,
     "metadata": {},
     "output_type": "execute_result"
    }
   ],
   "source": [
    "Yhat[0:5]   "
   ]
  },
  {
   "cell_type": "markdown",
   "id": "f07be568",
   "metadata": {
    "papermill": {
     "duration": 0.012325,
     "end_time": "2025-07-25T16:44:18.077673",
     "exception": false,
     "start_time": "2025-07-25T16:44:18.065348",
     "status": "completed"
    },
    "tags": []
   },
   "source": [
    "<h4>What is the value of the intercept (a)?</h4>"
   ]
  },
  {
   "cell_type": "code",
   "execution_count": 11,
   "id": "c0d18c37",
   "metadata": {
    "execution": {
     "iopub.execute_input": "2025-07-25T16:44:18.104471Z",
     "iopub.status.busy": "2025-07-25T16:44:18.104136Z",
     "iopub.status.idle": "2025-07-25T16:44:18.109981Z",
     "shell.execute_reply": "2025-07-25T16:44:18.109093Z"
    },
    "papermill": {
     "duration": 0.021187,
     "end_time": "2025-07-25T16:44:18.111870",
     "exception": false,
     "start_time": "2025-07-25T16:44:18.090683",
     "status": "completed"
    },
    "tags": []
   },
   "outputs": [
    {
     "data": {
      "text/plain": [
       "38470.63700549667"
      ]
     },
     "execution_count": 11,
     "metadata": {},
     "output_type": "execute_result"
    }
   ],
   "source": [
    "lm.intercept_"
   ]
  },
  {
   "cell_type": "markdown",
   "id": "d21396cb",
   "metadata": {
    "papermill": {
     "duration": 0.011928,
     "end_time": "2025-07-25T16:44:18.136312",
     "exception": false,
     "start_time": "2025-07-25T16:44:18.124384",
     "status": "completed"
    },
    "tags": []
   },
   "source": [
    "<h4>What is the value of the slope (b)?</h4>"
   ]
  },
  {
   "cell_type": "code",
   "execution_count": 12,
   "id": "e0d7861a",
   "metadata": {
    "execution": {
     "iopub.execute_input": "2025-07-25T16:44:18.162131Z",
     "iopub.status.busy": "2025-07-25T16:44:18.161805Z",
     "iopub.status.idle": "2025-07-25T16:44:18.167450Z",
     "shell.execute_reply": "2025-07-25T16:44:18.166686Z"
    },
    "papermill": {
     "duration": 0.019949,
     "end_time": "2025-07-25T16:44:18.168708",
     "exception": false,
     "start_time": "2025-07-25T16:44:18.148759",
     "status": "completed"
    },
    "tags": []
   },
   "outputs": [
    {
     "data": {
      "text/plain": [
       "array([-822.82843203])"
      ]
     },
     "execution_count": 12,
     "metadata": {},
     "output_type": "execute_result"
    }
   ],
   "source": [
    "lm.coef_"
   ]
  },
  {
   "cell_type": "markdown",
   "id": "80de631f",
   "metadata": {
    "papermill": {
     "duration": 0.012856,
     "end_time": "2025-07-25T16:44:18.193876",
     "exception": false,
     "start_time": "2025-07-25T16:44:18.181020",
     "status": "completed"
    },
    "tags": []
   },
   "source": [
    "<h3>What is the final estimated linear model we get?</h3>"
   ]
  },
  {
   "cell_type": "markdown",
   "id": "1a332df6",
   "metadata": {
    "papermill": {
     "duration": 0.012152,
     "end_time": "2025-07-25T16:44:18.218403",
     "exception": false,
     "start_time": "2025-07-25T16:44:18.206251",
     "status": "completed"
    },
    "tags": []
   },
   "source": [
    "As we saw above, we should get a final linear model with the structure:"
   ]
  },
  {
   "cell_type": "markdown",
   "id": "dcbbf670",
   "metadata": {
    "papermill": {
     "duration": 0.012225,
     "end_time": "2025-07-25T16:44:18.242827",
     "exception": false,
     "start_time": "2025-07-25T16:44:18.230602",
     "status": "completed"
    },
    "tags": []
   },
   "source": [
    "$$\n",
    "Yhat = a + b  X\n",
    "$$"
   ]
  },
  {
   "cell_type": "markdown",
   "id": "008044ea",
   "metadata": {
    "papermill": {
     "duration": 0.012683,
     "end_time": "2025-07-25T16:44:18.267872",
     "exception": false,
     "start_time": "2025-07-25T16:44:18.255189",
     "status": "completed"
    },
    "tags": []
   },
   "source": [
    "Plugging in the actual values we get:\n",
    "\n",
    "<b>Price</b> = 38470.63 - 822.82 x <b>highway-L/100km</b>"
   ]
  },
  {
   "cell_type": "code",
   "execution_count": 13,
   "id": "619a0e9b",
   "metadata": {
    "execution": {
     "iopub.execute_input": "2025-07-25T16:44:18.297156Z",
     "iopub.status.busy": "2025-07-25T16:44:18.296823Z",
     "iopub.status.idle": "2025-07-25T16:44:18.304161Z",
     "shell.execute_reply": "2025-07-25T16:44:18.302508Z"
    },
    "papermill": {
     "duration": 0.025999,
     "end_time": "2025-07-25T16:44:18.307195",
     "exception": false,
     "start_time": "2025-07-25T16:44:18.281196",
     "status": "completed"
    },
    "tags": []
   },
   "outputs": [
    {
     "data": {
      "text/html": [
       "<style>#sk-container-id-2 {color: black;background-color: white;}#sk-container-id-2 pre{padding: 0;}#sk-container-id-2 div.sk-toggleable {background-color: white;}#sk-container-id-2 label.sk-toggleable__label {cursor: pointer;display: block;width: 100%;margin-bottom: 0;padding: 0.3em;box-sizing: border-box;text-align: center;}#sk-container-id-2 label.sk-toggleable__label-arrow:before {content: \"▸\";float: left;margin-right: 0.25em;color: #696969;}#sk-container-id-2 label.sk-toggleable__label-arrow:hover:before {color: black;}#sk-container-id-2 div.sk-estimator:hover label.sk-toggleable__label-arrow:before {color: black;}#sk-container-id-2 div.sk-toggleable__content {max-height: 0;max-width: 0;overflow: hidden;text-align: left;background-color: #f0f8ff;}#sk-container-id-2 div.sk-toggleable__content pre {margin: 0.2em;color: black;border-radius: 0.25em;background-color: #f0f8ff;}#sk-container-id-2 input.sk-toggleable__control:checked~div.sk-toggleable__content {max-height: 200px;max-width: 100%;overflow: auto;}#sk-container-id-2 input.sk-toggleable__control:checked~label.sk-toggleable__label-arrow:before {content: \"▾\";}#sk-container-id-2 div.sk-estimator input.sk-toggleable__control:checked~label.sk-toggleable__label {background-color: #d4ebff;}#sk-container-id-2 div.sk-label input.sk-toggleable__control:checked~label.sk-toggleable__label {background-color: #d4ebff;}#sk-container-id-2 input.sk-hidden--visually {border: 0;clip: rect(1px 1px 1px 1px);clip: rect(1px, 1px, 1px, 1px);height: 1px;margin: -1px;overflow: hidden;padding: 0;position: absolute;width: 1px;}#sk-container-id-2 div.sk-estimator {font-family: monospace;background-color: #f0f8ff;border: 1px dotted black;border-radius: 0.25em;box-sizing: border-box;margin-bottom: 0.5em;}#sk-container-id-2 div.sk-estimator:hover {background-color: #d4ebff;}#sk-container-id-2 div.sk-parallel-item::after {content: \"\";width: 100%;border-bottom: 1px solid gray;flex-grow: 1;}#sk-container-id-2 div.sk-label:hover label.sk-toggleable__label {background-color: #d4ebff;}#sk-container-id-2 div.sk-serial::before {content: \"\";position: absolute;border-left: 1px solid gray;box-sizing: border-box;top: 0;bottom: 0;left: 50%;z-index: 0;}#sk-container-id-2 div.sk-serial {display: flex;flex-direction: column;align-items: center;background-color: white;padding-right: 0.2em;padding-left: 0.2em;position: relative;}#sk-container-id-2 div.sk-item {position: relative;z-index: 1;}#sk-container-id-2 div.sk-parallel {display: flex;align-items: stretch;justify-content: center;background-color: white;position: relative;}#sk-container-id-2 div.sk-item::before, #sk-container-id-2 div.sk-parallel-item::before {content: \"\";position: absolute;border-left: 1px solid gray;box-sizing: border-box;top: 0;bottom: 0;left: 50%;z-index: -1;}#sk-container-id-2 div.sk-parallel-item {display: flex;flex-direction: column;z-index: 1;position: relative;background-color: white;}#sk-container-id-2 div.sk-parallel-item:first-child::after {align-self: flex-end;width: 50%;}#sk-container-id-2 div.sk-parallel-item:last-child::after {align-self: flex-start;width: 50%;}#sk-container-id-2 div.sk-parallel-item:only-child::after {width: 0;}#sk-container-id-2 div.sk-dashed-wrapped {border: 1px dashed gray;margin: 0 0.4em 0.5em 0.4em;box-sizing: border-box;padding-bottom: 0.4em;background-color: white;}#sk-container-id-2 div.sk-label label {font-family: monospace;font-weight: bold;display: inline-block;line-height: 1.2em;}#sk-container-id-2 div.sk-label-container {text-align: center;}#sk-container-id-2 div.sk-container {/* jupyter's `normalize.less` sets `[hidden] { display: none; }` but bootstrap.min.css set `[hidden] { display: none !important; }` so we also need the `!important` here to be able to override the default hidden behavior on the sphinx rendered scikit-learn.org. See: https://github.com/scikit-learn/scikit-learn/issues/21755 */display: inline-block !important;position: relative;}#sk-container-id-2 div.sk-text-repr-fallback {display: none;}</style><div id=\"sk-container-id-2\" class=\"sk-top-container\"><div class=\"sk-text-repr-fallback\"><pre>LinearRegression()</pre><b>In a Jupyter environment, please rerun this cell to show the HTML representation or trust the notebook. <br />On GitHub, the HTML representation is unable to render, please try loading this page with nbviewer.org.</b></div><div class=\"sk-container\" hidden><div class=\"sk-item\"><div class=\"sk-estimator sk-toggleable\"><input class=\"sk-toggleable__control sk-hidden--visually\" id=\"sk-estimator-id-2\" type=\"checkbox\" checked><label for=\"sk-estimator-id-2\" class=\"sk-toggleable__label sk-toggleable__label-arrow\">LinearRegression</label><div class=\"sk-toggleable__content\"><pre>LinearRegression()</pre></div></div></div></div></div>"
      ],
      "text/plain": [
       "LinearRegression()"
      ]
     },
     "execution_count": 13,
     "metadata": {},
     "output_type": "execute_result"
    }
   ],
   "source": [
    "lm1 = LinearRegression()\n",
    "lm1"
   ]
  },
  {
   "cell_type": "code",
   "execution_count": 14,
   "id": "678eaa3e",
   "metadata": {
    "execution": {
     "iopub.execute_input": "2025-07-25T16:44:18.336521Z",
     "iopub.status.busy": "2025-07-25T16:44:18.335895Z",
     "iopub.status.idle": "2025-07-25T16:44:18.341218Z",
     "shell.execute_reply": "2025-07-25T16:44:18.340232Z"
    },
    "papermill": {
     "duration": 0.02117,
     "end_time": "2025-07-25T16:44:18.342937",
     "exception": false,
     "start_time": "2025-07-25T16:44:18.321767",
     "status": "completed"
    },
    "tags": []
   },
   "outputs": [],
   "source": [
    "X = df[['engine-size']]\n",
    "Y = df['price']"
   ]
  },
  {
   "cell_type": "code",
   "execution_count": 15,
   "id": "dfe5ebef",
   "metadata": {
    "execution": {
     "iopub.execute_input": "2025-07-25T16:44:18.370254Z",
     "iopub.status.busy": "2025-07-25T16:44:18.369925Z",
     "iopub.status.idle": "2025-07-25T16:44:18.379769Z",
     "shell.execute_reply": "2025-07-25T16:44:18.378669Z"
    },
    "papermill": {
     "duration": 0.025651,
     "end_time": "2025-07-25T16:44:18.381269",
     "exception": false,
     "start_time": "2025-07-25T16:44:18.355618",
     "status": "completed"
    },
    "tags": []
   },
   "outputs": [
    {
     "data": {
      "text/html": [
       "<style>#sk-container-id-3 {color: black;background-color: white;}#sk-container-id-3 pre{padding: 0;}#sk-container-id-3 div.sk-toggleable {background-color: white;}#sk-container-id-3 label.sk-toggleable__label {cursor: pointer;display: block;width: 100%;margin-bottom: 0;padding: 0.3em;box-sizing: border-box;text-align: center;}#sk-container-id-3 label.sk-toggleable__label-arrow:before {content: \"▸\";float: left;margin-right: 0.25em;color: #696969;}#sk-container-id-3 label.sk-toggleable__label-arrow:hover:before {color: black;}#sk-container-id-3 div.sk-estimator:hover label.sk-toggleable__label-arrow:before {color: black;}#sk-container-id-3 div.sk-toggleable__content {max-height: 0;max-width: 0;overflow: hidden;text-align: left;background-color: #f0f8ff;}#sk-container-id-3 div.sk-toggleable__content pre {margin: 0.2em;color: black;border-radius: 0.25em;background-color: #f0f8ff;}#sk-container-id-3 input.sk-toggleable__control:checked~div.sk-toggleable__content {max-height: 200px;max-width: 100%;overflow: auto;}#sk-container-id-3 input.sk-toggleable__control:checked~label.sk-toggleable__label-arrow:before {content: \"▾\";}#sk-container-id-3 div.sk-estimator input.sk-toggleable__control:checked~label.sk-toggleable__label {background-color: #d4ebff;}#sk-container-id-3 div.sk-label input.sk-toggleable__control:checked~label.sk-toggleable__label {background-color: #d4ebff;}#sk-container-id-3 input.sk-hidden--visually {border: 0;clip: rect(1px 1px 1px 1px);clip: rect(1px, 1px, 1px, 1px);height: 1px;margin: -1px;overflow: hidden;padding: 0;position: absolute;width: 1px;}#sk-container-id-3 div.sk-estimator {font-family: monospace;background-color: #f0f8ff;border: 1px dotted black;border-radius: 0.25em;box-sizing: border-box;margin-bottom: 0.5em;}#sk-container-id-3 div.sk-estimator:hover {background-color: #d4ebff;}#sk-container-id-3 div.sk-parallel-item::after {content: \"\";width: 100%;border-bottom: 1px solid gray;flex-grow: 1;}#sk-container-id-3 div.sk-label:hover label.sk-toggleable__label {background-color: #d4ebff;}#sk-container-id-3 div.sk-serial::before {content: \"\";position: absolute;border-left: 1px solid gray;box-sizing: border-box;top: 0;bottom: 0;left: 50%;z-index: 0;}#sk-container-id-3 div.sk-serial {display: flex;flex-direction: column;align-items: center;background-color: white;padding-right: 0.2em;padding-left: 0.2em;position: relative;}#sk-container-id-3 div.sk-item {position: relative;z-index: 1;}#sk-container-id-3 div.sk-parallel {display: flex;align-items: stretch;justify-content: center;background-color: white;position: relative;}#sk-container-id-3 div.sk-item::before, #sk-container-id-3 div.sk-parallel-item::before {content: \"\";position: absolute;border-left: 1px solid gray;box-sizing: border-box;top: 0;bottom: 0;left: 50%;z-index: -1;}#sk-container-id-3 div.sk-parallel-item {display: flex;flex-direction: column;z-index: 1;position: relative;background-color: white;}#sk-container-id-3 div.sk-parallel-item:first-child::after {align-self: flex-end;width: 50%;}#sk-container-id-3 div.sk-parallel-item:last-child::after {align-self: flex-start;width: 50%;}#sk-container-id-3 div.sk-parallel-item:only-child::after {width: 0;}#sk-container-id-3 div.sk-dashed-wrapped {border: 1px dashed gray;margin: 0 0.4em 0.5em 0.4em;box-sizing: border-box;padding-bottom: 0.4em;background-color: white;}#sk-container-id-3 div.sk-label label {font-family: monospace;font-weight: bold;display: inline-block;line-height: 1.2em;}#sk-container-id-3 div.sk-label-container {text-align: center;}#sk-container-id-3 div.sk-container {/* jupyter's `normalize.less` sets `[hidden] { display: none; }` but bootstrap.min.css set `[hidden] { display: none !important; }` so we also need the `!important` here to be able to override the default hidden behavior on the sphinx rendered scikit-learn.org. See: https://github.com/scikit-learn/scikit-learn/issues/21755 */display: inline-block !important;position: relative;}#sk-container-id-3 div.sk-text-repr-fallback {display: none;}</style><div id=\"sk-container-id-3\" class=\"sk-top-container\"><div class=\"sk-text-repr-fallback\"><pre>LinearRegression()</pre><b>In a Jupyter environment, please rerun this cell to show the HTML representation or trust the notebook. <br />On GitHub, the HTML representation is unable to render, please try loading this page with nbviewer.org.</b></div><div class=\"sk-container\" hidden><div class=\"sk-item\"><div class=\"sk-estimator sk-toggleable\"><input class=\"sk-toggleable__control sk-hidden--visually\" id=\"sk-estimator-id-3\" type=\"checkbox\" checked><label for=\"sk-estimator-id-3\" class=\"sk-toggleable__label sk-toggleable__label-arrow\">LinearRegression</label><div class=\"sk-toggleable__content\"><pre>LinearRegression()</pre></div></div></div></div></div>"
      ],
      "text/plain": [
       "LinearRegression()"
      ]
     },
     "execution_count": 15,
     "metadata": {},
     "output_type": "execute_result"
    }
   ],
   "source": [
    "lm1.fit(X,Y)"
   ]
  },
  {
   "cell_type": "code",
   "execution_count": 16,
   "id": "52f97ada",
   "metadata": {
    "execution": {
     "iopub.execute_input": "2025-07-25T16:44:18.409263Z",
     "iopub.status.busy": "2025-07-25T16:44:18.408969Z",
     "iopub.status.idle": "2025-07-25T16:44:18.414734Z",
     "shell.execute_reply": "2025-07-25T16:44:18.413846Z"
    },
    "papermill": {
     "duration": 0.021735,
     "end_time": "2025-07-25T16:44:18.416304",
     "exception": false,
     "start_time": "2025-07-25T16:44:18.394569",
     "status": "completed"
    },
    "tags": []
   },
   "outputs": [
    {
     "data": {
      "text/plain": [
       "array([166.8621392])"
      ]
     },
     "execution_count": 16,
     "metadata": {},
     "output_type": "execute_result"
    }
   ],
   "source": [
    "lm1.coef_"
   ]
  },
  {
   "cell_type": "code",
   "execution_count": 17,
   "id": "4607de20",
   "metadata": {
    "execution": {
     "iopub.execute_input": "2025-07-25T16:44:18.443343Z",
     "iopub.status.busy": "2025-07-25T16:44:18.443052Z",
     "iopub.status.idle": "2025-07-25T16:44:18.448464Z",
     "shell.execute_reply": "2025-07-25T16:44:18.447673Z"
    },
    "papermill": {
     "duration": 0.020621,
     "end_time": "2025-07-25T16:44:18.450097",
     "exception": false,
     "start_time": "2025-07-25T16:44:18.429476",
     "status": "completed"
    },
    "tags": []
   },
   "outputs": [
    {
     "data": {
      "text/plain": [
       "38470.63700549667"
      ]
     },
     "execution_count": 17,
     "metadata": {},
     "output_type": "execute_result"
    }
   ],
   "source": [
    "lm.intercept_"
   ]
  },
  {
   "cell_type": "markdown",
   "id": "9e9241e3",
   "metadata": {
    "papermill": {
     "duration": 0.013483,
     "end_time": "2025-07-25T16:44:18.476591",
     "exception": false,
     "start_time": "2025-07-25T16:44:18.463108",
     "status": "completed"
    },
    "tags": []
   },
   "source": [
    "# Multiple Linear Regression"
   ]
  },
  {
   "cell_type": "markdown",
   "id": "e94274b3",
   "metadata": {
    "papermill": {
     "duration": 0.012524,
     "end_time": "2025-07-25T16:44:18.502374",
     "exception": false,
     "start_time": "2025-07-25T16:44:18.489850",
     "status": "completed"
    },
    "tags": []
   },
   "source": [
    "<p>What if we want to predict car price using more than one variable?</p>\n",
    "\n",
    "<p>If we want to use more variables in our model to predict car price, we can use <b>Multiple Linear Regression</b>.\n",
    "Multiple Linear Regression is very similar to Simple Linear Regression, but this method is used to explain the relationship between one continuous response (dependent) variable and <b>two or more</b> predictor (independent) variables.\n",
    "Most of the real-world regression models involve multiple predictors. We will illustrate the structure by using four predictor variables, but these results can generalize to any integer:</p>"
   ]
  },
  {
   "cell_type": "markdown",
   "id": "114ec4f7",
   "metadata": {
    "papermill": {
     "duration": 0.012365,
     "end_time": "2025-07-25T16:44:18.527447",
     "exception": false,
     "start_time": "2025-07-25T16:44:18.515082",
     "status": "completed"
    },
    "tags": []
   },
   "source": [
    "<ul>\n",
    "    <li>Y: Response  Variable</li>\n",
    "    <li>X_1: Predictor Variable 1</li>\n",
    "    <li>X_2: Predictor Variable 2</li>\n",
    "    <li>X_3: Predictor Variable 3</li>\n",
    "    <li>X_4: Predictor Variable 4</li>\n",
    "</ul>\n"
   ]
  },
  {
   "cell_type": "markdown",
   "id": "7a6b9378",
   "metadata": {
    "papermill": {
     "duration": 0.012355,
     "end_time": "2025-07-25T16:44:18.552532",
     "exception": false,
     "start_time": "2025-07-25T16:44:18.540177",
     "status": "completed"
    },
    "tags": []
   },
   "source": [
    "\n",
    "\n",
    "<ul>\n",
    "    <li>a: intercept</li>\n",
    "    <li>b_1 :coefficients of Variable 1</li>\n",
    "    <li>b_2 :coefficients of Variable 2</li>\n",
    "    <li>b_3 :coefficients of Variable 3</li>\n",
    "    <li>b_4 :coefficients of Variable 4</li>\n",
    "   \n",
    "</ul>\n"
   ]
  },
  {
   "cell_type": "markdown",
   "id": "c54fd420",
   "metadata": {
    "papermill": {
     "duration": 0.013992,
     "end_time": "2025-07-25T16:44:18.579497",
     "exception": false,
     "start_time": "2025-07-25T16:44:18.565505",
     "status": "completed"
    },
    "tags": []
   },
   "source": [
    "The equation is given by:\n",
    "$$\n",
    "Yhat = a + b_1 X_1 + b_2 X_2 + b_3 X_3 + b_4 X_4\n",
    "$$\n"
   ]
  },
  {
   "cell_type": "markdown",
   "id": "de39c712",
   "metadata": {
    "papermill": {
     "duration": 0.012525,
     "end_time": "2025-07-25T16:44:18.605464",
     "exception": false,
     "start_time": "2025-07-25T16:44:18.592939",
     "status": "completed"
    },
    "tags": []
   },
   "source": [
    "<p>From the previous section  we know that other good predictors of price could be:</p>\n",
    "<ul>\n",
    "    <li>Horsepower</li>\n",
    "    <li>Curb-weight</li>\n",
    "    <li>Engine-size</li>\n",
    "    <li>Highway-L/100km</li>\n",
    "</ul>\n",
    "Let's develop a model using these variables as the predictor variables."
   ]
  },
  {
   "cell_type": "code",
   "execution_count": 18,
   "id": "4416c2aa",
   "metadata": {
    "execution": {
     "iopub.execute_input": "2025-07-25T16:44:18.632271Z",
     "iopub.status.busy": "2025-07-25T16:44:18.631986Z",
     "iopub.status.idle": "2025-07-25T16:44:18.637046Z",
     "shell.execute_reply": "2025-07-25T16:44:18.636232Z"
    },
    "papermill": {
     "duration": 0.020155,
     "end_time": "2025-07-25T16:44:18.638518",
     "exception": false,
     "start_time": "2025-07-25T16:44:18.618363",
     "status": "completed"
    },
    "tags": []
   },
   "outputs": [],
   "source": [
    "Z = df[['horsepower', 'curb-weight', 'engine-size', 'highway-L/100km']]"
   ]
  },
  {
   "cell_type": "code",
   "execution_count": 19,
   "id": "66e73f14",
   "metadata": {
    "execution": {
     "iopub.execute_input": "2025-07-25T16:44:18.665658Z",
     "iopub.status.busy": "2025-07-25T16:44:18.665346Z",
     "iopub.status.idle": "2025-07-25T16:44:18.685867Z",
     "shell.execute_reply": "2025-07-25T16:44:18.684951Z"
    },
    "papermill": {
     "duration": 0.035853,
     "end_time": "2025-07-25T16:44:18.687417",
     "exception": false,
     "start_time": "2025-07-25T16:44:18.651564",
     "status": "completed"
    },
    "tags": []
   },
   "outputs": [
    {
     "data": {
      "text/html": [
       "<style>#sk-container-id-4 {color: black;background-color: white;}#sk-container-id-4 pre{padding: 0;}#sk-container-id-4 div.sk-toggleable {background-color: white;}#sk-container-id-4 label.sk-toggleable__label {cursor: pointer;display: block;width: 100%;margin-bottom: 0;padding: 0.3em;box-sizing: border-box;text-align: center;}#sk-container-id-4 label.sk-toggleable__label-arrow:before {content: \"▸\";float: left;margin-right: 0.25em;color: #696969;}#sk-container-id-4 label.sk-toggleable__label-arrow:hover:before {color: black;}#sk-container-id-4 div.sk-estimator:hover label.sk-toggleable__label-arrow:before {color: black;}#sk-container-id-4 div.sk-toggleable__content {max-height: 0;max-width: 0;overflow: hidden;text-align: left;background-color: #f0f8ff;}#sk-container-id-4 div.sk-toggleable__content pre {margin: 0.2em;color: black;border-radius: 0.25em;background-color: #f0f8ff;}#sk-container-id-4 input.sk-toggleable__control:checked~div.sk-toggleable__content {max-height: 200px;max-width: 100%;overflow: auto;}#sk-container-id-4 input.sk-toggleable__control:checked~label.sk-toggleable__label-arrow:before {content: \"▾\";}#sk-container-id-4 div.sk-estimator input.sk-toggleable__control:checked~label.sk-toggleable__label {background-color: #d4ebff;}#sk-container-id-4 div.sk-label input.sk-toggleable__control:checked~label.sk-toggleable__label {background-color: #d4ebff;}#sk-container-id-4 input.sk-hidden--visually {border: 0;clip: rect(1px 1px 1px 1px);clip: rect(1px, 1px, 1px, 1px);height: 1px;margin: -1px;overflow: hidden;padding: 0;position: absolute;width: 1px;}#sk-container-id-4 div.sk-estimator {font-family: monospace;background-color: #f0f8ff;border: 1px dotted black;border-radius: 0.25em;box-sizing: border-box;margin-bottom: 0.5em;}#sk-container-id-4 div.sk-estimator:hover {background-color: #d4ebff;}#sk-container-id-4 div.sk-parallel-item::after {content: \"\";width: 100%;border-bottom: 1px solid gray;flex-grow: 1;}#sk-container-id-4 div.sk-label:hover label.sk-toggleable__label {background-color: #d4ebff;}#sk-container-id-4 div.sk-serial::before {content: \"\";position: absolute;border-left: 1px solid gray;box-sizing: border-box;top: 0;bottom: 0;left: 50%;z-index: 0;}#sk-container-id-4 div.sk-serial {display: flex;flex-direction: column;align-items: center;background-color: white;padding-right: 0.2em;padding-left: 0.2em;position: relative;}#sk-container-id-4 div.sk-item {position: relative;z-index: 1;}#sk-container-id-4 div.sk-parallel {display: flex;align-items: stretch;justify-content: center;background-color: white;position: relative;}#sk-container-id-4 div.sk-item::before, #sk-container-id-4 div.sk-parallel-item::before {content: \"\";position: absolute;border-left: 1px solid gray;box-sizing: border-box;top: 0;bottom: 0;left: 50%;z-index: -1;}#sk-container-id-4 div.sk-parallel-item {display: flex;flex-direction: column;z-index: 1;position: relative;background-color: white;}#sk-container-id-4 div.sk-parallel-item:first-child::after {align-self: flex-end;width: 50%;}#sk-container-id-4 div.sk-parallel-item:last-child::after {align-self: flex-start;width: 50%;}#sk-container-id-4 div.sk-parallel-item:only-child::after {width: 0;}#sk-container-id-4 div.sk-dashed-wrapped {border: 1px dashed gray;margin: 0 0.4em 0.5em 0.4em;box-sizing: border-box;padding-bottom: 0.4em;background-color: white;}#sk-container-id-4 div.sk-label label {font-family: monospace;font-weight: bold;display: inline-block;line-height: 1.2em;}#sk-container-id-4 div.sk-label-container {text-align: center;}#sk-container-id-4 div.sk-container {/* jupyter's `normalize.less` sets `[hidden] { display: none; }` but bootstrap.min.css set `[hidden] { display: none !important; }` so we also need the `!important` here to be able to override the default hidden behavior on the sphinx rendered scikit-learn.org. See: https://github.com/scikit-learn/scikit-learn/issues/21755 */display: inline-block !important;position: relative;}#sk-container-id-4 div.sk-text-repr-fallback {display: none;}</style><div id=\"sk-container-id-4\" class=\"sk-top-container\"><div class=\"sk-text-repr-fallback\"><pre>LinearRegression()</pre><b>In a Jupyter environment, please rerun this cell to show the HTML representation or trust the notebook. <br />On GitHub, the HTML representation is unable to render, please try loading this page with nbviewer.org.</b></div><div class=\"sk-container\" hidden><div class=\"sk-item\"><div class=\"sk-estimator sk-toggleable\"><input class=\"sk-toggleable__control sk-hidden--visually\" id=\"sk-estimator-id-4\" type=\"checkbox\" checked><label for=\"sk-estimator-id-4\" class=\"sk-toggleable__label sk-toggleable__label-arrow\">LinearRegression</label><div class=\"sk-toggleable__content\"><pre>LinearRegression()</pre></div></div></div></div></div>"
      ],
      "text/plain": [
       "LinearRegression()"
      ]
     },
     "execution_count": 19,
     "metadata": {},
     "output_type": "execute_result"
    }
   ],
   "source": [
    "lm.fit(Z, df['price'])"
   ]
  },
  {
   "cell_type": "code",
   "execution_count": 20,
   "id": "bfa3972e",
   "metadata": {
    "execution": {
     "iopub.execute_input": "2025-07-25T16:44:18.715319Z",
     "iopub.status.busy": "2025-07-25T16:44:18.715022Z",
     "iopub.status.idle": "2025-07-25T16:44:18.720159Z",
     "shell.execute_reply": "2025-07-25T16:44:18.719519Z"
    },
    "papermill": {
     "duration": 0.020371,
     "end_time": "2025-07-25T16:44:18.721445",
     "exception": false,
     "start_time": "2025-07-25T16:44:18.701074",
     "status": "completed"
    },
    "tags": []
   },
   "outputs": [
    {
     "data": {
      "text/plain": [
       "-15794.354371209747"
      ]
     },
     "execution_count": 20,
     "metadata": {},
     "output_type": "execute_result"
    }
   ],
   "source": [
    "lm.intercept_"
   ]
  },
  {
   "cell_type": "code",
   "execution_count": 21,
   "id": "1995f161",
   "metadata": {
    "execution": {
     "iopub.execute_input": "2025-07-25T16:44:18.749409Z",
     "iopub.status.busy": "2025-07-25T16:44:18.749131Z",
     "iopub.status.idle": "2025-07-25T16:44:18.755241Z",
     "shell.execute_reply": "2025-07-25T16:44:18.754224Z"
    },
    "papermill": {
     "duration": 0.021482,
     "end_time": "2025-07-25T16:44:18.756615",
     "exception": false,
     "start_time": "2025-07-25T16:44:18.735133",
     "status": "completed"
    },
    "tags": []
   },
   "outputs": [
    {
     "data": {
      "text/plain": [
       "array([53.5112049 ,  4.70487452, 81.53080659, 35.87654175])"
      ]
     },
     "execution_count": 21,
     "metadata": {},
     "output_type": "execute_result"
    }
   ],
   "source": [
    "lm.coef_"
   ]
  },
  {
   "cell_type": "markdown",
   "id": "fefe2ef2",
   "metadata": {
    "papermill": {
     "duration": 0.013441,
     "end_time": "2025-07-25T16:44:18.783811",
     "exception": false,
     "start_time": "2025-07-25T16:44:18.770370",
     "status": "completed"
    },
    "tags": []
   },
   "source": [
    "What is the final estimated linear model that we get?\n",
    "\n",
    "As we saw above, we should get a final linear function with the structure:\n",
    "\n",
    "$$\n",
    "Yhat = a + b_1 X_1 + b_2 X_2 + b_3 X_3 + b_4 X_4\n",
    "$$\n",
    "\n",
    "What is the linear function we get in this example?"
   ]
  },
  {
   "cell_type": "markdown",
   "id": "6af67f4d",
   "metadata": {
    "papermill": {
     "duration": 0.012653,
     "end_time": "2025-07-25T16:44:18.810444",
     "exception": false,
     "start_time": "2025-07-25T16:44:18.797791",
     "status": "completed"
    },
    "tags": []
   },
   "source": [
    "<b>Price</b> = -15794.35437120975 + 53.5112049  x <b>horsepower</b> + 4.70487452 x <b>curb-weight</b> + 81.53080659 x <b>engine-size</b> + 35.87654175 x <b>highway-L/100km</b>"
   ]
  },
  {
   "cell_type": "code",
   "execution_count": 22,
   "id": "44e8d3c5",
   "metadata": {
    "execution": {
     "iopub.execute_input": "2025-07-25T16:44:18.838467Z",
     "iopub.status.busy": "2025-07-25T16:44:18.838179Z",
     "iopub.status.idle": "2025-07-25T16:44:18.850235Z",
     "shell.execute_reply": "2025-07-25T16:44:18.849125Z"
    },
    "papermill": {
     "duration": 0.028413,
     "end_time": "2025-07-25T16:44:18.851889",
     "exception": false,
     "start_time": "2025-07-25T16:44:18.823476",
     "status": "completed"
    },
    "tags": []
   },
   "outputs": [
    {
     "data": {
      "text/html": [
       "<style>#sk-container-id-5 {color: black;background-color: white;}#sk-container-id-5 pre{padding: 0;}#sk-container-id-5 div.sk-toggleable {background-color: white;}#sk-container-id-5 label.sk-toggleable__label {cursor: pointer;display: block;width: 100%;margin-bottom: 0;padding: 0.3em;box-sizing: border-box;text-align: center;}#sk-container-id-5 label.sk-toggleable__label-arrow:before {content: \"▸\";float: left;margin-right: 0.25em;color: #696969;}#sk-container-id-5 label.sk-toggleable__label-arrow:hover:before {color: black;}#sk-container-id-5 div.sk-estimator:hover label.sk-toggleable__label-arrow:before {color: black;}#sk-container-id-5 div.sk-toggleable__content {max-height: 0;max-width: 0;overflow: hidden;text-align: left;background-color: #f0f8ff;}#sk-container-id-5 div.sk-toggleable__content pre {margin: 0.2em;color: black;border-radius: 0.25em;background-color: #f0f8ff;}#sk-container-id-5 input.sk-toggleable__control:checked~div.sk-toggleable__content {max-height: 200px;max-width: 100%;overflow: auto;}#sk-container-id-5 input.sk-toggleable__control:checked~label.sk-toggleable__label-arrow:before {content: \"▾\";}#sk-container-id-5 div.sk-estimator input.sk-toggleable__control:checked~label.sk-toggleable__label {background-color: #d4ebff;}#sk-container-id-5 div.sk-label input.sk-toggleable__control:checked~label.sk-toggleable__label {background-color: #d4ebff;}#sk-container-id-5 input.sk-hidden--visually {border: 0;clip: rect(1px 1px 1px 1px);clip: rect(1px, 1px, 1px, 1px);height: 1px;margin: -1px;overflow: hidden;padding: 0;position: absolute;width: 1px;}#sk-container-id-5 div.sk-estimator {font-family: monospace;background-color: #f0f8ff;border: 1px dotted black;border-radius: 0.25em;box-sizing: border-box;margin-bottom: 0.5em;}#sk-container-id-5 div.sk-estimator:hover {background-color: #d4ebff;}#sk-container-id-5 div.sk-parallel-item::after {content: \"\";width: 100%;border-bottom: 1px solid gray;flex-grow: 1;}#sk-container-id-5 div.sk-label:hover label.sk-toggleable__label {background-color: #d4ebff;}#sk-container-id-5 div.sk-serial::before {content: \"\";position: absolute;border-left: 1px solid gray;box-sizing: border-box;top: 0;bottom: 0;left: 50%;z-index: 0;}#sk-container-id-5 div.sk-serial {display: flex;flex-direction: column;align-items: center;background-color: white;padding-right: 0.2em;padding-left: 0.2em;position: relative;}#sk-container-id-5 div.sk-item {position: relative;z-index: 1;}#sk-container-id-5 div.sk-parallel {display: flex;align-items: stretch;justify-content: center;background-color: white;position: relative;}#sk-container-id-5 div.sk-item::before, #sk-container-id-5 div.sk-parallel-item::before {content: \"\";position: absolute;border-left: 1px solid gray;box-sizing: border-box;top: 0;bottom: 0;left: 50%;z-index: -1;}#sk-container-id-5 div.sk-parallel-item {display: flex;flex-direction: column;z-index: 1;position: relative;background-color: white;}#sk-container-id-5 div.sk-parallel-item:first-child::after {align-self: flex-end;width: 50%;}#sk-container-id-5 div.sk-parallel-item:last-child::after {align-self: flex-start;width: 50%;}#sk-container-id-5 div.sk-parallel-item:only-child::after {width: 0;}#sk-container-id-5 div.sk-dashed-wrapped {border: 1px dashed gray;margin: 0 0.4em 0.5em 0.4em;box-sizing: border-box;padding-bottom: 0.4em;background-color: white;}#sk-container-id-5 div.sk-label label {font-family: monospace;font-weight: bold;display: inline-block;line-height: 1.2em;}#sk-container-id-5 div.sk-label-container {text-align: center;}#sk-container-id-5 div.sk-container {/* jupyter's `normalize.less` sets `[hidden] { display: none; }` but bootstrap.min.css set `[hidden] { display: none !important; }` so we also need the `!important` here to be able to override the default hidden behavior on the sphinx rendered scikit-learn.org. See: https://github.com/scikit-learn/scikit-learn/issues/21755 */display: inline-block !important;position: relative;}#sk-container-id-5 div.sk-text-repr-fallback {display: none;}</style><div id=\"sk-container-id-5\" class=\"sk-top-container\"><div class=\"sk-text-repr-fallback\"><pre>LinearRegression()</pre><b>In a Jupyter environment, please rerun this cell to show the HTML representation or trust the notebook. <br />On GitHub, the HTML representation is unable to render, please try loading this page with nbviewer.org.</b></div><div class=\"sk-container\" hidden><div class=\"sk-item\"><div class=\"sk-estimator sk-toggleable\"><input class=\"sk-toggleable__control sk-hidden--visually\" id=\"sk-estimator-id-5\" type=\"checkbox\" checked><label for=\"sk-estimator-id-5\" class=\"sk-toggleable__label sk-toggleable__label-arrow\">LinearRegression</label><div class=\"sk-toggleable__content\"><pre>LinearRegression()</pre></div></div></div></div></div>"
      ],
      "text/plain": [
       "LinearRegression()"
      ]
     },
     "execution_count": 22,
     "metadata": {},
     "output_type": "execute_result"
    }
   ],
   "source": [
    "lm2 = LinearRegression()\n",
    "lm2.fit(df[['normalized-losses', 'highway-L/100km']], df['price'])"
   ]
  },
  {
   "cell_type": "code",
   "execution_count": 23,
   "id": "0b0fee5e",
   "metadata": {
    "execution": {
     "iopub.execute_input": "2025-07-25T16:44:18.881104Z",
     "iopub.status.busy": "2025-07-25T16:44:18.880623Z",
     "iopub.status.idle": "2025-07-25T16:44:18.886564Z",
     "shell.execute_reply": "2025-07-25T16:44:18.885784Z"
    },
    "papermill": {
     "duration": 0.02178,
     "end_time": "2025-07-25T16:44:18.888117",
     "exception": false,
     "start_time": "2025-07-25T16:44:18.866337",
     "status": "completed"
    },
    "tags": []
   },
   "outputs": [
    {
     "data": {
      "text/plain": [
       "array([   1.45409594, -821.58496582])"
      ]
     },
     "execution_count": 23,
     "metadata": {},
     "output_type": "execute_result"
    }
   ],
   "source": [
    "lm2.coef_"
   ]
  },
  {
   "cell_type": "code",
   "execution_count": 24,
   "id": "2366a464",
   "metadata": {
    "execution": {
     "iopub.execute_input": "2025-07-25T16:44:18.917392Z",
     "iopub.status.busy": "2025-07-25T16:44:18.917048Z",
     "iopub.status.idle": "2025-07-25T16:44:19.364833Z",
     "shell.execute_reply": "2025-07-25T16:44:19.363895Z"
    },
    "papermill": {
     "duration": 0.464621,
     "end_time": "2025-07-25T16:44:19.366267",
     "exception": false,
     "start_time": "2025-07-25T16:44:18.901646",
     "status": "completed"
    },
    "tags": []
   },
   "outputs": [
    {
     "data": {
      "image/png": "[encoded data removed]",
      "text/plain": [
       "<Figure size 1200x1000 with 1 Axes>"
      ]
     },
     "metadata": {},
     "output_type": "display_data"
    }
   ],
   "source": [
    "width = 12\n",
    "height = 10\n",
    "plt.figure(figsize=(width, height))\n",
    "sns.regplot(x=\"highway-L/100km\", y=\"price\", data=df)\n",
    "plt.ylim(0,)\n",
    "plt.show()"
   ]
  },
  {
   "cell_type": "code",
   "execution_count": 25,
   "id": "1664df5a",
   "metadata": {
    "execution": {
     "iopub.execute_input": "2025-07-25T16:44:19.398037Z",
     "iopub.status.busy": "2025-07-25T16:44:19.397397Z",
     "iopub.status.idle": "2025-07-25T16:44:19.670181Z",
     "shell.execute_reply": "2025-07-25T16:44:19.669271Z"
    },
    "papermill": {
     "duration": 0.290623,
     "end_time": "2025-07-25T16:44:19.672091",
     "exception": false,
     "start_time": "2025-07-25T16:44:19.381468",
     "status": "completed"
    },
    "tags": []
   },
   "outputs": [
    {
     "data": {
      "image/png": "[encoded data removed]",
      "text/plain": [
       "<Figure size 1200x1000 with 1 Axes>"
      ]
     },
     "metadata": {},
     "output_type": "display_data"
    }
   ],
   "source": [
    "plt.figure(figsize=(width, height))\n",
    "sns.regplot(x=\"peak-rpm\", y=\"price\", data=df)\n",
    "plt.ylim(0,)\n",
    "plt.show()"
   ]
  },
  {
   "cell_type": "code",
   "execution_count": 26,
   "id": "226ccda5",
   "metadata": {
    "execution": {
     "iopub.execute_input": "2025-07-25T16:44:19.704954Z",
     "iopub.status.busy": "2025-07-25T16:44:19.704571Z",
     "iopub.status.idle": "2025-07-25T16:44:19.718018Z",
     "shell.execute_reply": "2025-07-25T16:44:19.716898Z"
    },
    "papermill": {
     "duration": 0.031394,
     "end_time": "2025-07-25T16:44:19.719470",
     "exception": false,
     "start_time": "2025-07-25T16:44:19.688076",
     "status": "completed"
    },
    "tags": []
   },
   "outputs": [
    {
     "data": {
      "text/html": [
       "<div>\n",
       "<style scoped>\n",
       "    .dataframe tbody tr th:only-of-type {\n",
       "        vertical-align: middle;\n",
       "    }\n",
       "\n",
       "    .dataframe tbody tr th {\n",
       "        vertical-align: top;\n",
       "    }\n",
       "\n",
       "    .dataframe thead th {\n",
       "        text-align: right;\n",
       "    }\n",
       "</style>\n",
       "<table border=\"1\" class=\"dataframe\">\n",
       "  <thead>\n",
       "    <tr style=\"text-align: right;\">\n",
       "      <th></th>\n",
       "      <th>peak-rpm</th>\n",
       "      <th>highway-L/100km</th>\n",
       "      <th>price</th>\n",
       "    </tr>\n",
       "  </thead>\n",
       "  <tbody>\n",
       "    <tr>\n",
       "      <th>peak-rpm</th>\n",
       "      <td>1.000000</td>\n",
       "      <td>-0.059319</td>\n",
       "      <td>-0.101593</td>\n",
       "    </tr>\n",
       "    <tr>\n",
       "      <th>highway-L/100km</th>\n",
       "      <td>-0.059319</td>\n",
       "      <td>1.000000</td>\n",
       "      <td>-0.705115</td>\n",
       "    </tr>\n",
       "    <tr>\n",
       "      <th>price</th>\n",
       "      <td>-0.101593</td>\n",
       "      <td>-0.705115</td>\n",
       "      <td>1.000000</td>\n",
       "    </tr>\n",
       "  </tbody>\n",
       "</table>\n",
       "</div>"
      ],
      "text/plain": [
       "                 peak-rpm  highway-L/100km     price\n",
       "peak-rpm         1.000000        -0.059319 -0.101593\n",
       "highway-L/100km -0.059319         1.000000 -0.705115\n",
       "price           -0.101593        -0.705115  1.000000"
      ]
     },
     "execution_count": 26,
     "metadata": {},
     "output_type": "execute_result"
    }
   ],
   "source": [
    "df[[\"peak-rpm\",\"highway-L/100km\",\"price\"]].corr()\n"
   ]
  },
  {
   "cell_type": "code",
   "execution_count": 27,
   "id": "c28b5936",
   "metadata": {
    "execution": {
     "iopub.execute_input": "2025-07-25T16:44:19.753559Z",
     "iopub.status.busy": "2025-07-25T16:44:19.753244Z",
     "iopub.status.idle": "2025-07-25T16:44:19.963638Z",
     "shell.execute_reply": "2025-07-25T16:44:19.962679Z"
    },
    "papermill": {
     "duration": 0.229392,
     "end_time": "2025-07-25T16:44:19.965398",
     "exception": false,
     "start_time": "2025-07-25T16:44:19.736006",
     "status": "completed"
    },
    "tags": []
   },
   "outputs": [
    {
     "data": {
      "image/png": "[encoded data removed]",
      "text/plain": [
       "<Figure size 1200x1000 with 1 Axes>"
      ]
     },
     "metadata": {},
     "output_type": "display_data"
    }
   ],
   "source": [
    "width = 12\n",
    "height = 10\n",
    "plt.figure(figsize=(width, height))\n",
    "sns.residplot(x=df['highway-L/100km'], y=df['price'])\n",
    "plt.show()"
   ]
  },
  {
   "cell_type": "code",
   "execution_count": 28,
   "id": "d070f537",
   "metadata": {
    "execution": {
     "iopub.execute_input": "2025-07-25T16:44:20.001233Z",
     "iopub.status.busy": "2025-07-25T16:44:20.000928Z",
     "iopub.status.idle": "2025-07-25T16:44:20.007153Z",
     "shell.execute_reply": "2025-07-25T16:44:20.006307Z"
    },
    "papermill": {
     "duration": 0.025641,
     "end_time": "2025-07-25T16:44:20.008685",
     "exception": false,
     "start_time": "2025-07-25T16:44:19.983044",
     "status": "completed"
    },
    "tags": []
   },
   "outputs": [],
   "source": [
    "Y_hat = lm.predict(Z)"
   ]
  },
  {
   "cell_type": "code",
   "execution_count": 29,
   "id": "6ecc554e",
   "metadata": {
    "execution": {
     "iopub.execute_input": "2025-07-25T16:44:20.044570Z",
     "iopub.status.busy": "2025-07-25T16:44:20.044278Z",
     "iopub.status.idle": "2025-07-25T16:44:20.358391Z",
     "shell.execute_reply": "2025-07-25T16:44:20.357021Z"
    },
    "papermill": {
     "duration": 0.334556,
     "end_time": "2025-07-25T16:44:20.360231",
     "exception": false,
     "start_time": "2025-07-25T16:44:20.025675",
     "status": "completed"
    },
    "tags": []
   },
   "outputs": [
    {
     "name": "stderr",
     "output_type": "stream",
     "text": [
      "/usr/local/lib/python3.11/dist-packages/seaborn/_oldcore.py:1119: FutureWarning: use_inf_as_na option is deprecated and will be removed in a future version. Convert inf values to NaN before operating instead.\n",
      "  with pd.option_context('mode.use_inf_as_na', True):\n",
      "/usr/local/lib/python3.11/dist-packages/seaborn/_oldcore.py:1119: FutureWarning: use_inf_as_na option is deprecated and will be removed in a future version. Convert inf values to NaN before operating instead.\n",
      "  with pd.option_context('mode.use_inf_as_na', True):\n"
     ]
    },
    {
     "data": {
      "image/png": "[encoded data removed]",
      "text/plain": [
       "<Figure size 1000x600 with 1 Axes>"
      ]
     },
     "metadata": {},
     "output_type": "display_data"
    }
   ],
   "source": [
    "\n",
    "plt.figure(figsize=(10, 6))\n",
    "\n",
    "\n",
    "ax1 = sns.kdeplot(data=df['price'], color=\"r\", label=\"Actual Value\")\n",
    "sns.kdeplot(data=Y_hat, color=\"b\", label=\"Fitted Values\", ax=ax1)\n",
    "\n",
    "plt.title('Actual vs Fitted Values for Price')\n",
    "plt.xlabel('Price (in dollars)')\n",
    "plt.ylabel('Density')\n",
    "plt.legend()\n",
    "\n",
    "plt.show()\n",
    "plt.close()"
   ]
  },
  {
   "cell_type": "code",
   "execution_count": 30,
   "id": "3b6f5f90",
   "metadata": {
    "execution": {
     "iopub.execute_input": "2025-07-25T16:44:20.399309Z",
     "iopub.status.busy": "2025-07-25T16:44:20.398998Z",
     "iopub.status.idle": "2025-07-25T16:44:20.405021Z",
     "shell.execute_reply": "2025-07-25T16:44:20.404016Z"
    },
    "papermill": {
     "duration": 0.026914,
     "end_time": "2025-07-25T16:44:20.406519",
     "exception": false,
     "start_time": "2025-07-25T16:44:20.379605",
     "status": "completed"
    },
    "tags": []
   },
   "outputs": [],
   "source": [
    "def PlotPolly(model, independent_variable, dependent_variabble, Name):\n",
    "    x_new = np.linspace(15, 55, 100)\n",
    "    y_new = model(x_new)\n",
    "\n",
    "    plt.plot(independent_variable, dependent_variabble, '.', x_new, y_new, '-')\n",
    "    plt.title('Polynomial Fit with Matplotlib for Price ~ Length')\n",
    "    ax = plt.gca()\n",
    "    ax.set_facecolor((0.898, 0.898, 0.898))\n",
    "    fig = plt.gcf()\n",
    "    plt.xlabel(Name)\n",
    "    plt.ylabel('Price of Cars')\n",
    "\n",
    "    plt.show()\n",
    "    plt.close()"
   ]
  },
  {
   "cell_type": "code",
   "execution_count": 31,
   "id": "9bd0410d",
   "metadata": {
    "execution": {
     "iopub.execute_input": "2025-07-25T16:44:20.447273Z",
     "iopub.status.busy": "2025-07-25T16:44:20.446974Z",
     "iopub.status.idle": "2025-07-25T16:44:20.451315Z",
     "shell.execute_reply": "2025-07-25T16:44:20.450464Z"
    },
    "papermill": {
     "duration": 0.02775,
     "end_time": "2025-07-25T16:44:20.452922",
     "exception": false,
     "start_time": "2025-07-25T16:44:20.425172",
     "status": "completed"
    },
    "tags": []
   },
   "outputs": [],
   "source": [
    "x = df['highway-L/100km']\n",
    "y = df['price']"
   ]
  },
  {
   "cell_type": "code",
   "execution_count": 32,
   "id": "c14a9346",
   "metadata": {
    "execution": {
     "iopub.execute_input": "2025-07-25T16:44:20.490277Z",
     "iopub.status.busy": "2025-07-25T16:44:20.489952Z",
     "iopub.status.idle": "2025-07-25T16:44:20.498810Z",
     "shell.execute_reply": "2025-07-25T16:44:20.497811Z"
    },
    "papermill": {
     "duration": 0.029131,
     "end_time": "2025-07-25T16:44:20.500255",
     "exception": false,
     "start_time": "2025-07-25T16:44:20.471124",
     "status": "completed"
    },
    "tags": []
   },
   "outputs": [
    {
     "name": "stdout",
     "output_type": "stream",
     "text": [
      "        3         2\n",
      "-1.552 x + 204.2 x - 8948 x + 1.378e+05\n"
     ]
    }
   ],
   "source": [
    "f = np.polyfit(x, y, 3)\n",
    "p = np.poly1d(f)\n",
    "print(p)"
   ]
  },
  {
   "cell_type": "code",
   "execution_count": 33,
   "id": "b10479a2",
   "metadata": {
    "execution": {
     "iopub.execute_input": "2025-07-25T16:44:20.537436Z",
     "iopub.status.busy": "2025-07-25T16:44:20.537117Z",
     "iopub.status.idle": "2025-07-25T16:44:20.740211Z",
     "shell.execute_reply": "2025-07-25T16:44:20.739142Z"
    },
    "papermill": {
     "duration": 0.223357,
     "end_time": "2025-07-25T16:44:20.741757",
     "exception": false,
     "start_time": "2025-07-25T16:44:20.518400",
     "status": "completed"
    },
    "tags": []
   },
   "outputs": [
    {
     "data": {
      "image/png": "[encoded data removed]",
      "text/plain": [
       "<Figure size 640x480 with 1 Axes>"
      ]
     },
     "metadata": {},
     "output_type": "display_data"
    }
   ],
   "source": [
    "PlotPolly(p, x, y, 'highway-L/100km')"
   ]
  },
  {
   "cell_type": "code",
   "execution_count": 34,
   "id": "ea7e8edb",
   "metadata": {
    "execution": {
     "iopub.execute_input": "2025-07-25T16:44:20.782468Z",
     "iopub.status.busy": "2025-07-25T16:44:20.782145Z",
     "iopub.status.idle": "2025-07-25T16:44:20.789603Z",
     "shell.execute_reply": "2025-07-25T16:44:20.788801Z"
    },
    "papermill": {
     "duration": 0.029357,
     "end_time": "2025-07-25T16:44:20.791323",
     "exception": false,
     "start_time": "2025-07-25T16:44:20.761966",
     "status": "completed"
    },
    "tags": []
   },
   "outputs": [
    {
     "data": {
      "text/plain": [
       "array([-1.55173297e+00,  2.04232144e+02, -8.94817574e+03,  1.37751367e+05])"
      ]
     },
     "execution_count": 34,
     "metadata": {},
     "output_type": "execute_result"
    }
   ],
   "source": [
    "np.polyfit(x, y, 3)"
   ]
  },
  {
   "cell_type": "code",
   "execution_count": 35,
   "id": "2936f2d1",
   "metadata": {
    "execution": {
     "iopub.execute_input": "2025-07-25T16:44:20.832227Z",
     "iopub.status.busy": "2025-07-25T16:44:20.831887Z",
     "iopub.status.idle": "2025-07-25T16:44:21.041011Z",
     "shell.execute_reply": "2025-07-25T16:44:21.040106Z"
    },
    "papermill": {
     "duration": 0.230698,
     "end_time": "2025-07-25T16:44:21.042590",
     "exception": false,
     "start_time": "2025-07-25T16:44:20.811892",
     "status": "completed"
    },
    "tags": []
   },
   "outputs": [
    {
     "name": "stdout",
     "output_type": "stream",
     "text": [
      "            11             10             9           8         7\n",
      "-1.273e-08 x  + 4.839e-06 x  - 0.0008229 x + 0.08259 x - 5.432 x\n",
      "          6        5             4             3            2\n",
      " + 245.6 x - 7786 x + 1.729e+05 x - 2.634e+06 x + 2.62e+07 x - 1.532e+08 x + 3.987e+08\n"
     ]
    },
    {
     "data": {
      "image/png": "[encoded data removed]",
      "text/plain": [
       "<Figure size 640x480 with 1 Axes>"
      ]
     },
     "metadata": {},
     "output_type": "display_data"
    }
   ],
   "source": [
    "f1 = np.polyfit(x,y,11)\n",
    "p1 = np.poly1d(f1)\n",
    "print(p1)\n",
    "PlotPolly(p1,x,y, 'highway-L/100km')"
   ]
  },
  {
   "cell_type": "code",
   "execution_count": 36,
   "id": "bc4f9df3",
   "metadata": {
    "execution": {
     "iopub.execute_input": "2025-07-25T16:44:21.085592Z",
     "iopub.status.busy": "2025-07-25T16:44:21.085313Z",
     "iopub.status.idle": "2025-07-25T16:44:21.089650Z",
     "shell.execute_reply": "2025-07-25T16:44:21.088773Z"
    },
    "papermill": {
     "duration": 0.027131,
     "end_time": "2025-07-25T16:44:21.091195",
     "exception": false,
     "start_time": "2025-07-25T16:44:21.064064",
     "status": "completed"
    },
    "tags": []
   },
   "outputs": [],
   "source": [
    "from sklearn.preprocessing import PolynomialFeatures"
   ]
  },
  {
   "cell_type": "code",
   "execution_count": 37,
   "id": "043ca10b",
   "metadata": {
    "execution": {
     "iopub.execute_input": "2025-07-25T16:44:21.132506Z",
     "iopub.status.busy": "2025-07-25T16:44:21.132210Z",
     "iopub.status.idle": "2025-07-25T16:44:21.138750Z",
     "shell.execute_reply": "2025-07-25T16:44:21.137845Z"
    },
    "papermill": {
     "duration": 0.029379,
     "end_time": "2025-07-25T16:44:21.140564",
     "exception": false,
     "start_time": "2025-07-25T16:44:21.111185",
     "status": "completed"
    },
    "tags": []
   },
   "outputs": [
    {
     "data": {
      "text/html": [
       "<style>#sk-container-id-6 {color: black;background-color: white;}#sk-container-id-6 pre{padding: 0;}#sk-container-id-6 div.sk-toggleable {background-color: white;}#sk-container-id-6 label.sk-toggleable__label {cursor: pointer;display: block;width: 100%;margin-bottom: 0;padding: 0.3em;box-sizing: border-box;text-align: center;}#sk-container-id-6 label.sk-toggleable__label-arrow:before {content: \"▸\";float: left;margin-right: 0.25em;color: #696969;}#sk-container-id-6 label.sk-toggleable__label-arrow:hover:before {color: black;}#sk-container-id-6 div.sk-estimator:hover label.sk-toggleable__label-arrow:before {color: black;}#sk-container-id-6 div.sk-toggleable__content {max-height: 0;max-width: 0;overflow: hidden;text-align: left;background-color: #f0f8ff;}#sk-container-id-6 div.sk-toggleable__content pre {margin: 0.2em;color: black;border-radius: 0.25em;background-color: #f0f8ff;}#sk-container-id-6 input.sk-toggleable__control:checked~div.sk-toggleable__content {max-height: 200px;max-width: 100%;overflow: auto;}#sk-container-id-6 input.sk-toggleable__control:checked~label.sk-toggleable__label-arrow:before {content: \"▾\";}#sk-container-id-6 div.sk-estimator input.sk-toggleable__control:checked~label.sk-toggleable__label {background-color: #d4ebff;}#sk-container-id-6 div.sk-label input.sk-toggleable__control:checked~label.sk-toggleable__label {background-color: #d4ebff;}#sk-container-id-6 input.sk-hidden--visually {border: 0;clip: rect(1px 1px 1px 1px);clip: rect(1px, 1px, 1px, 1px);height: 1px;margin: -1px;overflow: hidden;padding: 0;position: absolute;width: 1px;}#sk-container-id-6 div.sk-estimator {font-family: monospace;background-color: #f0f8ff;border: 1px dotted black;border-radius: 0.25em;box-sizing: border-box;margin-bottom: 0.5em;}#sk-container-id-6 div.sk-estimator:hover {background-color: #d4ebff;}#sk-container-id-6 div.sk-parallel-item::after {content: \"\";width: 100%;border-bottom: 1px solid gray;flex-grow: 1;}#sk-container-id-6 div.sk-label:hover label.sk-toggleable__label {background-color: #d4ebff;}#sk-container-id-6 div.sk-serial::before {content: \"\";position: absolute;border-left: 1px solid gray;box-sizing: border-box;top: 0;bottom: 0;left: 50%;z-index: 0;}#sk-container-id-6 div.sk-serial {display: flex;flex-direction: column;align-items: center;background-color: white;padding-right: 0.2em;padding-left: 0.2em;position: relative;}#sk-container-id-6 div.sk-item {position: relative;z-index: 1;}#sk-container-id-6 div.sk-parallel {display: flex;align-items: stretch;justify-content: center;background-color: white;position: relative;}#sk-container-id-6 div.sk-item::before, #sk-container-id-6 div.sk-parallel-item::before {content: \"\";position: absolute;border-left: 1px solid gray;box-sizing: border-box;top: 0;bottom: 0;left: 50%;z-index: -1;}#sk-container-id-6 div.sk-parallel-item {display: flex;flex-direction: column;z-index: 1;position: relative;background-color: white;}#sk-container-id-6 div.sk-parallel-item:first-child::after {align-self: flex-end;width: 50%;}#sk-container-id-6 div.sk-parallel-item:last-child::after {align-self: flex-start;width: 50%;}#sk-container-id-6 div.sk-parallel-item:only-child::after {width: 0;}#sk-container-id-6 div.sk-dashed-wrapped {border: 1px dashed gray;margin: 0 0.4em 0.5em 0.4em;box-sizing: border-box;padding-bottom: 0.4em;background-color: white;}#sk-container-id-6 div.sk-label label {font-family: monospace;font-weight: bold;display: inline-block;line-height: 1.2em;}#sk-container-id-6 div.sk-label-container {text-align: center;}#sk-container-id-6 div.sk-container {/* jupyter's `normalize.less` sets `[hidden] { display: none; }` but bootstrap.min.css set `[hidden] { display: none !important; }` so we also need the `!important` here to be able to override the default hidden behavior on the sphinx rendered scikit-learn.org. See: https://github.com/scikit-learn/scikit-learn/issues/21755 */display: inline-block !important;position: relative;}#sk-container-id-6 div.sk-text-repr-fallback {display: none;}</style><div id=\"sk-container-id-6\" class=\"sk-top-container\"><div class=\"sk-text-repr-fallback\"><pre>PolynomialFeatures()</pre><b>In a Jupyter environment, please rerun this cell to show the HTML representation or trust the notebook. <br />On GitHub, the HTML representation is unable to render, please try loading this page with nbviewer.org.</b></div><div class=\"sk-container\" hidden><div class=\"sk-item\"><div class=\"sk-estimator sk-toggleable\"><input class=\"sk-toggleable__control sk-hidden--visually\" id=\"sk-estimator-id-6\" type=\"checkbox\" checked><label for=\"sk-estimator-id-6\" class=\"sk-toggleable__label sk-toggleable__label-arrow\">PolynomialFeatures</label><div class=\"sk-toggleable__content\"><pre>PolynomialFeatures()</pre></div></div></div></div></div>"
      ],
      "text/plain": [
       "PolynomialFeatures()"
      ]
     },
     "execution_count": 37,
     "metadata": {},
     "output_type": "execute_result"
    }
   ],
   "source": [
    "pr=PolynomialFeatures(degree=2)\n",
    "pr"
   ]
  },
  {
   "cell_type": "code",
   "execution_count": 38,
   "id": "b25b8afe",
   "metadata": {
    "execution": {
     "iopub.execute_input": "2025-07-25T16:44:21.182285Z",
     "iopub.status.busy": "2025-07-25T16:44:21.182009Z",
     "iopub.status.idle": "2025-07-25T16:44:21.188745Z",
     "shell.execute_reply": "2025-07-25T16:44:21.187886Z"
    },
    "papermill": {
     "duration": 0.029222,
     "end_time": "2025-07-25T16:44:21.190343",
     "exception": false,
     "start_time": "2025-07-25T16:44:21.161121",
     "status": "completed"
    },
    "tags": []
   },
   "outputs": [],
   "source": [
    "Z_pr=pr.fit_transform(Z)"
   ]
  },
  {
   "cell_type": "code",
   "execution_count": 39,
   "id": "8d4874a3",
   "metadata": {
    "execution": {
     "iopub.execute_input": "2025-07-25T16:44:21.233174Z",
     "iopub.status.busy": "2025-07-25T16:44:21.232896Z",
     "iopub.status.idle": "2025-07-25T16:44:21.238623Z",
     "shell.execute_reply": "2025-07-25T16:44:21.237761Z"
    },
    "papermill": {
     "duration": 0.029524,
     "end_time": "2025-07-25T16:44:21.240283",
     "exception": false,
     "start_time": "2025-07-25T16:44:21.210759",
     "status": "completed"
    },
    "tags": []
   },
   "outputs": [
    {
     "data": {
      "text/plain": [
       "(200, 4)"
      ]
     },
     "execution_count": 39,
     "metadata": {},
     "output_type": "execute_result"
    }
   ],
   "source": [
    "Z.shape"
   ]
  },
  {
   "cell_type": "code",
   "execution_count": 40,
   "id": "81d91f33",
   "metadata": {
    "execution": {
     "iopub.execute_input": "2025-07-25T16:44:21.283644Z",
     "iopub.status.busy": "2025-07-25T16:44:21.283333Z",
     "iopub.status.idle": "2025-07-25T16:44:21.289129Z",
     "shell.execute_reply": "2025-07-25T16:44:21.287925Z"
    },
    "papermill": {
     "duration": 0.029467,
     "end_time": "2025-07-25T16:44:21.290869",
     "exception": false,
     "start_time": "2025-07-25T16:44:21.261402",
     "status": "completed"
    },
    "tags": []
   },
   "outputs": [
    {
     "data": {
      "text/plain": [
       "(200, 15)"
      ]
     },
     "execution_count": 40,
     "metadata": {},
     "output_type": "execute_result"
    }
   ],
   "source": [
    "Z_pr.shape"
   ]
  },
  {
   "cell_type": "code",
   "execution_count": 41,
   "id": "faba4464",
   "metadata": {
    "execution": {
     "iopub.execute_input": "2025-07-25T16:44:21.332630Z",
     "iopub.status.busy": "2025-07-25T16:44:21.332303Z",
     "iopub.status.idle": "2025-07-25T16:44:21.345705Z",
     "shell.execute_reply": "2025-07-25T16:44:21.344709Z"
    },
    "papermill": {
     "duration": 0.036244,
     "end_time": "2025-07-25T16:44:21.347370",
     "exception": false,
     "start_time": "2025-07-25T16:44:21.311126",
     "status": "completed"
    },
    "tags": []
   },
   "outputs": [],
   "source": [
    "from sklearn.pipeline import Pipeline\n",
    "from sklearn.preprocessing import StandardScaler"
   ]
  },
  {
   "cell_type": "code",
   "execution_count": 42,
   "id": "129dbe45",
   "metadata": {
    "execution": {
     "iopub.execute_input": "2025-07-25T16:44:21.389806Z",
     "iopub.status.busy": "2025-07-25T16:44:21.389430Z",
     "iopub.status.idle": "2025-07-25T16:44:21.394266Z",
     "shell.execute_reply": "2025-07-25T16:44:21.393317Z"
    },
    "papermill": {
     "duration": 0.028075,
     "end_time": "2025-07-25T16:44:21.396149",
     "exception": false,
     "start_time": "2025-07-25T16:44:21.368074",
     "status": "completed"
    },
    "tags": []
   },
   "outputs": [],
   "source": [
    "Input=[('scale',StandardScaler()), ('polynomial', PolynomialFeatures(include_bias=False)), ('model',LinearRegression())]"
   ]
  },
  {
   "cell_type": "code",
   "execution_count": 43,
   "id": "72a62273",
   "metadata": {
    "execution": {
     "iopub.execute_input": "2025-07-25T16:44:21.438317Z",
     "iopub.status.busy": "2025-07-25T16:44:21.437568Z",
     "iopub.status.idle": "2025-07-25T16:44:21.446796Z",
     "shell.execute_reply": "2025-07-25T16:44:21.445787Z"
    },
    "papermill": {
     "duration": 0.031941,
     "end_time": "2025-07-25T16:44:21.448199",
     "exception": false,
     "start_time": "2025-07-25T16:44:21.416258",
     "status": "completed"
    },
    "tags": []
   },
   "outputs": [
    {
     "data": {
      "text/html": [
       "<style>#sk-container-id-7 {color: black;background-color: white;}#sk-container-id-7 pre{padding: 0;}#sk-container-id-7 div.sk-toggleable {background-color: white;}#sk-container-id-7 label.sk-toggleable__label {cursor: pointer;display: block;width: 100%;margin-bottom: 0;padding: 0.3em;box-sizing: border-box;text-align: center;}#sk-container-id-7 label.sk-toggleable__label-arrow:before {content: \"▸\";float: left;margin-right: 0.25em;color: #696969;}#sk-container-id-7 label.sk-toggleable__label-arrow:hover:before {color: black;}#sk-container-id-7 div.sk-estimator:hover label.sk-toggleable__label-arrow:before {color: black;}#sk-container-id-7 div.sk-toggleable__content {max-height: 0;max-width: 0;overflow: hidden;text-align: left;background-color: #f0f8ff;}#sk-container-id-7 div.sk-toggleable__content pre {margin: 0.2em;color: black;border-radius: 0.25em;background-color: #f0f8ff;}#sk-container-id-7 input.sk-toggleable__control:checked~div.sk-toggleable__content {max-height: 200px;max-width: 100%;overflow: auto;}#sk-container-id-7 input.sk-toggleable__control:checked~label.sk-toggleable__label-arrow:before {content: \"▾\";}#sk-container-id-7 div.sk-estimator input.sk-toggleable__control:checked~label.sk-toggleable__label {background-color: #d4ebff;}#sk-container-id-7 div.sk-label input.sk-toggleable__control:checked~label.sk-toggleable__label {background-color: #d4ebff;}#sk-container-id-7 input.sk-hidden--visually {border: 0;clip: rect(1px 1px 1px 1px);clip: rect(1px, 1px, 1px, 1px);height: 1px;margin: -1px;overflow: hidden;padding: 0;position: absolute;width: 1px;}#sk-container-id-7 div.sk-estimator {font-family: monospace;background-color: #f0f8ff;border: 1px dotted black;border-radius: 0.25em;box-sizing: border-box;margin-bottom: 0.5em;}#sk-container-id-7 div.sk-estimator:hover {background-color: #d4ebff;}#sk-container-id-7 div.sk-parallel-item::after {content: \"\";width: 100%;border-bottom: 1px solid gray;flex-grow: 1;}#sk-container-id-7 div.sk-label:hover label.sk-toggleable__label {background-color: #d4ebff;}#sk-container-id-7 div.sk-serial::before {content: \"\";position: absolute;border-left: 1px solid gray;box-sizing: border-box;top: 0;bottom: 0;left: 50%;z-index: 0;}#sk-container-id-7 div.sk-serial {display: flex;flex-direction: column;align-items: center;background-color: white;padding-right: 0.2em;padding-left: 0.2em;position: relative;}#sk-container-id-7 div.sk-item {position: relative;z-index: 1;}#sk-container-id-7 div.sk-parallel {display: flex;align-items: stretch;justify-content: center;background-color: white;position: relative;}#sk-container-id-7 div.sk-item::before, #sk-container-id-7 div.sk-parallel-item::before {content: \"\";position: absolute;border-left: 1px solid gray;box-sizing: border-box;top: 0;bottom: 0;left: 50%;z-index: -1;}#sk-container-id-7 div.sk-parallel-item {display: flex;flex-direction: column;z-index: 1;position: relative;background-color: white;}#sk-container-id-7 div.sk-parallel-item:first-child::after {align-self: flex-end;width: 50%;}#sk-container-id-7 div.sk-parallel-item:last-child::after {align-self: flex-start;width: 50%;}#sk-container-id-7 div.sk-parallel-item:only-child::after {width: 0;}#sk-container-id-7 div.sk-dashed-wrapped {border: 1px dashed gray;margin: 0 0.4em 0.5em 0.4em;box-sizing: border-box;padding-bottom: 0.4em;background-color: white;}#sk-container-id-7 div.sk-label label {font-family: monospace;font-weight: bold;display: inline-block;line-height: 1.2em;}#sk-container-id-7 div.sk-label-container {text-align: center;}#sk-container-id-7 div.sk-container {/* jupyter's `normalize.less` sets `[hidden] { display: none; }` but bootstrap.min.css set `[hidden] { display: none !important; }` so we also need the `!important` here to be able to override the default hidden behavior on the sphinx rendered scikit-learn.org. See: https://github.com/scikit-learn/scikit-learn/issues/21755 */display: inline-block !important;position: relative;}#sk-container-id-7 div.sk-text-repr-fallback {display: none;}</style><div id=\"sk-container-id-7\" class=\"sk-top-container\"><div class=\"sk-text-repr-fallback\"><pre>Pipeline(steps=[(&#x27;scale&#x27;, StandardScaler()),\n",
       "                (&#x27;polynomial&#x27;, PolynomialFeatures(include_bias=False)),\n",
       "                (&#x27;model&#x27;, LinearRegression())])</pre><b>In a Jupyter environment, please rerun this cell to show the HTML representation or trust the notebook. <br />On GitHub, the HTML representation is unable to render, please try loading this page with nbviewer.org.</b></div><div class=\"sk-container\" hidden><div class=\"sk-item sk-dashed-wrapped\"><div class=\"sk-label-container\"><div class=\"sk-label sk-toggleable\"><input class=\"sk-toggleable__control sk-hidden--visually\" id=\"sk-estimator-id-7\" type=\"checkbox\" ><label for=\"sk-estimator-id-7\" class=\"sk-toggleable__label sk-toggleable__label-arrow\">Pipeline</label><div class=\"sk-toggleable__content\"><pre>Pipeline(steps=[(&#x27;scale&#x27;, StandardScaler()),\n",
       "                (&#x27;polynomial&#x27;, PolynomialFeatures(include_bias=False)),\n",
       "                (&#x27;model&#x27;, LinearRegression())])</pre></div></div></div><div class=\"sk-serial\"><div class=\"sk-item\"><div class=\"sk-estimator sk-toggleable\"><input class=\"sk-toggleable__control sk-hidden--visually\" id=\"sk-estimator-id-8\" type=\"checkbox\" ><label for=\"sk-estimator-id-8\" class=\"sk-toggleable__label sk-toggleable__label-arrow\">StandardScaler</label><div class=\"sk-toggleable__content\"><pre>StandardScaler()</pre></div></div></div><div class=\"sk-item\"><div class=\"sk-estimator sk-toggleable\"><input class=\"sk-toggleable__control sk-hidden--visually\" id=\"sk-estimator-id-9\" type=\"checkbox\" ><label for=\"sk-estimator-id-9\" class=\"sk-toggleable__label sk-toggleable__label-arrow\">PolynomialFeatures</label><div class=\"sk-toggleable__content\"><pre>PolynomialFeatures(include_bias=False)</pre></div></div></div><div class=\"sk-item\"><div class=\"sk-estimator sk-toggleable\"><input class=\"sk-toggleable__control sk-hidden--visually\" id=\"sk-estimator-id-10\" type=\"checkbox\" ><label for=\"sk-estimator-id-10\" class=\"sk-toggleable__label sk-toggleable__label-arrow\">LinearRegression</label><div class=\"sk-toggleable__content\"><pre>LinearRegression()</pre></div></div></div></div></div></div></div>"
      ],
      "text/plain": [
       "Pipeline(steps=[('scale', StandardScaler()),\n",
       "                ('polynomial', PolynomialFeatures(include_bias=False)),\n",
       "                ('model', LinearRegression())])"
      ]
     },
     "execution_count": 43,
     "metadata": {},
     "output_type": "execute_result"
    }
   ],
   "source": [
    "pipe=Pipeline(Input)\n",
    "pipe"
   ]
  },
  {
   "cell_type": "code",
   "execution_count": 44,
   "id": "c39dccf5",
   "metadata": {
    "execution": {
     "iopub.execute_input": "2025-07-25T16:44:21.490179Z",
     "iopub.status.busy": "2025-07-25T16:44:21.489863Z",
     "iopub.status.idle": "2025-07-25T16:44:21.505618Z",
     "shell.execute_reply": "2025-07-25T16:44:21.504776Z"
    },
    "papermill": {
     "duration": 0.038432,
     "end_time": "2025-07-25T16:44:21.507213",
     "exception": false,
     "start_time": "2025-07-25T16:44:21.468781",
     "status": "completed"
    },
    "tags": []
   },
   "outputs": [
    {
     "data": {
      "text/html": [
       "<style>#sk-container-id-8 {color: black;background-color: white;}#sk-container-id-8 pre{padding: 0;}#sk-container-id-8 div.sk-toggleable {background-color: white;}#sk-container-id-8 label.sk-toggleable__label {cursor: pointer;display: block;width: 100%;margin-bottom: 0;padding: 0.3em;box-sizing: border-box;text-align: center;}#sk-container-id-8 label.sk-toggleable__label-arrow:before {content: \"▸\";float: left;margin-right: 0.25em;color: #696969;}#sk-container-id-8 label.sk-toggleable__label-arrow:hover:before {color: black;}#sk-container-id-8 div.sk-estimator:hover label.sk-toggleable__label-arrow:before {color: black;}#sk-container-id-8 div.sk-toggleable__content {max-height: 0;max-width: 0;overflow: hidden;text-align: left;background-color: #f0f8ff;}#sk-container-id-8 div.sk-toggleable__content pre {margin: 0.2em;color: black;border-radius: 0.25em;background-color: #f0f8ff;}#sk-container-id-8 input.sk-toggleable__control:checked~div.sk-toggleable__content {max-height: 200px;max-width: 100%;overflow: auto;}#sk-container-id-8 input.sk-toggleable__control:checked~label.sk-toggleable__label-arrow:before {content: \"▾\";}#sk-container-id-8 div.sk-estimator input.sk-toggleable__control:checked~label.sk-toggleable__label {background-color: #d4ebff;}#sk-container-id-8 div.sk-label input.sk-toggleable__control:checked~label.sk-toggleable__label {background-color: #d4ebff;}#sk-container-id-8 input.sk-hidden--visually {border: 0;clip: rect(1px 1px 1px 1px);clip: rect(1px, 1px, 1px, 1px);height: 1px;margin: -1px;overflow: hidden;padding: 0;position: absolute;width: 1px;}#sk-container-id-8 div.sk-estimator {font-family: monospace;background-color: #f0f8ff;border: 1px dotted black;border-radius: 0.25em;box-sizing: border-box;margin-bottom: 0.5em;}#sk-container-id-8 div.sk-estimator:hover {background-color: #d4ebff;}#sk-container-id-8 div.sk-parallel-item::after {content: \"\";width: 100%;border-bottom: 1px solid gray;flex-grow: 1;}#sk-container-id-8 div.sk-label:hover label.sk-toggleable__label {background-color: #d4ebff;}#sk-container-id-8 div.sk-serial::before {content: \"\";position: absolute;border-left: 1px solid gray;box-sizing: border-box;top: 0;bottom: 0;left: 50%;z-index: 0;}#sk-container-id-8 div.sk-serial {display: flex;flex-direction: column;align-items: center;background-color: white;padding-right: 0.2em;padding-left: 0.2em;position: relative;}#sk-container-id-8 div.sk-item {position: relative;z-index: 1;}#sk-container-id-8 div.sk-parallel {display: flex;align-items: stretch;justify-content: center;background-color: white;position: relative;}#sk-container-id-8 div.sk-item::before, #sk-container-id-8 div.sk-parallel-item::before {content: \"\";position: absolute;border-left: 1px solid gray;box-sizing: border-box;top: 0;bottom: 0;left: 50%;z-index: -1;}#sk-container-id-8 div.sk-parallel-item {display: flex;flex-direction: column;z-index: 1;position: relative;background-color: white;}#sk-container-id-8 div.sk-parallel-item:first-child::after {align-self: flex-end;width: 50%;}#sk-container-id-8 div.sk-parallel-item:last-child::after {align-self: flex-start;width: 50%;}#sk-container-id-8 div.sk-parallel-item:only-child::after {width: 0;}#sk-container-id-8 div.sk-dashed-wrapped {border: 1px dashed gray;margin: 0 0.4em 0.5em 0.4em;box-sizing: border-box;padding-bottom: 0.4em;background-color: white;}#sk-container-id-8 div.sk-label label {font-family: monospace;font-weight: bold;display: inline-block;line-height: 1.2em;}#sk-container-id-8 div.sk-label-container {text-align: center;}#sk-container-id-8 div.sk-container {/* jupyter's `normalize.less` sets `[hidden] { display: none; }` but bootstrap.min.css set `[hidden] { display: none !important; }` so we also need the `!important` here to be able to override the default hidden behavior on the sphinx rendered scikit-learn.org. See: https://github.com/scikit-learn/scikit-learn/issues/21755 */display: inline-block !important;position: relative;}#sk-container-id-8 div.sk-text-repr-fallback {display: none;}</style><div id=\"sk-container-id-8\" class=\"sk-top-container\"><div class=\"sk-text-repr-fallback\"><pre>Pipeline(steps=[(&#x27;scale&#x27;, StandardScaler()),\n",
       "                (&#x27;polynomial&#x27;, PolynomialFeatures(include_bias=False)),\n",
       "                (&#x27;model&#x27;, LinearRegression())])</pre><b>In a Jupyter environment, please rerun this cell to show the HTML representation or trust the notebook. <br />On GitHub, the HTML representation is unable to render, please try loading this page with nbviewer.org.</b></div><div class=\"sk-container\" hidden><div class=\"sk-item sk-dashed-wrapped\"><div class=\"sk-label-container\"><div class=\"sk-label sk-toggleable\"><input class=\"sk-toggleable__control sk-hidden--visually\" id=\"sk-estimator-id-11\" type=\"checkbox\" ><label for=\"sk-estimator-id-11\" class=\"sk-toggleable__label sk-toggleable__label-arrow\">Pipeline</label><div class=\"sk-toggleable__content\"><pre>Pipeline(steps=[(&#x27;scale&#x27;, StandardScaler()),\n",
       "                (&#x27;polynomial&#x27;, PolynomialFeatures(include_bias=False)),\n",
       "                (&#x27;model&#x27;, LinearRegression())])</pre></div></div></div><div class=\"sk-serial\"><div class=\"sk-item\"><div class=\"sk-estimator sk-toggleable\"><input class=\"sk-toggleable__control sk-hidden--visually\" id=\"sk-estimator-id-12\" type=\"checkbox\" ><label for=\"sk-estimator-id-12\" class=\"sk-toggleable__label sk-toggleable__label-arrow\">StandardScaler</label><div class=\"sk-toggleable__content\"><pre>StandardScaler()</pre></div></div></div><div class=\"sk-item\"><div class=\"sk-estimator sk-toggleable\"><input class=\"sk-toggleable__control sk-hidden--visually\" id=\"sk-estimator-id-13\" type=\"checkbox\" ><label for=\"sk-estimator-id-13\" class=\"sk-toggleable__label sk-toggleable__label-arrow\">PolynomialFeatures</label><div class=\"sk-toggleable__content\"><pre>PolynomialFeatures(include_bias=False)</pre></div></div></div><div class=\"sk-item\"><div class=\"sk-estimator sk-toggleable\"><input class=\"sk-toggleable__control sk-hidden--visually\" id=\"sk-estimator-id-14\" type=\"checkbox\" ><label for=\"sk-estimator-id-14\" class=\"sk-toggleable__label sk-toggleable__label-arrow\">LinearRegression</label><div class=\"sk-toggleable__content\"><pre>LinearRegression()</pre></div></div></div></div></div></div></div>"
      ],
      "text/plain": [
       "Pipeline(steps=[('scale', StandardScaler()),\n",
       "                ('polynomial', PolynomialFeatures(include_bias=False)),\n",
       "                ('model', LinearRegression())])"
      ]
     },
     "execution_count": 44,
     "metadata": {},
     "output_type": "execute_result"
    }
   ],
   "source": [
    "Z = Z.astype(float)\n",
    "pipe.fit(Z,y)"
   ]
  },
  {
   "cell_type": "code",
   "execution_count": 45,
   "id": "b6f95988",
   "metadata": {
    "execution": {
     "iopub.execute_input": "2025-07-25T16:44:21.549156Z",
     "iopub.status.busy": "2025-07-25T16:44:21.548836Z",
     "iopub.status.idle": "2025-07-25T16:44:21.562205Z",
     "shell.execute_reply": "2025-07-25T16:44:21.561490Z"
    },
    "papermill": {
     "duration": 0.036102,
     "end_time": "2025-07-25T16:44:21.563749",
     "exception": false,
     "start_time": "2025-07-25T16:44:21.527647",
     "status": "completed"
    },
    "tags": []
   },
   "outputs": [
    {
     "data": {
      "text/plain": [
       "array([13701.08113673, 19053.70464401, 10622.23445554, 15523.47345497,\n",
       "       13872.10183248, 15457.64454615, 15975.18074348, 17614.52358563,\n",
       "       10724.19862453, 10724.19862453])"
      ]
     },
     "execution_count": 45,
     "metadata": {},
     "output_type": "execute_result"
    }
   ],
   "source": [
    "Input=[('scale',StandardScaler()),('model',LinearRegression())]\n",
    "\n",
    "pipe=Pipeline(Input)\n",
    "\n",
    "pipe.fit(Z,y)\n",
    "\n",
    "ypipe=pipe.predict(Z)\n",
    "ypipe[0:10]"
   ]
  },
  {
   "cell_type": "markdown",
   "id": "f8b04a6d",
   "metadata": {
    "papermill": {
     "duration": 0.020701,
     "end_time": "2025-07-25T16:44:21.606162",
     "exception": false,
     "start_time": "2025-07-25T16:44:21.585461",
     "status": "completed"
    },
    "tags": []
   },
   "source": [
    "# Measures for In-Sample Evaluation"
   ]
  },
  {
   "cell_type": "code",
   "execution_count": 46,
   "id": "28d22746",
   "metadata": {
    "execution": {
     "iopub.execute_input": "2025-07-25T16:44:21.647630Z",
     "iopub.status.busy": "2025-07-25T16:44:21.647319Z",
     "iopub.status.idle": "2025-07-25T16:44:21.655827Z",
     "shell.execute_reply": "2025-07-25T16:44:21.654784Z"
    },
    "papermill": {
     "duration": 0.030889,
     "end_time": "2025-07-25T16:44:21.657202",
     "exception": false,
     "start_time": "2025-07-25T16:44:21.626313",
     "status": "completed"
    },
    "tags": []
   },
   "outputs": [
    {
     "name": "stdout",
     "output_type": "stream",
     "text": [
      "The R-square is:  0.7609714051425501\n"
     ]
    }
   ],
   "source": [
    "#highway_mpg_fit\n",
    "lm.fit(X, Y)\n",
    "# Find the R^2\n",
    "print('The R-square is: ', lm.score(X, Y))"
   ]
  },
  {
   "cell_type": "code",
   "execution_count": 47,
   "id": "ac060a92",
   "metadata": {
    "execution": {
     "iopub.execute_input": "2025-07-25T16:44:21.700371Z",
     "iopub.status.busy": "2025-07-25T16:44:21.700093Z",
     "iopub.status.idle": "2025-07-25T16:44:21.706648Z",
     "shell.execute_reply": "2025-07-25T16:44:21.705534Z"
    },
    "papermill": {
     "duration": 0.029972,
     "end_time": "2025-07-25T16:44:21.708187",
     "exception": false,
     "start_time": "2025-07-25T16:44:21.678215",
     "status": "completed"
    },
    "tags": []
   },
   "outputs": [
    {
     "name": "stdout",
     "output_type": "stream",
     "text": [
      "The output of the first four predicted value is:  [13729.63711709 17400.60417954 10225.53219385 14730.80995231]\n"
     ]
    }
   ],
   "source": [
    "Yhat=lm.predict(X)\n",
    "print('The output of the first four predicted value is: ', Yhat[0:4])"
   ]
  },
  {
   "cell_type": "code",
   "execution_count": 48,
   "id": "e767bfcb",
   "metadata": {
    "execution": {
     "iopub.execute_input": "2025-07-25T16:44:21.750618Z",
     "iopub.status.busy": "2025-07-25T16:44:21.750333Z",
     "iopub.status.idle": "2025-07-25T16:44:21.754455Z",
     "shell.execute_reply": "2025-07-25T16:44:21.753674Z"
    },
    "papermill": {
     "duration": 0.027008,
     "end_time": "2025-07-25T16:44:21.756130",
     "exception": false,
     "start_time": "2025-07-25T16:44:21.729122",
     "status": "completed"
    },
    "tags": []
   },
   "outputs": [],
   "source": [
    "from sklearn.metrics import mean_squared_error"
   ]
  },
  {
   "cell_type": "code",
   "execution_count": 49,
   "id": "de8d01d0",
   "metadata": {
    "execution": {
     "iopub.execute_input": "2025-07-25T16:44:21.798948Z",
     "iopub.status.busy": "2025-07-25T16:44:21.798547Z",
     "iopub.status.idle": "2025-07-25T16:44:21.804474Z",
     "shell.execute_reply": "2025-07-25T16:44:21.803634Z"
    },
    "papermill": {
     "duration": 0.028606,
     "end_time": "2025-07-25T16:44:21.805955",
     "exception": false,
     "start_time": "2025-07-25T16:44:21.777349",
     "status": "completed"
    },
    "tags": []
   },
   "outputs": [
    {
     "name": "stdout",
     "output_type": "stream",
     "text": [
      "The mean square error of price and predicted value is:  15095957.759716928\n"
     ]
    }
   ],
   "source": [
    "mse = mean_squared_error(df['price'], Yhat)\n",
    "print('The mean square error of price and predicted value is: ', mse)"
   ]
  },
  {
   "cell_type": "code",
   "execution_count": 50,
   "id": "968794fb",
   "metadata": {
    "execution": {
     "iopub.execute_input": "2025-07-25T16:44:21.848770Z",
     "iopub.status.busy": "2025-07-25T16:44:21.848411Z",
     "iopub.status.idle": "2025-07-25T16:44:21.859015Z",
     "shell.execute_reply": "2025-07-25T16:44:21.857903Z"
    },
    "papermill": {
     "duration": 0.033953,
     "end_time": "2025-07-25T16:44:21.860579",
     "exception": false,
     "start_time": "2025-07-25T16:44:21.826626",
     "status": "completed"
    },
    "tags": []
   },
   "outputs": [
    {
     "name": "stdout",
     "output_type": "stream",
     "text": [
      "The R-square is:  0.8093753249041752\n"
     ]
    }
   ],
   "source": [
    "# fit the model \n",
    "lm.fit(Z, df['price'])\n",
    "# Find the R^2\n",
    "print('The R-square is: ', lm.score(Z, df['price']))"
   ]
  },
  {
   "cell_type": "code",
   "execution_count": 51,
   "id": "b47498f5",
   "metadata": {
    "execution": {
     "iopub.execute_input": "2025-07-25T16:44:21.903173Z",
     "iopub.status.busy": "2025-07-25T16:44:21.902890Z",
     "iopub.status.idle": "2025-07-25T16:44:21.908439Z",
     "shell.execute_reply": "2025-07-25T16:44:21.907547Z"
    },
    "papermill": {
     "duration": 0.028608,
     "end_time": "2025-07-25T16:44:21.910122",
     "exception": false,
     "start_time": "2025-07-25T16:44:21.881514",
     "status": "completed"
    },
    "tags": []
   },
   "outputs": [],
   "source": [
    "Y_predict_multifit = lm.predict(Z)"
   ]
  },
  {
   "cell_type": "code",
   "execution_count": 52,
   "id": "9d188e4c",
   "metadata": {
    "execution": {
     "iopub.execute_input": "2025-07-25T16:44:21.954196Z",
     "iopub.status.busy": "2025-07-25T16:44:21.953901Z",
     "iopub.status.idle": "2025-07-25T16:44:21.959894Z",
     "shell.execute_reply": "2025-07-25T16:44:21.958880Z"
    },
    "papermill": {
     "duration": 0.029666,
     "end_time": "2025-07-25T16:44:21.961362",
     "exception": false,
     "start_time": "2025-07-25T16:44:21.931696",
     "status": "completed"
    },
    "tags": []
   },
   "outputs": [
    {
     "name": "stdout",
     "output_type": "stream",
     "text": [
      "The mean square error of price and predicted value using multifit is:  12038986.569462512\n"
     ]
    }
   ],
   "source": [
    "print('The mean square error of price and predicted value using multifit is: ', \\\n",
    "      mean_squared_error(df['price'], Y_predict_multifit))"
   ]
  },
  {
   "cell_type": "code",
   "execution_count": 53,
   "id": "e53db2db",
   "metadata": {
    "execution": {
     "iopub.execute_input": "2025-07-25T16:44:22.004589Z",
     "iopub.status.busy": "2025-07-25T16:44:22.004309Z",
     "iopub.status.idle": "2025-07-25T16:44:22.008328Z",
     "shell.execute_reply": "2025-07-25T16:44:22.007617Z"
    },
    "papermill": {
     "duration": 0.026725,
     "end_time": "2025-07-25T16:44:22.009656",
     "exception": false,
     "start_time": "2025-07-25T16:44:21.982931",
     "status": "completed"
    },
    "tags": []
   },
   "outputs": [],
   "source": [
    "from sklearn.metrics import r2_score"
   ]
  },
  {
   "cell_type": "code",
   "execution_count": 54,
   "id": "07d1558d",
   "metadata": {
    "execution": {
     "iopub.execute_input": "2025-07-25T16:44:22.052233Z",
     "iopub.status.busy": "2025-07-25T16:44:22.051959Z",
     "iopub.status.idle": "2025-07-25T16:44:22.057749Z",
     "shell.execute_reply": "2025-07-25T16:44:22.056830Z"
    },
    "papermill": {
     "duration": 0.02889,
     "end_time": "2025-07-25T16:44:22.059069",
     "exception": false,
     "start_time": "2025-07-25T16:44:22.030179",
     "status": "completed"
    },
    "tags": []
   },
   "outputs": [
    {
     "name": "stdout",
     "output_type": "stream",
     "text": [
      "The R-square value is:  0.6742706265540412\n"
     ]
    }
   ],
   "source": [
    "r_squared = r2_score(y, p(x))\n",
    "print('The R-square value is: ', r_squared)"
   ]
  },
  {
   "cell_type": "code",
   "execution_count": 55,
   "id": "1f7d3d10",
   "metadata": {
    "execution": {
     "iopub.execute_input": "2025-07-25T16:44:22.102951Z",
     "iopub.status.busy": "2025-07-25T16:44:22.102626Z",
     "iopub.status.idle": "2025-07-25T16:44:22.108977Z",
     "shell.execute_reply": "2025-07-25T16:44:22.108187Z"
    },
    "papermill": {
     "duration": 0.030564,
     "end_time": "2025-07-25T16:44:22.110333",
     "exception": false,
     "start_time": "2025-07-25T16:44:22.079769",
     "status": "completed"
    },
    "tags": []
   },
   "outputs": [
    {
     "data": {
      "text/plain": [
       "20571584.188794386"
      ]
     },
     "execution_count": 55,
     "metadata": {},
     "output_type": "execute_result"
    }
   ],
   "source": [
    "mean_squared_error(df['price'], p(x))"
   ]
  },
  {
   "cell_type": "code",
   "execution_count": 56,
   "id": "0d73a223",
   "metadata": {
    "execution": {
     "iopub.execute_input": "2025-07-25T16:44:22.155389Z",
     "iopub.status.busy": "2025-07-25T16:44:22.155090Z",
     "iopub.status.idle": "2025-07-25T16:44:22.159667Z",
     "shell.execute_reply": "2025-07-25T16:44:22.158803Z"
    },
    "papermill": {
     "duration": 0.029075,
     "end_time": "2025-07-25T16:44:22.161322",
     "exception": false,
     "start_time": "2025-07-25T16:44:22.132247",
     "status": "completed"
    },
    "tags": []
   },
   "outputs": [],
   "source": [
    "new_input=np.arange(1, 100, 1).reshape(-1, 1)"
   ]
  },
  {
   "cell_type": "code",
   "execution_count": 57,
   "id": "9e9f86b6",
   "metadata": {
    "execution": {
     "iopub.execute_input": "2025-07-25T16:44:22.205823Z",
     "iopub.status.busy": "2025-07-25T16:44:22.205458Z",
     "iopub.status.idle": "2025-07-25T16:44:22.214092Z",
     "shell.execute_reply": "2025-07-25T16:44:22.213263Z"
    },
    "papermill": {
     "duration": 0.031816,
     "end_time": "2025-07-25T16:44:22.215421",
     "exception": false,
     "start_time": "2025-07-25T16:44:22.183605",
     "status": "completed"
    },
    "tags": []
   },
   "outputs": [
    {
     "data": {
      "text/html": [
       "<style>#sk-container-id-9 {color: black;background-color: white;}#sk-container-id-9 pre{padding: 0;}#sk-container-id-9 div.sk-toggleable {background-color: white;}#sk-container-id-9 label.sk-toggleable__label {cursor: pointer;display: block;width: 100%;margin-bottom: 0;padding: 0.3em;box-sizing: border-box;text-align: center;}#sk-container-id-9 label.sk-toggleable__label-arrow:before {content: \"▸\";float: left;margin-right: 0.25em;color: #696969;}#sk-container-id-9 label.sk-toggleable__label-arrow:hover:before {color: black;}#sk-container-id-9 div.sk-estimator:hover label.sk-toggleable__label-arrow:before {color: black;}#sk-container-id-9 div.sk-toggleable__content {max-height: 0;max-width: 0;overflow: hidden;text-align: left;background-color: #f0f8ff;}#sk-container-id-9 div.sk-toggleable__content pre {margin: 0.2em;color: black;border-radius: 0.25em;background-color: #f0f8ff;}#sk-container-id-9 input.sk-toggleable__control:checked~div.sk-toggleable__content {max-height: 200px;max-width: 100%;overflow: auto;}#sk-container-id-9 input.sk-toggleable__control:checked~label.sk-toggleable__label-arrow:before {content: \"▾\";}#sk-container-id-9 div.sk-estimator input.sk-toggleable__control:checked~label.sk-toggleable__label {background-color: #d4ebff;}#sk-container-id-9 div.sk-label input.sk-toggleable__control:checked~label.sk-toggleable__label {background-color: #d4ebff;}#sk-container-id-9 input.sk-hidden--visually {border: 0;clip: rect(1px 1px 1px 1px);clip: rect(1px, 1px, 1px, 1px);height: 1px;margin: -1px;overflow: hidden;padding: 0;position: absolute;width: 1px;}#sk-container-id-9 div.sk-estimator {font-family: monospace;background-color: #f0f8ff;border: 1px dotted black;border-radius: 0.25em;box-sizing: border-box;margin-bottom: 0.5em;}#sk-container-id-9 div.sk-estimator:hover {background-color: #d4ebff;}#sk-container-id-9 div.sk-parallel-item::after {content: \"\";width: 100%;border-bottom: 1px solid gray;flex-grow: 1;}#sk-container-id-9 div.sk-label:hover label.sk-toggleable__label {background-color: #d4ebff;}#sk-container-id-9 div.sk-serial::before {content: \"\";position: absolute;border-left: 1px solid gray;box-sizing: border-box;top: 0;bottom: 0;left: 50%;z-index: 0;}#sk-container-id-9 div.sk-serial {display: flex;flex-direction: column;align-items: center;background-color: white;padding-right: 0.2em;padding-left: 0.2em;position: relative;}#sk-container-id-9 div.sk-item {position: relative;z-index: 1;}#sk-container-id-9 div.sk-parallel {display: flex;align-items: stretch;justify-content: center;background-color: white;position: relative;}#sk-container-id-9 div.sk-item::before, #sk-container-id-9 div.sk-parallel-item::before {content: \"\";position: absolute;border-left: 1px solid gray;box-sizing: border-box;top: 0;bottom: 0;left: 50%;z-index: -1;}#sk-container-id-9 div.sk-parallel-item {display: flex;flex-direction: column;z-index: 1;position: relative;background-color: white;}#sk-container-id-9 div.sk-parallel-item:first-child::after {align-self: flex-end;width: 50%;}#sk-container-id-9 div.sk-parallel-item:last-child::after {align-self: flex-start;width: 50%;}#sk-container-id-9 div.sk-parallel-item:only-child::after {width: 0;}#sk-container-id-9 div.sk-dashed-wrapped {border: 1px dashed gray;margin: 0 0.4em 0.5em 0.4em;box-sizing: border-box;padding-bottom: 0.4em;background-color: white;}#sk-container-id-9 div.sk-label label {font-family: monospace;font-weight: bold;display: inline-block;line-height: 1.2em;}#sk-container-id-9 div.sk-label-container {text-align: center;}#sk-container-id-9 div.sk-container {/* jupyter's `normalize.less` sets `[hidden] { display: none; }` but bootstrap.min.css set `[hidden] { display: none !important; }` so we also need the `!important` here to be able to override the default hidden behavior on the sphinx rendered scikit-learn.org. See: https://github.com/scikit-learn/scikit-learn/issues/21755 */display: inline-block !important;position: relative;}#sk-container-id-9 div.sk-text-repr-fallback {display: none;}</style><div id=\"sk-container-id-9\" class=\"sk-top-container\"><div class=\"sk-text-repr-fallback\"><pre>LinearRegression()</pre><b>In a Jupyter environment, please rerun this cell to show the HTML representation or trust the notebook. <br />On GitHub, the HTML representation is unable to render, please try loading this page with nbviewer.org.</b></div><div class=\"sk-container\" hidden><div class=\"sk-item\"><div class=\"sk-estimator sk-toggleable\"><input class=\"sk-toggleable__control sk-hidden--visually\" id=\"sk-estimator-id-15\" type=\"checkbox\" checked><label for=\"sk-estimator-id-15\" class=\"sk-toggleable__label sk-toggleable__label-arrow\">LinearRegression</label><div class=\"sk-toggleable__content\"><pre>LinearRegression()</pre></div></div></div></div></div>"
      ],
      "text/plain": [
       "LinearRegression()"
      ]
     },
     "execution_count": 57,
     "metadata": {},
     "output_type": "execute_result"
    }
   ],
   "source": [
    "lm.fit(X, Y)\n",
    "lm"
   ]
  },
  {
   "cell_type": "code",
   "execution_count": 58,
   "id": "b6116209",
   "metadata": {
    "execution": {
     "iopub.execute_input": "2025-07-25T16:44:22.258618Z",
     "iopub.status.busy": "2025-07-25T16:44:22.258328Z",
     "iopub.status.idle": "2025-07-25T16:44:22.267263Z",
     "shell.execute_reply": "2025-07-25T16:44:22.266303Z"
    },
    "papermill": {
     "duration": 0.032119,
     "end_time": "2025-07-25T16:44:22.268491",
     "exception": false,
     "start_time": "2025-07-25T16:44:22.236372",
     "status": "completed"
    },
    "tags": []
   },
   "outputs": [
    {
     "name": "stderr",
     "output_type": "stream",
     "text": [
      "/usr/local/lib/python3.11/dist-packages/sklearn/base.py:439: UserWarning: X does not have valid feature names, but LinearRegression was fitted with feature names\n",
      "  warnings.warn(\n"
     ]
    },
    {
     "data": {
      "text/plain": [
       "array([-7795.57883996, -7628.71670076, -7461.85456156, -7294.99242236,\n",
       "       -7128.13028315])"
      ]
     },
     "execution_count": 58,
     "metadata": {},
     "output_type": "execute_result"
    }
   ],
   "source": [
    "yhat=lm.predict(new_input)\n",
    "yhat[0:5]"
   ]
  },
  {
   "cell_type": "code",
   "execution_count": 59,
   "id": "69982bd6",
   "metadata": {
    "execution": {
     "iopub.execute_input": "2025-07-25T16:44:22.313111Z",
     "iopub.status.busy": "2025-07-25T16:44:22.312811Z",
     "iopub.status.idle": "2025-07-25T16:44:22.452990Z",
     "shell.execute_reply": "2025-07-25T16:44:22.452041Z"
    },
    "papermill": {
     "duration": 0.164296,
     "end_time": "2025-07-25T16:44:22.454466",
     "exception": false,
     "start_time": "2025-07-25T16:44:22.290170",
     "status": "completed"
    },
    "tags": []
   },
   "outputs": [
    {
     "data": {
      "image/png": "[encoded data removed]",
      "text/plain": [
       "<Figure size 640x480 with 1 Axes>"
      ]
     },
     "metadata": {},
     "output_type": "display_data"
    }
   ],
   "source": [
    "plt.plot(new_input, yhat)\n",
    "plt.show()"
   ]
  },
  {
   "cell_type": "code",
   "execution_count": null,
   "id": "9a3392ba",
   "metadata": {
    "papermill": {
     "duration": 0.021313,
     "end_time": "2025-07-25T16:44:22.498762",
     "exception": false,
     "start_time": "2025-07-25T16:44:22.477449",
     "status": "completed"
    },
    "tags": []
   },
   "outputs": [],
   "source": []
  }
 ],
 "metadata": {
  "kaggle": {
   "accelerator": "none",
   "dataSources": [
    {
     "datasetId": 7863561,
     "sourceId": 12465000,
     "sourceType": "datasetVersion"
    }
   ],
   "dockerImageVersionId": 31089,
   "isGpuEnabled": false,
   "isInternetEnabled": true,
   "language": "python",
   "sourceType": "notebook"
  },
  "kernelspec": {
   "display_name": "Python 3",
   "language": "python",
   "name": "python3"
  },
  "language_info": {
   "codemirror_mode": {
    "name": "ipython",
    "version": 3
   },
   "file_extension": ".py",
   "mimetype": "text/x-python",
   "name": "python",
   "nbconvert_exporter": "python",
   "pygments_lexer": "ipython3",
   "version": "3.11.13"
  },
  "papermill": {
   "default_parameters": {},
   "duration": 15.378768,
   "end_time": "2025-07-25T16:44:23.242308",
   "environment_variables": {},
   "exception": null,
   "input_path": "__notebook__.ipynb",
   "output_path": "__notebook__.ipynb",
   "parameters": {},
   "start_time": "2025-07-25T16:44:07.863540",
   "version": "2.6.0"
  },
  "vscode": {
   "interpreter": {
    "hash": "739d4fe579500b287bc5fe30b870916d2465097194010f2f0ca630d7af6a2a94"
   }
  }
 },
 "nbformat": 4,
 "nbformat_minor": 5
}
