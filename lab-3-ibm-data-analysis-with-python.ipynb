{
 "cells": [
  {
   "cell_type": "markdown",
   "id": "1b1b4706",
   "metadata": {
    "papermill": {
     "duration": 0.010526,
     "end_time": "2025-07-15T16:53:06.562977",
     "exception": false,
     "start_time": "2025-07-15T16:53:06.552451",
     "status": "completed"
    },
    "tags": []
   },
   "source": [
    "# What is EDA?\n",
    "EDA stands for Exploratory Data Analysis. It’s a crucial first step in any data science or data analysis project. The main goal of EDA is to understand the structure, patterns, and relationships in the data before applying any modeling techniques.\n",
    "\n",
    "\n",
    "\n",
    "## 🧠 Key Objectives of EDA:\n",
    "- Understand the dataset – shape, types, and overall structure.\n",
    "\n",
    "- Identify missing or inconsistent data.\n",
    "\n",
    "- Detect outliers or anomalies.\n",
    "\n",
    "- Understand relationships between features (correlation, dependencies).\n",
    "\n",
    "- Generate hypotheses for further analysis or modeling.\n",
    "\n",
    "- Choose appropriate preprocessing and modeling techniques."
   ]
  },
  {
   "cell_type": "markdown",
   "id": "f32e1461",
   "metadata": {
    "papermill": {
     "duration": 0.008775,
     "end_time": "2025-07-15T16:53:06.581695",
     "exception": false,
     "start_time": "2025-07-15T16:53:06.572920",
     "status": "completed"
    },
    "tags": []
   },
   "source": [
    "## 🔧 Common EDA Steps:\n",
    "\n",
    "- Load and preview the data\n",
    "- Check for missing values\n",
    "- Understand data types\n",
    "- Univariate Analysis (one variable)\n",
    "- Bivariate/Multivariate Analysis (multiple variables)\n",
    "- Outlier Detection\n",
    "- Correlation Analysis\n",
    "\n"
   ]
  },
  {
   "cell_type": "code",
   "execution_count": 1,
   "id": "58e14a25",
   "metadata": {
    "execution": {
     "iopub.execute_input": "2025-07-15T16:53:06.601830Z",
     "iopub.status.busy": "2025-07-15T16:53:06.601524Z",
     "iopub.status.idle": "2025-07-15T16:53:10.164721Z",
     "shell.execute_reply": "2025-07-15T16:53:10.163709Z"
    },
    "papermill": {
     "duration": 3.57461,
     "end_time": "2025-07-15T16:53:10.166229",
     "exception": false,
     "start_time": "2025-07-15T16:53:06.591619",
     "status": "completed"
    },
    "tags": []
   },
   "outputs": [
    {
     "name": "stdout",
     "output_type": "stream",
     "text": [
      "/kaggle/input/cleaned-used-car-datasett/cleaned_used_car_dataset.csv\n"
     ]
    }
   ],
   "source": [
    "# import libraries\n",
    "import pandas as pd\n",
    "import numpy as np\n",
    "import matplotlib.pylab as plt\n",
    "import seaborn as sns\n",
    "%matplotlib inline\n",
    "\n",
    "import os\n",
    "\n",
    "for dirname, _, filenames in os.walk('/kaggle/input/cleaned-used-car-datasett'):\n",
    "    for filename in filenames:\n",
    "        print(os.path.join(dirname, filename))"
   ]
  },
  {
   "cell_type": "code",
   "execution_count": 2,
   "id": "1def3b22",
   "metadata": {
    "execution": {
     "iopub.execute_input": "2025-07-15T16:53:10.186852Z",
     "iopub.status.busy": "2025-07-15T16:53:10.186404Z",
     "iopub.status.idle": "2025-07-15T16:53:10.244694Z",
     "shell.execute_reply": "2025-07-15T16:53:10.243751Z"
    },
    "papermill": {
     "duration": 0.070205,
     "end_time": "2025-07-15T16:53:10.246087",
     "exception": false,
     "start_time": "2025-07-15T16:53:10.175882",
     "status": "completed"
    },
    "tags": []
   },
   "outputs": [
    {
     "data": {
      "text/html": [
       "<div>\n",
       "<style scoped>\n",
       "    .dataframe tbody tr th:only-of-type {\n",
       "        vertical-align: middle;\n",
       "    }\n",
       "\n",
       "    .dataframe tbody tr th {\n",
       "        vertical-align: top;\n",
       "    }\n",
       "\n",
       "    .dataframe thead th {\n",
       "        text-align: right;\n",
       "    }\n",
       "</style>\n",
       "<table border=\"1\" class=\"dataframe\">\n",
       "  <thead>\n",
       "    <tr style=\"text-align: right;\">\n",
       "      <th></th>\n",
       "      <th>Unnamed: 0</th>\n",
       "      <th>symboling</th>\n",
       "      <th>normalized-losses</th>\n",
       "      <th>make</th>\n",
       "      <th>num-of-doors</th>\n",
       "      <th>body-style</th>\n",
       "      <th>drive-wheels</th>\n",
       "      <th>engine-location</th>\n",
       "      <th>wheel-base</th>\n",
       "      <th>length</th>\n",
       "      <th>...</th>\n",
       "      <th>city-mpg</th>\n",
       "      <th>highway-L/100km</th>\n",
       "      <th>price</th>\n",
       "      <th>city-L/100km</th>\n",
       "      <th>highway-L/100km.1</th>\n",
       "      <th>horsepower-binned</th>\n",
       "      <th>diesel</th>\n",
       "      <th>gas</th>\n",
       "      <th>aspiration-std</th>\n",
       "      <th>aspiration-turbo</th>\n",
       "    </tr>\n",
       "  </thead>\n",
       "  <tbody>\n",
       "    <tr>\n",
       "      <th>0</th>\n",
       "      <td>0</td>\n",
       "      <td>3</td>\n",
       "      <td>122</td>\n",
       "      <td>alfa-romero</td>\n",
       "      <td>two</td>\n",
       "      <td>convertible</td>\n",
       "      <td>rwd</td>\n",
       "      <td>front</td>\n",
       "      <td>88.6</td>\n",
       "      <td>0.811148</td>\n",
       "      <td>...</td>\n",
       "      <td>21</td>\n",
       "      <td>27</td>\n",
       "      <td>16500.0</td>\n",
       "      <td>11.190476</td>\n",
       "      <td>8.703704</td>\n",
       "      <td>Low</td>\n",
       "      <td>0</td>\n",
       "      <td>1</td>\n",
       "      <td>1</td>\n",
       "      <td>0</td>\n",
       "    </tr>\n",
       "    <tr>\n",
       "      <th>1</th>\n",
       "      <td>1</td>\n",
       "      <td>1</td>\n",
       "      <td>122</td>\n",
       "      <td>alfa-romero</td>\n",
       "      <td>two</td>\n",
       "      <td>hatchback</td>\n",
       "      <td>rwd</td>\n",
       "      <td>front</td>\n",
       "      <td>94.5</td>\n",
       "      <td>0.822681</td>\n",
       "      <td>...</td>\n",
       "      <td>19</td>\n",
       "      <td>26</td>\n",
       "      <td>16500.0</td>\n",
       "      <td>12.368421</td>\n",
       "      <td>9.038462</td>\n",
       "      <td>Medium</td>\n",
       "      <td>0</td>\n",
       "      <td>1</td>\n",
       "      <td>1</td>\n",
       "      <td>0</td>\n",
       "    </tr>\n",
       "    <tr>\n",
       "      <th>2</th>\n",
       "      <td>2</td>\n",
       "      <td>2</td>\n",
       "      <td>164</td>\n",
       "      <td>audi</td>\n",
       "      <td>four</td>\n",
       "      <td>sedan</td>\n",
       "      <td>fwd</td>\n",
       "      <td>front</td>\n",
       "      <td>99.8</td>\n",
       "      <td>0.848630</td>\n",
       "      <td>...</td>\n",
       "      <td>24</td>\n",
       "      <td>30</td>\n",
       "      <td>13950.0</td>\n",
       "      <td>9.791667</td>\n",
       "      <td>7.833333</td>\n",
       "      <td>Low</td>\n",
       "      <td>0</td>\n",
       "      <td>1</td>\n",
       "      <td>1</td>\n",
       "      <td>0</td>\n",
       "    </tr>\n",
       "    <tr>\n",
       "      <th>3</th>\n",
       "      <td>3</td>\n",
       "      <td>2</td>\n",
       "      <td>164</td>\n",
       "      <td>audi</td>\n",
       "      <td>four</td>\n",
       "      <td>sedan</td>\n",
       "      <td>4wd</td>\n",
       "      <td>front</td>\n",
       "      <td>99.4</td>\n",
       "      <td>0.848630</td>\n",
       "      <td>...</td>\n",
       "      <td>18</td>\n",
       "      <td>22</td>\n",
       "      <td>17450.0</td>\n",
       "      <td>13.055556</td>\n",
       "      <td>10.681818</td>\n",
       "      <td>Low</td>\n",
       "      <td>0</td>\n",
       "      <td>1</td>\n",
       "      <td>1</td>\n",
       "      <td>0</td>\n",
       "    </tr>\n",
       "    <tr>\n",
       "      <th>4</th>\n",
       "      <td>4</td>\n",
       "      <td>2</td>\n",
       "      <td>122</td>\n",
       "      <td>audi</td>\n",
       "      <td>two</td>\n",
       "      <td>sedan</td>\n",
       "      <td>fwd</td>\n",
       "      <td>front</td>\n",
       "      <td>99.8</td>\n",
       "      <td>0.851994</td>\n",
       "      <td>...</td>\n",
       "      <td>19</td>\n",
       "      <td>25</td>\n",
       "      <td>15250.0</td>\n",
       "      <td>12.368421</td>\n",
       "      <td>9.400000</td>\n",
       "      <td>Low</td>\n",
       "      <td>0</td>\n",
       "      <td>1</td>\n",
       "      <td>1</td>\n",
       "      <td>0</td>\n",
       "    </tr>\n",
       "    <tr>\n",
       "      <th>...</th>\n",
       "      <td>...</td>\n",
       "      <td>...</td>\n",
       "      <td>...</td>\n",
       "      <td>...</td>\n",
       "      <td>...</td>\n",
       "      <td>...</td>\n",
       "      <td>...</td>\n",
       "      <td>...</td>\n",
       "      <td>...</td>\n",
       "      <td>...</td>\n",
       "      <td>...</td>\n",
       "      <td>...</td>\n",
       "      <td>...</td>\n",
       "      <td>...</td>\n",
       "      <td>...</td>\n",
       "      <td>...</td>\n",
       "      <td>...</td>\n",
       "      <td>...</td>\n",
       "      <td>...</td>\n",
       "      <td>...</td>\n",
       "      <td>...</td>\n",
       "    </tr>\n",
       "    <tr>\n",
       "      <th>195</th>\n",
       "      <td>195</td>\n",
       "      <td>-1</td>\n",
       "      <td>95</td>\n",
       "      <td>volvo</td>\n",
       "      <td>four</td>\n",
       "      <td>sedan</td>\n",
       "      <td>rwd</td>\n",
       "      <td>front</td>\n",
       "      <td>109.1</td>\n",
       "      <td>0.907256</td>\n",
       "      <td>...</td>\n",
       "      <td>23</td>\n",
       "      <td>28</td>\n",
       "      <td>16845.0</td>\n",
       "      <td>10.217391</td>\n",
       "      <td>8.392857</td>\n",
       "      <td>Low</td>\n",
       "      <td>0</td>\n",
       "      <td>1</td>\n",
       "      <td>1</td>\n",
       "      <td>0</td>\n",
       "    </tr>\n",
       "    <tr>\n",
       "      <th>196</th>\n",
       "      <td>196</td>\n",
       "      <td>-1</td>\n",
       "      <td>95</td>\n",
       "      <td>volvo</td>\n",
       "      <td>four</td>\n",
       "      <td>sedan</td>\n",
       "      <td>rwd</td>\n",
       "      <td>front</td>\n",
       "      <td>109.1</td>\n",
       "      <td>0.907256</td>\n",
       "      <td>...</td>\n",
       "      <td>19</td>\n",
       "      <td>25</td>\n",
       "      <td>19045.0</td>\n",
       "      <td>12.368421</td>\n",
       "      <td>9.400000</td>\n",
       "      <td>Medium</td>\n",
       "      <td>0</td>\n",
       "      <td>1</td>\n",
       "      <td>0</td>\n",
       "      <td>1</td>\n",
       "    </tr>\n",
       "    <tr>\n",
       "      <th>197</th>\n",
       "      <td>197</td>\n",
       "      <td>-1</td>\n",
       "      <td>95</td>\n",
       "      <td>volvo</td>\n",
       "      <td>four</td>\n",
       "      <td>sedan</td>\n",
       "      <td>rwd</td>\n",
       "      <td>front</td>\n",
       "      <td>109.1</td>\n",
       "      <td>0.907256</td>\n",
       "      <td>...</td>\n",
       "      <td>18</td>\n",
       "      <td>23</td>\n",
       "      <td>21485.0</td>\n",
       "      <td>13.055556</td>\n",
       "      <td>10.217391</td>\n",
       "      <td>Medium</td>\n",
       "      <td>0</td>\n",
       "      <td>1</td>\n",
       "      <td>1</td>\n",
       "      <td>0</td>\n",
       "    </tr>\n",
       "    <tr>\n",
       "      <th>198</th>\n",
       "      <td>198</td>\n",
       "      <td>-1</td>\n",
       "      <td>95</td>\n",
       "      <td>volvo</td>\n",
       "      <td>four</td>\n",
       "      <td>sedan</td>\n",
       "      <td>rwd</td>\n",
       "      <td>front</td>\n",
       "      <td>109.1</td>\n",
       "      <td>0.907256</td>\n",
       "      <td>...</td>\n",
       "      <td>26</td>\n",
       "      <td>27</td>\n",
       "      <td>22470.0</td>\n",
       "      <td>9.038462</td>\n",
       "      <td>8.703704</td>\n",
       "      <td>Low</td>\n",
       "      <td>1</td>\n",
       "      <td>0</td>\n",
       "      <td>0</td>\n",
       "      <td>1</td>\n",
       "    </tr>\n",
       "    <tr>\n",
       "      <th>199</th>\n",
       "      <td>199</td>\n",
       "      <td>-1</td>\n",
       "      <td>95</td>\n",
       "      <td>volvo</td>\n",
       "      <td>four</td>\n",
       "      <td>sedan</td>\n",
       "      <td>rwd</td>\n",
       "      <td>front</td>\n",
       "      <td>109.1</td>\n",
       "      <td>0.907256</td>\n",
       "      <td>...</td>\n",
       "      <td>19</td>\n",
       "      <td>25</td>\n",
       "      <td>22625.0</td>\n",
       "      <td>12.368421</td>\n",
       "      <td>9.400000</td>\n",
       "      <td>Low</td>\n",
       "      <td>0</td>\n",
       "      <td>1</td>\n",
       "      <td>0</td>\n",
       "      <td>1</td>\n",
       "    </tr>\n",
       "  </tbody>\n",
       "</table>\n",
       "<p>200 rows × 32 columns</p>\n",
       "</div>"
      ],
      "text/plain": [
       "     Unnamed: 0  symboling  normalized-losses         make num-of-doors  \\\n",
       "0             0          3                122  alfa-romero          two   \n",
       "1             1          1                122  alfa-romero          two   \n",
       "2             2          2                164         audi         four   \n",
       "3             3          2                164         audi         four   \n",
       "4             4          2                122         audi          two   \n",
       "..          ...        ...                ...          ...          ...   \n",
       "195         195         -1                 95        volvo         four   \n",
       "196         196         -1                 95        volvo         four   \n",
       "197         197         -1                 95        volvo         four   \n",
       "198         198         -1                 95        volvo         four   \n",
       "199         199         -1                 95        volvo         four   \n",
       "\n",
       "      body-style drive-wheels engine-location  wheel-base    length  ...  \\\n",
       "0    convertible          rwd           front        88.6  0.811148  ...   \n",
       "1      hatchback          rwd           front        94.5  0.822681  ...   \n",
       "2          sedan          fwd           front        99.8  0.848630  ...   \n",
       "3          sedan          4wd           front        99.4  0.848630  ...   \n",
       "4          sedan          fwd           front        99.8  0.851994  ...   \n",
       "..           ...          ...             ...         ...       ...  ...   \n",
       "195        sedan          rwd           front       109.1  0.907256  ...   \n",
       "196        sedan          rwd           front       109.1  0.907256  ...   \n",
       "197        sedan          rwd           front       109.1  0.907256  ...   \n",
       "198        sedan          rwd           front       109.1  0.907256  ...   \n",
       "199        sedan          rwd           front       109.1  0.907256  ...   \n",
       "\n",
       "     city-mpg  highway-L/100km    price city-L/100km highway-L/100km.1  \\\n",
       "0          21               27  16500.0    11.190476          8.703704   \n",
       "1          19               26  16500.0    12.368421          9.038462   \n",
       "2          24               30  13950.0     9.791667          7.833333   \n",
       "3          18               22  17450.0    13.055556         10.681818   \n",
       "4          19               25  15250.0    12.368421          9.400000   \n",
       "..        ...              ...      ...          ...               ...   \n",
       "195        23               28  16845.0    10.217391          8.392857   \n",
       "196        19               25  19045.0    12.368421          9.400000   \n",
       "197        18               23  21485.0    13.055556         10.217391   \n",
       "198        26               27  22470.0     9.038462          8.703704   \n",
       "199        19               25  22625.0    12.368421          9.400000   \n",
       "\n",
       "     horsepower-binned diesel  gas  aspiration-std  aspiration-turbo  \n",
       "0                  Low      0    1               1                 0  \n",
       "1               Medium      0    1               1                 0  \n",
       "2                  Low      0    1               1                 0  \n",
       "3                  Low      0    1               1                 0  \n",
       "4                  Low      0    1               1                 0  \n",
       "..                 ...    ...  ...             ...               ...  \n",
       "195                Low      0    1               1                 0  \n",
       "196             Medium      0    1               0                 1  \n",
       "197             Medium      0    1               1                 0  \n",
       "198                Low      1    0               0                 1  \n",
       "199                Low      0    1               0                 1  \n",
       "\n",
       "[200 rows x 32 columns]"
      ]
     },
     "execution_count": 2,
     "metadata": {},
     "output_type": "execute_result"
    }
   ],
   "source": [
    "# load dataset\n",
    "# dataset link on kaggle: https://www.kaggle.com/datasets/amirram/cleaned-used-car-datasett\n",
    "#df = pd.read_csv('clean_df3.csv')\n",
    "df = pd.read_csv('/kaggle/input/cleaned-used-car-datasett/cleaned_used_car_dataset.csv')\n",
    "df"
   ]
  },
  {
   "cell_type": "code",
   "execution_count": null,
   "id": "a3109481",
   "metadata": {
    "papermill": {
     "duration": 0.010485,
     "end_time": "2025-07-15T16:53:10.267055",
     "exception": false,
     "start_time": "2025-07-15T16:53:10.256570",
     "status": "completed"
    },
    "tags": []
   },
   "outputs": [],
   "source": []
  },
  {
   "cell_type": "code",
   "execution_count": 3,
   "id": "809b0b80",
   "metadata": {
    "execution": {
     "iopub.execute_input": "2025-07-15T16:53:10.288980Z",
     "iopub.status.busy": "2025-07-15T16:53:10.288705Z",
     "iopub.status.idle": "2025-07-15T16:53:10.296662Z",
     "shell.execute_reply": "2025-07-15T16:53:10.295741Z"
    },
    "papermill": {
     "duration": 0.020711,
     "end_time": "2025-07-15T16:53:10.297990",
     "exception": false,
     "start_time": "2025-07-15T16:53:10.277279",
     "status": "completed"
    },
    "tags": []
   },
   "outputs": [
    {
     "data": {
      "text/plain": [
       "Unnamed: 0             int64\n",
       "symboling              int64\n",
       "normalized-losses      int64\n",
       "make                  object\n",
       "num-of-doors          object\n",
       "body-style            object\n",
       "drive-wheels          object\n",
       "engine-location       object\n",
       "wheel-base           float64\n",
       "length               float64\n",
       "width                float64\n",
       "height               float64\n",
       "curb-weight            int64\n",
       "engine-type           object\n",
       "num-of-cylinders      object\n",
       "engine-size            int64\n",
       "fuel-system           object\n",
       "bore                 float64\n",
       "stroke               float64\n",
       "compression-ratio    float64\n",
       "horsepower             int64\n",
       "peak-rpm             float64\n",
       "city-mpg               int64\n",
       "highway-L/100km        int64\n",
       "price                float64\n",
       "city-L/100km         float64\n",
       "highway-L/100km.1    float64\n",
       "horsepower-binned     object\n",
       "diesel                 int64\n",
       "gas                    int64\n",
       "aspiration-std         int64\n",
       "aspiration-turbo       int64\n",
       "dtype: object"
      ]
     },
     "execution_count": 3,
     "metadata": {},
     "output_type": "execute_result"
    }
   ],
   "source": [
    "df.dtypes"
   ]
  },
  {
   "cell_type": "code",
   "execution_count": 4,
   "id": "7d7f8753",
   "metadata": {
    "execution": {
     "iopub.execute_input": "2025-07-15T16:53:10.319025Z",
     "iopub.status.busy": "2025-07-15T16:53:10.318743Z",
     "iopub.status.idle": "2025-07-15T16:53:10.325634Z",
     "shell.execute_reply": "2025-07-15T16:53:10.324906Z"
    },
    "papermill": {
     "duration": 0.018884,
     "end_time": "2025-07-15T16:53:10.326874",
     "exception": false,
     "start_time": "2025-07-15T16:53:10.307990",
     "status": "completed"
    },
    "tags": []
   },
   "outputs": [
    {
     "data": {
      "text/plain": [
       "dtype('float64')"
      ]
     },
     "execution_count": 4,
     "metadata": {},
     "output_type": "execute_result"
    }
   ],
   "source": [
    "# find data type of 'peak-rpm' column\n",
    "df['peak-rpm'].dtype"
   ]
  },
  {
   "cell_type": "markdown",
   "id": "0f307e2d",
   "metadata": {
    "papermill": {
     "duration": 0.009895,
     "end_time": "2025-07-15T16:53:10.346923",
     "exception": false,
     "start_time": "2025-07-15T16:53:10.337028",
     "status": "completed"
    },
    "tags": []
   },
   "source": [
    "# how find correlation?\n",
    "The .corr() function in pandas calculates the correlation coefficients between numeric columns in a DataFrame.\n",
    "\n",
    "## 📌 Purpose:\n",
    "To measure how strongly two numeric variables are related."
   ]
  },
  {
   "cell_type": "code",
   "execution_count": 5,
   "id": "04b6fcc3",
   "metadata": {
    "execution": {
     "iopub.execute_input": "2025-07-15T16:53:10.368361Z",
     "iopub.status.busy": "2025-07-15T16:53:10.368002Z",
     "iopub.status.idle": "2025-07-15T16:53:10.382101Z",
     "shell.execute_reply": "2025-07-15T16:53:10.381396Z"
    },
    "papermill": {
     "duration": 0.026524,
     "end_time": "2025-07-15T16:53:10.383375",
     "exception": false,
     "start_time": "2025-07-15T16:53:10.356851",
     "status": "completed"
    },
    "tags": []
   },
   "outputs": [
    {
     "data": {
      "text/html": [
       "<div>\n",
       "<style scoped>\n",
       "    .dataframe tbody tr th:only-of-type {\n",
       "        vertical-align: middle;\n",
       "    }\n",
       "\n",
       "    .dataframe tbody tr th {\n",
       "        vertical-align: top;\n",
       "    }\n",
       "\n",
       "    .dataframe thead th {\n",
       "        text-align: right;\n",
       "    }\n",
       "</style>\n",
       "<table border=\"1\" class=\"dataframe\">\n",
       "  <thead>\n",
       "    <tr style=\"text-align: right;\">\n",
       "      <th></th>\n",
       "      <th>bore</th>\n",
       "      <th>stroke</th>\n",
       "      <th>compression-ratio</th>\n",
       "      <th>horsepower</th>\n",
       "    </tr>\n",
       "  </thead>\n",
       "  <tbody>\n",
       "    <tr>\n",
       "      <th>bore</th>\n",
       "      <td>1.000000</td>\n",
       "      <td>-0.051087</td>\n",
       "      <td>0.002034</td>\n",
       "      <td>0.566807</td>\n",
       "    </tr>\n",
       "    <tr>\n",
       "      <th>stroke</th>\n",
       "      <td>-0.051087</td>\n",
       "      <td>1.000000</td>\n",
       "      <td>0.186780</td>\n",
       "      <td>0.100881</td>\n",
       "    </tr>\n",
       "    <tr>\n",
       "      <th>compression-ratio</th>\n",
       "      <td>0.002034</td>\n",
       "      <td>0.186780</td>\n",
       "      <td>1.000000</td>\n",
       "      <td>-0.214260</td>\n",
       "    </tr>\n",
       "    <tr>\n",
       "      <th>horsepower</th>\n",
       "      <td>0.566807</td>\n",
       "      <td>0.100881</td>\n",
       "      <td>-0.214260</td>\n",
       "      <td>1.000000</td>\n",
       "    </tr>\n",
       "  </tbody>\n",
       "</table>\n",
       "</div>"
      ],
      "text/plain": [
       "                       bore    stroke  compression-ratio  horsepower\n",
       "bore               1.000000 -0.051087           0.002034    0.566807\n",
       "stroke            -0.051087  1.000000           0.186780    0.100881\n",
       "compression-ratio  0.002034  0.186780           1.000000   -0.214260\n",
       "horsepower         0.566807  0.100881          -0.214260    1.000000"
      ]
     },
     "execution_count": 5,
     "metadata": {},
     "output_type": "execute_result"
    }
   ],
   "source": [
    "df[['bore', 'stroke','compression-ratio', 'horsepower']].corr()"
   ]
  },
  {
   "cell_type": "markdown",
   "id": "cbd18aa4",
   "metadata": {
    "papermill": {
     "duration": 0.010274,
     "end_time": "2025-07-15T16:53:10.404089",
     "exception": false,
     "start_time": "2025-07-15T16:53:10.393815",
     "status": "completed"
    },
    "tags": []
   },
   "source": [
    "<h2>Continuous Numerical Variables:</h2> \n",
    "\n",
    "<p>Continuous numerical variables are variables that may contain any value within some range. They can be of type \"int64\" or \"float64\". A great way to visualize these variables is by using scatterplots with fitted lines.</p>"
   ]
  },
  {
   "cell_type": "code",
   "execution_count": 6,
   "id": "9dcda073",
   "metadata": {
    "execution": {
     "iopub.execute_input": "2025-07-15T16:53:10.425533Z",
     "iopub.status.busy": "2025-07-15T16:53:10.425175Z",
     "iopub.status.idle": "2025-07-15T16:53:10.900142Z",
     "shell.execute_reply": "2025-07-15T16:53:10.899279Z"
    },
    "papermill": {
     "duration": 0.487584,
     "end_time": "2025-07-15T16:53:10.901813",
     "exception": false,
     "start_time": "2025-07-15T16:53:10.414229",
     "status": "completed"
    },
    "tags": []
   },
   "outputs": [
    {
     "data": {
      "image/png": "[encoded data removed]",
      "text/plain": [
       "<Figure size 640x480 with 1 Axes>"
      ]
     },
     "metadata": {},
     "output_type": "display_data"
    }
   ],
   "source": [
    "# Engine size as potential predictor variable of price\n",
    "sns.regplot(x=\"engine-size\", y=\"price\", data=df)\n",
    "plt.ylim(0,)\n",
    "plt.show()"
   ]
  },
  {
   "cell_type": "code",
   "execution_count": 7,
   "id": "9eb5482b",
   "metadata": {
    "execution": {
     "iopub.execute_input": "2025-07-15T16:53:10.925526Z",
     "iopub.status.busy": "2025-07-15T16:53:10.925164Z",
     "iopub.status.idle": "2025-07-15T16:53:10.935128Z",
     "shell.execute_reply": "2025-07-15T16:53:10.934197Z"
    },
    "papermill": {
     "duration": 0.023273,
     "end_time": "2025-07-15T16:53:10.936572",
     "exception": false,
     "start_time": "2025-07-15T16:53:10.913299",
     "status": "completed"
    },
    "tags": []
   },
   "outputs": [
    {
     "data": {
      "text/html": [
       "<div>\n",
       "<style scoped>\n",
       "    .dataframe tbody tr th:only-of-type {\n",
       "        vertical-align: middle;\n",
       "    }\n",
       "\n",
       "    .dataframe tbody tr th {\n",
       "        vertical-align: top;\n",
       "    }\n",
       "\n",
       "    .dataframe thead th {\n",
       "        text-align: right;\n",
       "    }\n",
       "</style>\n",
       "<table border=\"1\" class=\"dataframe\">\n",
       "  <thead>\n",
       "    <tr style=\"text-align: right;\">\n",
       "      <th></th>\n",
       "      <th>engine-size</th>\n",
       "      <th>price</th>\n",
       "    </tr>\n",
       "  </thead>\n",
       "  <tbody>\n",
       "    <tr>\n",
       "      <th>engine-size</th>\n",
       "      <td>1.000000</td>\n",
       "      <td>0.872337</td>\n",
       "    </tr>\n",
       "    <tr>\n",
       "      <th>price</th>\n",
       "      <td>0.872337</td>\n",
       "      <td>1.000000</td>\n",
       "    </tr>\n",
       "  </tbody>\n",
       "</table>\n",
       "</div>"
      ],
      "text/plain": [
       "             engine-size     price\n",
       "engine-size     1.000000  0.872337\n",
       "price           0.872337  1.000000"
      ]
     },
     "execution_count": 7,
     "metadata": {},
     "output_type": "execute_result"
    }
   ],
   "source": [
    "# find correlation between \"engine-size\" and \"price\"\n",
    "df[[\"engine-size\", \"price\"]].corr()"
   ]
  },
  {
   "cell_type": "code",
   "execution_count": 8,
   "id": "05c74e53",
   "metadata": {
    "execution": {
     "iopub.execute_input": "2025-07-15T16:53:10.961634Z",
     "iopub.status.busy": "2025-07-15T16:53:10.961317Z",
     "iopub.status.idle": "2025-07-15T16:53:11.225308Z",
     "shell.execute_reply": "2025-07-15T16:53:11.224487Z"
    },
    "papermill": {
     "duration": 0.278543,
     "end_time": "2025-07-15T16:53:11.226651",
     "exception": false,
     "start_time": "2025-07-15T16:53:10.948108",
     "status": "completed"
    },
    "tags": []
   },
   "outputs": [
    {
     "data": {
      "image/png": "[encoded data removed]",
      "text/plain": [
       "<Figure size 640x480 with 1 Axes>"
      ]
     },
     "metadata": {},
     "output_type": "display_data"
    }
   ],
   "source": [
    "sns.regplot(x=\"highway-L/100km\", y=\"price\", data=df)\n",
    "plt.show()\n"
   ]
  },
  {
   "cell_type": "code",
   "execution_count": 9,
   "id": "d82278f1",
   "metadata": {
    "execution": {
     "iopub.execute_input": "2025-07-15T16:53:11.253586Z",
     "iopub.status.busy": "2025-07-15T16:53:11.253257Z",
     "iopub.status.idle": "2025-07-15T16:53:11.262814Z",
     "shell.execute_reply": "2025-07-15T16:53:11.262027Z"
    },
    "papermill": {
     "duration": 0.025,
     "end_time": "2025-07-15T16:53:11.264110",
     "exception": false,
     "start_time": "2025-07-15T16:53:11.239110",
     "status": "completed"
    },
    "tags": []
   },
   "outputs": [
    {
     "data": {
      "text/html": [
       "<div>\n",
       "<style scoped>\n",
       "    .dataframe tbody tr th:only-of-type {\n",
       "        vertical-align: middle;\n",
       "    }\n",
       "\n",
       "    .dataframe tbody tr th {\n",
       "        vertical-align: top;\n",
       "    }\n",
       "\n",
       "    .dataframe thead th {\n",
       "        text-align: right;\n",
       "    }\n",
       "</style>\n",
       "<table border=\"1\" class=\"dataframe\">\n",
       "  <thead>\n",
       "    <tr style=\"text-align: right;\">\n",
       "      <th></th>\n",
       "      <th>highway-L/100km</th>\n",
       "      <th>price</th>\n",
       "    </tr>\n",
       "  </thead>\n",
       "  <tbody>\n",
       "    <tr>\n",
       "      <th>highway-L/100km</th>\n",
       "      <td>1.000000</td>\n",
       "      <td>-0.705115</td>\n",
       "    </tr>\n",
       "    <tr>\n",
       "      <th>price</th>\n",
       "      <td>-0.705115</td>\n",
       "      <td>1.000000</td>\n",
       "    </tr>\n",
       "  </tbody>\n",
       "</table>\n",
       "</div>"
      ],
      "text/plain": [
       "                 highway-L/100km     price\n",
       "highway-L/100km         1.000000 -0.705115\n",
       "price                  -0.705115  1.000000"
      ]
     },
     "execution_count": 9,
     "metadata": {},
     "output_type": "execute_result"
    }
   ],
   "source": [
    "df[['highway-L/100km', 'price']].corr()"
   ]
  },
  {
   "cell_type": "code",
   "execution_count": 10,
   "id": "5d2a86e9",
   "metadata": {
    "execution": {
     "iopub.execute_input": "2025-07-15T16:53:11.353194Z",
     "iopub.status.busy": "2025-07-15T16:53:11.352893Z",
     "iopub.status.idle": "2025-07-15T16:53:11.362061Z",
     "shell.execute_reply": "2025-07-15T16:53:11.361399Z"
    },
    "papermill": {
     "duration": 0.086817,
     "end_time": "2025-07-15T16:53:11.363413",
     "exception": false,
     "start_time": "2025-07-15T16:53:11.276596",
     "status": "completed"
    },
    "tags": []
   },
   "outputs": [
    {
     "data": {
      "text/html": [
       "<div>\n",
       "<style scoped>\n",
       "    .dataframe tbody tr th:only-of-type {\n",
       "        vertical-align: middle;\n",
       "    }\n",
       "\n",
       "    .dataframe tbody tr th {\n",
       "        vertical-align: top;\n",
       "    }\n",
       "\n",
       "    .dataframe thead th {\n",
       "        text-align: right;\n",
       "    }\n",
       "</style>\n",
       "<table border=\"1\" class=\"dataframe\">\n",
       "  <thead>\n",
       "    <tr style=\"text-align: right;\">\n",
       "      <th></th>\n",
       "      <th>peak-rpm</th>\n",
       "      <th>price</th>\n",
       "    </tr>\n",
       "  </thead>\n",
       "  <tbody>\n",
       "    <tr>\n",
       "      <th>peak-rpm</th>\n",
       "      <td>1.000000</td>\n",
       "      <td>-0.101593</td>\n",
       "    </tr>\n",
       "    <tr>\n",
       "      <th>price</th>\n",
       "      <td>-0.101593</td>\n",
       "      <td>1.000000</td>\n",
       "    </tr>\n",
       "  </tbody>\n",
       "</table>\n",
       "</div>"
      ],
      "text/plain": [
       "          peak-rpm     price\n",
       "peak-rpm  1.000000 -0.101593\n",
       "price    -0.101593  1.000000"
      ]
     },
     "execution_count": 10,
     "metadata": {},
     "output_type": "execute_result"
    }
   ],
   "source": [
    "df[['peak-rpm','price']].corr()"
   ]
  },
  {
   "cell_type": "code",
   "execution_count": 11,
   "id": "136a22c3",
   "metadata": {
    "execution": {
     "iopub.execute_input": "2025-07-15T16:53:11.390979Z",
     "iopub.status.busy": "2025-07-15T16:53:11.390674Z",
     "iopub.status.idle": "2025-07-15T16:53:11.646833Z",
     "shell.execute_reply": "2025-07-15T16:53:11.646035Z"
    },
    "papermill": {
     "duration": 0.271935,
     "end_time": "2025-07-15T16:53:11.648456",
     "exception": false,
     "start_time": "2025-07-15T16:53:11.376521",
     "status": "completed"
    },
    "tags": []
   },
   "outputs": [
    {
     "data": {
      "image/png": "[encoded data removed]",
      "text/plain": [
       "<Figure size 640x480 with 1 Axes>"
      ]
     },
     "metadata": {},
     "output_type": "display_data"
    }
   ],
   "source": [
    "sns.regplot(x=\"peak-rpm\", y=\"price\", data=df)\n",
    "plt.show()"
   ]
  },
  {
   "cell_type": "code",
   "execution_count": 12,
   "id": "ee87fef9",
   "metadata": {
    "execution": {
     "iopub.execute_input": "2025-07-15T16:53:11.678943Z",
     "iopub.status.busy": "2025-07-15T16:53:11.678643Z",
     "iopub.status.idle": "2025-07-15T16:53:11.687701Z",
     "shell.execute_reply": "2025-07-15T16:53:11.686880Z"
    },
    "papermill": {
     "duration": 0.026605,
     "end_time": "2025-07-15T16:53:11.689096",
     "exception": false,
     "start_time": "2025-07-15T16:53:11.662491",
     "status": "completed"
    },
    "tags": []
   },
   "outputs": [
    {
     "data": {
      "text/html": [
       "<div>\n",
       "<style scoped>\n",
       "    .dataframe tbody tr th:only-of-type {\n",
       "        vertical-align: middle;\n",
       "    }\n",
       "\n",
       "    .dataframe tbody tr th {\n",
       "        vertical-align: top;\n",
       "    }\n",
       "\n",
       "    .dataframe thead th {\n",
       "        text-align: right;\n",
       "    }\n",
       "</style>\n",
       "<table border=\"1\" class=\"dataframe\">\n",
       "  <thead>\n",
       "    <tr style=\"text-align: right;\">\n",
       "      <th></th>\n",
       "      <th>stroke</th>\n",
       "      <th>price</th>\n",
       "    </tr>\n",
       "  </thead>\n",
       "  <tbody>\n",
       "    <tr>\n",
       "      <th>stroke</th>\n",
       "      <td>1.000000</td>\n",
       "      <td>0.083298</td>\n",
       "    </tr>\n",
       "    <tr>\n",
       "      <th>price</th>\n",
       "      <td>0.083298</td>\n",
       "      <td>1.000000</td>\n",
       "    </tr>\n",
       "  </tbody>\n",
       "</table>\n",
       "</div>"
      ],
      "text/plain": [
       "          stroke     price\n",
       "stroke  1.000000  0.083298\n",
       "price   0.083298  1.000000"
      ]
     },
     "execution_count": 12,
     "metadata": {},
     "output_type": "execute_result"
    }
   ],
   "source": [
    "df[['stroke','price']].corr()"
   ]
  },
  {
   "cell_type": "code",
   "execution_count": 13,
   "id": "c11c53ac",
   "metadata": {
    "execution": {
     "iopub.execute_input": "2025-07-15T16:53:11.718821Z",
     "iopub.status.busy": "2025-07-15T16:53:11.718144Z",
     "iopub.status.idle": "2025-07-15T16:53:11.966875Z",
     "shell.execute_reply": "2025-07-15T16:53:11.966001Z"
    },
    "papermill": {
     "duration": 0.265019,
     "end_time": "2025-07-15T16:53:11.968406",
     "exception": false,
     "start_time": "2025-07-15T16:53:11.703387",
     "status": "completed"
    },
    "tags": []
   },
   "outputs": [
    {
     "data": {
      "image/png": "[encoded data removed]",
      "text/plain": [
       "<Figure size 640x480 with 1 Axes>"
      ]
     },
     "metadata": {},
     "output_type": "display_data"
    }
   ],
   "source": [
    "sns.regplot(x='stroke', y='price', data=df)\n",
    "plt.show()"
   ]
  },
  {
   "cell_type": "markdown",
   "id": "d05ff522",
   "metadata": {
    "papermill": {
     "duration": 0.016393,
     "end_time": "2025-07-15T16:53:12.000593",
     "exception": false,
     "start_time": "2025-07-15T16:53:11.984200",
     "status": "completed"
    },
    "tags": []
   },
   "source": [
    "<h3>Categorical Variables</h3>\n",
    "\n",
    "<p>These are variables that describe a 'characteristic' of a data unit, and are selected from a small group of categories. The categorical variables can have the type \"object\" or \"int64\". A good way to visualize categorical variables is by using boxplots.</p>"
   ]
  },
  {
   "cell_type": "code",
   "execution_count": 14,
   "id": "f67a4589",
   "metadata": {
    "execution": {
     "iopub.execute_input": "2025-07-15T16:53:12.033352Z",
     "iopub.status.busy": "2025-07-15T16:53:12.032517Z",
     "iopub.status.idle": "2025-07-15T16:53:12.202571Z",
     "shell.execute_reply": "2025-07-15T16:53:12.201676Z"
    },
    "papermill": {
     "duration": 0.18736,
     "end_time": "2025-07-15T16:53:12.203967",
     "exception": false,
     "start_time": "2025-07-15T16:53:12.016607",
     "status": "completed"
    },
    "tags": []
   },
   "outputs": [
    {
     "data": {
      "image/png": "[encoded data removed]",
      "text/plain": [
       "<Figure size 640x480 with 1 Axes>"
      ]
     },
     "metadata": {},
     "output_type": "display_data"
    }
   ],
   "source": [
    "sns.boxplot(x='body-style', y='price', data=df)\n",
    "plt.show()"
   ]
  },
  {
   "cell_type": "code",
   "execution_count": 15,
   "id": "93b87607",
   "metadata": {
    "execution": {
     "iopub.execute_input": "2025-07-15T16:53:12.237868Z",
     "iopub.status.busy": "2025-07-15T16:53:12.237577Z",
     "iopub.status.idle": "2025-07-15T16:53:12.368904Z",
     "shell.execute_reply": "2025-07-15T16:53:12.368061Z"
    },
    "papermill": {
     "duration": 0.14981,
     "end_time": "2025-07-15T16:53:12.370363",
     "exception": false,
     "start_time": "2025-07-15T16:53:12.220553",
     "status": "completed"
    },
    "tags": []
   },
   "outputs": [
    {
     "data": {
      "image/png": "[encoded data removed]",
      "text/plain": [
       "<Figure size 640x480 with 1 Axes>"
      ]
     },
     "metadata": {},
     "output_type": "display_data"
    }
   ],
   "source": [
    "sns.boxplot(x='engine-location', y='price', data=df)\n",
    "plt.show()"
   ]
  },
  {
   "cell_type": "code",
   "execution_count": 16,
   "id": "8c408ad2",
   "metadata": {
    "execution": {
     "iopub.execute_input": "2025-07-15T16:53:12.405131Z",
     "iopub.status.busy": "2025-07-15T16:53:12.404263Z",
     "iopub.status.idle": "2025-07-15T16:53:12.547407Z",
     "shell.execute_reply": "2025-07-15T16:53:12.546572Z"
    },
    "papermill": {
     "duration": 0.161884,
     "end_time": "2025-07-15T16:53:12.548881",
     "exception": false,
     "start_time": "2025-07-15T16:53:12.386997",
     "status": "completed"
    },
    "tags": []
   },
   "outputs": [
    {
     "data": {
      "image/png": "[encoded data removed]",
      "text/plain": [
       "<Figure size 640x480 with 1 Axes>"
      ]
     },
     "metadata": {},
     "output_type": "display_data"
    }
   ],
   "source": [
    "# drive-wheels\n",
    "sns.boxplot(x=\"drive-wheels\", y=\"price\", data=df)\n",
    "plt.show()"
   ]
  },
  {
   "cell_type": "markdown",
   "id": "17f5f085",
   "metadata": {
    "papermill": {
     "duration": 0.017286,
     "end_time": "2025-07-15T16:53:12.583083",
     "exception": false,
     "start_time": "2025-07-15T16:53:12.565797",
     "status": "completed"
    },
    "tags": []
   },
   "source": [
    "<h2 id=\"discriptive_statistics\">Descriptive Statistical Analysis</h2>"
   ]
  },
  {
   "cell_type": "markdown",
   "id": "7cb9b18f",
   "metadata": {
    "papermill": {
     "duration": 0.016922,
     "end_time": "2025-07-15T16:53:12.617548",
     "exception": false,
     "start_time": "2025-07-15T16:53:12.600626",
     "status": "completed"
    },
    "tags": []
   },
   "source": [
    "<p>Let's first take a look at the variables by utilizing a description method.</p>\n",
    "\n",
    "<p>The <b>describe</b> function automatically computes basic statistics for all continuous variables. Any NaN values are automatically skipped in these statistics.</p>\n",
    "\n",
    "This will show:\n",
    "<ul>\n",
    "    <li>the count of that variable</li>\n",
    "    <li>the mean</li>\n",
    "    <li>the standard deviation (std)</li> \n",
    "    <li>the minimum value</li>\n",
    "    <li>the IQR (Interquartile Range: 25%, 50% and 75%)</li>\n",
    "    <li>the maximum value</li>\n",
    "<ul>"
   ]
  },
  {
   "cell_type": "code",
   "execution_count": 17,
   "id": "025e4439",
   "metadata": {
    "execution": {
     "iopub.execute_input": "2025-07-15T16:53:12.652744Z",
     "iopub.status.busy": "2025-07-15T16:53:12.652401Z",
     "iopub.status.idle": "2025-07-15T16:53:12.704296Z",
     "shell.execute_reply": "2025-07-15T16:53:12.703351Z"
    },
    "papermill": {
     "duration": 0.071259,
     "end_time": "2025-07-15T16:53:12.705744",
     "exception": false,
     "start_time": "2025-07-15T16:53:12.634485",
     "status": "completed"
    },
    "tags": []
   },
   "outputs": [
    {
     "data": {
      "text/html": [
       "<div>\n",
       "<style scoped>\n",
       "    .dataframe tbody tr th:only-of-type {\n",
       "        vertical-align: middle;\n",
       "    }\n",
       "\n",
       "    .dataframe tbody tr th {\n",
       "        vertical-align: top;\n",
       "    }\n",
       "\n",
       "    .dataframe thead th {\n",
       "        text-align: right;\n",
       "    }\n",
       "</style>\n",
       "<table border=\"1\" class=\"dataframe\">\n",
       "  <thead>\n",
       "    <tr style=\"text-align: right;\">\n",
       "      <th></th>\n",
       "      <th>Unnamed: 0</th>\n",
       "      <th>symboling</th>\n",
       "      <th>normalized-losses</th>\n",
       "      <th>wheel-base</th>\n",
       "      <th>length</th>\n",
       "      <th>width</th>\n",
       "      <th>height</th>\n",
       "      <th>curb-weight</th>\n",
       "      <th>engine-size</th>\n",
       "      <th>bore</th>\n",
       "      <th>...</th>\n",
       "      <th>peak-rpm</th>\n",
       "      <th>city-mpg</th>\n",
       "      <th>highway-L/100km</th>\n",
       "      <th>price</th>\n",
       "      <th>city-L/100km</th>\n",
       "      <th>highway-L/100km.1</th>\n",
       "      <th>diesel</th>\n",
       "      <th>gas</th>\n",
       "      <th>aspiration-std</th>\n",
       "      <th>aspiration-turbo</th>\n",
       "    </tr>\n",
       "  </thead>\n",
       "  <tbody>\n",
       "    <tr>\n",
       "      <th>count</th>\n",
       "      <td>200.000000</td>\n",
       "      <td>200.000000</td>\n",
       "      <td>200.000000</td>\n",
       "      <td>200.000000</td>\n",
       "      <td>200.000000</td>\n",
       "      <td>200.000000</td>\n",
       "      <td>200.000000</td>\n",
       "      <td>200.000000</td>\n",
       "      <td>200.000000</td>\n",
       "      <td>200.000000</td>\n",
       "      <td>...</td>\n",
       "      <td>200.000000</td>\n",
       "      <td>200.000000</td>\n",
       "      <td>200.000000</td>\n",
       "      <td>200.000000</td>\n",
       "      <td>200.000000</td>\n",
       "      <td>200.000000</td>\n",
       "      <td>200.000000</td>\n",
       "      <td>200.000000</td>\n",
       "      <td>200.000000</td>\n",
       "      <td>200.000000</td>\n",
       "    </tr>\n",
       "    <tr>\n",
       "      <th>mean</th>\n",
       "      <td>99.500000</td>\n",
       "      <td>0.830000</td>\n",
       "      <td>122.000000</td>\n",
       "      <td>98.848000</td>\n",
       "      <td>0.837232</td>\n",
       "      <td>0.915250</td>\n",
       "      <td>0.899523</td>\n",
       "      <td>2555.705000</td>\n",
       "      <td>126.860000</td>\n",
       "      <td>3.329981</td>\n",
       "      <td>...</td>\n",
       "      <td>5118.259901</td>\n",
       "      <td>25.200000</td>\n",
       "      <td>30.705000</td>\n",
       "      <td>13205.690000</td>\n",
       "      <td>9.937914</td>\n",
       "      <td>8.041663</td>\n",
       "      <td>0.100000</td>\n",
       "      <td>0.900000</td>\n",
       "      <td>0.820000</td>\n",
       "      <td>0.180000</td>\n",
       "    </tr>\n",
       "    <tr>\n",
       "      <th>std</th>\n",
       "      <td>57.879185</td>\n",
       "      <td>1.248557</td>\n",
       "      <td>32.076542</td>\n",
       "      <td>6.038261</td>\n",
       "      <td>0.059333</td>\n",
       "      <td>0.029207</td>\n",
       "      <td>0.040610</td>\n",
       "      <td>518.594552</td>\n",
       "      <td>41.650501</td>\n",
       "      <td>0.268562</td>\n",
       "      <td>...</td>\n",
       "      <td>479.240743</td>\n",
       "      <td>6.432487</td>\n",
       "      <td>6.827227</td>\n",
       "      <td>7966.982558</td>\n",
       "      <td>2.539415</td>\n",
       "      <td>1.844764</td>\n",
       "      <td>0.300753</td>\n",
       "      <td>0.300753</td>\n",
       "      <td>0.385152</td>\n",
       "      <td>0.385152</td>\n",
       "    </tr>\n",
       "    <tr>\n",
       "      <th>min</th>\n",
       "      <td>0.000000</td>\n",
       "      <td>-2.000000</td>\n",
       "      <td>65.000000</td>\n",
       "      <td>86.600000</td>\n",
       "      <td>0.678039</td>\n",
       "      <td>0.837500</td>\n",
       "      <td>0.799331</td>\n",
       "      <td>1488.000000</td>\n",
       "      <td>61.000000</td>\n",
       "      <td>2.540000</td>\n",
       "      <td>...</td>\n",
       "      <td>4150.000000</td>\n",
       "      <td>13.000000</td>\n",
       "      <td>16.000000</td>\n",
       "      <td>5118.000000</td>\n",
       "      <td>4.795918</td>\n",
       "      <td>4.351852</td>\n",
       "      <td>0.000000</td>\n",
       "      <td>0.000000</td>\n",
       "      <td>0.000000</td>\n",
       "      <td>0.000000</td>\n",
       "    </tr>\n",
       "    <tr>\n",
       "      <th>25%</th>\n",
       "      <td>49.750000</td>\n",
       "      <td>0.000000</td>\n",
       "      <td>100.250000</td>\n",
       "      <td>94.500000</td>\n",
       "      <td>0.800937</td>\n",
       "      <td>0.891319</td>\n",
       "      <td>0.869565</td>\n",
       "      <td>2163.000000</td>\n",
       "      <td>97.750000</td>\n",
       "      <td>3.150000</td>\n",
       "      <td>...</td>\n",
       "      <td>4800.000000</td>\n",
       "      <td>19.000000</td>\n",
       "      <td>25.000000</td>\n",
       "      <td>7775.000000</td>\n",
       "      <td>7.833333</td>\n",
       "      <td>6.911765</td>\n",
       "      <td>0.000000</td>\n",
       "      <td>1.000000</td>\n",
       "      <td>1.000000</td>\n",
       "      <td>0.000000</td>\n",
       "    </tr>\n",
       "    <tr>\n",
       "      <th>50%</th>\n",
       "      <td>99.500000</td>\n",
       "      <td>1.000000</td>\n",
       "      <td>122.000000</td>\n",
       "      <td>97.000000</td>\n",
       "      <td>0.832292</td>\n",
       "      <td>0.909722</td>\n",
       "      <td>0.904682</td>\n",
       "      <td>2414.000000</td>\n",
       "      <td>119.500000</td>\n",
       "      <td>3.310000</td>\n",
       "      <td>...</td>\n",
       "      <td>5162.995050</td>\n",
       "      <td>24.000000</td>\n",
       "      <td>30.000000</td>\n",
       "      <td>10270.000000</td>\n",
       "      <td>9.791667</td>\n",
       "      <td>7.833333</td>\n",
       "      <td>0.000000</td>\n",
       "      <td>1.000000</td>\n",
       "      <td>1.000000</td>\n",
       "      <td>0.000000</td>\n",
       "    </tr>\n",
       "    <tr>\n",
       "      <th>75%</th>\n",
       "      <td>149.250000</td>\n",
       "      <td>2.000000</td>\n",
       "      <td>138.250000</td>\n",
       "      <td>102.400000</td>\n",
       "      <td>0.881788</td>\n",
       "      <td>0.926042</td>\n",
       "      <td>0.928512</td>\n",
       "      <td>2928.250000</td>\n",
       "      <td>142.000000</td>\n",
       "      <td>3.582500</td>\n",
       "      <td>...</td>\n",
       "      <td>5500.000000</td>\n",
       "      <td>30.000000</td>\n",
       "      <td>34.000000</td>\n",
       "      <td>16500.750000</td>\n",
       "      <td>12.368421</td>\n",
       "      <td>9.400000</td>\n",
       "      <td>0.000000</td>\n",
       "      <td>1.000000</td>\n",
       "      <td>1.000000</td>\n",
       "      <td>0.000000</td>\n",
       "    </tr>\n",
       "    <tr>\n",
       "      <th>max</th>\n",
       "      <td>199.000000</td>\n",
       "      <td>3.000000</td>\n",
       "      <td>256.000000</td>\n",
       "      <td>120.900000</td>\n",
       "      <td>1.000000</td>\n",
       "      <td>1.000000</td>\n",
       "      <td>1.000000</td>\n",
       "      <td>4066.000000</td>\n",
       "      <td>326.000000</td>\n",
       "      <td>3.940000</td>\n",
       "      <td>...</td>\n",
       "      <td>6600.000000</td>\n",
       "      <td>49.000000</td>\n",
       "      <td>54.000000</td>\n",
       "      <td>45400.000000</td>\n",
       "      <td>18.076923</td>\n",
       "      <td>14.687500</td>\n",
       "      <td>1.000000</td>\n",
       "      <td>1.000000</td>\n",
       "      <td>1.000000</td>\n",
       "      <td>1.000000</td>\n",
       "    </tr>\n",
       "  </tbody>\n",
       "</table>\n",
       "<p>8 rows × 23 columns</p>\n",
       "</div>"
      ],
      "text/plain": [
       "       Unnamed: 0   symboling  normalized-losses  wheel-base      length  \\\n",
       "count  200.000000  200.000000         200.000000  200.000000  200.000000   \n",
       "mean    99.500000    0.830000         122.000000   98.848000    0.837232   \n",
       "std     57.879185    1.248557          32.076542    6.038261    0.059333   \n",
       "min      0.000000   -2.000000          65.000000   86.600000    0.678039   \n",
       "25%     49.750000    0.000000         100.250000   94.500000    0.800937   \n",
       "50%     99.500000    1.000000         122.000000   97.000000    0.832292   \n",
       "75%    149.250000    2.000000         138.250000  102.400000    0.881788   \n",
       "max    199.000000    3.000000         256.000000  120.900000    1.000000   \n",
       "\n",
       "            width      height  curb-weight  engine-size        bore  ...  \\\n",
       "count  200.000000  200.000000   200.000000   200.000000  200.000000  ...   \n",
       "mean     0.915250    0.899523  2555.705000   126.860000    3.329981  ...   \n",
       "std      0.029207    0.040610   518.594552    41.650501    0.268562  ...   \n",
       "min      0.837500    0.799331  1488.000000    61.000000    2.540000  ...   \n",
       "25%      0.891319    0.869565  2163.000000    97.750000    3.150000  ...   \n",
       "50%      0.909722    0.904682  2414.000000   119.500000    3.310000  ...   \n",
       "75%      0.926042    0.928512  2928.250000   142.000000    3.582500  ...   \n",
       "max      1.000000    1.000000  4066.000000   326.000000    3.940000  ...   \n",
       "\n",
       "          peak-rpm    city-mpg  highway-L/100km         price  city-L/100km  \\\n",
       "count   200.000000  200.000000       200.000000    200.000000    200.000000   \n",
       "mean   5118.259901   25.200000        30.705000  13205.690000      9.937914   \n",
       "std     479.240743    6.432487         6.827227   7966.982558      2.539415   \n",
       "min    4150.000000   13.000000        16.000000   5118.000000      4.795918   \n",
       "25%    4800.000000   19.000000        25.000000   7775.000000      7.833333   \n",
       "50%    5162.995050   24.000000        30.000000  10270.000000      9.791667   \n",
       "75%    5500.000000   30.000000        34.000000  16500.750000     12.368421   \n",
       "max    6600.000000   49.000000        54.000000  45400.000000     18.076923   \n",
       "\n",
       "       highway-L/100km.1      diesel         gas  aspiration-std  \\\n",
       "count         200.000000  200.000000  200.000000      200.000000   \n",
       "mean            8.041663    0.100000    0.900000        0.820000   \n",
       "std             1.844764    0.300753    0.300753        0.385152   \n",
       "min             4.351852    0.000000    0.000000        0.000000   \n",
       "25%             6.911765    0.000000    1.000000        1.000000   \n",
       "50%             7.833333    0.000000    1.000000        1.000000   \n",
       "75%             9.400000    0.000000    1.000000        1.000000   \n",
       "max            14.687500    1.000000    1.000000        1.000000   \n",
       "\n",
       "       aspiration-turbo  \n",
       "count        200.000000  \n",
       "mean           0.180000  \n",
       "std            0.385152  \n",
       "min            0.000000  \n",
       "25%            0.000000  \n",
       "50%            0.000000  \n",
       "75%            0.000000  \n",
       "max            1.000000  \n",
       "\n",
       "[8 rows x 23 columns]"
      ]
     },
     "execution_count": 17,
     "metadata": {},
     "output_type": "execute_result"
    }
   ],
   "source": [
    "df.describe()"
   ]
  },
  {
   "cell_type": "code",
   "execution_count": 18,
   "id": "2a5b07bd",
   "metadata": {
    "execution": {
     "iopub.execute_input": "2025-07-15T16:53:12.743657Z",
     "iopub.status.busy": "2025-07-15T16:53:12.742960Z",
     "iopub.status.idle": "2025-07-15T16:53:12.765829Z",
     "shell.execute_reply": "2025-07-15T16:53:12.765011Z"
    },
    "papermill": {
     "duration": 0.042554,
     "end_time": "2025-07-15T16:53:12.767116",
     "exception": false,
     "start_time": "2025-07-15T16:53:12.724562",
     "status": "completed"
    },
    "tags": []
   },
   "outputs": [
    {
     "data": {
      "text/html": [
       "<div>\n",
       "<style scoped>\n",
       "    .dataframe tbody tr th:only-of-type {\n",
       "        vertical-align: middle;\n",
       "    }\n",
       "\n",
       "    .dataframe tbody tr th {\n",
       "        vertical-align: top;\n",
       "    }\n",
       "\n",
       "    .dataframe thead th {\n",
       "        text-align: right;\n",
       "    }\n",
       "</style>\n",
       "<table border=\"1\" class=\"dataframe\">\n",
       "  <thead>\n",
       "    <tr style=\"text-align: right;\">\n",
       "      <th></th>\n",
       "      <th>make</th>\n",
       "      <th>num-of-doors</th>\n",
       "      <th>body-style</th>\n",
       "      <th>drive-wheels</th>\n",
       "      <th>engine-location</th>\n",
       "      <th>engine-type</th>\n",
       "      <th>num-of-cylinders</th>\n",
       "      <th>fuel-system</th>\n",
       "      <th>horsepower-binned</th>\n",
       "    </tr>\n",
       "  </thead>\n",
       "  <tbody>\n",
       "    <tr>\n",
       "      <th>count</th>\n",
       "      <td>200</td>\n",
       "      <td>200</td>\n",
       "      <td>200</td>\n",
       "      <td>200</td>\n",
       "      <td>200</td>\n",
       "      <td>200</td>\n",
       "      <td>200</td>\n",
       "      <td>200</td>\n",
       "      <td>200</td>\n",
       "    </tr>\n",
       "    <tr>\n",
       "      <th>unique</th>\n",
       "      <td>22</td>\n",
       "      <td>2</td>\n",
       "      <td>5</td>\n",
       "      <td>3</td>\n",
       "      <td>2</td>\n",
       "      <td>6</td>\n",
       "      <td>7</td>\n",
       "      <td>8</td>\n",
       "      <td>3</td>\n",
       "    </tr>\n",
       "    <tr>\n",
       "      <th>top</th>\n",
       "      <td>toyota</td>\n",
       "      <td>four</td>\n",
       "      <td>sedan</td>\n",
       "      <td>fwd</td>\n",
       "      <td>front</td>\n",
       "      <td>ohc</td>\n",
       "      <td>four</td>\n",
       "      <td>mpfi</td>\n",
       "      <td>Low</td>\n",
       "    </tr>\n",
       "    <tr>\n",
       "      <th>freq</th>\n",
       "      <td>32</td>\n",
       "      <td>115</td>\n",
       "      <td>94</td>\n",
       "      <td>118</td>\n",
       "      <td>197</td>\n",
       "      <td>145</td>\n",
       "      <td>156</td>\n",
       "      <td>91</td>\n",
       "      <td>152</td>\n",
       "    </tr>\n",
       "  </tbody>\n",
       "</table>\n",
       "</div>"
      ],
      "text/plain": [
       "          make num-of-doors body-style drive-wheels engine-location  \\\n",
       "count      200          200        200          200             200   \n",
       "unique      22            2          5            3               2   \n",
       "top     toyota         four      sedan          fwd           front   \n",
       "freq        32          115         94          118             197   \n",
       "\n",
       "       engine-type num-of-cylinders fuel-system horsepower-binned  \n",
       "count          200              200         200               200  \n",
       "unique           6                7           8                 3  \n",
       "top            ohc             four        mpfi               Low  \n",
       "freq           145              156          91               152  "
      ]
     },
     "execution_count": 18,
     "metadata": {},
     "output_type": "execute_result"
    }
   ],
   "source": [
    "df.describe(include=['object'])"
   ]
  },
  {
   "cell_type": "code",
   "execution_count": 19,
   "id": "35273573",
   "metadata": {
    "execution": {
     "iopub.execute_input": "2025-07-15T16:53:12.804807Z",
     "iopub.status.busy": "2025-07-15T16:53:12.804508Z",
     "iopub.status.idle": "2025-07-15T16:53:12.810453Z",
     "shell.execute_reply": "2025-07-15T16:53:12.809636Z"
    },
    "papermill": {
     "duration": 0.026531,
     "end_time": "2025-07-15T16:53:12.811879",
     "exception": false,
     "start_time": "2025-07-15T16:53:12.785348",
     "status": "completed"
    },
    "tags": []
   },
   "outputs": [
    {
     "data": {
      "text/plain": [
       "array(['rwd', 'fwd', '4wd'], dtype=object)"
      ]
     },
     "execution_count": 19,
     "metadata": {},
     "output_type": "execute_result"
    }
   ],
   "source": [
    "df['drive-wheels'].unique()"
   ]
  },
  {
   "cell_type": "code",
   "execution_count": 20,
   "id": "7bacc735",
   "metadata": {
    "execution": {
     "iopub.execute_input": "2025-07-15T16:53:12.848578Z",
     "iopub.status.busy": "2025-07-15T16:53:12.848264Z",
     "iopub.status.idle": "2025-07-15T16:53:12.854968Z",
     "shell.execute_reply": "2025-07-15T16:53:12.854131Z"
    },
    "papermill": {
     "duration": 0.026244,
     "end_time": "2025-07-15T16:53:12.856225",
     "exception": false,
     "start_time": "2025-07-15T16:53:12.829981",
     "status": "completed"
    },
    "tags": []
   },
   "outputs": [
    {
     "data": {
      "text/plain": [
       "drive-wheels\n",
       "fwd    118\n",
       "rwd     74\n",
       "4wd      8\n",
       "Name: count, dtype: int64"
      ]
     },
     "execution_count": 20,
     "metadata": {},
     "output_type": "execute_result"
    }
   ],
   "source": [
    "df['drive-wheels'].value_counts()\n"
   ]
  },
  {
   "cell_type": "code",
   "execution_count": 21,
   "id": "862db706",
   "metadata": {
    "execution": {
     "iopub.execute_input": "2025-07-15T16:53:12.893158Z",
     "iopub.status.busy": "2025-07-15T16:53:12.892873Z",
     "iopub.status.idle": "2025-07-15T16:53:12.900749Z",
     "shell.execute_reply": "2025-07-15T16:53:12.899989Z"
    },
    "papermill": {
     "duration": 0.027452,
     "end_time": "2025-07-15T16:53:12.901956",
     "exception": false,
     "start_time": "2025-07-15T16:53:12.874504",
     "status": "completed"
    },
    "tags": []
   },
   "outputs": [
    {
     "data": {
      "text/html": [
       "<div>\n",
       "<style scoped>\n",
       "    .dataframe tbody tr th:only-of-type {\n",
       "        vertical-align: middle;\n",
       "    }\n",
       "\n",
       "    .dataframe tbody tr th {\n",
       "        vertical-align: top;\n",
       "    }\n",
       "\n",
       "    .dataframe thead th {\n",
       "        text-align: right;\n",
       "    }\n",
       "</style>\n",
       "<table border=\"1\" class=\"dataframe\">\n",
       "  <thead>\n",
       "    <tr style=\"text-align: right;\">\n",
       "      <th></th>\n",
       "      <th>count</th>\n",
       "    </tr>\n",
       "    <tr>\n",
       "      <th>drive-wheels</th>\n",
       "      <th></th>\n",
       "    </tr>\n",
       "  </thead>\n",
       "  <tbody>\n",
       "    <tr>\n",
       "      <th>fwd</th>\n",
       "      <td>118</td>\n",
       "    </tr>\n",
       "    <tr>\n",
       "      <th>rwd</th>\n",
       "      <td>74</td>\n",
       "    </tr>\n",
       "    <tr>\n",
       "      <th>4wd</th>\n",
       "      <td>8</td>\n",
       "    </tr>\n",
       "  </tbody>\n",
       "</table>\n",
       "</div>"
      ],
      "text/plain": [
       "              count\n",
       "drive-wheels       \n",
       "fwd             118\n",
       "rwd              74\n",
       "4wd               8"
      ]
     },
     "execution_count": 21,
     "metadata": {},
     "output_type": "execute_result"
    }
   ],
   "source": [
    "df['drive-wheels'].value_counts().to_frame()"
   ]
  },
  {
   "cell_type": "code",
   "execution_count": 22,
   "id": "3f00ff27",
   "metadata": {
    "execution": {
     "iopub.execute_input": "2025-07-15T16:53:12.939398Z",
     "iopub.status.busy": "2025-07-15T16:53:12.938782Z",
     "iopub.status.idle": "2025-07-15T16:53:12.947691Z",
     "shell.execute_reply": "2025-07-15T16:53:12.946815Z"
    },
    "papermill": {
     "duration": 0.029003,
     "end_time": "2025-07-15T16:53:12.949091",
     "exception": false,
     "start_time": "2025-07-15T16:53:12.920088",
     "status": "completed"
    },
    "tags": []
   },
   "outputs": [
    {
     "data": {
      "text/html": [
       "<div>\n",
       "<style scoped>\n",
       "    .dataframe tbody tr th:only-of-type {\n",
       "        vertical-align: middle;\n",
       "    }\n",
       "\n",
       "    .dataframe tbody tr th {\n",
       "        vertical-align: top;\n",
       "    }\n",
       "\n",
       "    .dataframe thead th {\n",
       "        text-align: right;\n",
       "    }\n",
       "</style>\n",
       "<table border=\"1\" class=\"dataframe\">\n",
       "  <thead>\n",
       "    <tr style=\"text-align: right;\">\n",
       "      <th></th>\n",
       "      <th>count</th>\n",
       "    </tr>\n",
       "    <tr>\n",
       "      <th>drive-wheels</th>\n",
       "      <th></th>\n",
       "    </tr>\n",
       "  </thead>\n",
       "  <tbody>\n",
       "    <tr>\n",
       "      <th>fwd</th>\n",
       "      <td>118</td>\n",
       "    </tr>\n",
       "    <tr>\n",
       "      <th>rwd</th>\n",
       "      <td>74</td>\n",
       "    </tr>\n",
       "    <tr>\n",
       "      <th>4wd</th>\n",
       "      <td>8</td>\n",
       "    </tr>\n",
       "  </tbody>\n",
       "</table>\n",
       "</div>"
      ],
      "text/plain": [
       "              count\n",
       "drive-wheels       \n",
       "fwd             118\n",
       "rwd              74\n",
       "4wd               8"
      ]
     },
     "execution_count": 22,
     "metadata": {},
     "output_type": "execute_result"
    }
   ],
   "source": [
    "drive_wheels_counts = df['drive-wheels'].value_counts().to_frame()\n",
    "drive_wheels_counts.rename(columns={'drive-wheels': 'value_counts'}, inplace=True)\n",
    "drive_wheels_counts"
   ]
  },
  {
   "cell_type": "code",
   "execution_count": 23,
   "id": "6e79cf64",
   "metadata": {
    "execution": {
     "iopub.execute_input": "2025-07-15T16:53:12.988703Z",
     "iopub.status.busy": "2025-07-15T16:53:12.987991Z",
     "iopub.status.idle": "2025-07-15T16:53:12.995672Z",
     "shell.execute_reply": "2025-07-15T16:53:12.994773Z"
    },
    "papermill": {
     "duration": 0.028551,
     "end_time": "2025-07-15T16:53:12.997054",
     "exception": false,
     "start_time": "2025-07-15T16:53:12.968503",
     "status": "completed"
    },
    "tags": []
   },
   "outputs": [
    {
     "data": {
      "text/html": [
       "<div>\n",
       "<style scoped>\n",
       "    .dataframe tbody tr th:only-of-type {\n",
       "        vertical-align: middle;\n",
       "    }\n",
       "\n",
       "    .dataframe tbody tr th {\n",
       "        vertical-align: top;\n",
       "    }\n",
       "\n",
       "    .dataframe thead th {\n",
       "        text-align: right;\n",
       "    }\n",
       "</style>\n",
       "<table border=\"1\" class=\"dataframe\">\n",
       "  <thead>\n",
       "    <tr style=\"text-align: right;\">\n",
       "      <th></th>\n",
       "      <th>count</th>\n",
       "    </tr>\n",
       "    <tr>\n",
       "      <th>drive-wheels</th>\n",
       "      <th></th>\n",
       "    </tr>\n",
       "  </thead>\n",
       "  <tbody>\n",
       "    <tr>\n",
       "      <th>fwd</th>\n",
       "      <td>118</td>\n",
       "    </tr>\n",
       "    <tr>\n",
       "      <th>rwd</th>\n",
       "      <td>74</td>\n",
       "    </tr>\n",
       "    <tr>\n",
       "      <th>4wd</th>\n",
       "      <td>8</td>\n",
       "    </tr>\n",
       "  </tbody>\n",
       "</table>\n",
       "</div>"
      ],
      "text/plain": [
       "              count\n",
       "drive-wheels       \n",
       "fwd             118\n",
       "rwd              74\n",
       "4wd               8"
      ]
     },
     "execution_count": 23,
     "metadata": {},
     "output_type": "execute_result"
    }
   ],
   "source": [
    "drive_wheels_counts.index.name = 'drive-wheels'\n",
    "drive_wheels_counts"
   ]
  },
  {
   "cell_type": "code",
   "execution_count": 24,
   "id": "57f5f24c",
   "metadata": {
    "execution": {
     "iopub.execute_input": "2025-07-15T16:53:13.036215Z",
     "iopub.status.busy": "2025-07-15T16:53:13.035443Z",
     "iopub.status.idle": "2025-07-15T16:53:13.044274Z",
     "shell.execute_reply": "2025-07-15T16:53:13.043645Z"
    },
    "papermill": {
     "duration": 0.029546,
     "end_time": "2025-07-15T16:53:13.045553",
     "exception": false,
     "start_time": "2025-07-15T16:53:13.016007",
     "status": "completed"
    },
    "tags": []
   },
   "outputs": [
    {
     "data": {
      "text/html": [
       "<div>\n",
       "<style scoped>\n",
       "    .dataframe tbody tr th:only-of-type {\n",
       "        vertical-align: middle;\n",
       "    }\n",
       "\n",
       "    .dataframe tbody tr th {\n",
       "        vertical-align: top;\n",
       "    }\n",
       "\n",
       "    .dataframe thead th {\n",
       "        text-align: right;\n",
       "    }\n",
       "</style>\n",
       "<table border=\"1\" class=\"dataframe\">\n",
       "  <thead>\n",
       "    <tr style=\"text-align: right;\">\n",
       "      <th></th>\n",
       "      <th>count</th>\n",
       "    </tr>\n",
       "    <tr>\n",
       "      <th>engine-location</th>\n",
       "      <th></th>\n",
       "    </tr>\n",
       "  </thead>\n",
       "  <tbody>\n",
       "    <tr>\n",
       "      <th>front</th>\n",
       "      <td>197</td>\n",
       "    </tr>\n",
       "    <tr>\n",
       "      <th>rear</th>\n",
       "      <td>3</td>\n",
       "    </tr>\n",
       "  </tbody>\n",
       "</table>\n",
       "</div>"
      ],
      "text/plain": [
       "                 count\n",
       "engine-location       \n",
       "front              197\n",
       "rear                 3"
      ]
     },
     "execution_count": 24,
     "metadata": {},
     "output_type": "execute_result"
    }
   ],
   "source": [
    "# engine-location as variable\n",
    "engine_loc_counts = df['engine-location'].value_counts().to_frame()\n",
    "engine_loc_counts.rename(columns={'engine-location': 'value_counts'}, inplace=True)\n",
    "engine_loc_counts.index.name = 'engine-location'\n",
    "engine_loc_counts.head(10)"
   ]
  },
  {
   "cell_type": "code",
   "execution_count": 25,
   "id": "af0f06fc",
   "metadata": {
    "execution": {
     "iopub.execute_input": "2025-07-15T16:53:13.085408Z",
     "iopub.status.busy": "2025-07-15T16:53:13.084663Z",
     "iopub.status.idle": "2025-07-15T16:53:13.090058Z",
     "shell.execute_reply": "2025-07-15T16:53:13.089446Z"
    },
    "papermill": {
     "duration": 0.027335,
     "end_time": "2025-07-15T16:53:13.091341",
     "exception": false,
     "start_time": "2025-07-15T16:53:13.064006",
     "status": "completed"
    },
    "tags": []
   },
   "outputs": [
    {
     "data": {
      "text/plain": [
       "array(['rwd', 'fwd', '4wd'], dtype=object)"
      ]
     },
     "execution_count": 25,
     "metadata": {},
     "output_type": "execute_result"
    }
   ],
   "source": [
    "df['drive-wheels'].unique()"
   ]
  },
  {
   "cell_type": "code",
   "execution_count": 26,
   "id": "f8a8e968",
   "metadata": {
    "execution": {
     "iopub.execute_input": "2025-07-15T16:53:13.130653Z",
     "iopub.status.busy": "2025-07-15T16:53:13.129836Z",
     "iopub.status.idle": "2025-07-15T16:53:13.134833Z",
     "shell.execute_reply": "2025-07-15T16:53:13.134127Z"
    },
    "papermill": {
     "duration": 0.025623,
     "end_time": "2025-07-15T16:53:13.136075",
     "exception": false,
     "start_time": "2025-07-15T16:53:13.110452",
     "status": "completed"
    },
    "tags": []
   },
   "outputs": [],
   "source": [
    "df_group_one = df[['drive-wheels','body-style','price']]"
   ]
  },
  {
   "cell_type": "code",
   "execution_count": 27,
   "id": "c9cb8da4",
   "metadata": {
    "execution": {
     "iopub.execute_input": "2025-07-15T16:53:13.174857Z",
     "iopub.status.busy": "2025-07-15T16:53:13.174544Z",
     "iopub.status.idle": "2025-07-15T16:53:13.191156Z",
     "shell.execute_reply": "2025-07-15T16:53:13.190363Z"
    },
    "papermill": {
     "duration": 0.03788,
     "end_time": "2025-07-15T16:53:13.192525",
     "exception": false,
     "start_time": "2025-07-15T16:53:13.154645",
     "status": "completed"
    },
    "tags": []
   },
   "outputs": [
    {
     "data": {
      "text/html": [
       "<div>\n",
       "<style scoped>\n",
       "    .dataframe tbody tr th:only-of-type {\n",
       "        vertical-align: middle;\n",
       "    }\n",
       "\n",
       "    .dataframe tbody tr th {\n",
       "        vertical-align: top;\n",
       "    }\n",
       "\n",
       "    .dataframe thead th {\n",
       "        text-align: right;\n",
       "    }\n",
       "</style>\n",
       "<table border=\"1\" class=\"dataframe\">\n",
       "  <thead>\n",
       "    <tr style=\"text-align: right;\">\n",
       "      <th></th>\n",
       "      <th>drive-wheels</th>\n",
       "      <th>body-style</th>\n",
       "      <th>price</th>\n",
       "    </tr>\n",
       "  </thead>\n",
       "  <tbody>\n",
       "    <tr>\n",
       "      <th>0</th>\n",
       "      <td>4wd</td>\n",
       "      <td>hatchback</td>\n",
       "      <td>7603.000000</td>\n",
       "    </tr>\n",
       "    <tr>\n",
       "      <th>1</th>\n",
       "      <td>4wd</td>\n",
       "      <td>sedan</td>\n",
       "      <td>12647.333333</td>\n",
       "    </tr>\n",
       "    <tr>\n",
       "      <th>2</th>\n",
       "      <td>4wd</td>\n",
       "      <td>wagon</td>\n",
       "      <td>9095.750000</td>\n",
       "    </tr>\n",
       "    <tr>\n",
       "      <th>3</th>\n",
       "      <td>fwd</td>\n",
       "      <td>convertible</td>\n",
       "      <td>11595.000000</td>\n",
       "    </tr>\n",
       "    <tr>\n",
       "      <th>4</th>\n",
       "      <td>fwd</td>\n",
       "      <td>hardtop</td>\n",
       "      <td>8249.000000</td>\n",
       "    </tr>\n",
       "    <tr>\n",
       "      <th>5</th>\n",
       "      <td>fwd</td>\n",
       "      <td>hatchback</td>\n",
       "      <td>8396.387755</td>\n",
       "    </tr>\n",
       "    <tr>\n",
       "      <th>6</th>\n",
       "      <td>fwd</td>\n",
       "      <td>sedan</td>\n",
       "      <td>9811.800000</td>\n",
       "    </tr>\n",
       "    <tr>\n",
       "      <th>7</th>\n",
       "      <td>fwd</td>\n",
       "      <td>wagon</td>\n",
       "      <td>9997.333333</td>\n",
       "    </tr>\n",
       "    <tr>\n",
       "      <th>8</th>\n",
       "      <td>rwd</td>\n",
       "      <td>convertible</td>\n",
       "      <td>26563.250000</td>\n",
       "    </tr>\n",
       "    <tr>\n",
       "      <th>9</th>\n",
       "      <td>rwd</td>\n",
       "      <td>hardtop</td>\n",
       "      <td>24202.714286</td>\n",
       "    </tr>\n",
       "    <tr>\n",
       "      <th>10</th>\n",
       "      <td>rwd</td>\n",
       "      <td>hatchback</td>\n",
       "      <td>14337.777778</td>\n",
       "    </tr>\n",
       "    <tr>\n",
       "      <th>11</th>\n",
       "      <td>rwd</td>\n",
       "      <td>sedan</td>\n",
       "      <td>21711.833333</td>\n",
       "    </tr>\n",
       "    <tr>\n",
       "      <th>12</th>\n",
       "      <td>rwd</td>\n",
       "      <td>wagon</td>\n",
       "      <td>16994.222222</td>\n",
       "    </tr>\n",
       "  </tbody>\n",
       "</table>\n",
       "</div>"
      ],
      "text/plain": [
       "   drive-wheels   body-style         price\n",
       "0           4wd    hatchback   7603.000000\n",
       "1           4wd        sedan  12647.333333\n",
       "2           4wd        wagon   9095.750000\n",
       "3           fwd  convertible  11595.000000\n",
       "4           fwd      hardtop   8249.000000\n",
       "5           fwd    hatchback   8396.387755\n",
       "6           fwd        sedan   9811.800000\n",
       "7           fwd        wagon   9997.333333\n",
       "8           rwd  convertible  26563.250000\n",
       "9           rwd      hardtop  24202.714286\n",
       "10          rwd    hatchback  14337.777778\n",
       "11          rwd        sedan  21711.833333\n",
       "12          rwd        wagon  16994.222222"
      ]
     },
     "execution_count": 27,
     "metadata": {},
     "output_type": "execute_result"
    }
   ],
   "source": [
    "# grouping results\n",
    "df_gptest = df[['drive-wheels','body-style','price']]\n",
    "grouped_test1 = df_gptest.groupby(['drive-wheels','body-style'],as_index=False).mean()\n",
    "grouped_test1"
   ]
  },
  {
   "cell_type": "code",
   "execution_count": 28,
   "id": "17fdbae7",
   "metadata": {
    "execution": {
     "iopub.execute_input": "2025-07-15T16:53:13.232335Z",
     "iopub.status.busy": "2025-07-15T16:53:13.232005Z",
     "iopub.status.idle": "2025-07-15T16:53:13.263374Z",
     "shell.execute_reply": "2025-07-15T16:53:13.262447Z"
    },
    "papermill": {
     "duration": 0.052812,
     "end_time": "2025-07-15T16:53:13.264809",
     "exception": false,
     "start_time": "2025-07-15T16:53:13.211997",
     "status": "completed"
    },
    "tags": []
   },
   "outputs": [
    {
     "name": "stderr",
     "output_type": "stream",
     "text": [
      "/usr/local/lib/python3.11/dist-packages/pandas/io/formats/format.py:1458: RuntimeWarning: invalid value encountered in greater\n",
      "  has_large_values = (abs_vals > 1e6).any()\n",
      "/usr/local/lib/python3.11/dist-packages/pandas/io/formats/format.py:1459: RuntimeWarning: invalid value encountered in less\n",
      "  has_small_values = ((abs_vals < 10 ** (-self.digits)) & (abs_vals > 0)).any()\n",
      "/usr/local/lib/python3.11/dist-packages/pandas/io/formats/format.py:1459: RuntimeWarning: invalid value encountered in greater\n",
      "  has_small_values = ((abs_vals < 10 ** (-self.digits)) & (abs_vals > 0)).any()\n"
     ]
    },
    {
     "data": {
      "text/html": [
       "<div>\n",
       "<style scoped>\n",
       "    .dataframe tbody tr th:only-of-type {\n",
       "        vertical-align: middle;\n",
       "    }\n",
       "\n",
       "    .dataframe tbody tr th {\n",
       "        vertical-align: top;\n",
       "    }\n",
       "\n",
       "    .dataframe thead tr th {\n",
       "        text-align: left;\n",
       "    }\n",
       "\n",
       "    .dataframe thead tr:last-of-type th {\n",
       "        text-align: right;\n",
       "    }\n",
       "</style>\n",
       "<table border=\"1\" class=\"dataframe\">\n",
       "  <thead>\n",
       "    <tr>\n",
       "      <th></th>\n",
       "      <th colspan=\"5\" halign=\"left\">price</th>\n",
       "    </tr>\n",
       "    <tr>\n",
       "      <th>body-style</th>\n",
       "      <th>convertible</th>\n",
       "      <th>hardtop</th>\n",
       "      <th>hatchback</th>\n",
       "      <th>sedan</th>\n",
       "      <th>wagon</th>\n",
       "    </tr>\n",
       "    <tr>\n",
       "      <th>drive-wheels</th>\n",
       "      <th></th>\n",
       "      <th></th>\n",
       "      <th></th>\n",
       "      <th></th>\n",
       "      <th></th>\n",
       "    </tr>\n",
       "  </thead>\n",
       "  <tbody>\n",
       "    <tr>\n",
       "      <th>4wd</th>\n",
       "      <td>NaN</td>\n",
       "      <td>NaN</td>\n",
       "      <td>7603.000000</td>\n",
       "      <td>12647.333333</td>\n",
       "      <td>9095.750000</td>\n",
       "    </tr>\n",
       "    <tr>\n",
       "      <th>fwd</th>\n",
       "      <td>11595.00</td>\n",
       "      <td>8249.000000</td>\n",
       "      <td>8396.387755</td>\n",
       "      <td>9811.800000</td>\n",
       "      <td>9997.333333</td>\n",
       "    </tr>\n",
       "    <tr>\n",
       "      <th>rwd</th>\n",
       "      <td>26563.25</td>\n",
       "      <td>24202.714286</td>\n",
       "      <td>14337.777778</td>\n",
       "      <td>21711.833333</td>\n",
       "      <td>16994.222222</td>\n",
       "    </tr>\n",
       "  </tbody>\n",
       "</table>\n",
       "</div>"
      ],
      "text/plain": [
       "                   price                                            \\\n",
       "body-style   convertible       hardtop     hatchback         sedan   \n",
       "drive-wheels                                                         \n",
       "4wd                  NaN           NaN   7603.000000  12647.333333   \n",
       "fwd             11595.00   8249.000000   8396.387755   9811.800000   \n",
       "rwd             26563.25  24202.714286  14337.777778  21711.833333   \n",
       "\n",
       "                            \n",
       "body-style           wagon  \n",
       "drive-wheels                \n",
       "4wd            9095.750000  \n",
       "fwd            9997.333333  \n",
       "rwd           16994.222222  "
      ]
     },
     "execution_count": 28,
     "metadata": {},
     "output_type": "execute_result"
    }
   ],
   "source": [
    "grouped_pivot = grouped_test1.pivot(index='drive-wheels',columns='body-style')\n",
    "grouped_pivot"
   ]
  },
  {
   "cell_type": "code",
   "execution_count": 29,
   "id": "21974453",
   "metadata": {
    "execution": {
     "iopub.execute_input": "2025-07-15T16:53:13.307557Z",
     "iopub.status.busy": "2025-07-15T16:53:13.306629Z",
     "iopub.status.idle": "2025-07-15T16:53:13.318647Z",
     "shell.execute_reply": "2025-07-15T16:53:13.317919Z"
    },
    "papermill": {
     "duration": 0.035095,
     "end_time": "2025-07-15T16:53:13.319992",
     "exception": false,
     "start_time": "2025-07-15T16:53:13.284897",
     "status": "completed"
    },
    "tags": []
   },
   "outputs": [
    {
     "data": {
      "text/html": [
       "<div>\n",
       "<style scoped>\n",
       "    .dataframe tbody tr th:only-of-type {\n",
       "        vertical-align: middle;\n",
       "    }\n",
       "\n",
       "    .dataframe tbody tr th {\n",
       "        vertical-align: top;\n",
       "    }\n",
       "\n",
       "    .dataframe thead tr th {\n",
       "        text-align: left;\n",
       "    }\n",
       "\n",
       "    .dataframe thead tr:last-of-type th {\n",
       "        text-align: right;\n",
       "    }\n",
       "</style>\n",
       "<table border=\"1\" class=\"dataframe\">\n",
       "  <thead>\n",
       "    <tr>\n",
       "      <th></th>\n",
       "      <th colspan=\"5\" halign=\"left\">price</th>\n",
       "    </tr>\n",
       "    <tr>\n",
       "      <th>body-style</th>\n",
       "      <th>convertible</th>\n",
       "      <th>hardtop</th>\n",
       "      <th>hatchback</th>\n",
       "      <th>sedan</th>\n",
       "      <th>wagon</th>\n",
       "    </tr>\n",
       "    <tr>\n",
       "      <th>drive-wheels</th>\n",
       "      <th></th>\n",
       "      <th></th>\n",
       "      <th></th>\n",
       "      <th></th>\n",
       "      <th></th>\n",
       "    </tr>\n",
       "  </thead>\n",
       "  <tbody>\n",
       "    <tr>\n",
       "      <th>4wd</th>\n",
       "      <td>0.00</td>\n",
       "      <td>0.000000</td>\n",
       "      <td>7603.000000</td>\n",
       "      <td>12647.333333</td>\n",
       "      <td>9095.750000</td>\n",
       "    </tr>\n",
       "    <tr>\n",
       "      <th>fwd</th>\n",
       "      <td>11595.00</td>\n",
       "      <td>8249.000000</td>\n",
       "      <td>8396.387755</td>\n",
       "      <td>9811.800000</td>\n",
       "      <td>9997.333333</td>\n",
       "    </tr>\n",
       "    <tr>\n",
       "      <th>rwd</th>\n",
       "      <td>26563.25</td>\n",
       "      <td>24202.714286</td>\n",
       "      <td>14337.777778</td>\n",
       "      <td>21711.833333</td>\n",
       "      <td>16994.222222</td>\n",
       "    </tr>\n",
       "  </tbody>\n",
       "</table>\n",
       "</div>"
      ],
      "text/plain": [
       "                   price                                            \\\n",
       "body-style   convertible       hardtop     hatchback         sedan   \n",
       "drive-wheels                                                         \n",
       "4wd                 0.00      0.000000   7603.000000  12647.333333   \n",
       "fwd             11595.00   8249.000000   8396.387755   9811.800000   \n",
       "rwd             26563.25  24202.714286  14337.777778  21711.833333   \n",
       "\n",
       "                            \n",
       "body-style           wagon  \n",
       "drive-wheels                \n",
       "4wd            9095.750000  \n",
       "fwd            9997.333333  \n",
       "rwd           16994.222222  "
      ]
     },
     "execution_count": 29,
     "metadata": {},
     "output_type": "execute_result"
    }
   ],
   "source": [
    "grouped_pivot = grouped_pivot.fillna(0) #fill missing values with 0\n",
    "grouped_pivot"
   ]
  },
  {
   "cell_type": "code",
   "execution_count": 30,
   "id": "6022c055",
   "metadata": {
    "execution": {
     "iopub.execute_input": "2025-07-15T16:53:13.359363Z",
     "iopub.status.busy": "2025-07-15T16:53:13.359019Z",
     "iopub.status.idle": "2025-07-15T16:53:13.369726Z",
     "shell.execute_reply": "2025-07-15T16:53:13.368732Z"
    },
    "papermill": {
     "duration": 0.032112,
     "end_time": "2025-07-15T16:53:13.371217",
     "exception": false,
     "start_time": "2025-07-15T16:53:13.339105",
     "status": "completed"
    },
    "tags": []
   },
   "outputs": [
    {
     "data": {
      "text/html": [
       "<div>\n",
       "<style scoped>\n",
       "    .dataframe tbody tr th:only-of-type {\n",
       "        vertical-align: middle;\n",
       "    }\n",
       "\n",
       "    .dataframe tbody tr th {\n",
       "        vertical-align: top;\n",
       "    }\n",
       "\n",
       "    .dataframe thead th {\n",
       "        text-align: right;\n",
       "    }\n",
       "</style>\n",
       "<table border=\"1\" class=\"dataframe\">\n",
       "  <thead>\n",
       "    <tr style=\"text-align: right;\">\n",
       "      <th></th>\n",
       "      <th>body-style</th>\n",
       "      <th>price</th>\n",
       "    </tr>\n",
       "  </thead>\n",
       "  <tbody>\n",
       "    <tr>\n",
       "      <th>0</th>\n",
       "      <td>convertible</td>\n",
       "      <td>23569.600000</td>\n",
       "    </tr>\n",
       "    <tr>\n",
       "      <th>1</th>\n",
       "      <td>hardtop</td>\n",
       "      <td>22208.500000</td>\n",
       "    </tr>\n",
       "    <tr>\n",
       "      <th>2</th>\n",
       "      <td>hatchback</td>\n",
       "      <td>9957.441176</td>\n",
       "    </tr>\n",
       "    <tr>\n",
       "      <th>3</th>\n",
       "      <td>sedan</td>\n",
       "      <td>14459.755319</td>\n",
       "    </tr>\n",
       "    <tr>\n",
       "      <th>4</th>\n",
       "      <td>wagon</td>\n",
       "      <td>12371.960000</td>\n",
       "    </tr>\n",
       "  </tbody>\n",
       "</table>\n",
       "</div>"
      ],
      "text/plain": [
       "    body-style         price\n",
       "0  convertible  23569.600000\n",
       "1      hardtop  22208.500000\n",
       "2    hatchback   9957.441176\n",
       "3        sedan  14459.755319\n",
       "4        wagon  12371.960000"
      ]
     },
     "execution_count": 30,
     "metadata": {},
     "output_type": "execute_result"
    }
   ],
   "source": [
    "# grouping results\n",
    "df_gptest2 = df[['body-style','price']]\n",
    "grouped_test_bodystyle = df_gptest2.groupby(['body-style'],as_index= False).mean()\n",
    "grouped_test_bodystyle"
   ]
  },
  {
   "cell_type": "code",
   "execution_count": 31,
   "id": "d828fe36",
   "metadata": {
    "execution": {
     "iopub.execute_input": "2025-07-15T16:53:13.412476Z",
     "iopub.status.busy": "2025-07-15T16:53:13.411708Z",
     "iopub.status.idle": "2025-07-15T16:53:13.603853Z",
     "shell.execute_reply": "2025-07-15T16:53:13.602952Z"
    },
    "papermill": {
     "duration": 0.213621,
     "end_time": "2025-07-15T16:53:13.605137",
     "exception": false,
     "start_time": "2025-07-15T16:53:13.391516",
     "status": "completed"
    },
    "tags": []
   },
   "outputs": [
    {
     "data": {
      "image/png": "[encoded data removed]",
      "text/plain": [
       "<Figure size 640x480 with 2 Axes>"
      ]
     },
     "metadata": {},
     "output_type": "display_data"
    }
   ],
   "source": [
    "#use the grouped results\n",
    "plt.pcolor(grouped_pivot, cmap='RdBu')\n",
    "plt.colorbar()\n",
    "plt.show()"
   ]
  },
  {
   "cell_type": "code",
   "execution_count": 32,
   "id": "495e4beb",
   "metadata": {
    "execution": {
     "iopub.execute_input": "2025-07-15T16:53:13.646402Z",
     "iopub.status.busy": "2025-07-15T16:53:13.646072Z",
     "iopub.status.idle": "2025-07-15T16:53:13.802944Z",
     "shell.execute_reply": "2025-07-15T16:53:13.801789Z"
    },
    "papermill": {
     "duration": 0.179129,
     "end_time": "2025-07-15T16:53:13.804433",
     "exception": false,
     "start_time": "2025-07-15T16:53:13.625304",
     "status": "completed"
    },
    "tags": []
   },
   "outputs": [
    {
     "data": {
      "image/png": "[encoded data removed]",
      "text/plain": [
       "<Figure size 640x480 with 2 Axes>"
      ]
     },
     "metadata": {},
     "output_type": "display_data"
    }
   ],
   "source": [
    "fig, ax = plt.subplots()\n",
    "im = ax.pcolor(grouped_pivot, cmap='RdBu')\n",
    "\n",
    "#label names\n",
    "row_labels = grouped_pivot.columns.levels[1]\n",
    "col_labels = grouped_pivot.index\n",
    "\n",
    "#move ticks and labels to the center\n",
    "ax.set_xticks(np.arange(grouped_pivot.shape[1]) + 0.5, minor=False)\n",
    "ax.set_yticks(np.arange(grouped_pivot.shape[0]) + 0.5, minor=False)\n",
    "\n",
    "#insert labels\n",
    "ax.set_xticklabels(row_labels, minor=False)\n",
    "ax.set_yticklabels(col_labels, minor=False)\n",
    "\n",
    "#rotate label if too long\n",
    "plt.xticks(rotation=90)\n",
    "\n",
    "fig.colorbar(im)\n",
    "plt.show()"
   ]
  },
  {
   "cell_type": "markdown",
   "id": "8d7a7d05",
   "metadata": {
    "papermill": {
     "duration": 0.020442,
     "end_time": "2025-07-15T16:53:13.846088",
     "exception": false,
     "start_time": "2025-07-15T16:53:13.825646",
     "status": "completed"
    },
    "tags": []
   },
   "source": [
    "<h2 id=\"correlation_causation\">Correlation and Causation</h2>"
   ]
  },
  {
   "cell_type": "markdown",
   "id": "2d14cb56",
   "metadata": {
    "papermill": {
     "duration": 0.020232,
     "end_time": "2025-07-15T16:53:13.886556",
     "exception": false,
     "start_time": "2025-07-15T16:53:13.866324",
     "status": "completed"
    },
    "tags": []
   },
   "source": [
    "<p><b>Correlation</b>: a measure of the extent of interdependence between variables.</p>\n",
    "\n",
    "<p><b>Causation</b>: the relationship between cause and effect between two variables.</p>\n",
    "\n",
    "<p>It is important to know the difference between these two. Correlation does not imply causation. Determining correlation is much simpler  the determining causation as causation may require independent experimentation.</p>"
   ]
  },
  {
   "cell_type": "markdown",
   "id": "3f4c3e5a",
   "metadata": {
    "papermill": {
     "duration": 0.020087,
     "end_time": "2025-07-15T16:53:13.927277",
     "exception": false,
     "start_time": "2025-07-15T16:53:13.907190",
     "status": "completed"
    },
    "tags": []
   },
   "source": [
    "<b>P-value</b>\n",
    "<p>What is this P-value? The P-value is the probability value that the correlation between these two variables is statistically significant. Normally, we choose a significance level of 0.05, which means that we are 95% confident that the correlation between the variables is significant.</p>\n",
    "\n",
    "By convention, when the\n",
    "<ul>\n",
    "    <li>p-value is $<$ 0.001: we say there is strong evidence that the correlation is significant.</li>\n",
    "    <li>the p-value is $<$ 0.05: there is moderate evidence that the correlation is significant.</li>\n",
    "    <li>the p-value is $<$ 0.1: there is weak evidence that the correlation is significant.</li>\n",
    "    <li>the p-value is $>$ 0.1: there is no evidence that the correlation is significant.</li>\n",
    "</ul>"
   ]
  },
  {
   "cell_type": "code",
   "execution_count": 33,
   "id": "93bffa7d",
   "metadata": {
    "execution": {
     "iopub.execute_input": "2025-07-15T16:53:13.968915Z",
     "iopub.status.busy": "2025-07-15T16:53:13.968627Z",
     "iopub.status.idle": "2025-07-15T16:53:13.972943Z",
     "shell.execute_reply": "2025-07-15T16:53:13.972058Z"
    },
    "papermill": {
     "duration": 0.026926,
     "end_time": "2025-07-15T16:53:13.974301",
     "exception": false,
     "start_time": "2025-07-15T16:53:13.947375",
     "status": "completed"
    },
    "tags": []
   },
   "outputs": [],
   "source": [
    "from scipy import stats"
   ]
  },
  {
   "cell_type": "markdown",
   "id": "f2295b7b",
   "metadata": {
    "papermill": {
     "duration": 0.020424,
     "end_time": "2025-07-15T16:53:14.016069",
     "exception": false,
     "start_time": "2025-07-15T16:53:13.995645",
     "status": "completed"
    },
    "tags": []
   },
   "source": [
    "<h3>Wheel-Base vs. Price</h3>"
   ]
  },
  {
   "cell_type": "code",
   "execution_count": 34,
   "id": "82fff2c1",
   "metadata": {
    "execution": {
     "iopub.execute_input": "2025-07-15T16:53:14.058843Z",
     "iopub.status.busy": "2025-07-15T16:53:14.058525Z",
     "iopub.status.idle": "2025-07-15T16:53:14.064481Z",
     "shell.execute_reply": "2025-07-15T16:53:14.063509Z"
    },
    "papermill": {
     "duration": 0.028908,
     "end_time": "2025-07-15T16:53:14.065767",
     "exception": false,
     "start_time": "2025-07-15T16:53:14.036859",
     "status": "completed"
    },
    "tags": []
   },
   "outputs": [
    {
     "name": "stdout",
     "output_type": "stream",
     "text": [
      "The Pearson Correlation Coefficient is 0.5891470005448703  with a P-value of P = 4.45701950205007e-20\n"
     ]
    }
   ],
   "source": [
    "pearson_coef, p_value = stats.pearsonr(df['wheel-base'], df['price'])\n",
    "print(\"The Pearson Correlation Coefficient is\", pearson_coef, \" with a P-value of P =\", p_value)  "
   ]
  },
  {
   "cell_type": "markdown",
   "id": "0791dc6e",
   "metadata": {
    "papermill": {
     "duration": 0.020671,
     "end_time": "2025-07-15T16:53:14.109382",
     "exception": false,
     "start_time": "2025-07-15T16:53:14.088711",
     "status": "completed"
    },
    "tags": []
   },
   "source": [
    "<h4>Conclusion:</h4>\n",
    "<p>Since the p-value is $<$ 0.001, the correlation between wheel-base and price is statistically significant, although the linear relationship isn't extremely strong (~0.585).</p>"
   ]
  },
  {
   "cell_type": "markdown",
   "id": "bb46a2b6",
   "metadata": {
    "papermill": {
     "duration": 0.019833,
     "end_time": "2025-07-15T16:53:14.149686",
     "exception": false,
     "start_time": "2025-07-15T16:53:14.129853",
     "status": "completed"
    },
    "tags": []
   },
   "source": [
    "<h3>Horsepower vs. Price</h3>"
   ]
  },
  {
   "cell_type": "code",
   "execution_count": 35,
   "id": "22160664",
   "metadata": {
    "execution": {
     "iopub.execute_input": "2025-07-15T16:53:14.191848Z",
     "iopub.status.busy": "2025-07-15T16:53:14.191558Z",
     "iopub.status.idle": "2025-07-15T16:53:14.197384Z",
     "shell.execute_reply": "2025-07-15T16:53:14.196501Z"
    },
    "papermill": {
     "duration": 0.028872,
     "end_time": "2025-07-15T16:53:14.198745",
     "exception": false,
     "start_time": "2025-07-15T16:53:14.169873",
     "status": "completed"
    },
    "tags": []
   },
   "outputs": [
    {
     "name": "stdout",
     "output_type": "stream",
     "text": [
      "The Pearson Correlation Coefficient is 0.8096565575365611  with a P-value of P =  1.0468839625926844e-47\n"
     ]
    }
   ],
   "source": [
    "pearson_coef, p_value = stats.pearsonr(df['horsepower'], df['price'])\n",
    "print(\"The Pearson Correlation Coefficient is\", pearson_coef, \" with a P-value of P = \", p_value)  \n"
   ]
  },
  {
   "cell_type": "markdown",
   "id": "a7b8b592",
   "metadata": {
    "papermill": {
     "duration": 0.020358,
     "end_time": "2025-07-15T16:53:14.239940",
     "exception": false,
     "start_time": "2025-07-15T16:53:14.219582",
     "status": "completed"
    },
    "tags": []
   },
   "source": [
    "<h4>Conclusion:</h4>\n",
    "\n",
    "<p>Since the p-value is $<$ 0.001, the correlation between horsepower and price is statistically significant, and the linear relationship is quite strong (~0.809, close to 1).</p>"
   ]
  },
  {
   "cell_type": "markdown",
   "id": "5498a692",
   "metadata": {
    "papermill": {
     "duration": 0.019613,
     "end_time": "2025-07-15T16:53:14.279810",
     "exception": false,
     "start_time": "2025-07-15T16:53:14.260197",
     "status": "completed"
    },
    "tags": []
   },
   "source": [
    "<h3>Length vs. Price</h3>"
   ]
  },
  {
   "cell_type": "code",
   "execution_count": 36,
   "id": "c8ed0319",
   "metadata": {
    "execution": {
     "iopub.execute_input": "2025-07-15T16:53:14.321684Z",
     "iopub.status.busy": "2025-07-15T16:53:14.321072Z",
     "iopub.status.idle": "2025-07-15T16:53:14.327098Z",
     "shell.execute_reply": "2025-07-15T16:53:14.326286Z"
    },
    "papermill": {
     "duration": 0.028602,
     "end_time": "2025-07-15T16:53:14.328333",
     "exception": false,
     "start_time": "2025-07-15T16:53:14.299731",
     "status": "completed"
    },
    "tags": []
   },
   "outputs": [
    {
     "name": "stdout",
     "output_type": "stream",
     "text": [
      "The Pearson Correlation Coefficient is 0.6910440897821906  with a P-value of P =  9.960963222347823e-30\n"
     ]
    }
   ],
   "source": [
    "pearson_coef, p_value = stats.pearsonr(df['length'], df['price'])\n",
    "print(\"The Pearson Correlation Coefficient is\", pearson_coef, \" with a P-value of P = \", p_value)  "
   ]
  },
  {
   "cell_type": "markdown",
   "id": "5aa6c78d",
   "metadata": {
    "papermill": {
     "duration": 0.020125,
     "end_time": "2025-07-15T16:53:14.369650",
     "exception": false,
     "start_time": "2025-07-15T16:53:14.349525",
     "status": "completed"
    },
    "tags": []
   },
   "source": [
    "<h4>Conclusion:</h4>\n",
    "<p>Since the p-value is $<$ 0.001, the correlation between length and price is statistically significant, and the linear relationship is moderately strong (~0.691).</p>"
   ]
  },
  {
   "cell_type": "markdown",
   "id": "4f8c6f19",
   "metadata": {
    "papermill": {
     "duration": 0.020279,
     "end_time": "2025-07-15T16:53:14.410595",
     "exception": false,
     "start_time": "2025-07-15T16:53:14.390316",
     "status": "completed"
    },
    "tags": []
   },
   "source": [
    "<h3>Width vs. Price</h3>"
   ]
  },
  {
   "cell_type": "code",
   "execution_count": 37,
   "id": "ca39e001",
   "metadata": {
    "execution": {
     "iopub.execute_input": "2025-07-15T16:53:14.452309Z",
     "iopub.status.busy": "2025-07-15T16:53:14.451968Z",
     "iopub.status.idle": "2025-07-15T16:53:14.458099Z",
     "shell.execute_reply": "2025-07-15T16:53:14.457123Z"
    },
    "papermill": {
     "duration": 0.028822,
     "end_time": "2025-07-15T16:53:14.459535",
     "exception": false,
     "start_time": "2025-07-15T16:53:14.430713",
     "status": "completed"
    },
    "tags": []
   },
   "outputs": [
    {
     "name": "stdout",
     "output_type": "stream",
     "text": [
      "The Pearson Correlation Coefficient is 0.7527948631832608  with a P-value of P = 8.256714148308647e-38\n"
     ]
    }
   ],
   "source": [
    "pearson_coef, p_value = stats.pearsonr(df['width'], df['price'])\n",
    "print(\"The Pearson Correlation Coefficient is\", pearson_coef, \" with a P-value of P =\", p_value ) "
   ]
  },
  {
   "cell_type": "markdown",
   "id": "d7153d50",
   "metadata": {
    "papermill": {
     "duration": 0.020131,
     "end_time": "2025-07-15T16:53:14.500326",
     "exception": false,
     "start_time": "2025-07-15T16:53:14.480195",
     "status": "completed"
    },
    "tags": []
   },
   "source": [
    "#### Conclusion:\n",
    "\n",
    "Since the p-value is < 0.001, the correlation between width and price is statistically significant, and the linear relationship is quite strong (~0.751)."
   ]
  },
  {
   "cell_type": "markdown",
   "id": "f3e2dfd3",
   "metadata": {
    "papermill": {
     "duration": 0.019644,
     "end_time": "2025-07-15T16:53:14.540206",
     "exception": false,
     "start_time": "2025-07-15T16:53:14.520562",
     "status": "completed"
    },
    "tags": []
   },
   "source": [
    "### Curb-Weight vs. Price"
   ]
  },
  {
   "cell_type": "code",
   "execution_count": 38,
   "id": "83ddf183",
   "metadata": {
    "execution": {
     "iopub.execute_input": "2025-07-15T16:53:14.581540Z",
     "iopub.status.busy": "2025-07-15T16:53:14.581200Z",
     "iopub.status.idle": "2025-07-15T16:53:14.587036Z",
     "shell.execute_reply": "2025-07-15T16:53:14.586308Z"
    },
    "papermill": {
     "duration": 0.027947,
     "end_time": "2025-07-15T16:53:14.588289",
     "exception": false,
     "start_time": "2025-07-15T16:53:14.560342",
     "status": "completed"
    },
    "tags": []
   },
   "outputs": [
    {
     "name": "stdout",
     "output_type": "stream",
     "text": [
      "The Pearson Correlation Coefficient is 0.8344204348498463  with a P-value of P =  3.9699775360213638e-53\n"
     ]
    }
   ],
   "source": [
    "pearson_coef, p_value = stats.pearsonr(df['curb-weight'], df['price'])\n",
    "print( \"The Pearson Correlation Coefficient is\", pearson_coef, \" with a P-value of P = \", p_value)  "
   ]
  },
  {
   "cell_type": "markdown",
   "id": "8a08b7db",
   "metadata": {
    "papermill": {
     "duration": 0.020145,
     "end_time": "2025-07-15T16:53:14.629052",
     "exception": false,
     "start_time": "2025-07-15T16:53:14.608907",
     "status": "completed"
    },
    "tags": []
   },
   "source": [
    "<h4>Conclusion:</h4>\n",
    "<p>Since the p-value is $<$ 0.001, the correlation between curb-weight and price is statistically significant, and the linear relationship is quite strong (~0.834).</p>\n"
   ]
  },
  {
   "cell_type": "markdown",
   "id": "ac11e5d4",
   "metadata": {
    "papermill": {
     "duration": 0.020411,
     "end_time": "2025-07-15T16:53:14.670075",
     "exception": false,
     "start_time": "2025-07-15T16:53:14.649664",
     "status": "completed"
    },
    "tags": []
   },
   "source": [
    "<h3>Engine-Size vs. Price</h3>"
   ]
  },
  {
   "cell_type": "code",
   "execution_count": 39,
   "id": "5213dbf4",
   "metadata": {
    "execution": {
     "iopub.execute_input": "2025-07-15T16:53:14.712331Z",
     "iopub.status.busy": "2025-07-15T16:53:14.711991Z",
     "iopub.status.idle": "2025-07-15T16:53:14.717827Z",
     "shell.execute_reply": "2025-07-15T16:53:14.716990Z"
    },
    "papermill": {
     "duration": 0.028671,
     "end_time": "2025-07-15T16:53:14.719082",
     "exception": false,
     "start_time": "2025-07-15T16:53:14.690411",
     "status": "completed"
    },
    "tags": []
   },
   "outputs": [
    {
     "name": "stdout",
     "output_type": "stream",
     "text": [
      "The Pearson Correlation Coefficient is 0.8723367498521143  with a P-value of P = 1.897717146655904e-63\n"
     ]
    }
   ],
   "source": [
    "pearson_coef, p_value = stats.pearsonr(df['engine-size'], df['price'])\n",
    "print(\"The Pearson Correlation Coefficient is\", pearson_coef, \" with a P-value of P =\", p_value) "
   ]
  },
  {
   "cell_type": "markdown",
   "id": "bba8792c",
   "metadata": {
    "papermill": {
     "duration": 0.020738,
     "end_time": "2025-07-15T16:53:14.760830",
     "exception": false,
     "start_time": "2025-07-15T16:53:14.740092",
     "status": "completed"
    },
    "tags": []
   },
   "source": [
    "<h4>Conclusion:</h4>\n",
    "\n",
    "<p>Since the p-value is $<$ 0.001, the correlation between engine-size and price is statistically significant, and the linear relationship is very strong (~0.872).</p>\n"
   ]
  },
  {
   "cell_type": "markdown",
   "id": "02742d70",
   "metadata": {
    "papermill": {
     "duration": 0.020506,
     "end_time": "2025-07-15T16:53:14.801871",
     "exception": false,
     "start_time": "2025-07-15T16:53:14.781365",
     "status": "completed"
    },
    "tags": []
   },
   "source": [
    "<h3>Bore vs. Price</h3>"
   ]
  },
  {
   "cell_type": "code",
   "execution_count": 40,
   "id": "432a7730",
   "metadata": {
    "execution": {
     "iopub.execute_input": "2025-07-15T16:53:14.844092Z",
     "iopub.status.busy": "2025-07-15T16:53:14.843819Z",
     "iopub.status.idle": "2025-07-15T16:53:14.849778Z",
     "shell.execute_reply": "2025-07-15T16:53:14.848903Z"
    },
    "papermill": {
     "duration": 0.028603,
     "end_time": "2025-07-15T16:53:14.851118",
     "exception": false,
     "start_time": "2025-07-15T16:53:14.822515",
     "status": "completed"
    },
    "tags": []
   },
   "outputs": [
    {
     "name": "stdout",
     "output_type": "stream",
     "text": [
      "The Pearson Correlation Coefficient is 0.5434325935555683  with a P-value of P =   9.207487524194362e-17\n"
     ]
    }
   ],
   "source": [
    "pearson_coef, p_value = stats.pearsonr(df['bore'], df['price'])\n",
    "print(\"The Pearson Correlation Coefficient is\", pearson_coef, \" with a P-value of P =  \", p_value ) "
   ]
  },
  {
   "cell_type": "markdown",
   "id": "7778656d",
   "metadata": {
    "papermill": {
     "duration": 0.021146,
     "end_time": "2025-07-15T16:53:14.893310",
     "exception": false,
     "start_time": "2025-07-15T16:53:14.872164",
     "status": "completed"
    },
    "tags": []
   },
   "source": [
    "<h4>Conclusion:</h4>\n",
    "<p>Since the p-value is $<$ 0.001, the correlation between bore and price is statistically significant, but the linear relationship is only moderate (~0.521).</p>\n"
   ]
  },
  {
   "cell_type": "markdown",
   "id": "ed2bbde2",
   "metadata": {
    "papermill": {
     "duration": 0.020754,
     "end_time": "2025-07-15T16:53:14.935204",
     "exception": false,
     "start_time": "2025-07-15T16:53:14.914450",
     "status": "completed"
    },
    "tags": []
   },
   "source": [
    "<h3>City-mpg vs. Price</h3>"
   ]
  },
  {
   "cell_type": "code",
   "execution_count": 41,
   "id": "8bcf326c",
   "metadata": {
    "execution": {
     "iopub.execute_input": "2025-07-15T16:53:14.978160Z",
     "iopub.status.busy": "2025-07-15T16:53:14.977862Z",
     "iopub.status.idle": "2025-07-15T16:53:14.983836Z",
     "shell.execute_reply": "2025-07-15T16:53:14.982872Z"
    },
    "papermill": {
     "duration": 0.029209,
     "end_time": "2025-07-15T16:53:14.985229",
     "exception": false,
     "start_time": "2025-07-15T16:53:14.956020",
     "status": "completed"
    },
    "tags": []
   },
   "outputs": [
    {
     "name": "stdout",
     "output_type": "stream",
     "text": [
      "The Pearson Correlation Coefficient is -0.6871861020862686  with a P-value of P =  2.7292565684790953e-29\n"
     ]
    }
   ],
   "source": [
    "pearson_coef, p_value = stats.pearsonr(df['city-mpg'], df['price'])\n",
    "print(\"The Pearson Correlation Coefficient is\", pearson_coef, \" with a P-value of P = \", p_value)  "
   ]
  },
  {
   "cell_type": "markdown",
   "id": "6f0c95e4",
   "metadata": {
    "papermill": {
     "duration": 0.021105,
     "end_time": "2025-07-15T16:53:15.027670",
     "exception": false,
     "start_time": "2025-07-15T16:53:15.006565",
     "status": "completed"
    },
    "tags": []
   },
   "source": [
    "<h4>Conclusion:</h4>\n",
    "<p>Since the p-value is $<$ 0.001, the correlation between city-mpg and price is statistically significant, and the coefficient of about -0.687 shows that the relationship is negative and moderately strong.</p>\n"
   ]
  },
  {
   "cell_type": "markdown",
   "id": "1c70a003",
   "metadata": {
    "papermill": {
     "duration": 0.020608,
     "end_time": "2025-07-15T16:53:15.070054",
     "exception": false,
     "start_time": "2025-07-15T16:53:15.049446",
     "status": "completed"
    },
    "tags": []
   },
   "source": [
    "<h3>Highway-mpg vs. Price</h3>\n"
   ]
  },
  {
   "cell_type": "code",
   "execution_count": 42,
   "id": "136cb27d",
   "metadata": {
    "execution": {
     "iopub.execute_input": "2025-07-15T16:53:15.115158Z",
     "iopub.status.busy": "2025-07-15T16:53:15.114880Z",
     "iopub.status.idle": "2025-07-15T16:53:15.120160Z",
     "shell.execute_reply": "2025-07-15T16:53:15.119316Z"
    },
    "papermill": {
     "duration": 0.028761,
     "end_time": "2025-07-15T16:53:15.121693",
     "exception": false,
     "start_time": "2025-07-15T16:53:15.092932",
     "status": "completed"
    },
    "tags": []
   },
   "outputs": [
    {
     "name": "stdout",
     "output_type": "stream",
     "text": [
      "The Pearson Correlation Coefficient is -0.7051147088046403  with a P-value of P =  2.197326053158349e-31\n"
     ]
    }
   ],
   "source": [
    "#Highway-mpg vs. Price\n",
    "pearson_coef, p_value = stats.pearsonr(df['highway-L/100km'], df['price'])\n",
    "print( \"The Pearson Correlation Coefficient is\", pearson_coef, \" with a P-value of P = \", p_value ) "
   ]
  },
  {
   "cell_type": "markdown",
   "id": "f019160e",
   "metadata": {
    "papermill": {
     "duration": 0.02077,
     "end_time": "2025-07-15T16:53:15.163729",
     "exception": false,
     "start_time": "2025-07-15T16:53:15.142959",
     "status": "completed"
    },
    "tags": []
   },
   "source": [
    "#### Conclusion:\n",
    "Since the p-value is < 0.001, the correlation between highway-mpg and price is statistically significant, and the coefficient of about -0.705 shows that the relationship is negative and moderately strong."
   ]
  },
  {
   "cell_type": "markdown",
   "id": "d35cfa00",
   "metadata": {
    "papermill": {
     "duration": 0.020223,
     "end_time": "2025-07-15T16:53:15.204201",
     "exception": false,
     "start_time": "2025-07-15T16:53:15.183978",
     "status": "completed"
    },
    "tags": []
   },
   "source": [
    "<p>We now have a better idea of what our data looks like and which variables are important to take into account when predicting the car price. We have narrowed it down to the following variables:</p>\n",
    "\n",
    "Continuous numerical variables:\n",
    "<ul>\n",
    "    <li>Length</li>\n",
    "    <li>Width</li>\n",
    "    <li>Curb-weight</li>\n",
    "    <li>Engine-size</li>\n",
    "    <li>Horsepower</li>\n",
    "    <li>City-mpg</li>\n",
    "    <li>Highway-mpg</li>\n",
    "    <li>Wheel-base</li>\n",
    "    <li>Bore</li>\n",
    "</ul>\n",
    "    \n",
    "Categorical variables:\n",
    "<ul>\n",
    "    <li>Drive-wheels</li>\n",
    "</ul>\n",
    "\n",
    "<p>As we now move into building machine learning models to automate our analysis, feeding the model with variables that meaningfully affect our target variable will improve our model's prediction performance.</p>\n"
   ]
  },
  {
   "cell_type": "code",
   "execution_count": null,
   "id": "b4214325",
   "metadata": {
    "papermill": {
     "duration": 0.020378,
     "end_time": "2025-07-15T16:53:15.245046",
     "exception": false,
     "start_time": "2025-07-15T16:53:15.224668",
     "status": "completed"
    },
    "tags": []
   },
   "outputs": [],
   "source": []
  }
 ],
 "metadata": {
  "kaggle": {
   "accelerator": "none",
   "dataSources": [
    {
     "datasetId": 7863561,
     "sourceId": 12465000,
     "sourceType": "datasetVersion"
    }
   ],
   "dockerImageVersionId": 31089,
   "isGpuEnabled": false,
   "isInternetEnabled": true,
   "language": "python",
   "sourceType": "notebook"
  },
  "kernelspec": {
   "display_name": "Python 3",
   "language": "python",
   "name": "python3"
  },
  "language_info": {
   "codemirror_mode": {
    "name": "ipython",
    "version": 3
   },
   "file_extension": ".py",
   "mimetype": "text/x-python",
   "name": "python",
   "nbconvert_exporter": "python",
   "pygments_lexer": "ipython3",
   "version": "3.11.13"
  },
  "papermill": {
   "default_parameters": {},
   "duration": 13.929716,
   "end_time": "2025-07-15T16:53:15.884828",
   "environment_variables": {},
   "exception": null,
   "input_path": "__notebook__.ipynb",
   "output_path": "__notebook__.ipynb",
   "parameters": {},
   "start_time": "2025-07-15T16:53:01.955112",
   "version": "2.6.0"
  },
  "vscode": {
   "interpreter": {
    "hash": "739d4fe579500b287bc5fe30b870916d2465097194010f2f0ca630d7af6a2a94"
   }
  }
 },
 "nbformat": 4,
 "nbformat_minor": 5
}
